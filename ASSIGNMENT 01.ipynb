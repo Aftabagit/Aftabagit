{
 "cells": [
  {
   "cell_type": "markdown",
   "id": "1040ae8e",
   "metadata": {},
   "source": [
    "# ASSIGNMENT NO 01"
   ]
  },
  {
   "cell_type": "markdown",
   "id": "aeb4d1ab",
   "metadata": {},
   "source": [
    "# Problem:\n",
    "\n",
    "1. Prompt the user \"Enter your weight (in kgs)\" and record weight\n",
    "2. Prompt the user \"What is your preferred unit of height? Type \"F\" for feet and \"M\" for meters\"\n",
    "and record the preference\n",
    "3. If user says \"F\" then prompt user \"You will enter your height given as feet and inches. First\n",
    "enter feet\" and record feet and then prompt user \"Now enter inches\" and record inches\n",
    "4. If user says \"M\" then prompt user \"What is your height in meters\" and record height in\n",
    "meters\n",
    "5. If user had chosen \"F\" then convert height into meters\n",
    "6. Compute BMI using the following formula\n",
    "\n",
    "\n",
    "7. Depending on the value of BMI, report the user's type given by the following table:\n",
    "● BMI < 18.5 : UNDERWEIGHT\n",
    "● 18.5 <= BMI < 25 : NORMAL\n",
    "● 25 <= BMI < 30 : OVERWEIGHT\n",
    "● BMI > 30 : VERY-OVERWEIGHT "
   ]
  },
  {
   "cell_type": "code",
   "execution_count": 14,
   "id": "4173e10a",
   "metadata": {},
   "outputs": [
    {
     "name": "stdout",
     "output_type": "stream",
     "text": [
      "Please enter your weight in kgs: 78.9\n",
      "What is your preferred unit of height? Type F for feet and M for meters: f\n",
      "Please enter you height in feet: 5\n",
      "Please enter you height in inches: 10\n",
      "Your height is : 5 feet 70 inches\n",
      "Your bmi is: 24.96\n",
      "You are normal.\n"
     ]
    }
   ],
   "source": [
    "\n",
    "\n",
    "user_weight= float(input(\"Please enter your weight in kgs: \"))\n",
    "\n",
    "user_heightPreference= str(input(\"What is your preferred unit of height? Type F for feet and M for meters: \")).upper()\n",
    "\n",
    "if user_heightPreference== \"F\":\n",
    "    \n",
    "    user_height_infeet=int(input(\"Please enter you height in feet: \"))\n",
    "    user_height_inInches=int(input(\"Please enter you height in inches: \"))\n",
    "\n",
    "    user_height_inInches += user_height_infeet * 12\n",
    "    user_heightInMeter= round(user_height_inInches * 2.54, 1)/100\n",
    "    \n",
    "    print(\"Your height is :\",user_height_infeet ,\"feet\",  user_height_inInches,\"inches\" )\n",
    "    \n",
    "else:\n",
    "    \n",
    "    user_heightInMeter= float(input(\"Please enter you height in meter: \"))\n",
    "    \n",
    "    print(\"Your height is: \", round(user_heightInMeter, 2 ), \"meters\")\n",
    "    \n",
    "    \n",
    "bmi = float(user_weight / (user_heightInMeter)**2)\n",
    "\n",
    "print(\"Your bmi is:\",round(bmi, 2))\n",
    "\n",
    "if  bmi < 18.5:\n",
    "    print(\"You are underweight.\")\n",
    "    \n",
    "elif bmi<= 18.5 or bmi < 25:\n",
    "    \n",
    "    print(\"You are normal.\")\n",
    "    \n",
    "elif bmi <= 25 or bmi <30:\n",
    "    print(\"You are over weight.\")\n",
    "elif bmi <= 34.9:\n",
    "    print(\"You are severely over weight.\")\n",
    "    \n",
    "    \n",
    "elif bmi > 30:\n",
    "    print(\"You are ver over weight.\")\n",
    "    \n",
    "    \n",
    "    \n",
    "else:\n",
    "    print(\"You are severely obese.\")\n",
    "    \n",
    "\n",
    "    \n",
    " \n"
   ]
  },
  {
   "cell_type": "code",
   "execution_count": null,
   "id": "a5875f72",
   "metadata": {},
   "outputs": [],
   "source": [
    "\n",
    "    "
   ]
  },
  {
   "cell_type": "code",
   "execution_count": null,
   "id": "e181cd56",
   "metadata": {},
   "outputs": [],
   "source": []
  },
  {
   "cell_type": "code",
   "execution_count": null,
   "id": "b746e48c",
   "metadata": {},
   "outputs": [],
   "source": []
  }
 ],
 "metadata": {
  "kernelspec": {
   "display_name": "Python 3 (ipykernel)",
   "language": "python",
   "name": "python3"
  },
  "language_info": {
   "codemirror_mode": {
    "name": "ipython",
    "version": 3
   },
   "file_extension": ".py",
   "mimetype": "text/x-python",
   "name": "python",
   "nbconvert_exporter": "python",
   "pygments_lexer": "ipython3",
   "version": "3.9.12"
  }
 },
 "nbformat": 4,
 "nbformat_minor": 5
}
