{
 "cells": [
  {
   "cell_type": "markdown",
   "metadata": {},
   "source": [
    "- - - - - - - - - - - - - - - - - - - - - - - - - - - - - - - - - - - - - - - - - - - - - - \n",
    "\n",
    "![alt text](GL_Logo.png \"Title\")\n",
    "\n",
    "- - - - - - - - - - - - - - - - - - - - - - - - - - - - - - - - - - - - - - - - - - - - - - "
   ]
  },
  {
   "cell_type": "markdown",
   "metadata": {},
   "source": [
    "      © Great Learning. Proprietary content. All Rights Reserved. Unauthorised use or distribution prohibited  "
   ]
  },
  {
   "cell_type": "markdown",
   "metadata": {},
   "source": [
    "- - - - - - - - - - - - - - - - - - - - - - - - - - - - - - - - - - - - - - - - - - - - -\n",
    "\n",
    "#### EDA - Credit Card Fraud Detection\n",
    "\n",
    "1. Author - Krishnav Dave ( Senior Data Scientist | Senior Manager - AIML Academic Operations | Great Learning )\n",
    "\n",
    "2. Code Complexity: Complex \n",
    "\n",
    "3. Date - 22 May 2020\n",
    "\n",
    "- - - - - - - - - - - - - - - - - - - - - - - - - - - - - - - - - - - - - - - - - - - - - -"
   ]
  },
  {
   "cell_type": "markdown",
   "metadata": {},
   "source": [
    "- - - - - - - - - - - - - - - - - - - - - - - - - - - - - - - - - - - - - - - - - - - - - -\n",
    "\n",
    "#### Problem Statement\n",
    "\n",
    "Build an extensive EDA around the dataset \n",
    "\n",
    "- - - - - - - - - - - - - - - - - - - - - - - - - - - - - - - - - - - - - - - - - - - - - -"
   ]
  },
  {
   "cell_type": "markdown",
   "metadata": {},
   "source": [
    "- - - - - - - - - - - - - - - - - - - - - - - - - - - - - - - - - - - - - - - - - - - - - -\n",
    "\n",
    "#### Dataset\n",
    "\n",
    "1.Month: transaction month\n",
    "\n",
    "2.Date: transaction date\n",
    "\n",
    "3.Day: transaction day\n",
    "\n",
    "4.Time: transaction time\n",
    "\n",
    "5.Origin_City: city where the customer is registered from\n",
    "\n",
    "6.Destination_City: city where the transaction is generated\n",
    "\n",
    "7.Transaction_Type: method of payment (Point of sales or internet)\n",
    "\n",
    "8.Type: Valid transaction or raud transaction\n",
    "\n",
    "9.Amount: transaction amount\n",
    "\n",
    "- - - - - - - - - - - - - - - - - - - - - - - - - - - - - - - - - - - - - - - - - - - - - -"
   ]
  },
  {
   "cell_type": "markdown",
   "metadata": {},
   "source": [
    "- - - - - - - - - - - - - - - - - - - - - - - - - - - - - - - - - - - - - - - - - - - - - -\n",
    "\n",
    "#### Code Structure\n",
    "\n",
    "1. Import Data\n",
    "\n",
    "2. Explore Data\n",
    "\n",
    "3. EDA - Univariate, Bi Variate and Multi variate (Plots)\n",
    "\n",
    "4. Data Preparation\n",
    "\n",
    "5. EDA - Univariate, Bi Variate and Multi variate (Tables)\n",
    "\n",
    "6. Conclusion\n",
    "\n",
    "- - - - - - - - - - - - - - - - - - - - - - - - - - - - - - - - - - - - - - - - - - - - - -"
   ]
  },
  {
   "cell_type": "markdown",
   "metadata": {},
   "source": [
    "- - - - - - - - - - - - - - - - - - - - - - - - - - - - - - - - - - - - - - - - - - - - - -\n",
    "\n",
    "##### 1. Import Data\n",
    "\n",
    "- - - - - - - - - - - - - - - - - - - - - - - - - - - - - - - - - - - - - - - - - - - - - -"
   ]
  },
  {
   "cell_type": "code",
   "execution_count": 1,
   "metadata": {},
   "outputs": [],
   "source": [
    "# Standrd Library\n",
    "import pandas as pd\n",
    "import numpy as np\n",
    "\n",
    "import matplotlib.pyplot as plt\n",
    "%matplotlib inline\n",
    "\n",
    "# Training dataset\n",
    "DB = pd.read_excel(\"Credi_Card_Fraud.xlsx\",sheet_name='Original')\n",
    "DB=DB.iloc[:,1:]  # Remove first column"
   ]
  },
  {
   "cell_type": "markdown",
   "metadata": {},
   "source": [
    "- - - - - - - - - - - - - - - - - - - - - - - - - - - - - - - - - - - - - - - - - - - - - -\n",
    "\n",
    "##### 2. Explore Data\n",
    "\n",
    "- - - - - - - - - - - - - - - - - - - - - - - - - - - - - - - - - - - - - - - - - - - - - -"
   ]
  },
  {
   "cell_type": "code",
   "execution_count": 2,
   "metadata": {},
   "outputs": [
    {
     "data": {
      "text/html": [
       "<div>\n",
       "<style scoped>\n",
       "    .dataframe tbody tr th:only-of-type {\n",
       "        vertical-align: middle;\n",
       "    }\n",
       "\n",
       "    .dataframe tbody tr th {\n",
       "        vertical-align: top;\n",
       "    }\n",
       "\n",
       "    .dataframe thead th {\n",
       "        text-align: right;\n",
       "    }\n",
       "</style>\n",
       "<table border=\"1\" class=\"dataframe\">\n",
       "  <thead>\n",
       "    <tr style=\"text-align: right;\">\n",
       "      <th></th>\n",
       "      <th>Limit</th>\n",
       "      <th>Year</th>\n",
       "      <th>Month</th>\n",
       "      <th>Date</th>\n",
       "      <th>Time</th>\n",
       "      <th>Origin</th>\n",
       "      <th>Transaction</th>\n",
       "      <th>Transaction_Type</th>\n",
       "      <th>Amount</th>\n",
       "      <th>Type</th>\n",
       "    </tr>\n",
       "  </thead>\n",
       "  <tbody>\n",
       "    <tr>\n",
       "      <td>0</td>\n",
       "      <td>500000</td>\n",
       "      <td>2016</td>\n",
       "      <td>Jun</td>\n",
       "      <td>26</td>\n",
       "      <td>19</td>\n",
       "      <td>Bangalore, India</td>\n",
       "      <td>Bangalore, India</td>\n",
       "      <td>POS</td>\n",
       "      <td>25000</td>\n",
       "      <td>Normal</td>\n",
       "    </tr>\n",
       "    <tr>\n",
       "      <td>1</td>\n",
       "      <td>500000</td>\n",
       "      <td>2016</td>\n",
       "      <td>Oct</td>\n",
       "      <td>20</td>\n",
       "      <td>18</td>\n",
       "      <td>Bangalore, India</td>\n",
       "      <td>Bangalore, India</td>\n",
       "      <td>POS</td>\n",
       "      <td>300</td>\n",
       "      <td>Normal</td>\n",
       "    </tr>\n",
       "    <tr>\n",
       "      <td>2</td>\n",
       "      <td>500000</td>\n",
       "      <td>2016</td>\n",
       "      <td>Jul</td>\n",
       "      <td>15</td>\n",
       "      <td>7</td>\n",
       "      <td>Bangalore, India</td>\n",
       "      <td>London, UK</td>\n",
       "      <td>POS</td>\n",
       "      <td>45000</td>\n",
       "      <td>Normal</td>\n",
       "    </tr>\n",
       "    <tr>\n",
       "      <td>3</td>\n",
       "      <td>500000</td>\n",
       "      <td>2016</td>\n",
       "      <td>Dec</td>\n",
       "      <td>17</td>\n",
       "      <td>15</td>\n",
       "      <td>Bangalore, India</td>\n",
       "      <td>London, UK</td>\n",
       "      <td>POS</td>\n",
       "      <td>670</td>\n",
       "      <td>Normal</td>\n",
       "    </tr>\n",
       "    <tr>\n",
       "      <td>4</td>\n",
       "      <td>500000</td>\n",
       "      <td>2016</td>\n",
       "      <td>Sep</td>\n",
       "      <td>7</td>\n",
       "      <td>17</td>\n",
       "      <td>Bangalore, India</td>\n",
       "      <td>Bangalore, India</td>\n",
       "      <td>POS</td>\n",
       "      <td>4543</td>\n",
       "      <td>Normal</td>\n",
       "    </tr>\n",
       "  </tbody>\n",
       "</table>\n",
       "</div>"
      ],
      "text/plain": [
       "    Limit  Year Month  Date  Time            Origin       Transaction  \\\n",
       "0  500000  2016   Jun    26    19  Bangalore, India  Bangalore, India   \n",
       "1  500000  2016   Oct    20    18  Bangalore, India  Bangalore, India   \n",
       "2  500000  2016   Jul    15     7  Bangalore, India        London, UK   \n",
       "3  500000  2016   Dec    17    15  Bangalore, India        London, UK   \n",
       "4  500000  2016   Sep     7    17  Bangalore, India  Bangalore, India   \n",
       "\n",
       "  Transaction_Type  Amount    Type  \n",
       "0              POS   25000  Normal  \n",
       "1              POS     300  Normal  \n",
       "2              POS   45000  Normal  \n",
       "3              POS     670  Normal  \n",
       "4              POS    4543  Normal  "
      ]
     },
     "execution_count": 2,
     "metadata": {},
     "output_type": "execute_result"
    }
   ],
   "source": [
    "DB.head() "
   ]
  },
  {
   "cell_type": "code",
   "execution_count": 27,
   "metadata": {},
   "outputs": [
    {
     "data": {
      "text/html": [
       "<div>\n",
       "<style scoped>\n",
       "    .dataframe tbody tr th:only-of-type {\n",
       "        vertical-align: middle;\n",
       "    }\n",
       "\n",
       "    .dataframe tbody tr th {\n",
       "        vertical-align: top;\n",
       "    }\n",
       "\n",
       "    .dataframe thead th {\n",
       "        text-align: right;\n",
       "    }\n",
       "</style>\n",
       "<table border=\"1\" class=\"dataframe\">\n",
       "  <thead>\n",
       "    <tr style=\"text-align: right;\">\n",
       "      <th></th>\n",
       "      <th>count</th>\n",
       "      <th>mean</th>\n",
       "      <th>std</th>\n",
       "      <th>min</th>\n",
       "      <th>25%</th>\n",
       "      <th>50%</th>\n",
       "      <th>75%</th>\n",
       "      <th>max</th>\n",
       "    </tr>\n",
       "  </thead>\n",
       "  <tbody>\n",
       "    <tr>\n",
       "      <td>Limit</td>\n",
       "      <td>106.0</td>\n",
       "      <td>254481.132075</td>\n",
       "      <td>166861.689582</td>\n",
       "      <td>25000.0</td>\n",
       "      <td>100000.00</td>\n",
       "      <td>225000.0</td>\n",
       "      <td>350000.00</td>\n",
       "      <td>500000.0</td>\n",
       "    </tr>\n",
       "    <tr>\n",
       "      <td>Year</td>\n",
       "      <td>106.0</td>\n",
       "      <td>2016.000000</td>\n",
       "      <td>0.000000</td>\n",
       "      <td>2016.0</td>\n",
       "      <td>2016.00</td>\n",
       "      <td>2016.0</td>\n",
       "      <td>2016.00</td>\n",
       "      <td>2016.0</td>\n",
       "    </tr>\n",
       "    <tr>\n",
       "      <td>Date</td>\n",
       "      <td>106.0</td>\n",
       "      <td>15.009434</td>\n",
       "      <td>8.462236</td>\n",
       "      <td>1.0</td>\n",
       "      <td>8.00</td>\n",
       "      <td>15.0</td>\n",
       "      <td>20.75</td>\n",
       "      <td>31.0</td>\n",
       "    </tr>\n",
       "    <tr>\n",
       "      <td>Time</td>\n",
       "      <td>106.0</td>\n",
       "      <td>12.669811</td>\n",
       "      <td>7.077424</td>\n",
       "      <td>1.0</td>\n",
       "      <td>7.00</td>\n",
       "      <td>12.5</td>\n",
       "      <td>19.00</td>\n",
       "      <td>24.0</td>\n",
       "    </tr>\n",
       "    <tr>\n",
       "      <td>Amount</td>\n",
       "      <td>106.0</td>\n",
       "      <td>17255.301887</td>\n",
       "      <td>34962.028891</td>\n",
       "      <td>50.0</td>\n",
       "      <td>894.25</td>\n",
       "      <td>4000.0</td>\n",
       "      <td>12000.00</td>\n",
       "      <td>175600.0</td>\n",
       "    </tr>\n",
       "  </tbody>\n",
       "</table>\n",
       "</div>"
      ],
      "text/plain": [
       "        count           mean            std      min        25%       50%  \\\n",
       "Limit   106.0  254481.132075  166861.689582  25000.0  100000.00  225000.0   \n",
       "Year    106.0    2016.000000       0.000000   2016.0    2016.00    2016.0   \n",
       "Date    106.0      15.009434       8.462236      1.0       8.00      15.0   \n",
       "Time    106.0      12.669811       7.077424      1.0       7.00      12.5   \n",
       "Amount  106.0   17255.301887   34962.028891     50.0     894.25    4000.0   \n",
       "\n",
       "              75%       max  \n",
       "Limit   350000.00  500000.0  \n",
       "Year      2016.00    2016.0  \n",
       "Date        20.75      31.0  \n",
       "Time        19.00      24.0  \n",
       "Amount   12000.00  175600.0  "
      ]
     },
     "execution_count": 27,
     "metadata": {},
     "output_type": "execute_result"
    }
   ],
   "source": [
    "DB.describe().T"
   ]
  },
  {
   "cell_type": "code",
   "execution_count": 3,
   "metadata": {},
   "outputs": [
    {
     "name": "stdout",
     "output_type": "stream",
     "text": [
      "<class 'pandas.core.frame.DataFrame'>\n",
      "RangeIndex: 106 entries, 0 to 105\n",
      "Data columns (total 10 columns):\n",
      "Limit               106 non-null int64\n",
      "Year                106 non-null int64\n",
      "Month               106 non-null object\n",
      "Date                106 non-null int64\n",
      "Time                106 non-null int64\n",
      "Origin              106 non-null object\n",
      "Transaction         106 non-null object\n",
      "Transaction_Type    106 non-null object\n",
      "Amount              106 non-null int64\n",
      "Type                106 non-null object\n",
      "dtypes: int64(5), object(5)\n",
      "memory usage: 8.4+ KB\n"
     ]
    }
   ],
   "source": [
    "DB.info()"
   ]
  },
  {
   "cell_type": "markdown",
   "metadata": {},
   "source": [
    "- - - - - - - - - - - - - - - - - - - - - - - - - - - - - - - - - - - - - - - - - - - - - -\n",
    "\n",
    "##### 3. EDA - Univariate, Bi Variate and Multi variate (Plots)\n",
    "\n",
    "- - - - - - - - - - - - - - - - - - - - - - - - - - - - - - - - - - - - - - - - - - - - - -"
   ]
  },
  {
   "cell_type": "code",
   "execution_count": 17,
   "metadata": {},
   "outputs": [
    {
     "data": {
      "image/png": "[encoded data removed]",
      "text/plain": [
       "<Figure size 1080x216 with 1 Axes>"
      ]
     },
     "metadata": {
      "needs_background": "light"
     },
     "output_type": "display_data"
    }
   ],
   "source": [
    "# M - Histogram\n",
    "\n",
    "import matplotlib.pyplot as plt\n",
    "\n",
    "x = DB['Date']   # Run through all variables on by one\n",
    "\n",
    "\n",
    "fig, ax = plt.subplots(figsize=(15,3))\n",
    "ax.hist(x,\n",
    "        bins=500,         # Try different ranges from 5 t 1000\n",
    "        cumulative=None,  # Try: False\n",
    "        histtype='bar',   # Try: 'bar', 'barstacked', 'step', 'stepfilled'\n",
    "        orientation='vertical',   # Try: horizontal\n",
    "        log=False,\n",
    "        color='b',\n",
    "        label=None,\n",
    "        stacked=False,\n",
    "        normed=None)\n",
    "ax.set_title(\"Univariate Analysis\")\n",
    "ax.set_xlabel('Variable')\n",
    "ax.set_ylabel('Frequency')\n",
    "plt.show()"
   ]
  },
  {
   "cell_type": "code",
   "execution_count": 16,
   "metadata": {
    "scrolled": false
   },
   "outputs": [
    {
     "data": {
      "application/vnd.plotly.v1+json": {
       "config": {
        "plotlyServerURL": "https://plot.ly"
       },
       "data": [
        {
         "alignmentgroup": "True",
         "bingroup": "x",
         "hovertemplate": "Date=%{x}<br>count=%{y}<extra></extra>",
         "legendgroup": "",
         "marker": {
          "color": "#636efa"
         },
         "name": "",
         "offsetgroup": "",
         "orientation": "v",
         "showlegend": false,
         "type": "histogram",
         "x": [
          26,
          20,
          15,
          17,
          7,
          21,
          24,
          4,
          31,
          27,
          7,
          31,
          15,
          13,
          15,
          27,
          20,
          1,
          19,
          25,
          11,
          2,
          23,
          4,
          7,
          17,
          8,
          13,
          11,
          30,
          21,
          26,
          29,
          16,
          16,
          12,
          5,
          26,
          21,
          4,
          9,
          19,
          14,
          6,
          2,
          20,
          25,
          19,
          3,
          14,
          16,
          21,
          21,
          16,
          14,
          19,
          19,
          6,
          7,
          19,
          1,
          14,
          4,
          3,
          8,
          30,
          31,
          16,
          10,
          13,
          1,
          15,
          10,
          22,
          6,
          30,
          29,
          19,
          17,
          5,
          14,
          10,
          12,
          9,
          9,
          8,
          11,
          20,
          16,
          25,
          2,
          20,
          27,
          1,
          10,
          4,
          5,
          17,
          20,
          17,
          1,
          20,
          26,
          25,
          7,
          15
         ],
         "xaxis": "x",
         "yaxis": "y"
        }
       ],
       "layout": {
        "barmode": "relative",
        "legend": {
         "tracegroupgap": 0
        },
        "margin": {
         "t": 60
        },
        "template": {
         "data": {
          "bar": [
           {
            "error_x": {
             "color": "#2a3f5f"
            },
            "error_y": {
             "color": "#2a3f5f"
            },
            "marker": {
             "line": {
              "color": "#E5ECF6",
              "width": 0.5
             }
            },
            "type": "bar"
           }
          ],
          "barpolar": [
           {
            "marker": {
             "line": {
              "color": "#E5ECF6",
              "width": 0.5
             }
            },
            "type": "barpolar"
           }
          ],
          "carpet": [
           {
            "aaxis": {
             "endlinecolor": "#2a3f5f",
             "gridcolor": "white",
             "linecolor": "white",
             "minorgridcolor": "white",
             "startlinecolor": "#2a3f5f"
            },
            "baxis": {
             "endlinecolor": "#2a3f5f",
             "gridcolor": "white",
             "linecolor": "white",
             "minorgridcolor": "white",
             "startlinecolor": "#2a3f5f"
            },
            "type": "carpet"
           }
          ],
          "choropleth": [
           {
            "colorbar": {
             "outlinewidth": 0,
             "ticks": ""
            },
            "type": "choropleth"
           }
          ],
          "contour": [
           {
            "colorbar": {
             "outlinewidth": 0,
             "ticks": ""
            },
            "colorscale": [
             [
              0,
              "#0d0887"
             ],
             [
              0.1111111111111111,
              "#46039f"
             ],
             [
              0.2222222222222222,
              "#7201a8"
             ],
             [
              0.3333333333333333,
              "#9c179e"
             ],
             [
              0.4444444444444444,
              "#bd3786"
             ],
             [
              0.5555555555555556,
              "#d8576b"
             ],
             [
              0.6666666666666666,
              "#ed7953"
             ],
             [
              0.7777777777777778,
              "#fb9f3a"
             ],
             [
              0.8888888888888888,
              "#fdca26"
             ],
             [
              1,
              "#f0f921"
             ]
            ],
            "type": "contour"
           }
          ],
          "contourcarpet": [
           {
            "colorbar": {
             "outlinewidth": 0,
             "ticks": ""
            },
            "type": "contourcarpet"
           }
          ],
          "heatmap": [
           {
            "colorbar": {
             "outlinewidth": 0,
             "ticks": ""
            },
            "colorscale": [
             [
              0,
              "#0d0887"
             ],
             [
              0.1111111111111111,
              "#46039f"
             ],
             [
              0.2222222222222222,
              "#7201a8"
             ],
             [
              0.3333333333333333,
              "#9c179e"
             ],
             [
              0.4444444444444444,
              "#bd3786"
             ],
             [
              0.5555555555555556,
              "#d8576b"
             ],
             [
              0.6666666666666666,
              "#ed7953"
             ],
             [
              0.7777777777777778,
              "#fb9f3a"
             ],
             [
              0.8888888888888888,
              "#fdca26"
             ],
             [
              1,
              "#f0f921"
             ]
            ],
            "type": "heatmap"
           }
          ],
          "heatmapgl": [
           {
            "colorbar": {
             "outlinewidth": 0,
             "ticks": ""
            },
            "colorscale": [
             [
              0,
              "#0d0887"
             ],
             [
              0.1111111111111111,
              "#46039f"
             ],
             [
              0.2222222222222222,
              "#7201a8"
             ],
             [
              0.3333333333333333,
              "#9c179e"
             ],
             [
              0.4444444444444444,
              "#bd3786"
             ],
             [
              0.5555555555555556,
              "#d8576b"
             ],
             [
              0.6666666666666666,
              "#ed7953"
             ],
             [
              0.7777777777777778,
              "#fb9f3a"
             ],
             [
              0.8888888888888888,
              "#fdca26"
             ],
             [
              1,
              "#f0f921"
             ]
            ],
            "type": "heatmapgl"
           }
          ],
          "histogram": [
           {
            "marker": {
             "colorbar": {
              "outlinewidth": 0,
              "ticks": ""
             }
            },
            "type": "histogram"
           }
          ],
          "histogram2d": [
           {
            "colorbar": {
             "outlinewidth": 0,
             "ticks": ""
            },
            "colorscale": [
             [
              0,
              "#0d0887"
             ],
             [
              0.1111111111111111,
              "#46039f"
             ],
             [
              0.2222222222222222,
              "#7201a8"
             ],
             [
              0.3333333333333333,
              "#9c179e"
             ],
             [
              0.4444444444444444,
              "#bd3786"
             ],
             [
              0.5555555555555556,
              "#d8576b"
             ],
             [
              0.6666666666666666,
              "#ed7953"
             ],
             [
              0.7777777777777778,
              "#fb9f3a"
             ],
             [
              0.8888888888888888,
              "#fdca26"
             ],
             [
              1,
              "#f0f921"
             ]
            ],
            "type": "histogram2d"
           }
          ],
          "histogram2dcontour": [
           {
            "colorbar": {
             "outlinewidth": 0,
             "ticks": ""
            },
            "colorscale": [
             [
              0,
              "#0d0887"
             ],
             [
              0.1111111111111111,
              "#46039f"
             ],
             [
              0.2222222222222222,
              "#7201a8"
             ],
             [
              0.3333333333333333,
              "#9c179e"
             ],
             [
              0.4444444444444444,
              "#bd3786"
             ],
             [
              0.5555555555555556,
              "#d8576b"
             ],
             [
              0.6666666666666666,
              "#ed7953"
             ],
             [
              0.7777777777777778,
              "#fb9f3a"
             ],
             [
              0.8888888888888888,
              "#fdca26"
             ],
             [
              1,
              "#f0f921"
             ]
            ],
            "type": "histogram2dcontour"
           }
          ],
          "mesh3d": [
           {
            "colorbar": {
             "outlinewidth": 0,
             "ticks": ""
            },
            "type": "mesh3d"
           }
          ],
          "parcoords": [
           {
            "line": {
             "colorbar": {
              "outlinewidth": 0,
              "ticks": ""
             }
            },
            "type": "parcoords"
           }
          ],
          "pie": [
           {
            "automargin": true,
            "type": "pie"
           }
          ],
          "scatter": [
           {
            "marker": {
             "colorbar": {
              "outlinewidth": 0,
              "ticks": ""
             }
            },
            "type": "scatter"
           }
          ],
          "scatter3d": [
           {
            "line": {
             "colorbar": {
              "outlinewidth": 0,
              "ticks": ""
             }
            },
            "marker": {
             "colorbar": {
              "outlinewidth": 0,
              "ticks": ""
             }
            },
            "type": "scatter3d"
           }
          ],
          "scattercarpet": [
           {
            "marker": {
             "colorbar": {
              "outlinewidth": 0,
              "ticks": ""
             }
            },
            "type": "scattercarpet"
           }
          ],
          "scattergeo": [
           {
            "marker": {
             "colorbar": {
              "outlinewidth": 0,
              "ticks": ""
             }
            },
            "type": "scattergeo"
           }
          ],
          "scattergl": [
           {
            "marker": {
             "colorbar": {
              "outlinewidth": 0,
              "ticks": ""
             }
            },
            "type": "scattergl"
           }
          ],
          "scattermapbox": [
           {
            "marker": {
             "colorbar": {
              "outlinewidth": 0,
              "ticks": ""
             }
            },
            "type": "scattermapbox"
           }
          ],
          "scatterpolar": [
           {
            "marker": {
             "colorbar": {
              "outlinewidth": 0,
              "ticks": ""
             }
            },
            "type": "scatterpolar"
           }
          ],
          "scatterpolargl": [
           {
            "marker": {
             "colorbar": {
              "outlinewidth": 0,
              "ticks": ""
             }
            },
            "type": "scatterpolargl"
           }
          ],
          "scatterternary": [
           {
            "marker": {
             "colorbar": {
              "outlinewidth": 0,
              "ticks": ""
             }
            },
            "type": "scatterternary"
           }
          ],
          "surface": [
           {
            "colorbar": {
             "outlinewidth": 0,
             "ticks": ""
            },
            "colorscale": [
             [
              0,
              "#0d0887"
             ],
             [
              0.1111111111111111,
              "#46039f"
             ],
             [
              0.2222222222222222,
              "#7201a8"
             ],
             [
              0.3333333333333333,
              "#9c179e"
             ],
             [
              0.4444444444444444,
              "#bd3786"
             ],
             [
              0.5555555555555556,
              "#d8576b"
             ],
             [
              0.6666666666666666,
              "#ed7953"
             ],
             [
              0.7777777777777778,
              "#fb9f3a"
             ],
             [
              0.8888888888888888,
              "#fdca26"
             ],
             [
              1,
              "#f0f921"
             ]
            ],
            "type": "surface"
           }
          ],
          "table": [
           {
            "cells": {
             "fill": {
              "color": "#EBF0F8"
             },
             "line": {
              "color": "white"
             }
            },
            "header": {
             "fill": {
              "color": "#C8D4E3"
             },
             "line": {
              "color": "white"
             }
            },
            "type": "table"
           }
          ]
         },
         "layout": {
          "annotationdefaults": {
           "arrowcolor": "#2a3f5f",
           "arrowhead": 0,
           "arrowwidth": 1
          },
          "coloraxis": {
           "colorbar": {
            "outlinewidth": 0,
            "ticks": ""
           }
          },
          "colorscale": {
           "diverging": [
            [
             0,
             "#8e0152"
            ],
            [
             0.1,
             "#c51b7d"
            ],
            [
             0.2,
             "#de77ae"
            ],
            [
             0.3,
             "#f1b6da"
            ],
            [
             0.4,
             "#fde0ef"
            ],
            [
             0.5,
             "#f7f7f7"
            ],
            [
             0.6,
             "#e6f5d0"
            ],
            [
             0.7,
             "#b8e186"
            ],
            [
             0.8,
             "#7fbc41"
            ],
            [
             0.9,
             "#4d9221"
            ],
            [
             1,
             "#276419"
            ]
           ],
           "sequential": [
            [
             0,
             "#0d0887"
            ],
            [
             0.1111111111111111,
             "#46039f"
            ],
            [
             0.2222222222222222,
             "#7201a8"
            ],
            [
             0.3333333333333333,
             "#9c179e"
            ],
            [
             0.4444444444444444,
             "#bd3786"
            ],
            [
             0.5555555555555556,
             "#d8576b"
            ],
            [
             0.6666666666666666,
             "#ed7953"
            ],
            [
             0.7777777777777778,
             "#fb9f3a"
            ],
            [
             0.8888888888888888,
             "#fdca26"
            ],
            [
             1,
             "#f0f921"
            ]
           ],
           "sequentialminus": [
            [
             0,
             "#0d0887"
            ],
            [
             0.1111111111111111,
             "#46039f"
            ],
            [
             0.2222222222222222,
             "#7201a8"
            ],
            [
             0.3333333333333333,
             "#9c179e"
            ],
            [
             0.4444444444444444,
             "#bd3786"
            ],
            [
             0.5555555555555556,
             "#d8576b"
            ],
            [
             0.6666666666666666,
             "#ed7953"
            ],
            [
             0.7777777777777778,
             "#fb9f3a"
            ],
            [
             0.8888888888888888,
             "#fdca26"
            ],
            [
             1,
             "#f0f921"
            ]
           ]
          },
          "colorway": [
           "#636efa",
           "#EF553B",
           "#00cc96",
           "#ab63fa",
           "#FFA15A",
           "#19d3f3",
           "#FF6692",
           "#B6E880",
           "#FF97FF",
           "#FECB52"
          ],
          "font": {
           "color": "#2a3f5f"
          },
          "geo": {
           "bgcolor": "white",
           "lakecolor": "white",
           "landcolor": "#E5ECF6",
           "showlakes": true,
           "showland": true,
           "subunitcolor": "white"
          },
          "hoverlabel": {
           "align": "left"
          },
          "hovermode": "closest",
          "mapbox": {
           "style": "light"
          },
          "paper_bgcolor": "white",
          "plot_bgcolor": "#E5ECF6",
          "polar": {
           "angularaxis": {
            "gridcolor": "white",
            "linecolor": "white",
            "ticks": ""
           },
           "bgcolor": "#E5ECF6",
           "radialaxis": {
            "gridcolor": "white",
            "linecolor": "white",
            "ticks": ""
           }
          },
          "scene": {
           "xaxis": {
            "backgroundcolor": "#E5ECF6",
            "gridcolor": "white",
            "gridwidth": 2,
            "linecolor": "white",
            "showbackground": true,
            "ticks": "",
            "zerolinecolor": "white"
           },
           "yaxis": {
            "backgroundcolor": "#E5ECF6",
            "gridcolor": "white",
            "gridwidth": 2,
            "linecolor": "white",
            "showbackground": true,
            "ticks": "",
            "zerolinecolor": "white"
           },
           "zaxis": {
            "backgroundcolor": "#E5ECF6",
            "gridcolor": "white",
            "gridwidth": 2,
            "linecolor": "white",
            "showbackground": true,
            "ticks": "",
            "zerolinecolor": "white"
           }
          },
          "shapedefaults": {
           "line": {
            "color": "#2a3f5f"
           }
          },
          "ternary": {
           "aaxis": {
            "gridcolor": "white",
            "linecolor": "white",
            "ticks": ""
           },
           "baxis": {
            "gridcolor": "white",
            "linecolor": "white",
            "ticks": ""
           },
           "bgcolor": "#E5ECF6",
           "caxis": {
            "gridcolor": "white",
            "linecolor": "white",
            "ticks": ""
           }
          },
          "title": {
           "x": 0.05
          },
          "xaxis": {
           "automargin": true,
           "gridcolor": "white",
           "linecolor": "white",
           "ticks": "",
           "title": {
            "standoff": 15
           },
           "zerolinecolor": "white",
           "zerolinewidth": 2
          },
          "yaxis": {
           "automargin": true,
           "gridcolor": "white",
           "linecolor": "white",
           "ticks": "",
           "title": {
            "standoff": 15
           },
           "zerolinecolor": "white",
           "zerolinewidth": 2
          }
         }
        },
        "xaxis": {
         "anchor": "y",
         "domain": [
          0,
          1
         ],
         "title": {
          "text": "Date"
         }
        },
        "yaxis": {
         "anchor": "x",
         "domain": [
          0,
          1
         ],
         "title": {
          "text": "count"
         }
        }
       }
      },
      "text/html": [
       "<div>\n",
       "        \n",
       "        \n",
       "            <div id=\"981f6f8a-885e-40dc-b974-6cb70532c409\" class=\"plotly-graph-div\" style=\"height:525px; width:100%;\"></div>\n",
       "            <script type=\"text/javascript\">\n",
       "                require([\"plotly\"], function(Plotly) {\n",
       "                    window.PLOTLYENV=window.PLOTLYENV || {};\n",
       "                    \n",
       "                if (document.getElementById(\"981f6f8a-885e-40dc-b974-6cb70532c409\")) {\n",
       "                    Plotly.newPlot(\n",
       "                        '981f6f8a-885e-40dc-b974-6cb70532c409',\n",
       "                        [{\"alignmentgroup\": \"True\", \"bingroup\": \"x\", \"hovertemplate\": \"Date=%{x}<br>count=%{y}<extra></extra>\", \"legendgroup\": \"\", \"marker\": {\"color\": \"#636efa\"}, \"name\": \"\", \"offsetgroup\": \"\", \"orientation\": \"v\", \"showlegend\": false, \"type\": \"histogram\", \"x\": [26, 20, 15, 17, 7, 21, 24, 4, 31, 27, 7, 31, 15, 13, 15, 27, 20, 1, 19, 25, 11, 2, 23, 4, 7, 17, 8, 13, 11, 30, 21, 26, 29, 16, 16, 12, 5, 26, 21, 4, 9, 19, 14, 6, 2, 20, 25, 19, 3, 14, 16, 21, 21, 16, 14, 19, 19, 6, 7, 19, 1, 14, 4, 3, 8, 30, 31, 16, 10, 13, 1, 15, 10, 22, 6, 30, 29, 19, 17, 5, 14, 10, 12, 9, 9, 8, 11, 20, 16, 25, 2, 20, 27, 1, 10, 4, 5, 17, 20, 17, 1, 20, 26, 25, 7, 15], \"xaxis\": \"x\", \"yaxis\": \"y\"}],\n",
       "                        {\"barmode\": \"relative\", \"legend\": {\"tracegroupgap\": 0}, \"margin\": {\"t\": 60}, \"template\": {\"data\": {\"bar\": [{\"error_x\": {\"color\": \"#2a3f5f\"}, \"error_y\": {\"color\": \"#2a3f5f\"}, \"marker\": {\"line\": {\"color\": \"#E5ECF6\", \"width\": 0.5}}, \"type\": \"bar\"}], \"barpolar\": [{\"marker\": {\"line\": {\"color\": \"#E5ECF6\", \"width\": 0.5}}, \"type\": \"barpolar\"}], \"carpet\": [{\"aaxis\": {\"endlinecolor\": \"#2a3f5f\", \"gridcolor\": \"white\", \"linecolor\": \"white\", \"minorgridcolor\": \"white\", \"startlinecolor\": \"#2a3f5f\"}, \"baxis\": {\"endlinecolor\": \"#2a3f5f\", \"gridcolor\": \"white\", \"linecolor\": \"white\", \"minorgridcolor\": \"white\", \"startlinecolor\": \"#2a3f5f\"}, \"type\": \"carpet\"}], \"choropleth\": [{\"colorbar\": {\"outlinewidth\": 0, \"ticks\": \"\"}, \"type\": \"choropleth\"}], \"contour\": [{\"colorbar\": {\"outlinewidth\": 0, \"ticks\": \"\"}, \"colorscale\": [[0.0, \"#0d0887\"], [0.1111111111111111, \"#46039f\"], [0.2222222222222222, \"#7201a8\"], [0.3333333333333333, \"#9c179e\"], [0.4444444444444444, \"#bd3786\"], [0.5555555555555556, \"#d8576b\"], [0.6666666666666666, \"#ed7953\"], [0.7777777777777778, \"#fb9f3a\"], [0.8888888888888888, \"#fdca26\"], [1.0, \"#f0f921\"]], \"type\": \"contour\"}], \"contourcarpet\": [{\"colorbar\": {\"outlinewidth\": 0, \"ticks\": \"\"}, \"type\": \"contourcarpet\"}], \"heatmap\": [{\"colorbar\": {\"outlinewidth\": 0, \"ticks\": \"\"}, \"colorscale\": [[0.0, \"#0d0887\"], [0.1111111111111111, \"#46039f\"], [0.2222222222222222, \"#7201a8\"], [0.3333333333333333, \"#9c179e\"], [0.4444444444444444, \"#bd3786\"], [0.5555555555555556, \"#d8576b\"], [0.6666666666666666, \"#ed7953\"], [0.7777777777777778, \"#fb9f3a\"], [0.8888888888888888, \"#fdca26\"], [1.0, \"#f0f921\"]], \"type\": \"heatmap\"}], \"heatmapgl\": [{\"colorbar\": {\"outlinewidth\": 0, \"ticks\": \"\"}, \"colorscale\": [[0.0, \"#0d0887\"], [0.1111111111111111, \"#46039f\"], [0.2222222222222222, \"#7201a8\"], [0.3333333333333333, \"#9c179e\"], [0.4444444444444444, \"#bd3786\"], [0.5555555555555556, \"#d8576b\"], [0.6666666666666666, \"#ed7953\"], [0.7777777777777778, \"#fb9f3a\"], [0.8888888888888888, \"#fdca26\"], [1.0, \"#f0f921\"]], \"type\": \"heatmapgl\"}], \"histogram\": [{\"marker\": {\"colorbar\": {\"outlinewidth\": 0, \"ticks\": \"\"}}, \"type\": \"histogram\"}], \"histogram2d\": [{\"colorbar\": {\"outlinewidth\": 0, \"ticks\": \"\"}, \"colorscale\": [[0.0, \"#0d0887\"], [0.1111111111111111, \"#46039f\"], [0.2222222222222222, \"#7201a8\"], [0.3333333333333333, \"#9c179e\"], [0.4444444444444444, \"#bd3786\"], [0.5555555555555556, \"#d8576b\"], [0.6666666666666666, \"#ed7953\"], [0.7777777777777778, \"#fb9f3a\"], [0.8888888888888888, \"#fdca26\"], [1.0, \"#f0f921\"]], \"type\": \"histogram2d\"}], \"histogram2dcontour\": [{\"colorbar\": {\"outlinewidth\": 0, \"ticks\": \"\"}, \"colorscale\": [[0.0, \"#0d0887\"], [0.1111111111111111, \"#46039f\"], [0.2222222222222222, \"#7201a8\"], [0.3333333333333333, \"#9c179e\"], [0.4444444444444444, \"#bd3786\"], [0.5555555555555556, \"#d8576b\"], [0.6666666666666666, \"#ed7953\"], [0.7777777777777778, \"#fb9f3a\"], [0.8888888888888888, \"#fdca26\"], [1.0, \"#f0f921\"]], \"type\": \"histogram2dcontour\"}], \"mesh3d\": [{\"colorbar\": {\"outlinewidth\": 0, \"ticks\": \"\"}, \"type\": \"mesh3d\"}], \"parcoords\": [{\"line\": {\"colorbar\": {\"outlinewidth\": 0, \"ticks\": \"\"}}, \"type\": \"parcoords\"}], \"pie\": [{\"automargin\": true, \"type\": \"pie\"}], \"scatter\": [{\"marker\": {\"colorbar\": {\"outlinewidth\": 0, \"ticks\": \"\"}}, \"type\": \"scatter\"}], \"scatter3d\": [{\"line\": {\"colorbar\": {\"outlinewidth\": 0, \"ticks\": \"\"}}, \"marker\": {\"colorbar\": {\"outlinewidth\": 0, \"ticks\": \"\"}}, \"type\": \"scatter3d\"}], \"scattercarpet\": [{\"marker\": {\"colorbar\": {\"outlinewidth\": 0, \"ticks\": \"\"}}, \"type\": \"scattercarpet\"}], \"scattergeo\": [{\"marker\": {\"colorbar\": {\"outlinewidth\": 0, \"ticks\": \"\"}}, \"type\": \"scattergeo\"}], \"scattergl\": [{\"marker\": {\"colorbar\": {\"outlinewidth\": 0, \"ticks\": \"\"}}, \"type\": \"scattergl\"}], \"scattermapbox\": [{\"marker\": {\"colorbar\": {\"outlinewidth\": 0, \"ticks\": \"\"}}, \"type\": \"scattermapbox\"}], \"scatterpolar\": [{\"marker\": {\"colorbar\": {\"outlinewidth\": 0, \"ticks\": \"\"}}, \"type\": \"scatterpolar\"}], \"scatterpolargl\": [{\"marker\": {\"colorbar\": {\"outlinewidth\": 0, \"ticks\": \"\"}}, \"type\": \"scatterpolargl\"}], \"scatterternary\": [{\"marker\": {\"colorbar\": {\"outlinewidth\": 0, \"ticks\": \"\"}}, \"type\": \"scatterternary\"}], \"surface\": [{\"colorbar\": {\"outlinewidth\": 0, \"ticks\": \"\"}, \"colorscale\": [[0.0, \"#0d0887\"], [0.1111111111111111, \"#46039f\"], [0.2222222222222222, \"#7201a8\"], [0.3333333333333333, \"#9c179e\"], [0.4444444444444444, \"#bd3786\"], [0.5555555555555556, \"#d8576b\"], [0.6666666666666666, \"#ed7953\"], [0.7777777777777778, \"#fb9f3a\"], [0.8888888888888888, \"#fdca26\"], [1.0, \"#f0f921\"]], \"type\": \"surface\"}], \"table\": [{\"cells\": {\"fill\": {\"color\": \"#EBF0F8\"}, \"line\": {\"color\": \"white\"}}, \"header\": {\"fill\": {\"color\": \"#C8D4E3\"}, \"line\": {\"color\": \"white\"}}, \"type\": \"table\"}]}, \"layout\": {\"annotationdefaults\": {\"arrowcolor\": \"#2a3f5f\", \"arrowhead\": 0, \"arrowwidth\": 1}, \"coloraxis\": {\"colorbar\": {\"outlinewidth\": 0, \"ticks\": \"\"}}, \"colorscale\": {\"diverging\": [[0, \"#8e0152\"], [0.1, \"#c51b7d\"], [0.2, \"#de77ae\"], [0.3, \"#f1b6da\"], [0.4, \"#fde0ef\"], [0.5, \"#f7f7f7\"], [0.6, \"#e6f5d0\"], [0.7, \"#b8e186\"], [0.8, \"#7fbc41\"], [0.9, \"#4d9221\"], [1, \"#276419\"]], \"sequential\": [[0.0, \"#0d0887\"], [0.1111111111111111, \"#46039f\"], [0.2222222222222222, \"#7201a8\"], [0.3333333333333333, \"#9c179e\"], [0.4444444444444444, \"#bd3786\"], [0.5555555555555556, \"#d8576b\"], [0.6666666666666666, \"#ed7953\"], [0.7777777777777778, \"#fb9f3a\"], [0.8888888888888888, \"#fdca26\"], [1.0, \"#f0f921\"]], \"sequentialminus\": [[0.0, \"#0d0887\"], [0.1111111111111111, \"#46039f\"], [0.2222222222222222, \"#7201a8\"], [0.3333333333333333, \"#9c179e\"], [0.4444444444444444, \"#bd3786\"], [0.5555555555555556, \"#d8576b\"], [0.6666666666666666, \"#ed7953\"], [0.7777777777777778, \"#fb9f3a\"], [0.8888888888888888, \"#fdca26\"], [1.0, \"#f0f921\"]]}, \"colorway\": [\"#636efa\", \"#EF553B\", \"#00cc96\", \"#ab63fa\", \"#FFA15A\", \"#19d3f3\", \"#FF6692\", \"#B6E880\", \"#FF97FF\", \"#FECB52\"], \"font\": {\"color\": \"#2a3f5f\"}, \"geo\": {\"bgcolor\": \"white\", \"lakecolor\": \"white\", \"landcolor\": \"#E5ECF6\", \"showlakes\": true, \"showland\": true, \"subunitcolor\": \"white\"}, \"hoverlabel\": {\"align\": \"left\"}, \"hovermode\": \"closest\", \"mapbox\": {\"style\": \"light\"}, \"paper_bgcolor\": \"white\", \"plot_bgcolor\": \"#E5ECF6\", \"polar\": {\"angularaxis\": {\"gridcolor\": \"white\", \"linecolor\": \"white\", \"ticks\": \"\"}, \"bgcolor\": \"#E5ECF6\", \"radialaxis\": {\"gridcolor\": \"white\", \"linecolor\": \"white\", \"ticks\": \"\"}}, \"scene\": {\"xaxis\": {\"backgroundcolor\": \"#E5ECF6\", \"gridcolor\": \"white\", \"gridwidth\": 2, \"linecolor\": \"white\", \"showbackground\": true, \"ticks\": \"\", \"zerolinecolor\": \"white\"}, \"yaxis\": {\"backgroundcolor\": \"#E5ECF6\", \"gridcolor\": \"white\", \"gridwidth\": 2, \"linecolor\": \"white\", \"showbackground\": true, \"ticks\": \"\", \"zerolinecolor\": \"white\"}, \"zaxis\": {\"backgroundcolor\": \"#E5ECF6\", \"gridcolor\": \"white\", \"gridwidth\": 2, \"linecolor\": \"white\", \"showbackground\": true, \"ticks\": \"\", \"zerolinecolor\": \"white\"}}, \"shapedefaults\": {\"line\": {\"color\": \"#2a3f5f\"}}, \"ternary\": {\"aaxis\": {\"gridcolor\": \"white\", \"linecolor\": \"white\", \"ticks\": \"\"}, \"baxis\": {\"gridcolor\": \"white\", \"linecolor\": \"white\", \"ticks\": \"\"}, \"bgcolor\": \"#E5ECF6\", \"caxis\": {\"gridcolor\": \"white\", \"linecolor\": \"white\", \"ticks\": \"\"}}, \"title\": {\"x\": 0.05}, \"xaxis\": {\"automargin\": true, \"gridcolor\": \"white\", \"linecolor\": \"white\", \"ticks\": \"\", \"title\": {\"standoff\": 15}, \"zerolinecolor\": \"white\", \"zerolinewidth\": 2}, \"yaxis\": {\"automargin\": true, \"gridcolor\": \"white\", \"linecolor\": \"white\", \"ticks\": \"\", \"title\": {\"standoff\": 15}, \"zerolinecolor\": \"white\", \"zerolinewidth\": 2}}}, \"xaxis\": {\"anchor\": \"y\", \"domain\": [0.0, 1.0], \"title\": {\"text\": \"Date\"}}, \"yaxis\": {\"anchor\": \"x\", \"domain\": [0.0, 1.0], \"title\": {\"text\": \"count\"}}},\n",
       "                        {\"responsive\": true}\n",
       "                    ).then(function(){\n",
       "                            \n",
       "var gd = document.getElementById('981f6f8a-885e-40dc-b974-6cb70532c409');\n",
       "var x = new MutationObserver(function (mutations, observer) {{\n",
       "        var display = window.getComputedStyle(gd).display;\n",
       "        if (!display || display === 'none') {{\n",
       "            console.log([gd, 'removed!']);\n",
       "            Plotly.purge(gd);\n",
       "            observer.disconnect();\n",
       "        }}\n",
       "}});\n",
       "\n",
       "// Listen for the removal of the full notebook cells\n",
       "var notebookContainer = gd.closest('#notebook-container');\n",
       "if (notebookContainer) {{\n",
       "    x.observe(notebookContainer, {childList: true});\n",
       "}}\n",
       "\n",
       "// Listen for the clearing of the current output cell\n",
       "var outputEl = gd.closest('.output');\n",
       "if (outputEl) {{\n",
       "    x.observe(outputEl, {childList: true});\n",
       "}}\n",
       "\n",
       "                        })\n",
       "                };\n",
       "                });\n",
       "            </script>\n",
       "        </div>"
      ]
     },
     "metadata": {},
     "output_type": "display_data"
    }
   ],
   "source": [
    "# P - Histogram\n",
    "\n",
    "import plotly.express as px\n",
    "\n",
    "\n",
    "x = DB['Amount']   # Run through all variables on by one\n",
    "\n",
    "fig = px.histogram(DB,x)\n",
    "fig.show()"
   ]
  },
  {
   "cell_type": "code",
   "execution_count": 9,
   "metadata": {},
   "outputs": [
    {
     "data": {
      "application/vnd.plotly.v1+json": {
       "config": {
        "plotlyServerURL": "https://plot.ly"
       },
       "data": [
        {
         "hovertemplate": "Month=%{y}<extra></extra>",
         "legendgroup": "",
         "line": {
          "color": "#636efa",
          "dash": "solid"
         },
         "mode": "lines",
         "name": "",
         "showlegend": false,
         "type": "scatter",
         "xaxis": "x",
         "y": [
          "Jun",
          "Oct",
          "Jul",
          "Dec",
          "Sep",
          "Nov",
          "May",
          "May",
          "Sep",
          "Dec",
          "Jun",
          "Jan",
          "Apr",
          "Dec",
          "Sep",
          "Jun",
          "Jun",
          "Feb",
          "Jan",
          "Sep",
          "Sep",
          "Mar",
          "Oct",
          "Oct",
          "May",
          "Apr",
          "May",
          "Dec",
          "Nov",
          "Mar",
          "May",
          "Mar",
          "Jul",
          "Nov",
          "Oct",
          "Feb",
          "Jun",
          "Feb",
          "Oct",
          "May",
          "Jul",
          "Feb",
          "Apr",
          "May",
          "Sep",
          "Oct",
          "Oct",
          "Apr",
          "Jul",
          "Mar",
          "Dec",
          "Apr",
          "Dec",
          "Jun",
          "Feb",
          "Oct",
          "Apr",
          "Jul",
          "Oct",
          "Oct",
          "Sep",
          "Nov",
          "Apr",
          "Aug",
          "Mar",
          "Jun",
          "Apr",
          "Oct",
          "Aug",
          "Mar",
          "Dec",
          "Feb",
          "Feb",
          "Mar",
          "Sep",
          "Jun",
          "Jan",
          "Oct",
          "Mar",
          "Feb",
          "Sep",
          "May",
          "Nov",
          "May",
          "Aug",
          "Nov",
          "Dec",
          "Oct",
          "Feb",
          "Jul",
          "Jun",
          "May",
          "Jul",
          "Jul",
          "Mar",
          "Jul",
          "Oct",
          "Dec",
          "Jan",
          "Jan",
          "Jun",
          "May",
          "Feb",
          "Aug",
          "May",
          "Oct"
         ],
         "yaxis": "y"
        }
       ],
       "layout": {
        "legend": {
         "tracegroupgap": 0
        },
        "margin": {
         "t": 60
        },
        "template": {
         "data": {
          "bar": [
           {
            "error_x": {
             "color": "#2a3f5f"
            },
            "error_y": {
             "color": "#2a3f5f"
            },
            "marker": {
             "line": {
              "color": "#E5ECF6",
              "width": 0.5
             }
            },
            "type": "bar"
           }
          ],
          "barpolar": [
           {
            "marker": {
             "line": {
              "color": "#E5ECF6",
              "width": 0.5
             }
            },
            "type": "barpolar"
           }
          ],
          "carpet": [
           {
            "aaxis": {
             "endlinecolor": "#2a3f5f",
             "gridcolor": "white",
             "linecolor": "white",
             "minorgridcolor": "white",
             "startlinecolor": "#2a3f5f"
            },
            "baxis": {
             "endlinecolor": "#2a3f5f",
             "gridcolor": "white",
             "linecolor": "white",
             "minorgridcolor": "white",
             "startlinecolor": "#2a3f5f"
            },
            "type": "carpet"
           }
          ],
          "choropleth": [
           {
            "colorbar": {
             "outlinewidth": 0,
             "ticks": ""
            },
            "type": "choropleth"
           }
          ],
          "contour": [
           {
            "colorbar": {
             "outlinewidth": 0,
             "ticks": ""
            },
            "colorscale": [
             [
              0,
              "#0d0887"
             ],
             [
              0.1111111111111111,
              "#46039f"
             ],
             [
              0.2222222222222222,
              "#7201a8"
             ],
             [
              0.3333333333333333,
              "#9c179e"
             ],
             [
              0.4444444444444444,
              "#bd3786"
             ],
             [
              0.5555555555555556,
              "#d8576b"
             ],
             [
              0.6666666666666666,
              "#ed7953"
             ],
             [
              0.7777777777777778,
              "#fb9f3a"
             ],
             [
              0.8888888888888888,
              "#fdca26"
             ],
             [
              1,
              "#f0f921"
             ]
            ],
            "type": "contour"
           }
          ],
          "contourcarpet": [
           {
            "colorbar": {
             "outlinewidth": 0,
             "ticks": ""
            },
            "type": "contourcarpet"
           }
          ],
          "heatmap": [
           {
            "colorbar": {
             "outlinewidth": 0,
             "ticks": ""
            },
            "colorscale": [
             [
              0,
              "#0d0887"
             ],
             [
              0.1111111111111111,
              "#46039f"
             ],
             [
              0.2222222222222222,
              "#7201a8"
             ],
             [
              0.3333333333333333,
              "#9c179e"
             ],
             [
              0.4444444444444444,
              "#bd3786"
             ],
             [
              0.5555555555555556,
              "#d8576b"
             ],
             [
              0.6666666666666666,
              "#ed7953"
             ],
             [
              0.7777777777777778,
              "#fb9f3a"
             ],
             [
              0.8888888888888888,
              "#fdca26"
             ],
             [
              1,
              "#f0f921"
             ]
            ],
            "type": "heatmap"
           }
          ],
          "heatmapgl": [
           {
            "colorbar": {
             "outlinewidth": 0,
             "ticks": ""
            },
            "colorscale": [
             [
              0,
              "#0d0887"
             ],
             [
              0.1111111111111111,
              "#46039f"
             ],
             [
              0.2222222222222222,
              "#7201a8"
             ],
             [
              0.3333333333333333,
              "#9c179e"
             ],
             [
              0.4444444444444444,
              "#bd3786"
             ],
             [
              0.5555555555555556,
              "#d8576b"
             ],
             [
              0.6666666666666666,
              "#ed7953"
             ],
             [
              0.7777777777777778,
              "#fb9f3a"
             ],
             [
              0.8888888888888888,
              "#fdca26"
             ],
             [
              1,
              "#f0f921"
             ]
            ],
            "type": "heatmapgl"
           }
          ],
          "histogram": [
           {
            "marker": {
             "colorbar": {
              "outlinewidth": 0,
              "ticks": ""
             }
            },
            "type": "histogram"
           }
          ],
          "histogram2d": [
           {
            "colorbar": {
             "outlinewidth": 0,
             "ticks": ""
            },
            "colorscale": [
             [
              0,
              "#0d0887"
             ],
             [
              0.1111111111111111,
              "#46039f"
             ],
             [
              0.2222222222222222,
              "#7201a8"
             ],
             [
              0.3333333333333333,
              "#9c179e"
             ],
             [
              0.4444444444444444,
              "#bd3786"
             ],
             [
              0.5555555555555556,
              "#d8576b"
             ],
             [
              0.6666666666666666,
              "#ed7953"
             ],
             [
              0.7777777777777778,
              "#fb9f3a"
             ],
             [
              0.8888888888888888,
              "#fdca26"
             ],
             [
              1,
              "#f0f921"
             ]
            ],
            "type": "histogram2d"
           }
          ],
          "histogram2dcontour": [
           {
            "colorbar": {
             "outlinewidth": 0,
             "ticks": ""
            },
            "colorscale": [
             [
              0,
              "#0d0887"
             ],
             [
              0.1111111111111111,
              "#46039f"
             ],
             [
              0.2222222222222222,
              "#7201a8"
             ],
             [
              0.3333333333333333,
              "#9c179e"
             ],
             [
              0.4444444444444444,
              "#bd3786"
             ],
             [
              0.5555555555555556,
              "#d8576b"
             ],
             [
              0.6666666666666666,
              "#ed7953"
             ],
             [
              0.7777777777777778,
              "#fb9f3a"
             ],
             [
              0.8888888888888888,
              "#fdca26"
             ],
             [
              1,
              "#f0f921"
             ]
            ],
            "type": "histogram2dcontour"
           }
          ],
          "mesh3d": [
           {
            "colorbar": {
             "outlinewidth": 0,
             "ticks": ""
            },
            "type": "mesh3d"
           }
          ],
          "parcoords": [
           {
            "line": {
             "colorbar": {
              "outlinewidth": 0,
              "ticks": ""
             }
            },
            "type": "parcoords"
           }
          ],
          "pie": [
           {
            "automargin": true,
            "type": "pie"
           }
          ],
          "scatter": [
           {
            "marker": {
             "colorbar": {
              "outlinewidth": 0,
              "ticks": ""
             }
            },
            "type": "scatter"
           }
          ],
          "scatter3d": [
           {
            "line": {
             "colorbar": {
              "outlinewidth": 0,
              "ticks": ""
             }
            },
            "marker": {
             "colorbar": {
              "outlinewidth": 0,
              "ticks": ""
             }
            },
            "type": "scatter3d"
           }
          ],
          "scattercarpet": [
           {
            "marker": {
             "colorbar": {
              "outlinewidth": 0,
              "ticks": ""
             }
            },
            "type": "scattercarpet"
           }
          ],
          "scattergeo": [
           {
            "marker": {
             "colorbar": {
              "outlinewidth": 0,
              "ticks": ""
             }
            },
            "type": "scattergeo"
           }
          ],
          "scattergl": [
           {
            "marker": {
             "colorbar": {
              "outlinewidth": 0,
              "ticks": ""
             }
            },
            "type": "scattergl"
           }
          ],
          "scattermapbox": [
           {
            "marker": {
             "colorbar": {
              "outlinewidth": 0,
              "ticks": ""
             }
            },
            "type": "scattermapbox"
           }
          ],
          "scatterpolar": [
           {
            "marker": {
             "colorbar": {
              "outlinewidth": 0,
              "ticks": ""
             }
            },
            "type": "scatterpolar"
           }
          ],
          "scatterpolargl": [
           {
            "marker": {
             "colorbar": {
              "outlinewidth": 0,
              "ticks": ""
             }
            },
            "type": "scatterpolargl"
           }
          ],
          "scatterternary": [
           {
            "marker": {
             "colorbar": {
              "outlinewidth": 0,
              "ticks": ""
             }
            },
            "type": "scatterternary"
           }
          ],
          "surface": [
           {
            "colorbar": {
             "outlinewidth": 0,
             "ticks": ""
            },
            "colorscale": [
             [
              0,
              "#0d0887"
             ],
             [
              0.1111111111111111,
              "#46039f"
             ],
             [
              0.2222222222222222,
              "#7201a8"
             ],
             [
              0.3333333333333333,
              "#9c179e"
             ],
             [
              0.4444444444444444,
              "#bd3786"
             ],
             [
              0.5555555555555556,
              "#d8576b"
             ],
             [
              0.6666666666666666,
              "#ed7953"
             ],
             [
              0.7777777777777778,
              "#fb9f3a"
             ],
             [
              0.8888888888888888,
              "#fdca26"
             ],
             [
              1,
              "#f0f921"
             ]
            ],
            "type": "surface"
           }
          ],
          "table": [
           {
            "cells": {
             "fill": {
              "color": "#EBF0F8"
             },
             "line": {
              "color": "white"
             }
            },
            "header": {
             "fill": {
              "color": "#C8D4E3"
             },
             "line": {
              "color": "white"
             }
            },
            "type": "table"
           }
          ]
         },
         "layout": {
          "annotationdefaults": {
           "arrowcolor": "#2a3f5f",
           "arrowhead": 0,
           "arrowwidth": 1
          },
          "coloraxis": {
           "colorbar": {
            "outlinewidth": 0,
            "ticks": ""
           }
          },
          "colorscale": {
           "diverging": [
            [
             0,
             "#8e0152"
            ],
            [
             0.1,
             "#c51b7d"
            ],
            [
             0.2,
             "#de77ae"
            ],
            [
             0.3,
             "#f1b6da"
            ],
            [
             0.4,
             "#fde0ef"
            ],
            [
             0.5,
             "#f7f7f7"
            ],
            [
             0.6,
             "#e6f5d0"
            ],
            [
             0.7,
             "#b8e186"
            ],
            [
             0.8,
             "#7fbc41"
            ],
            [
             0.9,
             "#4d9221"
            ],
            [
             1,
             "#276419"
            ]
           ],
           "sequential": [
            [
             0,
             "#0d0887"
            ],
            [
             0.1111111111111111,
             "#46039f"
            ],
            [
             0.2222222222222222,
             "#7201a8"
            ],
            [
             0.3333333333333333,
             "#9c179e"
            ],
            [
             0.4444444444444444,
             "#bd3786"
            ],
            [
             0.5555555555555556,
             "#d8576b"
            ],
            [
             0.6666666666666666,
             "#ed7953"
            ],
            [
             0.7777777777777778,
             "#fb9f3a"
            ],
            [
             0.8888888888888888,
             "#fdca26"
            ],
            [
             1,
             "#f0f921"
            ]
           ],
           "sequentialminus": [
            [
             0,
             "#0d0887"
            ],
            [
             0.1111111111111111,
             "#46039f"
            ],
            [
             0.2222222222222222,
             "#7201a8"
            ],
            [
             0.3333333333333333,
             "#9c179e"
            ],
            [
             0.4444444444444444,
             "#bd3786"
            ],
            [
             0.5555555555555556,
             "#d8576b"
            ],
            [
             0.6666666666666666,
             "#ed7953"
            ],
            [
             0.7777777777777778,
             "#fb9f3a"
            ],
            [
             0.8888888888888888,
             "#fdca26"
            ],
            [
             1,
             "#f0f921"
            ]
           ]
          },
          "colorway": [
           "#636efa",
           "#EF553B",
           "#00cc96",
           "#ab63fa",
           "#FFA15A",
           "#19d3f3",
           "#FF6692",
           "#B6E880",
           "#FF97FF",
           "#FECB52"
          ],
          "font": {
           "color": "#2a3f5f"
          },
          "geo": {
           "bgcolor": "white",
           "lakecolor": "white",
           "landcolor": "#E5ECF6",
           "showlakes": true,
           "showland": true,
           "subunitcolor": "white"
          },
          "hoverlabel": {
           "align": "left"
          },
          "hovermode": "closest",
          "mapbox": {
           "style": "light"
          },
          "paper_bgcolor": "white",
          "plot_bgcolor": "#E5ECF6",
          "polar": {
           "angularaxis": {
            "gridcolor": "white",
            "linecolor": "white",
            "ticks": ""
           },
           "bgcolor": "#E5ECF6",
           "radialaxis": {
            "gridcolor": "white",
            "linecolor": "white",
            "ticks": ""
           }
          },
          "scene": {
           "xaxis": {
            "backgroundcolor": "#E5ECF6",
            "gridcolor": "white",
            "gridwidth": 2,
            "linecolor": "white",
            "showbackground": true,
            "ticks": "",
            "zerolinecolor": "white"
           },
           "yaxis": {
            "backgroundcolor": "#E5ECF6",
            "gridcolor": "white",
            "gridwidth": 2,
            "linecolor": "white",
            "showbackground": true,
            "ticks": "",
            "zerolinecolor": "white"
           },
           "zaxis": {
            "backgroundcolor": "#E5ECF6",
            "gridcolor": "white",
            "gridwidth": 2,
            "linecolor": "white",
            "showbackground": true,
            "ticks": "",
            "zerolinecolor": "white"
           }
          },
          "shapedefaults": {
           "line": {
            "color": "#2a3f5f"
           }
          },
          "ternary": {
           "aaxis": {
            "gridcolor": "white",
            "linecolor": "white",
            "ticks": ""
           },
           "baxis": {
            "gridcolor": "white",
            "linecolor": "white",
            "ticks": ""
           },
           "bgcolor": "#E5ECF6",
           "caxis": {
            "gridcolor": "white",
            "linecolor": "white",
            "ticks": ""
           }
          },
          "title": {
           "x": 0.05
          },
          "xaxis": {
           "automargin": true,
           "gridcolor": "white",
           "linecolor": "white",
           "ticks": "",
           "title": {
            "standoff": 15
           },
           "zerolinecolor": "white",
           "zerolinewidth": 2
          },
          "yaxis": {
           "automargin": true,
           "gridcolor": "white",
           "linecolor": "white",
           "ticks": "",
           "title": {
            "standoff": 15
           },
           "zerolinecolor": "white",
           "zerolinewidth": 2
          }
         }
        },
        "xaxis": {
         "anchor": "y",
         "domain": [
          0,
          1
         ]
        },
        "yaxis": {
         "anchor": "x",
         "domain": [
          0,
          1
         ],
         "title": {
          "text": "Month"
         }
        }
       }
      },
      "text/html": [
       "<div>\n",
       "        \n",
       "        \n",
       "            <div id=\"ae61152c-ec52-4d3a-9828-6a875c278739\" class=\"plotly-graph-div\" style=\"height:525px; width:100%;\"></div>\n",
       "            <script type=\"text/javascript\">\n",
       "                require([\"plotly\"], function(Plotly) {\n",
       "                    window.PLOTLYENV=window.PLOTLYENV || {};\n",
       "                    \n",
       "                if (document.getElementById(\"ae61152c-ec52-4d3a-9828-6a875c278739\")) {\n",
       "                    Plotly.newPlot(\n",
       "                        'ae61152c-ec52-4d3a-9828-6a875c278739',\n",
       "                        [{\"hovertemplate\": \"Month=%{y}<extra></extra>\", \"legendgroup\": \"\", \"line\": {\"color\": \"#636efa\", \"dash\": \"solid\"}, \"mode\": \"lines\", \"name\": \"\", \"showlegend\": false, \"type\": \"scatter\", \"xaxis\": \"x\", \"y\": [\"Jun\", \"Oct\", \"Jul\", \"Dec\", \"Sep\", \"Nov\", \"May\", \"May\", \"Sep\", \"Dec\", \"Jun\", \"Jan\", \"Apr\", \"Dec\", \"Sep\", \"Jun\", \"Jun\", \"Feb\", \"Jan\", \"Sep\", \"Sep\", \"Mar\", \"Oct\", \"Oct\", \"May\", \"Apr\", \"May\", \"Dec\", \"Nov\", \"Mar\", \"May\", \"Mar\", \"Jul\", \"Nov\", \"Oct\", \"Feb\", \"Jun\", \"Feb\", \"Oct\", \"May\", \"Jul\", \"Feb\", \"Apr\", \"May\", \"Sep\", \"Oct\", \"Oct\", \"Apr\", \"Jul\", \"Mar\", \"Dec\", \"Apr\", \"Dec\", \"Jun\", \"Feb\", \"Oct\", \"Apr\", \"Jul\", \"Oct\", \"Oct\", \"Sep\", \"Nov\", \"Apr\", \"Aug\", \"Mar\", \"Jun\", \"Apr\", \"Oct\", \"Aug\", \"Mar\", \"Dec\", \"Feb\", \"Feb\", \"Mar\", \"Sep\", \"Jun\", \"Jan\", \"Oct\", \"Mar\", \"Feb\", \"Sep\", \"May\", \"Nov\", \"May\", \"Aug\", \"Nov\", \"Dec\", \"Oct\", \"Feb\", \"Jul\", \"Jun\", \"May\", \"Jul\", \"Jul\", \"Mar\", \"Jul\", \"Oct\", \"Dec\", \"Jan\", \"Jan\", \"Jun\", \"May\", \"Feb\", \"Aug\", \"May\", \"Oct\"], \"yaxis\": \"y\"}],\n",
       "                        {\"legend\": {\"tracegroupgap\": 0}, \"margin\": {\"t\": 60}, \"template\": {\"data\": {\"bar\": [{\"error_x\": {\"color\": \"#2a3f5f\"}, \"error_y\": {\"color\": \"#2a3f5f\"}, \"marker\": {\"line\": {\"color\": \"#E5ECF6\", \"width\": 0.5}}, \"type\": \"bar\"}], \"barpolar\": [{\"marker\": {\"line\": {\"color\": \"#E5ECF6\", \"width\": 0.5}}, \"type\": \"barpolar\"}], \"carpet\": [{\"aaxis\": {\"endlinecolor\": \"#2a3f5f\", \"gridcolor\": \"white\", \"linecolor\": \"white\", \"minorgridcolor\": \"white\", \"startlinecolor\": \"#2a3f5f\"}, \"baxis\": {\"endlinecolor\": \"#2a3f5f\", \"gridcolor\": \"white\", \"linecolor\": \"white\", \"minorgridcolor\": \"white\", \"startlinecolor\": \"#2a3f5f\"}, \"type\": \"carpet\"}], \"choropleth\": [{\"colorbar\": {\"outlinewidth\": 0, \"ticks\": \"\"}, \"type\": \"choropleth\"}], \"contour\": [{\"colorbar\": {\"outlinewidth\": 0, \"ticks\": \"\"}, \"colorscale\": [[0.0, \"#0d0887\"], [0.1111111111111111, \"#46039f\"], [0.2222222222222222, \"#7201a8\"], [0.3333333333333333, \"#9c179e\"], [0.4444444444444444, \"#bd3786\"], [0.5555555555555556, \"#d8576b\"], [0.6666666666666666, \"#ed7953\"], [0.7777777777777778, \"#fb9f3a\"], [0.8888888888888888, \"#fdca26\"], [1.0, \"#f0f921\"]], \"type\": \"contour\"}], \"contourcarpet\": [{\"colorbar\": {\"outlinewidth\": 0, \"ticks\": \"\"}, \"type\": \"contourcarpet\"}], \"heatmap\": [{\"colorbar\": {\"outlinewidth\": 0, \"ticks\": \"\"}, \"colorscale\": [[0.0, \"#0d0887\"], [0.1111111111111111, \"#46039f\"], [0.2222222222222222, \"#7201a8\"], [0.3333333333333333, \"#9c179e\"], [0.4444444444444444, \"#bd3786\"], [0.5555555555555556, \"#d8576b\"], [0.6666666666666666, \"#ed7953\"], [0.7777777777777778, \"#fb9f3a\"], [0.8888888888888888, \"#fdca26\"], [1.0, \"#f0f921\"]], \"type\": \"heatmap\"}], \"heatmapgl\": [{\"colorbar\": {\"outlinewidth\": 0, \"ticks\": \"\"}, \"colorscale\": [[0.0, \"#0d0887\"], [0.1111111111111111, \"#46039f\"], [0.2222222222222222, \"#7201a8\"], [0.3333333333333333, \"#9c179e\"], [0.4444444444444444, \"#bd3786\"], [0.5555555555555556, \"#d8576b\"], [0.6666666666666666, \"#ed7953\"], [0.7777777777777778, \"#fb9f3a\"], [0.8888888888888888, \"#fdca26\"], [1.0, \"#f0f921\"]], \"type\": \"heatmapgl\"}], \"histogram\": [{\"marker\": {\"colorbar\": {\"outlinewidth\": 0, \"ticks\": \"\"}}, \"type\": \"histogram\"}], \"histogram2d\": [{\"colorbar\": {\"outlinewidth\": 0, \"ticks\": \"\"}, \"colorscale\": [[0.0, \"#0d0887\"], [0.1111111111111111, \"#46039f\"], [0.2222222222222222, \"#7201a8\"], [0.3333333333333333, \"#9c179e\"], [0.4444444444444444, \"#bd3786\"], [0.5555555555555556, \"#d8576b\"], [0.6666666666666666, \"#ed7953\"], [0.7777777777777778, \"#fb9f3a\"], [0.8888888888888888, \"#fdca26\"], [1.0, \"#f0f921\"]], \"type\": \"histogram2d\"}], \"histogram2dcontour\": [{\"colorbar\": {\"outlinewidth\": 0, \"ticks\": \"\"}, \"colorscale\": [[0.0, \"#0d0887\"], [0.1111111111111111, \"#46039f\"], [0.2222222222222222, \"#7201a8\"], [0.3333333333333333, \"#9c179e\"], [0.4444444444444444, \"#bd3786\"], [0.5555555555555556, \"#d8576b\"], [0.6666666666666666, \"#ed7953\"], [0.7777777777777778, \"#fb9f3a\"], [0.8888888888888888, \"#fdca26\"], [1.0, \"#f0f921\"]], \"type\": \"histogram2dcontour\"}], \"mesh3d\": [{\"colorbar\": {\"outlinewidth\": 0, \"ticks\": \"\"}, \"type\": \"mesh3d\"}], \"parcoords\": [{\"line\": {\"colorbar\": {\"outlinewidth\": 0, \"ticks\": \"\"}}, \"type\": \"parcoords\"}], \"pie\": [{\"automargin\": true, \"type\": \"pie\"}], \"scatter\": [{\"marker\": {\"colorbar\": {\"outlinewidth\": 0, \"ticks\": \"\"}}, \"type\": \"scatter\"}], \"scatter3d\": [{\"line\": {\"colorbar\": {\"outlinewidth\": 0, \"ticks\": \"\"}}, \"marker\": {\"colorbar\": {\"outlinewidth\": 0, \"ticks\": \"\"}}, \"type\": \"scatter3d\"}], \"scattercarpet\": [{\"marker\": {\"colorbar\": {\"outlinewidth\": 0, \"ticks\": \"\"}}, \"type\": \"scattercarpet\"}], \"scattergeo\": [{\"marker\": {\"colorbar\": {\"outlinewidth\": 0, \"ticks\": \"\"}}, \"type\": \"scattergeo\"}], \"scattergl\": [{\"marker\": {\"colorbar\": {\"outlinewidth\": 0, \"ticks\": \"\"}}, \"type\": \"scattergl\"}], \"scattermapbox\": [{\"marker\": {\"colorbar\": {\"outlinewidth\": 0, \"ticks\": \"\"}}, \"type\": \"scattermapbox\"}], \"scatterpolar\": [{\"marker\": {\"colorbar\": {\"outlinewidth\": 0, \"ticks\": \"\"}}, \"type\": \"scatterpolar\"}], \"scatterpolargl\": [{\"marker\": {\"colorbar\": {\"outlinewidth\": 0, \"ticks\": \"\"}}, \"type\": \"scatterpolargl\"}], \"scatterternary\": [{\"marker\": {\"colorbar\": {\"outlinewidth\": 0, \"ticks\": \"\"}}, \"type\": \"scatterternary\"}], \"surface\": [{\"colorbar\": {\"outlinewidth\": 0, \"ticks\": \"\"}, \"colorscale\": [[0.0, \"#0d0887\"], [0.1111111111111111, \"#46039f\"], [0.2222222222222222, \"#7201a8\"], [0.3333333333333333, \"#9c179e\"], [0.4444444444444444, \"#bd3786\"], [0.5555555555555556, \"#d8576b\"], [0.6666666666666666, \"#ed7953\"], [0.7777777777777778, \"#fb9f3a\"], [0.8888888888888888, \"#fdca26\"], [1.0, \"#f0f921\"]], \"type\": \"surface\"}], \"table\": [{\"cells\": {\"fill\": {\"color\": \"#EBF0F8\"}, \"line\": {\"color\": \"white\"}}, \"header\": {\"fill\": {\"color\": \"#C8D4E3\"}, \"line\": {\"color\": \"white\"}}, \"type\": \"table\"}]}, \"layout\": {\"annotationdefaults\": {\"arrowcolor\": \"#2a3f5f\", \"arrowhead\": 0, \"arrowwidth\": 1}, \"coloraxis\": {\"colorbar\": {\"outlinewidth\": 0, \"ticks\": \"\"}}, \"colorscale\": {\"diverging\": [[0, \"#8e0152\"], [0.1, \"#c51b7d\"], [0.2, \"#de77ae\"], [0.3, \"#f1b6da\"], [0.4, \"#fde0ef\"], [0.5, \"#f7f7f7\"], [0.6, \"#e6f5d0\"], [0.7, \"#b8e186\"], [0.8, \"#7fbc41\"], [0.9, \"#4d9221\"], [1, \"#276419\"]], \"sequential\": [[0.0, \"#0d0887\"], [0.1111111111111111, \"#46039f\"], [0.2222222222222222, \"#7201a8\"], [0.3333333333333333, \"#9c179e\"], [0.4444444444444444, \"#bd3786\"], [0.5555555555555556, \"#d8576b\"], [0.6666666666666666, \"#ed7953\"], [0.7777777777777778, \"#fb9f3a\"], [0.8888888888888888, \"#fdca26\"], [1.0, \"#f0f921\"]], \"sequentialminus\": [[0.0, \"#0d0887\"], [0.1111111111111111, \"#46039f\"], [0.2222222222222222, \"#7201a8\"], [0.3333333333333333, \"#9c179e\"], [0.4444444444444444, \"#bd3786\"], [0.5555555555555556, \"#d8576b\"], [0.6666666666666666, \"#ed7953\"], [0.7777777777777778, \"#fb9f3a\"], [0.8888888888888888, \"#fdca26\"], [1.0, \"#f0f921\"]]}, \"colorway\": [\"#636efa\", \"#EF553B\", \"#00cc96\", \"#ab63fa\", \"#FFA15A\", \"#19d3f3\", \"#FF6692\", \"#B6E880\", \"#FF97FF\", \"#FECB52\"], \"font\": {\"color\": \"#2a3f5f\"}, \"geo\": {\"bgcolor\": \"white\", \"lakecolor\": \"white\", \"landcolor\": \"#E5ECF6\", \"showlakes\": true, \"showland\": true, \"subunitcolor\": \"white\"}, \"hoverlabel\": {\"align\": \"left\"}, \"hovermode\": \"closest\", \"mapbox\": {\"style\": \"light\"}, \"paper_bgcolor\": \"white\", \"plot_bgcolor\": \"#E5ECF6\", \"polar\": {\"angularaxis\": {\"gridcolor\": \"white\", \"linecolor\": \"white\", \"ticks\": \"\"}, \"bgcolor\": \"#E5ECF6\", \"radialaxis\": {\"gridcolor\": \"white\", \"linecolor\": \"white\", \"ticks\": \"\"}}, \"scene\": {\"xaxis\": {\"backgroundcolor\": \"#E5ECF6\", \"gridcolor\": \"white\", \"gridwidth\": 2, \"linecolor\": \"white\", \"showbackground\": true, \"ticks\": \"\", \"zerolinecolor\": \"white\"}, \"yaxis\": {\"backgroundcolor\": \"#E5ECF6\", \"gridcolor\": \"white\", \"gridwidth\": 2, \"linecolor\": \"white\", \"showbackground\": true, \"ticks\": \"\", \"zerolinecolor\": \"white\"}, \"zaxis\": {\"backgroundcolor\": \"#E5ECF6\", \"gridcolor\": \"white\", \"gridwidth\": 2, \"linecolor\": \"white\", \"showbackground\": true, \"ticks\": \"\", \"zerolinecolor\": \"white\"}}, \"shapedefaults\": {\"line\": {\"color\": \"#2a3f5f\"}}, \"ternary\": {\"aaxis\": {\"gridcolor\": \"white\", \"linecolor\": \"white\", \"ticks\": \"\"}, \"baxis\": {\"gridcolor\": \"white\", \"linecolor\": \"white\", \"ticks\": \"\"}, \"bgcolor\": \"#E5ECF6\", \"caxis\": {\"gridcolor\": \"white\", \"linecolor\": \"white\", \"ticks\": \"\"}}, \"title\": {\"x\": 0.05}, \"xaxis\": {\"automargin\": true, \"gridcolor\": \"white\", \"linecolor\": \"white\", \"ticks\": \"\", \"title\": {\"standoff\": 15}, \"zerolinecolor\": \"white\", \"zerolinewidth\": 2}, \"yaxis\": {\"automargin\": true, \"gridcolor\": \"white\", \"linecolor\": \"white\", \"ticks\": \"\", \"title\": {\"standoff\": 15}, \"zerolinecolor\": \"white\", \"zerolinewidth\": 2}}}, \"xaxis\": {\"anchor\": \"y\", \"domain\": [0.0, 1.0]}, \"yaxis\": {\"anchor\": \"x\", \"domain\": [0.0, 1.0], \"title\": {\"text\": \"Month\"}}},\n",
       "                        {\"responsive\": true}\n",
       "                    ).then(function(){\n",
       "                            \n",
       "var gd = document.getElementById('ae61152c-ec52-4d3a-9828-6a875c278739');\n",
       "var x = new MutationObserver(function (mutations, observer) {{\n",
       "        var display = window.getComputedStyle(gd).display;\n",
       "        if (!display || display === 'none') {{\n",
       "            console.log([gd, 'removed!']);\n",
       "            Plotly.purge(gd);\n",
       "            observer.disconnect();\n",
       "        }}\n",
       "}});\n",
       "\n",
       "// Listen for the removal of the full notebook cells\n",
       "var notebookContainer = gd.closest('#notebook-container');\n",
       "if (notebookContainer) {{\n",
       "    x.observe(notebookContainer, {childList: true});\n",
       "}}\n",
       "\n",
       "// Listen for the clearing of the current output cell\n",
       "var outputEl = gd.closest('.output');\n",
       "if (outputEl) {{\n",
       "    x.observe(outputEl, {childList: true});\n",
       "}}\n",
       "\n",
       "                        })\n",
       "                };\n",
       "                });\n",
       "            </script>\n",
       "        </div>"
      ]
     },
     "metadata": {},
     "output_type": "display_data"
    }
   ],
   "source": [
    "# P - Line\n",
    "\n",
    "import plotly.express as px\n",
    "\n",
    "fig = px.line(DB, y=\"Month\")\n",
    "fig.show()"
   ]
  },
  {
   "cell_type": "code",
   "execution_count": 23,
   "metadata": {},
   "outputs": [
    {
     "data": {
      "application/vnd.plotly.v1+json": {
       "config": {
        "plotlyServerURL": "https://plot.ly"
       },
       "data": [
        {
         "domain": {
          "x": [
           0,
           1
          ],
          "y": [
           0,
           1
          ]
         },
         "hovertemplate": "Transaction=%{label}<extra></extra>",
         "labels": [
          "Bangalore, India",
          "Bangalore, India",
          "London, UK",
          "London, UK",
          "Bangalore, India",
          "Bangalore, India",
          "Moscow, Russia",
          "Rabat, Morocco",
          "Bangalore, India",
          "Paris,France",
          "Hyderabad, India",
          "Hyderabad, India",
          "Mumbai, India",
          "Hyderabad,India",
          "Hyderabad,India",
          "Hyderabad,India",
          "Budapest, Hungary",
          "Mumbai, India",
          "Hyderabad,India",
          "Hyderabad,India",
          "Mumbai, India",
          "Mumbai, India",
          "Mumbai, India",
          "Mumbai, India",
          "Pune, India",
          "Mumbai, India",
          "Mumbai, India",
          "Mumbai, India",
          "Budapest, Hungary",
          "Mumbai, India",
          "Paris,France",
          "mumbai, India",
          "London, UK",
          "Budapest, Hungary",
          "Budapest, Hungary",
          "Budapest, Hungary",
          "Mumbai, India",
          "Nicosia, Cyprus",
          "Bangalore, India",
          "Mumbai, India",
          "Mumbai, India",
          "Delhi, India",
          "Delhi, India",
          "Paris,France",
          "Delhi, India",
          "NewYork, USA",
          "Nicosia, Cyprus",
          "Delhi, India",
          "NewYork, USA",
          "Delhi, India",
          "Nicosia, Cyprus",
          "Paris, France",
          "Ahmedabad, India",
          "Ahmedabad, India",
          "Bangalore, India",
          "Ahmedabad, India",
          "Paris, France",
          "Paris, France",
          "Ahmedabad, India",
          "Paris,France",
          "Paris,France",
          "Hyderabad, India",
          "Hyderabad, India",
          "Hyderabad, India",
          "Hyderabad, India",
          "Moscow, Russia",
          "Hyderabad, ndia",
          "Pune, India",
          "Mumbai, India",
          "Mumbai, India",
          "Delhi, India",
          "Bangalore, India",
          "Mumbai, India",
          "Pune, India",
          "Delhi, India",
          "Pune, India",
          "Mumbai, India",
          "Bangalore, India",
          "mumbai, India",
          "Mumbai, India",
          "Mumbai, India",
          "Delhi, India",
          "Mumbai, India",
          "Budapest, Hungary",
          "mumbai, India",
          "Delhi, India",
          "Budapest, Hungary",
          "Mumbai, India",
          "Mumbai, India",
          "Mumbai, India",
          "Mumbai, India",
          "Mumbai, India",
          "Mumbai, India",
          "Mumbai, India",
          "mumbai, India",
          "Delhi, India",
          "Delhi, India",
          "Bangalore, India",
          "Bangalore, India",
          "Delhi, India",
          "Delhi, India",
          "Delhi, India",
          "Delhi, India",
          "Delhi, India",
          "Bangalore, India",
          "Delhi, India"
         ],
         "legendgroup": "",
         "name": "",
         "showlegend": true,
         "type": "pie"
        }
       ],
       "layout": {
        "legend": {
         "tracegroupgap": 0
        },
        "margin": {
         "t": 60
        },
        "template": {
         "data": {
          "bar": [
           {
            "error_x": {
             "color": "#2a3f5f"
            },
            "error_y": {
             "color": "#2a3f5f"
            },
            "marker": {
             "line": {
              "color": "#E5ECF6",
              "width": 0.5
             }
            },
            "type": "bar"
           }
          ],
          "barpolar": [
           {
            "marker": {
             "line": {
              "color": "#E5ECF6",
              "width": 0.5
             }
            },
            "type": "barpolar"
           }
          ],
          "carpet": [
           {
            "aaxis": {
             "endlinecolor": "#2a3f5f",
             "gridcolor": "white",
             "linecolor": "white",
             "minorgridcolor": "white",
             "startlinecolor": "#2a3f5f"
            },
            "baxis": {
             "endlinecolor": "#2a3f5f",
             "gridcolor": "white",
             "linecolor": "white",
             "minorgridcolor": "white",
             "startlinecolor": "#2a3f5f"
            },
            "type": "carpet"
           }
          ],
          "choropleth": [
           {
            "colorbar": {
             "outlinewidth": 0,
             "ticks": ""
            },
            "type": "choropleth"
           }
          ],
          "contour": [
           {
            "colorbar": {
             "outlinewidth": 0,
             "ticks": ""
            },
            "colorscale": [
             [
              0,
              "#0d0887"
             ],
             [
              0.1111111111111111,
              "#46039f"
             ],
             [
              0.2222222222222222,
              "#7201a8"
             ],
             [
              0.3333333333333333,
              "#9c179e"
             ],
             [
              0.4444444444444444,
              "#bd3786"
             ],
             [
              0.5555555555555556,
              "#d8576b"
             ],
             [
              0.6666666666666666,
              "#ed7953"
             ],
             [
              0.7777777777777778,
              "#fb9f3a"
             ],
             [
              0.8888888888888888,
              "#fdca26"
             ],
             [
              1,
              "#f0f921"
             ]
            ],
            "type": "contour"
           }
          ],
          "contourcarpet": [
           {
            "colorbar": {
             "outlinewidth": 0,
             "ticks": ""
            },
            "type": "contourcarpet"
           }
          ],
          "heatmap": [
           {
            "colorbar": {
             "outlinewidth": 0,
             "ticks": ""
            },
            "colorscale": [
             [
              0,
              "#0d0887"
             ],
             [
              0.1111111111111111,
              "#46039f"
             ],
             [
              0.2222222222222222,
              "#7201a8"
             ],
             [
              0.3333333333333333,
              "#9c179e"
             ],
             [
              0.4444444444444444,
              "#bd3786"
             ],
             [
              0.5555555555555556,
              "#d8576b"
             ],
             [
              0.6666666666666666,
              "#ed7953"
             ],
             [
              0.7777777777777778,
              "#fb9f3a"
             ],
             [
              0.8888888888888888,
              "#fdca26"
             ],
             [
              1,
              "#f0f921"
             ]
            ],
            "type": "heatmap"
           }
          ],
          "heatmapgl": [
           {
            "colorbar": {
             "outlinewidth": 0,
             "ticks": ""
            },
            "colorscale": [
             [
              0,
              "#0d0887"
             ],
             [
              0.1111111111111111,
              "#46039f"
             ],
             [
              0.2222222222222222,
              "#7201a8"
             ],
             [
              0.3333333333333333,
              "#9c179e"
             ],
             [
              0.4444444444444444,
              "#bd3786"
             ],
             [
              0.5555555555555556,
              "#d8576b"
             ],
             [
              0.6666666666666666,
              "#ed7953"
             ],
             [
              0.7777777777777778,
              "#fb9f3a"
             ],
             [
              0.8888888888888888,
              "#fdca26"
             ],
             [
              1,
              "#f0f921"
             ]
            ],
            "type": "heatmapgl"
           }
          ],
          "histogram": [
           {
            "marker": {
             "colorbar": {
              "outlinewidth": 0,
              "ticks": ""
             }
            },
            "type": "histogram"
           }
          ],
          "histogram2d": [
           {
            "colorbar": {
             "outlinewidth": 0,
             "ticks": ""
            },
            "colorscale": [
             [
              0,
              "#0d0887"
             ],
             [
              0.1111111111111111,
              "#46039f"
             ],
             [
              0.2222222222222222,
              "#7201a8"
             ],
             [
              0.3333333333333333,
              "#9c179e"
             ],
             [
              0.4444444444444444,
              "#bd3786"
             ],
             [
              0.5555555555555556,
              "#d8576b"
             ],
             [
              0.6666666666666666,
              "#ed7953"
             ],
             [
              0.7777777777777778,
              "#fb9f3a"
             ],
             [
              0.8888888888888888,
              "#fdca26"
             ],
             [
              1,
              "#f0f921"
             ]
            ],
            "type": "histogram2d"
           }
          ],
          "histogram2dcontour": [
           {
            "colorbar": {
             "outlinewidth": 0,
             "ticks": ""
            },
            "colorscale": [
             [
              0,
              "#0d0887"
             ],
             [
              0.1111111111111111,
              "#46039f"
             ],
             [
              0.2222222222222222,
              "#7201a8"
             ],
             [
              0.3333333333333333,
              "#9c179e"
             ],
             [
              0.4444444444444444,
              "#bd3786"
             ],
             [
              0.5555555555555556,
              "#d8576b"
             ],
             [
              0.6666666666666666,
              "#ed7953"
             ],
             [
              0.7777777777777778,
              "#fb9f3a"
             ],
             [
              0.8888888888888888,
              "#fdca26"
             ],
             [
              1,
              "#f0f921"
             ]
            ],
            "type": "histogram2dcontour"
           }
          ],
          "mesh3d": [
           {
            "colorbar": {
             "outlinewidth": 0,
             "ticks": ""
            },
            "type": "mesh3d"
           }
          ],
          "parcoords": [
           {
            "line": {
             "colorbar": {
              "outlinewidth": 0,
              "ticks": ""
             }
            },
            "type": "parcoords"
           }
          ],
          "pie": [
           {
            "automargin": true,
            "type": "pie"
           }
          ],
          "scatter": [
           {
            "marker": {
             "colorbar": {
              "outlinewidth": 0,
              "ticks": ""
             }
            },
            "type": "scatter"
           }
          ],
          "scatter3d": [
           {
            "line": {
             "colorbar": {
              "outlinewidth": 0,
              "ticks": ""
             }
            },
            "marker": {
             "colorbar": {
              "outlinewidth": 0,
              "ticks": ""
             }
            },
            "type": "scatter3d"
           }
          ],
          "scattercarpet": [
           {
            "marker": {
             "colorbar": {
              "outlinewidth": 0,
              "ticks": ""
             }
            },
            "type": "scattercarpet"
           }
          ],
          "scattergeo": [
           {
            "marker": {
             "colorbar": {
              "outlinewidth": 0,
              "ticks": ""
             }
            },
            "type": "scattergeo"
           }
          ],
          "scattergl": [
           {
            "marker": {
             "colorbar": {
              "outlinewidth": 0,
              "ticks": ""
             }
            },
            "type": "scattergl"
           }
          ],
          "scattermapbox": [
           {
            "marker": {
             "colorbar": {
              "outlinewidth": 0,
              "ticks": ""
             }
            },
            "type": "scattermapbox"
           }
          ],
          "scatterpolar": [
           {
            "marker": {
             "colorbar": {
              "outlinewidth": 0,
              "ticks": ""
             }
            },
            "type": "scatterpolar"
           }
          ],
          "scatterpolargl": [
           {
            "marker": {
             "colorbar": {
              "outlinewidth": 0,
              "ticks": ""
             }
            },
            "type": "scatterpolargl"
           }
          ],
          "scatterternary": [
           {
            "marker": {
             "colorbar": {
              "outlinewidth": 0,
              "ticks": ""
             }
            },
            "type": "scatterternary"
           }
          ],
          "surface": [
           {
            "colorbar": {
             "outlinewidth": 0,
             "ticks": ""
            },
            "colorscale": [
             [
              0,
              "#0d0887"
             ],
             [
              0.1111111111111111,
              "#46039f"
             ],
             [
              0.2222222222222222,
              "#7201a8"
             ],
             [
              0.3333333333333333,
              "#9c179e"
             ],
             [
              0.4444444444444444,
              "#bd3786"
             ],
             [
              0.5555555555555556,
              "#d8576b"
             ],
             [
              0.6666666666666666,
              "#ed7953"
             ],
             [
              0.7777777777777778,
              "#fb9f3a"
             ],
             [
              0.8888888888888888,
              "#fdca26"
             ],
             [
              1,
              "#f0f921"
             ]
            ],
            "type": "surface"
           }
          ],
          "table": [
           {
            "cells": {
             "fill": {
              "color": "#EBF0F8"
             },
             "line": {
              "color": "white"
             }
            },
            "header": {
             "fill": {
              "color": "#C8D4E3"
             },
             "line": {
              "color": "white"
             }
            },
            "type": "table"
           }
          ]
         },
         "layout": {
          "annotationdefaults": {
           "arrowcolor": "#2a3f5f",
           "arrowhead": 0,
           "arrowwidth": 1
          },
          "coloraxis": {
           "colorbar": {
            "outlinewidth": 0,
            "ticks": ""
           }
          },
          "colorscale": {
           "diverging": [
            [
             0,
             "#8e0152"
            ],
            [
             0.1,
             "#c51b7d"
            ],
            [
             0.2,
             "#de77ae"
            ],
            [
             0.3,
             "#f1b6da"
            ],
            [
             0.4,
             "#fde0ef"
            ],
            [
             0.5,
             "#f7f7f7"
            ],
            [
             0.6,
             "#e6f5d0"
            ],
            [
             0.7,
             "#b8e186"
            ],
            [
             0.8,
             "#7fbc41"
            ],
            [
             0.9,
             "#4d9221"
            ],
            [
             1,
             "#276419"
            ]
           ],
           "sequential": [
            [
             0,
             "#0d0887"
            ],
            [
             0.1111111111111111,
             "#46039f"
            ],
            [
             0.2222222222222222,
             "#7201a8"
            ],
            [
             0.3333333333333333,
             "#9c179e"
            ],
            [
             0.4444444444444444,
             "#bd3786"
            ],
            [
             0.5555555555555556,
             "#d8576b"
            ],
            [
             0.6666666666666666,
             "#ed7953"
            ],
            [
             0.7777777777777778,
             "#fb9f3a"
            ],
            [
             0.8888888888888888,
             "#fdca26"
            ],
            [
             1,
             "#f0f921"
            ]
           ],
           "sequentialminus": [
            [
             0,
             "#0d0887"
            ],
            [
             0.1111111111111111,
             "#46039f"
            ],
            [
             0.2222222222222222,
             "#7201a8"
            ],
            [
             0.3333333333333333,
             "#9c179e"
            ],
            [
             0.4444444444444444,
             "#bd3786"
            ],
            [
             0.5555555555555556,
             "#d8576b"
            ],
            [
             0.6666666666666666,
             "#ed7953"
            ],
            [
             0.7777777777777778,
             "#fb9f3a"
            ],
            [
             0.8888888888888888,
             "#fdca26"
            ],
            [
             1,
             "#f0f921"
            ]
           ]
          },
          "colorway": [
           "#636efa",
           "#EF553B",
           "#00cc96",
           "#ab63fa",
           "#FFA15A",
           "#19d3f3",
           "#FF6692",
           "#B6E880",
           "#FF97FF",
           "#FECB52"
          ],
          "font": {
           "color": "#2a3f5f"
          },
          "geo": {
           "bgcolor": "white",
           "lakecolor": "white",
           "landcolor": "#E5ECF6",
           "showlakes": true,
           "showland": true,
           "subunitcolor": "white"
          },
          "hoverlabel": {
           "align": "left"
          },
          "hovermode": "closest",
          "mapbox": {
           "style": "light"
          },
          "paper_bgcolor": "white",
          "plot_bgcolor": "#E5ECF6",
          "polar": {
           "angularaxis": {
            "gridcolor": "white",
            "linecolor": "white",
            "ticks": ""
           },
           "bgcolor": "#E5ECF6",
           "radialaxis": {
            "gridcolor": "white",
            "linecolor": "white",
            "ticks": ""
           }
          },
          "scene": {
           "xaxis": {
            "backgroundcolor": "#E5ECF6",
            "gridcolor": "white",
            "gridwidth": 2,
            "linecolor": "white",
            "showbackground": true,
            "ticks": "",
            "zerolinecolor": "white"
           },
           "yaxis": {
            "backgroundcolor": "#E5ECF6",
            "gridcolor": "white",
            "gridwidth": 2,
            "linecolor": "white",
            "showbackground": true,
            "ticks": "",
            "zerolinecolor": "white"
           },
           "zaxis": {
            "backgroundcolor": "#E5ECF6",
            "gridcolor": "white",
            "gridwidth": 2,
            "linecolor": "white",
            "showbackground": true,
            "ticks": "",
            "zerolinecolor": "white"
           }
          },
          "shapedefaults": {
           "line": {
            "color": "#2a3f5f"
           }
          },
          "ternary": {
           "aaxis": {
            "gridcolor": "white",
            "linecolor": "white",
            "ticks": ""
           },
           "baxis": {
            "gridcolor": "white",
            "linecolor": "white",
            "ticks": ""
           },
           "bgcolor": "#E5ECF6",
           "caxis": {
            "gridcolor": "white",
            "linecolor": "white",
            "ticks": ""
           }
          },
          "title": {
           "x": 0.05
          },
          "xaxis": {
           "automargin": true,
           "gridcolor": "white",
           "linecolor": "white",
           "ticks": "",
           "title": {
            "standoff": 15
           },
           "zerolinecolor": "white",
           "zerolinewidth": 2
          },
          "yaxis": {
           "automargin": true,
           "gridcolor": "white",
           "linecolor": "white",
           "ticks": "",
           "title": {
            "standoff": 15
           },
           "zerolinecolor": "white",
           "zerolinewidth": 2
          }
         }
        }
       }
      },
      "text/html": [
       "<div>\n",
       "        \n",
       "        \n",
       "            <div id=\"36e09230-84c7-4c35-b50b-02236bcd9bee\" class=\"plotly-graph-div\" style=\"height:525px; width:100%;\"></div>\n",
       "            <script type=\"text/javascript\">\n",
       "                require([\"plotly\"], function(Plotly) {\n",
       "                    window.PLOTLYENV=window.PLOTLYENV || {};\n",
       "                    \n",
       "                if (document.getElementById(\"36e09230-84c7-4c35-b50b-02236bcd9bee\")) {\n",
       "                    Plotly.newPlot(\n",
       "                        '36e09230-84c7-4c35-b50b-02236bcd9bee',\n",
       "                        [{\"domain\": {\"x\": [0.0, 1.0], \"y\": [0.0, 1.0]}, \"hovertemplate\": \"Transaction=%{label}<extra></extra>\", \"labels\": [\"Bangalore, India\", \"Bangalore, India\", \"London, UK\", \"London, UK\", \"Bangalore, India\", \"Bangalore, India\", \"Moscow, Russia\", \"Rabat, Morocco\", \"Bangalore, India\", \"Paris,France\", \"Hyderabad, India\", \"Hyderabad, India\", \"Mumbai, India\", \"Hyderabad,India\", \"Hyderabad,India\", \"Hyderabad,India\", \"Budapest, Hungary\", \"Mumbai, India\", \"Hyderabad,India\", \"Hyderabad,India\", \"Mumbai, India\", \"Mumbai, India\", \"Mumbai, India\", \"Mumbai, India\", \"Pune, India\", \"Mumbai, India\", \"Mumbai, India\", \"Mumbai, India\", \"Budapest, Hungary\", \"Mumbai, India\", \"Paris,France\", \"mumbai, India\", \"London, UK\", \"Budapest, Hungary\", \"Budapest, Hungary\", \"Budapest, Hungary\", \"Mumbai, India\", \"Nicosia, Cyprus\", \"Bangalore, India\", \"Mumbai, India\", \"Mumbai, India\", \"Delhi, India\", \"Delhi, India\", \"Paris,France\", \"Delhi, India\", \"NewYork, USA\", \"Nicosia, Cyprus\", \"Delhi, India\", \"NewYork, USA\", \"Delhi, India\", \"Nicosia, Cyprus\", \"Paris, France\", \"Ahmedabad, India\", \"Ahmedabad, India\", \"Bangalore, India\", \"Ahmedabad, India\", \"Paris, France\", \"Paris, France\", \"Ahmedabad, India\", \"Paris,France\", \"Paris,France\", \"Hyderabad, India\", \"Hyderabad, India\", \"Hyderabad, India\", \"Hyderabad, India\", \"Moscow, Russia\", \"Hyderabad, ndia\", \"Pune, India\", \"Mumbai, India\", \"Mumbai, India\", \"Delhi, India\", \"Bangalore, India\", \"Mumbai, India\", \"Pune, India\", \"Delhi, India\", \"Pune, India\", \"Mumbai, India\", \"Bangalore, India\", \"mumbai, India\", \"Mumbai, India\", \"Mumbai, India\", \"Delhi, India\", \"Mumbai, India\", \"Budapest, Hungary\", \"mumbai, India\", \"Delhi, India\", \"Budapest, Hungary\", \"Mumbai, India\", \"Mumbai, India\", \"Mumbai, India\", \"Mumbai, India\", \"Mumbai, India\", \"Mumbai, India\", \"Mumbai, India\", \"mumbai, India\", \"Delhi, India\", \"Delhi, India\", \"Bangalore, India\", \"Bangalore, India\", \"Delhi, India\", \"Delhi, India\", \"Delhi, India\", \"Delhi, India\", \"Delhi, India\", \"Bangalore, India\", \"Delhi, India\"], \"legendgroup\": \"\", \"name\": \"\", \"showlegend\": true, \"type\": \"pie\"}],\n",
       "                        {\"legend\": {\"tracegroupgap\": 0}, \"margin\": {\"t\": 60}, \"template\": {\"data\": {\"bar\": [{\"error_x\": {\"color\": \"#2a3f5f\"}, \"error_y\": {\"color\": \"#2a3f5f\"}, \"marker\": {\"line\": {\"color\": \"#E5ECF6\", \"width\": 0.5}}, \"type\": \"bar\"}], \"barpolar\": [{\"marker\": {\"line\": {\"color\": \"#E5ECF6\", \"width\": 0.5}}, \"type\": \"barpolar\"}], \"carpet\": [{\"aaxis\": {\"endlinecolor\": \"#2a3f5f\", \"gridcolor\": \"white\", \"linecolor\": \"white\", \"minorgridcolor\": \"white\", \"startlinecolor\": \"#2a3f5f\"}, \"baxis\": {\"endlinecolor\": \"#2a3f5f\", \"gridcolor\": \"white\", \"linecolor\": \"white\", \"minorgridcolor\": \"white\", \"startlinecolor\": \"#2a3f5f\"}, \"type\": \"carpet\"}], \"choropleth\": [{\"colorbar\": {\"outlinewidth\": 0, \"ticks\": \"\"}, \"type\": \"choropleth\"}], \"contour\": [{\"colorbar\": {\"outlinewidth\": 0, \"ticks\": \"\"}, \"colorscale\": [[0.0, \"#0d0887\"], [0.1111111111111111, \"#46039f\"], [0.2222222222222222, \"#7201a8\"], [0.3333333333333333, \"#9c179e\"], [0.4444444444444444, \"#bd3786\"], [0.5555555555555556, \"#d8576b\"], [0.6666666666666666, \"#ed7953\"], [0.7777777777777778, \"#fb9f3a\"], [0.8888888888888888, \"#fdca26\"], [1.0, \"#f0f921\"]], \"type\": \"contour\"}], \"contourcarpet\": [{\"colorbar\": {\"outlinewidth\": 0, \"ticks\": \"\"}, \"type\": \"contourcarpet\"}], \"heatmap\": [{\"colorbar\": {\"outlinewidth\": 0, \"ticks\": \"\"}, \"colorscale\": [[0.0, \"#0d0887\"], [0.1111111111111111, \"#46039f\"], [0.2222222222222222, \"#7201a8\"], [0.3333333333333333, \"#9c179e\"], [0.4444444444444444, \"#bd3786\"], [0.5555555555555556, \"#d8576b\"], [0.6666666666666666, \"#ed7953\"], [0.7777777777777778, \"#fb9f3a\"], [0.8888888888888888, \"#fdca26\"], [1.0, \"#f0f921\"]], \"type\": \"heatmap\"}], \"heatmapgl\": [{\"colorbar\": {\"outlinewidth\": 0, \"ticks\": \"\"}, \"colorscale\": [[0.0, \"#0d0887\"], [0.1111111111111111, \"#46039f\"], [0.2222222222222222, \"#7201a8\"], [0.3333333333333333, \"#9c179e\"], [0.4444444444444444, \"#bd3786\"], [0.5555555555555556, \"#d8576b\"], [0.6666666666666666, \"#ed7953\"], [0.7777777777777778, \"#fb9f3a\"], [0.8888888888888888, \"#fdca26\"], [1.0, \"#f0f921\"]], \"type\": \"heatmapgl\"}], \"histogram\": [{\"marker\": {\"colorbar\": {\"outlinewidth\": 0, \"ticks\": \"\"}}, \"type\": \"histogram\"}], \"histogram2d\": [{\"colorbar\": {\"outlinewidth\": 0, \"ticks\": \"\"}, \"colorscale\": [[0.0, \"#0d0887\"], [0.1111111111111111, \"#46039f\"], [0.2222222222222222, \"#7201a8\"], [0.3333333333333333, \"#9c179e\"], [0.4444444444444444, \"#bd3786\"], [0.5555555555555556, \"#d8576b\"], [0.6666666666666666, \"#ed7953\"], [0.7777777777777778, \"#fb9f3a\"], [0.8888888888888888, \"#fdca26\"], [1.0, \"#f0f921\"]], \"type\": \"histogram2d\"}], \"histogram2dcontour\": [{\"colorbar\": {\"outlinewidth\": 0, \"ticks\": \"\"}, \"colorscale\": [[0.0, \"#0d0887\"], [0.1111111111111111, \"#46039f\"], [0.2222222222222222, \"#7201a8\"], [0.3333333333333333, \"#9c179e\"], [0.4444444444444444, \"#bd3786\"], [0.5555555555555556, \"#d8576b\"], [0.6666666666666666, \"#ed7953\"], [0.7777777777777778, \"#fb9f3a\"], [0.8888888888888888, \"#fdca26\"], [1.0, \"#f0f921\"]], \"type\": \"histogram2dcontour\"}], \"mesh3d\": [{\"colorbar\": {\"outlinewidth\": 0, \"ticks\": \"\"}, \"type\": \"mesh3d\"}], \"parcoords\": [{\"line\": {\"colorbar\": {\"outlinewidth\": 0, \"ticks\": \"\"}}, \"type\": \"parcoords\"}], \"pie\": [{\"automargin\": true, \"type\": \"pie\"}], \"scatter\": [{\"marker\": {\"colorbar\": {\"outlinewidth\": 0, \"ticks\": \"\"}}, \"type\": \"scatter\"}], \"scatter3d\": [{\"line\": {\"colorbar\": {\"outlinewidth\": 0, \"ticks\": \"\"}}, \"marker\": {\"colorbar\": {\"outlinewidth\": 0, \"ticks\": \"\"}}, \"type\": \"scatter3d\"}], \"scattercarpet\": [{\"marker\": {\"colorbar\": {\"outlinewidth\": 0, \"ticks\": \"\"}}, \"type\": \"scattercarpet\"}], \"scattergeo\": [{\"marker\": {\"colorbar\": {\"outlinewidth\": 0, \"ticks\": \"\"}}, \"type\": \"scattergeo\"}], \"scattergl\": [{\"marker\": {\"colorbar\": {\"outlinewidth\": 0, \"ticks\": \"\"}}, \"type\": \"scattergl\"}], \"scattermapbox\": [{\"marker\": {\"colorbar\": {\"outlinewidth\": 0, \"ticks\": \"\"}}, \"type\": \"scattermapbox\"}], \"scatterpolar\": [{\"marker\": {\"colorbar\": {\"outlinewidth\": 0, \"ticks\": \"\"}}, \"type\": \"scatterpolar\"}], \"scatterpolargl\": [{\"marker\": {\"colorbar\": {\"outlinewidth\": 0, \"ticks\": \"\"}}, \"type\": \"scatterpolargl\"}], \"scatterternary\": [{\"marker\": {\"colorbar\": {\"outlinewidth\": 0, \"ticks\": \"\"}}, \"type\": \"scatterternary\"}], \"surface\": [{\"colorbar\": {\"outlinewidth\": 0, \"ticks\": \"\"}, \"colorscale\": [[0.0, \"#0d0887\"], [0.1111111111111111, \"#46039f\"], [0.2222222222222222, \"#7201a8\"], [0.3333333333333333, \"#9c179e\"], [0.4444444444444444, \"#bd3786\"], [0.5555555555555556, \"#d8576b\"], [0.6666666666666666, \"#ed7953\"], [0.7777777777777778, \"#fb9f3a\"], [0.8888888888888888, \"#fdca26\"], [1.0, \"#f0f921\"]], \"type\": \"surface\"}], \"table\": [{\"cells\": {\"fill\": {\"color\": \"#EBF0F8\"}, \"line\": {\"color\": \"white\"}}, \"header\": {\"fill\": {\"color\": \"#C8D4E3\"}, \"line\": {\"color\": \"white\"}}, \"type\": \"table\"}]}, \"layout\": {\"annotationdefaults\": {\"arrowcolor\": \"#2a3f5f\", \"arrowhead\": 0, \"arrowwidth\": 1}, \"coloraxis\": {\"colorbar\": {\"outlinewidth\": 0, \"ticks\": \"\"}}, \"colorscale\": {\"diverging\": [[0, \"#8e0152\"], [0.1, \"#c51b7d\"], [0.2, \"#de77ae\"], [0.3, \"#f1b6da\"], [0.4, \"#fde0ef\"], [0.5, \"#f7f7f7\"], [0.6, \"#e6f5d0\"], [0.7, \"#b8e186\"], [0.8, \"#7fbc41\"], [0.9, \"#4d9221\"], [1, \"#276419\"]], \"sequential\": [[0.0, \"#0d0887\"], [0.1111111111111111, \"#46039f\"], [0.2222222222222222, \"#7201a8\"], [0.3333333333333333, \"#9c179e\"], [0.4444444444444444, \"#bd3786\"], [0.5555555555555556, \"#d8576b\"], [0.6666666666666666, \"#ed7953\"], [0.7777777777777778, \"#fb9f3a\"], [0.8888888888888888, \"#fdca26\"], [1.0, \"#f0f921\"]], \"sequentialminus\": [[0.0, \"#0d0887\"], [0.1111111111111111, \"#46039f\"], [0.2222222222222222, \"#7201a8\"], [0.3333333333333333, \"#9c179e\"], [0.4444444444444444, \"#bd3786\"], [0.5555555555555556, \"#d8576b\"], [0.6666666666666666, \"#ed7953\"], [0.7777777777777778, \"#fb9f3a\"], [0.8888888888888888, \"#fdca26\"], [1.0, \"#f0f921\"]]}, \"colorway\": [\"#636efa\", \"#EF553B\", \"#00cc96\", \"#ab63fa\", \"#FFA15A\", \"#19d3f3\", \"#FF6692\", \"#B6E880\", \"#FF97FF\", \"#FECB52\"], \"font\": {\"color\": \"#2a3f5f\"}, \"geo\": {\"bgcolor\": \"white\", \"lakecolor\": \"white\", \"landcolor\": \"#E5ECF6\", \"showlakes\": true, \"showland\": true, \"subunitcolor\": \"white\"}, \"hoverlabel\": {\"align\": \"left\"}, \"hovermode\": \"closest\", \"mapbox\": {\"style\": \"light\"}, \"paper_bgcolor\": \"white\", \"plot_bgcolor\": \"#E5ECF6\", \"polar\": {\"angularaxis\": {\"gridcolor\": \"white\", \"linecolor\": \"white\", \"ticks\": \"\"}, \"bgcolor\": \"#E5ECF6\", \"radialaxis\": {\"gridcolor\": \"white\", \"linecolor\": \"white\", \"ticks\": \"\"}}, \"scene\": {\"xaxis\": {\"backgroundcolor\": \"#E5ECF6\", \"gridcolor\": \"white\", \"gridwidth\": 2, \"linecolor\": \"white\", \"showbackground\": true, \"ticks\": \"\", \"zerolinecolor\": \"white\"}, \"yaxis\": {\"backgroundcolor\": \"#E5ECF6\", \"gridcolor\": \"white\", \"gridwidth\": 2, \"linecolor\": \"white\", \"showbackground\": true, \"ticks\": \"\", \"zerolinecolor\": \"white\"}, \"zaxis\": {\"backgroundcolor\": \"#E5ECF6\", \"gridcolor\": \"white\", \"gridwidth\": 2, \"linecolor\": \"white\", \"showbackground\": true, \"ticks\": \"\", \"zerolinecolor\": \"white\"}}, \"shapedefaults\": {\"line\": {\"color\": \"#2a3f5f\"}}, \"ternary\": {\"aaxis\": {\"gridcolor\": \"white\", \"linecolor\": \"white\", \"ticks\": \"\"}, \"baxis\": {\"gridcolor\": \"white\", \"linecolor\": \"white\", \"ticks\": \"\"}, \"bgcolor\": \"#E5ECF6\", \"caxis\": {\"gridcolor\": \"white\", \"linecolor\": \"white\", \"ticks\": \"\"}}, \"title\": {\"x\": 0.05}, \"xaxis\": {\"automargin\": true, \"gridcolor\": \"white\", \"linecolor\": \"white\", \"ticks\": \"\", \"title\": {\"standoff\": 15}, \"zerolinecolor\": \"white\", \"zerolinewidth\": 2}, \"yaxis\": {\"automargin\": true, \"gridcolor\": \"white\", \"linecolor\": \"white\", \"ticks\": \"\", \"title\": {\"standoff\": 15}, \"zerolinecolor\": \"white\", \"zerolinewidth\": 2}}}},\n",
       "                        {\"responsive\": true}\n",
       "                    ).then(function(){\n",
       "                            \n",
       "var gd = document.getElementById('36e09230-84c7-4c35-b50b-02236bcd9bee');\n",
       "var x = new MutationObserver(function (mutations, observer) {{\n",
       "        var display = window.getComputedStyle(gd).display;\n",
       "        if (!display || display === 'none') {{\n",
       "            console.log([gd, 'removed!']);\n",
       "            Plotly.purge(gd);\n",
       "            observer.disconnect();\n",
       "        }}\n",
       "}});\n",
       "\n",
       "// Listen for the removal of the full notebook cells\n",
       "var notebookContainer = gd.closest('#notebook-container');\n",
       "if (notebookContainer) {{\n",
       "    x.observe(notebookContainer, {childList: true});\n",
       "}}\n",
       "\n",
       "// Listen for the clearing of the current output cell\n",
       "var outputEl = gd.closest('.output');\n",
       "if (outputEl) {{\n",
       "    x.observe(outputEl, {childList: true});\n",
       "}}\n",
       "\n",
       "                        })\n",
       "                };\n",
       "                });\n",
       "            </script>\n",
       "        </div>"
      ]
     },
     "metadata": {},
     "output_type": "display_data"
    }
   ],
   "source": [
    "# P - Pie \n",
    "\n",
    "x = DB['Transaction']   # Run through all variables on by one\n",
    "\n",
    "import plotly.express as px\n",
    "fig = px.pie(DB,x)\n",
    "fig.show()"
   ]
  },
  {
   "cell_type": "code",
   "execution_count": 28,
   "metadata": {},
   "outputs": [
    {
     "data": {
      "image/png": "[encoded data removed]",
      "text/plain": [
       "<Figure size 1080x216 with 1 Axes>"
      ]
     },
     "metadata": {
      "needs_background": "light"
     },
     "output_type": "display_data"
    }
   ],
   "source": [
    "# M - Box\n",
    "\n",
    "\n",
    "fig, ax = plt.subplots(figsize=(15,3))\n",
    "ax.boxplot(DB['Amount'],vert=False)\n",
    "plt.show()"
   ]
  },
  {
   "cell_type": "code",
   "execution_count": 32,
   "metadata": {},
   "outputs": [
    {
     "data": {
      "image/png": "[encoded data removed]",
      "text/plain": [
       "<Figure size 1080x216 with 1 Axes>"
      ]
     },
     "metadata": {
      "needs_background": "light"
     },
     "output_type": "display_data"
    }
   ],
   "source": [
    "# S - Box\n",
    "\n",
    "import seaborn as sns\n",
    "import matplotlib.pyplot as plt\n",
    "fig, ax = plt.subplots(figsize=(15,3))\n",
    "sns.boxplot('Amount', data=DB)\n",
    "plt.show()"
   ]
  },
  {
   "cell_type": "code",
   "execution_count": 35,
   "metadata": {
    "scrolled": false
   },
   "outputs": [
    {
     "data": {
      "application/vnd.plotly.v1+json": {
       "config": {
        "plotlyServerURL": "https://plot.ly"
       },
       "data": [
        {
         "alignmentgroup": "True",
         "hovertemplate": "Date=26<br>Amount=%{y}<extra></extra>",
         "legendgroup": "",
         "marker": {
          "color": "#636efa"
         },
         "name": "",
         "notched": false,
         "offsetgroup": "",
         "orientation": "v",
         "showlegend": false,
         "type": "box",
         "x0": " ",
         "xaxis": "x",
         "y": [
          25000,
          543,
          5000,
          132
         ],
         "y0": " ",
         "yaxis": "y"
        }
       ],
       "frames": [
        {
         "data": [
          {
           "alignmentgroup": "True",
           "hovertemplate": "Date=26<br>Amount=%{y}<extra></extra>",
           "legendgroup": "",
           "marker": {
            "color": "#636efa"
           },
           "name": "",
           "notched": false,
           "offsetgroup": "",
           "orientation": "v",
           "showlegend": false,
           "type": "box",
           "x0": " ",
           "xaxis": "x",
           "y": [
            25000,
            543,
            5000,
            132
           ],
           "y0": " ",
           "yaxis": "y"
          }
         ],
         "name": "26"
        },
        {
         "data": [
          {
           "alignmentgroup": "True",
           "hovertemplate": "Date=20<br>Amount=%{y}<extra></extra>",
           "legendgroup": "",
           "marker": {
            "color": "#636efa"
           },
           "name": "",
           "notched": false,
           "offsetgroup": "",
           "orientation": "v",
           "showlegend": false,
           "type": "box",
           "x0": " ",
           "xaxis": "x",
           "y": [
            300,
            15000,
            9056,
            345,
            23467,
            670,
            130000
           ],
           "y0": " ",
           "yaxis": "y"
          }
         ],
         "name": "20"
        },
        {
         "data": [
          {
           "alignmentgroup": "True",
           "hovertemplate": "Date=15<br>Amount=%{y}<extra></extra>",
           "legendgroup": "",
           "marker": {
            "color": "#636efa"
           },
           "name": "",
           "notched": false,
           "offsetgroup": "",
           "orientation": "v",
           "showlegend": false,
           "type": "box",
           "x0": " ",
           "xaxis": "x",
           "y": [
            45000,
            11000,
            10543,
            120,
            1356
           ],
           "y0": " ",
           "yaxis": "y"
          }
         ],
         "name": "15"
        },
        {
         "data": [
          {
           "alignmentgroup": "True",
           "hovertemplate": "Date=17<br>Amount=%{y}<extra></extra>",
           "legendgroup": "",
           "marker": {
            "color": "#636efa"
           },
           "name": "",
           "notched": false,
           "offsetgroup": "",
           "orientation": "v",
           "showlegend": false,
           "type": "box",
           "x0": " ",
           "xaxis": "x",
           "y": [
            670,
            4000,
            112,
            45000,
            4543
           ],
           "y0": " ",
           "yaxis": "y"
          }
         ],
         "name": "17"
        },
        {
         "data": [
          {
           "alignmentgroup": "True",
           "hovertemplate": "Date=7<br>Amount=%{y}<extra></extra>",
           "legendgroup": "",
           "marker": {
            "color": "#636efa"
           },
           "name": "",
           "notched": false,
           "offsetgroup": "",
           "orientation": "v",
           "showlegend": false,
           "type": "box",
           "x0": " ",
           "xaxis": "x",
           "y": [
            4543,
            1356,
            987,
            132,
            1340
           ],
           "y0": " ",
           "yaxis": "y"
          }
         ],
         "name": "7"
        },
        {
         "data": [
          {
           "alignmentgroup": "True",
           "hovertemplate": "Date=21<br>Amount=%{y}<extra></extra>",
           "legendgroup": "",
           "marker": {
            "color": "#636efa"
           },
           "name": "",
           "notched": false,
           "offsetgroup": "",
           "orientation": "v",
           "showlegend": false,
           "type": "box",
           "x0": " ",
           "xaxis": "x",
           "y": [
            11000,
            4000,
            75000,
            25000,
            300
           ],
           "y0": " ",
           "yaxis": "y"
          }
         ],
         "name": "21"
        },
        {
         "data": [
          {
           "alignmentgroup": "True",
           "hovertemplate": "Date=24<br>Amount=%{y}<extra></extra>",
           "legendgroup": "",
           "marker": {
            "color": "#636efa"
           },
           "name": "",
           "notched": false,
           "offsetgroup": "",
           "orientation": "v",
           "showlegend": false,
           "type": "box",
           "x0": " ",
           "xaxis": "x",
           "y": [
            130000
           ],
           "y0": " ",
           "yaxis": "y"
          }
         ],
         "name": "24"
        },
        {
         "data": [
          {
           "alignmentgroup": "True",
           "hovertemplate": "Date=4<br>Amount=%{y}<extra></extra>",
           "legendgroup": "",
           "marker": {
            "color": "#636efa"
           },
           "name": "",
           "notched": false,
           "offsetgroup": "",
           "orientation": "v",
           "showlegend": false,
           "type": "box",
           "x0": " ",
           "xaxis": "x",
           "y": [
            132,
            1987,
            24000,
            1200,
            25000
           ],
           "y0": " ",
           "yaxis": "y"
          }
         ],
         "name": "4"
        },
        {
         "data": [
          {
           "alignmentgroup": "True",
           "hovertemplate": "Date=31<br>Amount=%{y}<extra></extra>",
           "legendgroup": "",
           "marker": {
            "color": "#636efa"
           },
           "name": "",
           "notched": false,
           "offsetgroup": "",
           "orientation": "v",
           "showlegend": false,
           "type": "box",
           "x0": " ",
           "xaxis": "x",
           "y": [
            1200,
            1200,
            140
           ],
           "y0": " ",
           "yaxis": "y"
          }
         ],
         "name": "31"
        },
        {
         "data": [
          {
           "alignmentgroup": "True",
           "hovertemplate": "Date=27<br>Amount=%{y}<extra></extra>",
           "legendgroup": "",
           "marker": {
            "color": "#636efa"
           },
           "name": "",
           "notched": false,
           "offsetgroup": "",
           "orientation": "v",
           "showlegend": false,
           "type": "box",
           "x0": " ",
           "xaxis": "x",
           "y": [
            1340,
            140,
            1000
           ],
           "y0": " ",
           "yaxis": "y"
          }
         ],
         "name": "27"
        },
        {
         "data": [
          {
           "alignmentgroup": "True",
           "hovertemplate": "Date=13<br>Amount=%{y}<extra></extra>",
           "legendgroup": "",
           "marker": {
            "color": "#636efa"
           },
           "name": "",
           "notched": false,
           "offsetgroup": "",
           "orientation": "v",
           "showlegend": false,
           "type": "box",
           "x0": " ",
           "xaxis": "x",
           "y": [
            50000,
            112,
            800
           ],
           "y0": " ",
           "yaxis": "y"
          }
         ],
         "name": "13"
        },
        {
         "data": [
          {
           "alignmentgroup": "True",
           "hovertemplate": "Date=1<br>Amount=%{y}<extra></extra>",
           "legendgroup": "",
           "marker": {
            "color": "#636efa"
           },
           "name": "",
           "notched": false,
           "offsetgroup": "",
           "orientation": "v",
           "showlegend": false,
           "type": "box",
           "x0": " ",
           "xaxis": "x",
           "y": [
            994,
            1340,
            50,
            10000,
            11000
           ],
           "y0": " ",
           "yaxis": "y"
          }
         ],
         "name": "1"
        },
        {
         "data": [
          {
           "alignmentgroup": "True",
           "hovertemplate": "Date=19<br>Amount=%{y}<extra></extra>",
           "legendgroup": "",
           "marker": {
            "color": "#636efa"
           },
           "name": "",
           "notched": false,
           "offsetgroup": "",
           "orientation": "v",
           "showlegend": false,
           "type": "box",
           "x0": " ",
           "xaxis": "x",
           "y": [
            800,
            175600,
            23467,
            4543,
            11000,
            1200,
            1200
           ],
           "y0": " ",
           "yaxis": "y"
          }
         ],
         "name": "19"
        },
        {
         "data": [
          {
           "alignmentgroup": "True",
           "hovertemplate": "Date=25<br>Amount=%{y}<extra></extra>",
           "legendgroup": "",
           "marker": {
            "color": "#636efa"
           },
           "name": "",
           "notched": false,
           "offsetgroup": "",
           "orientation": "v",
           "showlegend": false,
           "type": "box",
           "x0": " ",
           "xaxis": "x",
           "y": [
            50,
            5000,
            75000,
            1200
           ],
           "y0": " ",
           "yaxis": "y"
          }
         ],
         "name": "25"
        },
        {
         "data": [
          {
           "alignmentgroup": "True",
           "hovertemplate": "Date=11<br>Amount=%{y}<extra></extra>",
           "legendgroup": "",
           "marker": {
            "color": "#636efa"
           },
           "name": "",
           "notched": false,
           "offsetgroup": "",
           "orientation": "v",
           "showlegend": false,
           "type": "box",
           "x0": " ",
           "xaxis": "x",
           "y": [
            120,
            12000,
            907
           ],
           "y0": " ",
           "yaxis": "y"
          }
         ],
         "name": "11"
        },
        {
         "data": [
          {
           "alignmentgroup": "True",
           "hovertemplate": "Date=2<br>Amount=%{y}<extra></extra>",
           "legendgroup": "",
           "marker": {
            "color": "#636efa"
           },
           "name": "",
           "notched": false,
           "offsetgroup": "",
           "orientation": "v",
           "showlegend": false,
           "type": "box",
           "x0": " ",
           "xaxis": "x",
           "y": [
            140,
            8954,
            24000
           ],
           "y0": " ",
           "yaxis": "y"
          }
         ],
         "name": "2"
        },
        {
         "data": [
          {
           "alignmentgroup": "True",
           "hovertemplate": "Date=23<br>Amount=%{y}<extra></extra>",
           "legendgroup": "",
           "marker": {
            "color": "#636efa"
           },
           "name": "",
           "notched": false,
           "offsetgroup": "",
           "orientation": "v",
           "showlegend": false,
           "type": "box",
           "x0": " ",
           "xaxis": "x",
           "y": [
            1200
           ],
           "y0": " ",
           "yaxis": "y"
          }
         ],
         "name": "23"
        },
        {
         "data": [
          {
           "alignmentgroup": "True",
           "hovertemplate": "Date=8<br>Amount=%{y}<extra></extra>",
           "legendgroup": "",
           "marker": {
            "color": "#636efa"
           },
           "name": "",
           "notched": false,
           "offsetgroup": "",
           "orientation": "v",
           "showlegend": false,
           "type": "box",
           "x0": " ",
           "xaxis": "x",
           "y": [
            1200,
            50000,
            150000
           ],
           "y0": " ",
           "yaxis": "y"
          }
         ],
         "name": "8"
        },
        {
         "data": [
          {
           "alignmentgroup": "True",
           "hovertemplate": "Date=30<br>Amount=%{y}<extra></extra>",
           "legendgroup": "",
           "marker": {
            "color": "#636efa"
           },
           "name": "",
           "notched": false,
           "offsetgroup": "",
           "orientation": "v",
           "showlegend": false,
           "type": "box",
           "x0": " ",
           "xaxis": "x",
           "y": [
            4509,
            10543,
            987
           ],
           "y0": " ",
           "yaxis": "y"
          }
         ],
         "name": "30"
        },
        {
         "data": [
          {
           "alignmentgroup": "True",
           "hovertemplate": "Date=29<br>Amount=%{y}<extra></extra>",
           "legendgroup": "",
           "marker": {
            "color": "#636efa"
           },
           "name": "",
           "notched": false,
           "offsetgroup": "",
           "orientation": "v",
           "showlegend": false,
           "type": "box",
           "x0": " ",
           "xaxis": "x",
           "y": [
            9875,
            4000
           ],
           "y0": " ",
           "yaxis": "y"
          }
         ],
         "name": "29"
        },
        {
         "data": [
          {
           "alignmentgroup": "True",
           "hovertemplate": "Date=16<br>Amount=%{y}<extra></extra>",
           "legendgroup": "",
           "marker": {
            "color": "#636efa"
           },
           "name": "",
           "notched": false,
           "offsetgroup": "",
           "orientation": "v",
           "showlegend": false,
           "type": "box",
           "x0": " ",
           "xaxis": "x",
           "y": [
            12567,
            150000,
            45000,
            45000,
            15000,
            5000
           ],
           "y0": " ",
           "yaxis": "y"
          }
         ],
         "name": "16"
        },
        {
         "data": [
          {
           "alignmentgroup": "True",
           "hovertemplate": "Date=12<br>Amount=%{y}<extra></extra>",
           "legendgroup": "",
           "marker": {
            "color": "#636efa"
           },
           "name": "",
           "notched": false,
           "offsetgroup": "",
           "orientation": "v",
           "showlegend": false,
           "type": "box",
           "x0": " ",
           "xaxis": "x",
           "y": [
            907,
            543
           ],
           "y0": " ",
           "yaxis": "y"
          }
         ],
         "name": "12"
        },
        {
         "data": [
          {
           "alignmentgroup": "True",
           "hovertemplate": "Date=5<br>Amount=%{y}<extra></extra>",
           "legendgroup": "",
           "marker": {
            "color": "#636efa"
           },
           "name": "",
           "notched": false,
           "offsetgroup": "",
           "orientation": "v",
           "showlegend": false,
           "type": "box",
           "x0": " ",
           "xaxis": "x",
           "y": [
            345,
            12000,
            300
           ],
           "y0": " ",
           "yaxis": "y"
          }
         ],
         "name": "5"
        },
        {
         "data": [
          {
           "alignmentgroup": "True",
           "hovertemplate": "Date=9<br>Amount=%{y}<extra></extra>",
           "legendgroup": "",
           "marker": {
            "color": "#636efa"
           },
           "name": "",
           "notched": false,
           "offsetgroup": "",
           "orientation": "v",
           "showlegend": false,
           "type": "box",
           "x0": " ",
           "xaxis": "x",
           "y": [
            12000,
            9875,
            12567
           ],
           "y0": " ",
           "yaxis": "y"
          }
         ],
         "name": "9"
        },
        {
         "data": [
          {
           "alignmentgroup": "True",
           "hovertemplate": "Date=14<br>Amount=%{y}<extra></extra>",
           "legendgroup": "",
           "marker": {
            "color": "#636efa"
           },
           "name": "",
           "notched": false,
           "offsetgroup": "",
           "orientation": "v",
           "showlegend": false,
           "type": "box",
           "x0": " ",
           "xaxis": "x",
           "y": [
            890,
            10000,
            670,
            1356,
            4509
           ],
           "y0": " ",
           "yaxis": "y"
          }
         ],
         "name": "14"
        },
        {
         "data": [
          {
           "alignmentgroup": "True",
           "hovertemplate": "Date=6<br>Amount=%{y}<extra></extra>",
           "legendgroup": "",
           "marker": {
            "color": "#636efa"
           },
           "name": "",
           "notched": false,
           "offsetgroup": "",
           "orientation": "v",
           "showlegend": false,
           "type": "box",
           "x0": " ",
           "xaxis": "x",
           "y": [
            567,
            130000,
            1987
           ],
           "y0": " ",
           "yaxis": "y"
          }
         ],
         "name": "6"
        },
        {
         "data": [
          {
           "alignmentgroup": "True",
           "hovertemplate": "Date=3<br>Amount=%{y}<extra></extra>",
           "legendgroup": "",
           "marker": {
            "color": "#636efa"
           },
           "name": "",
           "notched": false,
           "offsetgroup": "",
           "orientation": "v",
           "showlegend": false,
           "type": "box",
           "x0": " ",
           "xaxis": "x",
           "y": [
            1000,
            11000
           ],
           "y0": " ",
           "yaxis": "y"
          }
         ],
         "name": "3"
        },
        {
         "data": [
          {
           "alignmentgroup": "True",
           "hovertemplate": "Date=10<br>Amount=%{y}<extra></extra>",
           "legendgroup": "",
           "marker": {
            "color": "#636efa"
           },
           "name": "",
           "notched": false,
           "offsetgroup": "",
           "orientation": "v",
           "showlegend": false,
           "type": "box",
           "x0": " ",
           "xaxis": "x",
           "y": [
            994,
            140,
            4000,
            45000
           ],
           "y0": " ",
           "yaxis": "y"
          }
         ],
         "name": "10"
        },
        {
         "data": [
          {
           "alignmentgroup": "True",
           "hovertemplate": "Date=22<br>Amount=%{y}<extra></extra>",
           "legendgroup": "",
           "marker": {
            "color": "#636efa"
           },
           "name": "",
           "notched": false,
           "offsetgroup": "",
           "orientation": "v",
           "showlegend": false,
           "type": "box",
           "x0": " ",
           "xaxis": "x",
           "y": [
            1200
           ],
           "y0": " ",
           "yaxis": "y"
          }
         ],
         "name": "22"
        }
       ],
       "layout": {
        "boxmode": "group",
        "legend": {
         "tracegroupgap": 0
        },
        "margin": {
         "t": 60
        },
        "sliders": [
         {
          "active": 0,
          "currentvalue": {
           "prefix": "Date="
          },
          "len": 0.9,
          "pad": {
           "b": 10,
           "t": 60
          },
          "steps": [
           {
            "args": [
             [
              "26"
             ],
             {
              "frame": {
               "duration": 0,
               "redraw": true
              },
              "fromcurrent": true,
              "mode": "immediate",
              "transition": {
               "duration": 0,
               "easing": "linear"
              }
             }
            ],
            "label": "26",
            "method": "animate"
           },
           {
            "args": [
             [
              "20"
             ],
             {
              "frame": {
               "duration": 0,
               "redraw": true
              },
              "fromcurrent": true,
              "mode": "immediate",
              "transition": {
               "duration": 0,
               "easing": "linear"
              }
             }
            ],
            "label": "20",
            "method": "animate"
           },
           {
            "args": [
             [
              "15"
             ],
             {
              "frame": {
               "duration": 0,
               "redraw": true
              },
              "fromcurrent": true,
              "mode": "immediate",
              "transition": {
               "duration": 0,
               "easing": "linear"
              }
             }
            ],
            "label": "15",
            "method": "animate"
           },
           {
            "args": [
             [
              "17"
             ],
             {
              "frame": {
               "duration": 0,
               "redraw": true
              },
              "fromcurrent": true,
              "mode": "immediate",
              "transition": {
               "duration": 0,
               "easing": "linear"
              }
             }
            ],
            "label": "17",
            "method": "animate"
           },
           {
            "args": [
             [
              "7"
             ],
             {
              "frame": {
               "duration": 0,
               "redraw": true
              },
              "fromcurrent": true,
              "mode": "immediate",
              "transition": {
               "duration": 0,
               "easing": "linear"
              }
             }
            ],
            "label": "7",
            "method": "animate"
           },
           {
            "args": [
             [
              "21"
             ],
             {
              "frame": {
               "duration": 0,
               "redraw": true
              },
              "fromcurrent": true,
              "mode": "immediate",
              "transition": {
               "duration": 0,
               "easing": "linear"
              }
             }
            ],
            "label": "21",
            "method": "animate"
           },
           {
            "args": [
             [
              "24"
             ],
             {
              "frame": {
               "duration": 0,
               "redraw": true
              },
              "fromcurrent": true,
              "mode": "immediate",
              "transition": {
               "duration": 0,
               "easing": "linear"
              }
             }
            ],
            "label": "24",
            "method": "animate"
           },
           {
            "args": [
             [
              "4"
             ],
             {
              "frame": {
               "duration": 0,
               "redraw": true
              },
              "fromcurrent": true,
              "mode": "immediate",
              "transition": {
               "duration": 0,
               "easing": "linear"
              }
             }
            ],
            "label": "4",
            "method": "animate"
           },
           {
            "args": [
             [
              "31"
             ],
             {
              "frame": {
               "duration": 0,
               "redraw": true
              },
              "fromcurrent": true,
              "mode": "immediate",
              "transition": {
               "duration": 0,
               "easing": "linear"
              }
             }
            ],
            "label": "31",
            "method": "animate"
           },
           {
            "args": [
             [
              "27"
             ],
             {
              "frame": {
               "duration": 0,
               "redraw": true
              },
              "fromcurrent": true,
              "mode": "immediate",
              "transition": {
               "duration": 0,
               "easing": "linear"
              }
             }
            ],
            "label": "27",
            "method": "animate"
           },
           {
            "args": [
             [
              "13"
             ],
             {
              "frame": {
               "duration": 0,
               "redraw": true
              },
              "fromcurrent": true,
              "mode": "immediate",
              "transition": {
               "duration": 0,
               "easing": "linear"
              }
             }
            ],
            "label": "13",
            "method": "animate"
           },
           {
            "args": [
             [
              "1"
             ],
             {
              "frame": {
               "duration": 0,
               "redraw": true
              },
              "fromcurrent": true,
              "mode": "immediate",
              "transition": {
               "duration": 0,
               "easing": "linear"
              }
             }
            ],
            "label": "1",
            "method": "animate"
           },
           {
            "args": [
             [
              "19"
             ],
             {
              "frame": {
               "duration": 0,
               "redraw": true
              },
              "fromcurrent": true,
              "mode": "immediate",
              "transition": {
               "duration": 0,
               "easing": "linear"
              }
             }
            ],
            "label": "19",
            "method": "animate"
           },
           {
            "args": [
             [
              "25"
             ],
             {
              "frame": {
               "duration": 0,
               "redraw": true
              },
              "fromcurrent": true,
              "mode": "immediate",
              "transition": {
               "duration": 0,
               "easing": "linear"
              }
             }
            ],
            "label": "25",
            "method": "animate"
           },
           {
            "args": [
             [
              "11"
             ],
             {
              "frame": {
               "duration": 0,
               "redraw": true
              },
              "fromcurrent": true,
              "mode": "immediate",
              "transition": {
               "duration": 0,
               "easing": "linear"
              }
             }
            ],
            "label": "11",
            "method": "animate"
           },
           {
            "args": [
             [
              "2"
             ],
             {
              "frame": {
               "duration": 0,
               "redraw": true
              },
              "fromcurrent": true,
              "mode": "immediate",
              "transition": {
               "duration": 0,
               "easing": "linear"
              }
             }
            ],
            "label": "2",
            "method": "animate"
           },
           {
            "args": [
             [
              "23"
             ],
             {
              "frame": {
               "duration": 0,
               "redraw": true
              },
              "fromcurrent": true,
              "mode": "immediate",
              "transition": {
               "duration": 0,
               "easing": "linear"
              }
             }
            ],
            "label": "23",
            "method": "animate"
           },
           {
            "args": [
             [
              "8"
             ],
             {
              "frame": {
               "duration": 0,
               "redraw": true
              },
              "fromcurrent": true,
              "mode": "immediate",
              "transition": {
               "duration": 0,
               "easing": "linear"
              }
             }
            ],
            "label": "8",
            "method": "animate"
           },
           {
            "args": [
             [
              "30"
             ],
             {
              "frame": {
               "duration": 0,
               "redraw": true
              },
              "fromcurrent": true,
              "mode": "immediate",
              "transition": {
               "duration": 0,
               "easing": "linear"
              }
             }
            ],
            "label": "30",
            "method": "animate"
           },
           {
            "args": [
             [
              "29"
             ],
             {
              "frame": {
               "duration": 0,
               "redraw": true
              },
              "fromcurrent": true,
              "mode": "immediate",
              "transition": {
               "duration": 0,
               "easing": "linear"
              }
             }
            ],
            "label": "29",
            "method": "animate"
           },
           {
            "args": [
             [
              "16"
             ],
             {
              "frame": {
               "duration": 0,
               "redraw": true
              },
              "fromcurrent": true,
              "mode": "immediate",
              "transition": {
               "duration": 0,
               "easing": "linear"
              }
             }
            ],
            "label": "16",
            "method": "animate"
           },
           {
            "args": [
             [
              "12"
             ],
             {
              "frame": {
               "duration": 0,
               "redraw": true
              },
              "fromcurrent": true,
              "mode": "immediate",
              "transition": {
               "duration": 0,
               "easing": "linear"
              }
             }
            ],
            "label": "12",
            "method": "animate"
           },
           {
            "args": [
             [
              "5"
             ],
             {
              "frame": {
               "duration": 0,
               "redraw": true
              },
              "fromcurrent": true,
              "mode": "immediate",
              "transition": {
               "duration": 0,
               "easing": "linear"
              }
             }
            ],
            "label": "5",
            "method": "animate"
           },
           {
            "args": [
             [
              "9"
             ],
             {
              "frame": {
               "duration": 0,
               "redraw": true
              },
              "fromcurrent": true,
              "mode": "immediate",
              "transition": {
               "duration": 0,
               "easing": "linear"
              }
             }
            ],
            "label": "9",
            "method": "animate"
           },
           {
            "args": [
             [
              "14"
             ],
             {
              "frame": {
               "duration": 0,
               "redraw": true
              },
              "fromcurrent": true,
              "mode": "immediate",
              "transition": {
               "duration": 0,
               "easing": "linear"
              }
             }
            ],
            "label": "14",
            "method": "animate"
           },
           {
            "args": [
             [
              "6"
             ],
             {
              "frame": {
               "duration": 0,
               "redraw": true
              },
              "fromcurrent": true,
              "mode": "immediate",
              "transition": {
               "duration": 0,
               "easing": "linear"
              }
             }
            ],
            "label": "6",
            "method": "animate"
           },
           {
            "args": [
             [
              "3"
             ],
             {
              "frame": {
               "duration": 0,
               "redraw": true
              },
              "fromcurrent": true,
              "mode": "immediate",
              "transition": {
               "duration": 0,
               "easing": "linear"
              }
             }
            ],
            "label": "3",
            "method": "animate"
           },
           {
            "args": [
             [
              "10"
             ],
             {
              "frame": {
               "duration": 0,
               "redraw": true
              },
              "fromcurrent": true,
              "mode": "immediate",
              "transition": {
               "duration": 0,
               "easing": "linear"
              }
             }
            ],
            "label": "10",
            "method": "animate"
           },
           {
            "args": [
             [
              "22"
             ],
             {
              "frame": {
               "duration": 0,
               "redraw": true
              },
              "fromcurrent": true,
              "mode": "immediate",
              "transition": {
               "duration": 0,
               "easing": "linear"
              }
             }
            ],
            "label": "22",
            "method": "animate"
           }
          ],
          "x": 0.1,
          "xanchor": "left",
          "y": 0,
          "yanchor": "top"
         }
        ],
        "template": {
         "data": {
          "bar": [
           {
            "error_x": {
             "color": "#2a3f5f"
            },
            "error_y": {
             "color": "#2a3f5f"
            },
            "marker": {
             "line": {
              "color": "#E5ECF6",
              "width": 0.5
             }
            },
            "type": "bar"
           }
          ],
          "barpolar": [
           {
            "marker": {
             "line": {
              "color": "#E5ECF6",
              "width": 0.5
             }
            },
            "type": "barpolar"
           }
          ],
          "carpet": [
           {
            "aaxis": {
             "endlinecolor": "#2a3f5f",
             "gridcolor": "white",
             "linecolor": "white",
             "minorgridcolor": "white",
             "startlinecolor": "#2a3f5f"
            },
            "baxis": {
             "endlinecolor": "#2a3f5f",
             "gridcolor": "white",
             "linecolor": "white",
             "minorgridcolor": "white",
             "startlinecolor": "#2a3f5f"
            },
            "type": "carpet"
           }
          ],
          "choropleth": [
           {
            "colorbar": {
             "outlinewidth": 0,
             "ticks": ""
            },
            "type": "choropleth"
           }
          ],
          "contour": [
           {
            "colorbar": {
             "outlinewidth": 0,
             "ticks": ""
            },
            "colorscale": [
             [
              0,
              "#0d0887"
             ],
             [
              0.1111111111111111,
              "#46039f"
             ],
             [
              0.2222222222222222,
              "#7201a8"
             ],
             [
              0.3333333333333333,
              "#9c179e"
             ],
             [
              0.4444444444444444,
              "#bd3786"
             ],
             [
              0.5555555555555556,
              "#d8576b"
             ],
             [
              0.6666666666666666,
              "#ed7953"
             ],
             [
              0.7777777777777778,
              "#fb9f3a"
             ],
             [
              0.8888888888888888,
              "#fdca26"
             ],
             [
              1,
              "#f0f921"
             ]
            ],
            "type": "contour"
           }
          ],
          "contourcarpet": [
           {
            "colorbar": {
             "outlinewidth": 0,
             "ticks": ""
            },
            "type": "contourcarpet"
           }
          ],
          "heatmap": [
           {
            "colorbar": {
             "outlinewidth": 0,
             "ticks": ""
            },
            "colorscale": [
             [
              0,
              "#0d0887"
             ],
             [
              0.1111111111111111,
              "#46039f"
             ],
             [
              0.2222222222222222,
              "#7201a8"
             ],
             [
              0.3333333333333333,
              "#9c179e"
             ],
             [
              0.4444444444444444,
              "#bd3786"
             ],
             [
              0.5555555555555556,
              "#d8576b"
             ],
             [
              0.6666666666666666,
              "#ed7953"
             ],
             [
              0.7777777777777778,
              "#fb9f3a"
             ],
             [
              0.8888888888888888,
              "#fdca26"
             ],
             [
              1,
              "#f0f921"
             ]
            ],
            "type": "heatmap"
           }
          ],
          "heatmapgl": [
           {
            "colorbar": {
             "outlinewidth": 0,
             "ticks": ""
            },
            "colorscale": [
             [
              0,
              "#0d0887"
             ],
             [
              0.1111111111111111,
              "#46039f"
             ],
             [
              0.2222222222222222,
              "#7201a8"
             ],
             [
              0.3333333333333333,
              "#9c179e"
             ],
             [
              0.4444444444444444,
              "#bd3786"
             ],
             [
              0.5555555555555556,
              "#d8576b"
             ],
             [
              0.6666666666666666,
              "#ed7953"
             ],
             [
              0.7777777777777778,
              "#fb9f3a"
             ],
             [
              0.8888888888888888,
              "#fdca26"
             ],
             [
              1,
              "#f0f921"
             ]
            ],
            "type": "heatmapgl"
           }
          ],
          "histogram": [
           {
            "marker": {
             "colorbar": {
              "outlinewidth": 0,
              "ticks": ""
             }
            },
            "type": "histogram"
           }
          ],
          "histogram2d": [
           {
            "colorbar": {
             "outlinewidth": 0,
             "ticks": ""
            },
            "colorscale": [
             [
              0,
              "#0d0887"
             ],
             [
              0.1111111111111111,
              "#46039f"
             ],
             [
              0.2222222222222222,
              "#7201a8"
             ],
             [
              0.3333333333333333,
              "#9c179e"
             ],
             [
              0.4444444444444444,
              "#bd3786"
             ],
             [
              0.5555555555555556,
              "#d8576b"
             ],
             [
              0.6666666666666666,
              "#ed7953"
             ],
             [
              0.7777777777777778,
              "#fb9f3a"
             ],
             [
              0.8888888888888888,
              "#fdca26"
             ],
             [
              1,
              "#f0f921"
             ]
            ],
            "type": "histogram2d"
           }
          ],
          "histogram2dcontour": [
           {
            "colorbar": {
             "outlinewidth": 0,
             "ticks": ""
            },
            "colorscale": [
             [
              0,
              "#0d0887"
             ],
             [
              0.1111111111111111,
              "#46039f"
             ],
             [
              0.2222222222222222,
              "#7201a8"
             ],
             [
              0.3333333333333333,
              "#9c179e"
             ],
             [
              0.4444444444444444,
              "#bd3786"
             ],
             [
              0.5555555555555556,
              "#d8576b"
             ],
             [
              0.6666666666666666,
              "#ed7953"
             ],
             [
              0.7777777777777778,
              "#fb9f3a"
             ],
             [
              0.8888888888888888,
              "#fdca26"
             ],
             [
              1,
              "#f0f921"
             ]
            ],
            "type": "histogram2dcontour"
           }
          ],
          "mesh3d": [
           {
            "colorbar": {
             "outlinewidth": 0,
             "ticks": ""
            },
            "type": "mesh3d"
           }
          ],
          "parcoords": [
           {
            "line": {
             "colorbar": {
              "outlinewidth": 0,
              "ticks": ""
             }
            },
            "type": "parcoords"
           }
          ],
          "pie": [
           {
            "automargin": true,
            "type": "pie"
           }
          ],
          "scatter": [
           {
            "marker": {
             "colorbar": {
              "outlinewidth": 0,
              "ticks": ""
             }
            },
            "type": "scatter"
           }
          ],
          "scatter3d": [
           {
            "line": {
             "colorbar": {
              "outlinewidth": 0,
              "ticks": ""
             }
            },
            "marker": {
             "colorbar": {
              "outlinewidth": 0,
              "ticks": ""
             }
            },
            "type": "scatter3d"
           }
          ],
          "scattercarpet": [
           {
            "marker": {
             "colorbar": {
              "outlinewidth": 0,
              "ticks": ""
             }
            },
            "type": "scattercarpet"
           }
          ],
          "scattergeo": [
           {
            "marker": {
             "colorbar": {
              "outlinewidth": 0,
              "ticks": ""
             }
            },
            "type": "scattergeo"
           }
          ],
          "scattergl": [
           {
            "marker": {
             "colorbar": {
              "outlinewidth": 0,
              "ticks": ""
             }
            },
            "type": "scattergl"
           }
          ],
          "scattermapbox": [
           {
            "marker": {
             "colorbar": {
              "outlinewidth": 0,
              "ticks": ""
             }
            },
            "type": "scattermapbox"
           }
          ],
          "scatterpolar": [
           {
            "marker": {
             "colorbar": {
              "outlinewidth": 0,
              "ticks": ""
             }
            },
            "type": "scatterpolar"
           }
          ],
          "scatterpolargl": [
           {
            "marker": {
             "colorbar": {
              "outlinewidth": 0,
              "ticks": ""
             }
            },
            "type": "scatterpolargl"
           }
          ],
          "scatterternary": [
           {
            "marker": {
             "colorbar": {
              "outlinewidth": 0,
              "ticks": ""
             }
            },
            "type": "scatterternary"
           }
          ],
          "surface": [
           {
            "colorbar": {
             "outlinewidth": 0,
             "ticks": ""
            },
            "colorscale": [
             [
              0,
              "#0d0887"
             ],
             [
              0.1111111111111111,
              "#46039f"
             ],
             [
              0.2222222222222222,
              "#7201a8"
             ],
             [
              0.3333333333333333,
              "#9c179e"
             ],
             [
              0.4444444444444444,
              "#bd3786"
             ],
             [
              0.5555555555555556,
              "#d8576b"
             ],
             [
              0.6666666666666666,
              "#ed7953"
             ],
             [
              0.7777777777777778,
              "#fb9f3a"
             ],
             [
              0.8888888888888888,
              "#fdca26"
             ],
             [
              1,
              "#f0f921"
             ]
            ],
            "type": "surface"
           }
          ],
          "table": [
           {
            "cells": {
             "fill": {
              "color": "#EBF0F8"
             },
             "line": {
              "color": "white"
             }
            },
            "header": {
             "fill": {
              "color": "#C8D4E3"
             },
             "line": {
              "color": "white"
             }
            },
            "type": "table"
           }
          ]
         },
         "layout": {
          "annotationdefaults": {
           "arrowcolor": "#2a3f5f",
           "arrowhead": 0,
           "arrowwidth": 1
          },
          "coloraxis": {
           "colorbar": {
            "outlinewidth": 0,
            "ticks": ""
           }
          },
          "colorscale": {
           "diverging": [
            [
             0,
             "#8e0152"
            ],
            [
             0.1,
             "#c51b7d"
            ],
            [
             0.2,
             "#de77ae"
            ],
            [
             0.3,
             "#f1b6da"
            ],
            [
             0.4,
             "#fde0ef"
            ],
            [
             0.5,
             "#f7f7f7"
            ],
            [
             0.6,
             "#e6f5d0"
            ],
            [
             0.7,
             "#b8e186"
            ],
            [
             0.8,
             "#7fbc41"
            ],
            [
             0.9,
             "#4d9221"
            ],
            [
             1,
             "#276419"
            ]
           ],
           "sequential": [
            [
             0,
             "#0d0887"
            ],
            [
             0.1111111111111111,
             "#46039f"
            ],
            [
             0.2222222222222222,
             "#7201a8"
            ],
            [
             0.3333333333333333,
             "#9c179e"
            ],
            [
             0.4444444444444444,
             "#bd3786"
            ],
            [
             0.5555555555555556,
             "#d8576b"
            ],
            [
             0.6666666666666666,
             "#ed7953"
            ],
            [
             0.7777777777777778,
             "#fb9f3a"
            ],
            [
             0.8888888888888888,
             "#fdca26"
            ],
            [
             1,
             "#f0f921"
            ]
           ],
           "sequentialminus": [
            [
             0,
             "#0d0887"
            ],
            [
             0.1111111111111111,
             "#46039f"
            ],
            [
             0.2222222222222222,
             "#7201a8"
            ],
            [
             0.3333333333333333,
             "#9c179e"
            ],
            [
             0.4444444444444444,
             "#bd3786"
            ],
            [
             0.5555555555555556,
             "#d8576b"
            ],
            [
             0.6666666666666666,
             "#ed7953"
            ],
            [
             0.7777777777777778,
             "#fb9f3a"
            ],
            [
             0.8888888888888888,
             "#fdca26"
            ],
            [
             1,
             "#f0f921"
            ]
           ]
          },
          "colorway": [
           "#636efa",
           "#EF553B",
           "#00cc96",
           "#ab63fa",
           "#FFA15A",
           "#19d3f3",
           "#FF6692",
           "#B6E880",
           "#FF97FF",
           "#FECB52"
          ],
          "font": {
           "color": "#2a3f5f"
          },
          "geo": {
           "bgcolor": "white",
           "lakecolor": "white",
           "landcolor": "#E5ECF6",
           "showlakes": true,
           "showland": true,
           "subunitcolor": "white"
          },
          "hoverlabel": {
           "align": "left"
          },
          "hovermode": "closest",
          "mapbox": {
           "style": "light"
          },
          "paper_bgcolor": "white",
          "plot_bgcolor": "#E5ECF6",
          "polar": {
           "angularaxis": {
            "gridcolor": "white",
            "linecolor": "white",
            "ticks": ""
           },
           "bgcolor": "#E5ECF6",
           "radialaxis": {
            "gridcolor": "white",
            "linecolor": "white",
            "ticks": ""
           }
          },
          "scene": {
           "xaxis": {
            "backgroundcolor": "#E5ECF6",
            "gridcolor": "white",
            "gridwidth": 2,
            "linecolor": "white",
            "showbackground": true,
            "ticks": "",
            "zerolinecolor": "white"
           },
           "yaxis": {
            "backgroundcolor": "#E5ECF6",
            "gridcolor": "white",
            "gridwidth": 2,
            "linecolor": "white",
            "showbackground": true,
            "ticks": "",
            "zerolinecolor": "white"
           },
           "zaxis": {
            "backgroundcolor": "#E5ECF6",
            "gridcolor": "white",
            "gridwidth": 2,
            "linecolor": "white",
            "showbackground": true,
            "ticks": "",
            "zerolinecolor": "white"
           }
          },
          "shapedefaults": {
           "line": {
            "color": "#2a3f5f"
           }
          },
          "ternary": {
           "aaxis": {
            "gridcolor": "white",
            "linecolor": "white",
            "ticks": ""
           },
           "baxis": {
            "gridcolor": "white",
            "linecolor": "white",
            "ticks": ""
           },
           "bgcolor": "#E5ECF6",
           "caxis": {
            "gridcolor": "white",
            "linecolor": "white",
            "ticks": ""
           }
          },
          "title": {
           "x": 0.05
          },
          "xaxis": {
           "automargin": true,
           "gridcolor": "white",
           "linecolor": "white",
           "ticks": "",
           "title": {
            "standoff": 15
           },
           "zerolinecolor": "white",
           "zerolinewidth": 2
          },
          "yaxis": {
           "automargin": true,
           "gridcolor": "white",
           "linecolor": "white",
           "ticks": "",
           "title": {
            "standoff": 15
           },
           "zerolinecolor": "white",
           "zerolinewidth": 2
          }
         }
        },
        "updatemenus": [
         {
          "buttons": [
           {
            "args": [
             null,
             {
              "frame": {
               "duration": 500,
               "redraw": true
              },
              "fromcurrent": true,
              "mode": "immediate",
              "transition": {
               "duration": 500,
               "easing": "linear"
              }
             }
            ],
            "label": "&#9654;",
            "method": "animate"
           },
           {
            "args": [
             [
              null
             ],
             {
              "frame": {
               "duration": 0,
               "redraw": true
              },
              "fromcurrent": true,
              "mode": "immediate",
              "transition": {
               "duration": 0,
               "easing": "linear"
              }
             }
            ],
            "label": "&#9724;",
            "method": "animate"
           }
          ],
          "direction": "left",
          "pad": {
           "r": 10,
           "t": 70
          },
          "showactive": false,
          "type": "buttons",
          "x": 0.1,
          "xanchor": "right",
          "y": 0,
          "yanchor": "top"
         }
        ],
        "xaxis": {
         "anchor": "y",
         "domain": [
          0,
          1
         ]
        },
        "yaxis": {
         "anchor": "x",
         "domain": [
          0,
          1
         ],
         "title": {
          "text": "Amount"
         }
        }
       }
      },
      "text/html": [
       "<div>\n",
       "        \n",
       "        \n",
       "            <div id=\"ddb88c56-c05c-451d-801b-c40ea5add03e\" class=\"plotly-graph-div\" style=\"height:525px; width:100%;\"></div>\n",
       "            <script type=\"text/javascript\">\n",
       "                require([\"plotly\"], function(Plotly) {\n",
       "                    window.PLOTLYENV=window.PLOTLYENV || {};\n",
       "                    \n",
       "                if (document.getElementById(\"ddb88c56-c05c-451d-801b-c40ea5add03e\")) {\n",
       "                    Plotly.newPlot(\n",
       "                        'ddb88c56-c05c-451d-801b-c40ea5add03e',\n",
       "                        [{\"alignmentgroup\": \"True\", \"hovertemplate\": \"Date=26<br>Amount=%{y}<extra></extra>\", \"legendgroup\": \"\", \"marker\": {\"color\": \"#636efa\"}, \"name\": \"\", \"notched\": false, \"offsetgroup\": \"\", \"orientation\": \"v\", \"showlegend\": false, \"type\": \"box\", \"x0\": \" \", \"xaxis\": \"x\", \"y\": [25000, 543, 5000, 132], \"y0\": \" \", \"yaxis\": \"y\"}],\n",
       "                        {\"boxmode\": \"group\", \"legend\": {\"tracegroupgap\": 0}, \"margin\": {\"t\": 60}, \"sliders\": [{\"active\": 0, \"currentvalue\": {\"prefix\": \"Date=\"}, \"len\": 0.9, \"pad\": {\"b\": 10, \"t\": 60}, \"steps\": [{\"args\": [[\"26\"], {\"frame\": {\"duration\": 0, \"redraw\": true}, \"fromcurrent\": true, \"mode\": \"immediate\", \"transition\": {\"duration\": 0, \"easing\": \"linear\"}}], \"label\": \"26\", \"method\": \"animate\"}, {\"args\": [[\"20\"], {\"frame\": {\"duration\": 0, \"redraw\": true}, \"fromcurrent\": true, \"mode\": \"immediate\", \"transition\": {\"duration\": 0, \"easing\": \"linear\"}}], \"label\": \"20\", \"method\": \"animate\"}, {\"args\": [[\"15\"], {\"frame\": {\"duration\": 0, \"redraw\": true}, \"fromcurrent\": true, \"mode\": \"immediate\", \"transition\": {\"duration\": 0, \"easing\": \"linear\"}}], \"label\": \"15\", \"method\": \"animate\"}, {\"args\": [[\"17\"], {\"frame\": {\"duration\": 0, \"redraw\": true}, \"fromcurrent\": true, \"mode\": \"immediate\", \"transition\": {\"duration\": 0, \"easing\": \"linear\"}}], \"label\": \"17\", \"method\": \"animate\"}, {\"args\": [[\"7\"], {\"frame\": {\"duration\": 0, \"redraw\": true}, \"fromcurrent\": true, \"mode\": \"immediate\", \"transition\": {\"duration\": 0, \"easing\": \"linear\"}}], \"label\": \"7\", \"method\": \"animate\"}, {\"args\": [[\"21\"], {\"frame\": {\"duration\": 0, \"redraw\": true}, \"fromcurrent\": true, \"mode\": \"immediate\", \"transition\": {\"duration\": 0, \"easing\": \"linear\"}}], \"label\": \"21\", \"method\": \"animate\"}, {\"args\": [[\"24\"], {\"frame\": {\"duration\": 0, \"redraw\": true}, \"fromcurrent\": true, \"mode\": \"immediate\", \"transition\": {\"duration\": 0, \"easing\": \"linear\"}}], \"label\": \"24\", \"method\": \"animate\"}, {\"args\": [[\"4\"], {\"frame\": {\"duration\": 0, \"redraw\": true}, \"fromcurrent\": true, \"mode\": \"immediate\", \"transition\": {\"duration\": 0, \"easing\": \"linear\"}}], \"label\": \"4\", \"method\": \"animate\"}, {\"args\": [[\"31\"], {\"frame\": {\"duration\": 0, \"redraw\": true}, \"fromcurrent\": true, \"mode\": \"immediate\", \"transition\": {\"duration\": 0, \"easing\": \"linear\"}}], \"label\": \"31\", \"method\": \"animate\"}, {\"args\": [[\"27\"], {\"frame\": {\"duration\": 0, \"redraw\": true}, \"fromcurrent\": true, \"mode\": \"immediate\", \"transition\": {\"duration\": 0, \"easing\": \"linear\"}}], \"label\": \"27\", \"method\": \"animate\"}, {\"args\": [[\"13\"], {\"frame\": {\"duration\": 0, \"redraw\": true}, \"fromcurrent\": true, \"mode\": \"immediate\", \"transition\": {\"duration\": 0, \"easing\": \"linear\"}}], \"label\": \"13\", \"method\": \"animate\"}, {\"args\": [[\"1\"], {\"frame\": {\"duration\": 0, \"redraw\": true}, \"fromcurrent\": true, \"mode\": \"immediate\", \"transition\": {\"duration\": 0, \"easing\": \"linear\"}}], \"label\": \"1\", \"method\": \"animate\"}, {\"args\": [[\"19\"], {\"frame\": {\"duration\": 0, \"redraw\": true}, \"fromcurrent\": true, \"mode\": \"immediate\", \"transition\": {\"duration\": 0, \"easing\": \"linear\"}}], \"label\": \"19\", \"method\": \"animate\"}, {\"args\": [[\"25\"], {\"frame\": {\"duration\": 0, \"redraw\": true}, \"fromcurrent\": true, \"mode\": \"immediate\", \"transition\": {\"duration\": 0, \"easing\": \"linear\"}}], \"label\": \"25\", \"method\": \"animate\"}, {\"args\": [[\"11\"], {\"frame\": {\"duration\": 0, \"redraw\": true}, \"fromcurrent\": true, \"mode\": \"immediate\", \"transition\": {\"duration\": 0, \"easing\": \"linear\"}}], \"label\": \"11\", \"method\": \"animate\"}, {\"args\": [[\"2\"], {\"frame\": {\"duration\": 0, \"redraw\": true}, \"fromcurrent\": true, \"mode\": \"immediate\", \"transition\": {\"duration\": 0, \"easing\": \"linear\"}}], \"label\": \"2\", \"method\": \"animate\"}, {\"args\": [[\"23\"], {\"frame\": {\"duration\": 0, \"redraw\": true}, \"fromcurrent\": true, \"mode\": \"immediate\", \"transition\": {\"duration\": 0, \"easing\": \"linear\"}}], \"label\": \"23\", \"method\": \"animate\"}, {\"args\": [[\"8\"], {\"frame\": {\"duration\": 0, \"redraw\": true}, \"fromcurrent\": true, \"mode\": \"immediate\", \"transition\": {\"duration\": 0, \"easing\": \"linear\"}}], \"label\": \"8\", \"method\": \"animate\"}, {\"args\": [[\"30\"], {\"frame\": {\"duration\": 0, \"redraw\": true}, \"fromcurrent\": true, \"mode\": \"immediate\", \"transition\": {\"duration\": 0, \"easing\": \"linear\"}}], \"label\": \"30\", \"method\": \"animate\"}, {\"args\": [[\"29\"], {\"frame\": {\"duration\": 0, \"redraw\": true}, \"fromcurrent\": true, \"mode\": \"immediate\", \"transition\": {\"duration\": 0, \"easing\": \"linear\"}}], \"label\": \"29\", \"method\": \"animate\"}, {\"args\": [[\"16\"], {\"frame\": {\"duration\": 0, \"redraw\": true}, \"fromcurrent\": true, \"mode\": \"immediate\", \"transition\": {\"duration\": 0, \"easing\": \"linear\"}}], \"label\": \"16\", \"method\": \"animate\"}, {\"args\": [[\"12\"], {\"frame\": {\"duration\": 0, \"redraw\": true}, \"fromcurrent\": true, \"mode\": \"immediate\", \"transition\": {\"duration\": 0, \"easing\": \"linear\"}}], \"label\": \"12\", \"method\": \"animate\"}, {\"args\": [[\"5\"], {\"frame\": {\"duration\": 0, \"redraw\": true}, \"fromcurrent\": true, \"mode\": \"immediate\", \"transition\": {\"duration\": 0, \"easing\": \"linear\"}}], \"label\": \"5\", \"method\": \"animate\"}, {\"args\": [[\"9\"], {\"frame\": {\"duration\": 0, \"redraw\": true}, \"fromcurrent\": true, \"mode\": \"immediate\", \"transition\": {\"duration\": 0, \"easing\": \"linear\"}}], \"label\": \"9\", \"method\": \"animate\"}, {\"args\": [[\"14\"], {\"frame\": {\"duration\": 0, \"redraw\": true}, \"fromcurrent\": true, \"mode\": \"immediate\", \"transition\": {\"duration\": 0, \"easing\": \"linear\"}}], \"label\": \"14\", \"method\": \"animate\"}, {\"args\": [[\"6\"], {\"frame\": {\"duration\": 0, \"redraw\": true}, \"fromcurrent\": true, \"mode\": \"immediate\", \"transition\": {\"duration\": 0, \"easing\": \"linear\"}}], \"label\": \"6\", \"method\": \"animate\"}, {\"args\": [[\"3\"], {\"frame\": {\"duration\": 0, \"redraw\": true}, \"fromcurrent\": true, \"mode\": \"immediate\", \"transition\": {\"duration\": 0, \"easing\": \"linear\"}}], \"label\": \"3\", \"method\": \"animate\"}, {\"args\": [[\"10\"], {\"frame\": {\"duration\": 0, \"redraw\": true}, \"fromcurrent\": true, \"mode\": \"immediate\", \"transition\": {\"duration\": 0, \"easing\": \"linear\"}}], \"label\": \"10\", \"method\": \"animate\"}, {\"args\": [[\"22\"], {\"frame\": {\"duration\": 0, \"redraw\": true}, \"fromcurrent\": true, \"mode\": \"immediate\", \"transition\": {\"duration\": 0, \"easing\": \"linear\"}}], \"label\": \"22\", \"method\": \"animate\"}], \"x\": 0.1, \"xanchor\": \"left\", \"y\": 0, \"yanchor\": \"top\"}], \"template\": {\"data\": {\"bar\": [{\"error_x\": {\"color\": \"#2a3f5f\"}, \"error_y\": {\"color\": \"#2a3f5f\"}, \"marker\": {\"line\": {\"color\": \"#E5ECF6\", \"width\": 0.5}}, \"type\": \"bar\"}], \"barpolar\": [{\"marker\": {\"line\": {\"color\": \"#E5ECF6\", \"width\": 0.5}}, \"type\": \"barpolar\"}], \"carpet\": [{\"aaxis\": {\"endlinecolor\": \"#2a3f5f\", \"gridcolor\": \"white\", \"linecolor\": \"white\", \"minorgridcolor\": \"white\", \"startlinecolor\": \"#2a3f5f\"}, \"baxis\": {\"endlinecolor\": \"#2a3f5f\", \"gridcolor\": \"white\", \"linecolor\": \"white\", \"minorgridcolor\": \"white\", \"startlinecolor\": \"#2a3f5f\"}, \"type\": \"carpet\"}], \"choropleth\": [{\"colorbar\": {\"outlinewidth\": 0, \"ticks\": \"\"}, \"type\": \"choropleth\"}], \"contour\": [{\"colorbar\": {\"outlinewidth\": 0, \"ticks\": \"\"}, \"colorscale\": [[0.0, \"#0d0887\"], [0.1111111111111111, \"#46039f\"], [0.2222222222222222, \"#7201a8\"], [0.3333333333333333, \"#9c179e\"], [0.4444444444444444, \"#bd3786\"], [0.5555555555555556, \"#d8576b\"], [0.6666666666666666, \"#ed7953\"], [0.7777777777777778, \"#fb9f3a\"], [0.8888888888888888, \"#fdca26\"], [1.0, \"#f0f921\"]], \"type\": \"contour\"}], \"contourcarpet\": [{\"colorbar\": {\"outlinewidth\": 0, \"ticks\": \"\"}, \"type\": \"contourcarpet\"}], \"heatmap\": [{\"colorbar\": {\"outlinewidth\": 0, \"ticks\": \"\"}, \"colorscale\": [[0.0, \"#0d0887\"], [0.1111111111111111, \"#46039f\"], [0.2222222222222222, \"#7201a8\"], [0.3333333333333333, \"#9c179e\"], [0.4444444444444444, \"#bd3786\"], [0.5555555555555556, \"#d8576b\"], [0.6666666666666666, \"#ed7953\"], [0.7777777777777778, \"#fb9f3a\"], [0.8888888888888888, \"#fdca26\"], [1.0, \"#f0f921\"]], \"type\": \"heatmap\"}], \"heatmapgl\": [{\"colorbar\": {\"outlinewidth\": 0, \"ticks\": \"\"}, \"colorscale\": [[0.0, \"#0d0887\"], [0.1111111111111111, \"#46039f\"], [0.2222222222222222, \"#7201a8\"], [0.3333333333333333, \"#9c179e\"], [0.4444444444444444, \"#bd3786\"], [0.5555555555555556, \"#d8576b\"], [0.6666666666666666, \"#ed7953\"], [0.7777777777777778, \"#fb9f3a\"], [0.8888888888888888, \"#fdca26\"], [1.0, \"#f0f921\"]], \"type\": \"heatmapgl\"}], \"histogram\": [{\"marker\": {\"colorbar\": {\"outlinewidth\": 0, \"ticks\": \"\"}}, \"type\": \"histogram\"}], \"histogram2d\": [{\"colorbar\": {\"outlinewidth\": 0, \"ticks\": \"\"}, \"colorscale\": [[0.0, \"#0d0887\"], [0.1111111111111111, \"#46039f\"], [0.2222222222222222, \"#7201a8\"], [0.3333333333333333, \"#9c179e\"], [0.4444444444444444, \"#bd3786\"], [0.5555555555555556, \"#d8576b\"], [0.6666666666666666, \"#ed7953\"], [0.7777777777777778, \"#fb9f3a\"], [0.8888888888888888, \"#fdca26\"], [1.0, \"#f0f921\"]], \"type\": \"histogram2d\"}], \"histogram2dcontour\": [{\"colorbar\": {\"outlinewidth\": 0, \"ticks\": \"\"}, \"colorscale\": [[0.0, \"#0d0887\"], [0.1111111111111111, \"#46039f\"], [0.2222222222222222, \"#7201a8\"], [0.3333333333333333, \"#9c179e\"], [0.4444444444444444, \"#bd3786\"], [0.5555555555555556, \"#d8576b\"], [0.6666666666666666, \"#ed7953\"], [0.7777777777777778, \"#fb9f3a\"], [0.8888888888888888, \"#fdca26\"], [1.0, \"#f0f921\"]], \"type\": \"histogram2dcontour\"}], \"mesh3d\": [{\"colorbar\": {\"outlinewidth\": 0, \"ticks\": \"\"}, \"type\": \"mesh3d\"}], \"parcoords\": [{\"line\": {\"colorbar\": {\"outlinewidth\": 0, \"ticks\": \"\"}}, \"type\": \"parcoords\"}], \"pie\": [{\"automargin\": true, \"type\": \"pie\"}], \"scatter\": [{\"marker\": {\"colorbar\": {\"outlinewidth\": 0, \"ticks\": \"\"}}, \"type\": \"scatter\"}], \"scatter3d\": [{\"line\": {\"colorbar\": {\"outlinewidth\": 0, \"ticks\": \"\"}}, \"marker\": {\"colorbar\": {\"outlinewidth\": 0, \"ticks\": \"\"}}, \"type\": \"scatter3d\"}], \"scattercarpet\": [{\"marker\": {\"colorbar\": {\"outlinewidth\": 0, \"ticks\": \"\"}}, \"type\": \"scattercarpet\"}], \"scattergeo\": [{\"marker\": {\"colorbar\": {\"outlinewidth\": 0, \"ticks\": \"\"}}, \"type\": \"scattergeo\"}], \"scattergl\": [{\"marker\": {\"colorbar\": {\"outlinewidth\": 0, \"ticks\": \"\"}}, \"type\": \"scattergl\"}], \"scattermapbox\": [{\"marker\": {\"colorbar\": {\"outlinewidth\": 0, \"ticks\": \"\"}}, \"type\": \"scattermapbox\"}], \"scatterpolar\": [{\"marker\": {\"colorbar\": {\"outlinewidth\": 0, \"ticks\": \"\"}}, \"type\": \"scatterpolar\"}], \"scatterpolargl\": [{\"marker\": {\"colorbar\": {\"outlinewidth\": 0, \"ticks\": \"\"}}, \"type\": \"scatterpolargl\"}], \"scatterternary\": [{\"marker\": {\"colorbar\": {\"outlinewidth\": 0, \"ticks\": \"\"}}, \"type\": \"scatterternary\"}], \"surface\": [{\"colorbar\": {\"outlinewidth\": 0, \"ticks\": \"\"}, \"colorscale\": [[0.0, \"#0d0887\"], [0.1111111111111111, \"#46039f\"], [0.2222222222222222, \"#7201a8\"], [0.3333333333333333, \"#9c179e\"], [0.4444444444444444, \"#bd3786\"], [0.5555555555555556, \"#d8576b\"], [0.6666666666666666, \"#ed7953\"], [0.7777777777777778, \"#fb9f3a\"], [0.8888888888888888, \"#fdca26\"], [1.0, \"#f0f921\"]], \"type\": \"surface\"}], \"table\": [{\"cells\": {\"fill\": {\"color\": \"#EBF0F8\"}, \"line\": {\"color\": \"white\"}}, \"header\": {\"fill\": {\"color\": \"#C8D4E3\"}, \"line\": {\"color\": \"white\"}}, \"type\": \"table\"}]}, \"layout\": {\"annotationdefaults\": {\"arrowcolor\": \"#2a3f5f\", \"arrowhead\": 0, \"arrowwidth\": 1}, \"coloraxis\": {\"colorbar\": {\"outlinewidth\": 0, \"ticks\": \"\"}}, \"colorscale\": {\"diverging\": [[0, \"#8e0152\"], [0.1, \"#c51b7d\"], [0.2, \"#de77ae\"], [0.3, \"#f1b6da\"], [0.4, \"#fde0ef\"], [0.5, \"#f7f7f7\"], [0.6, \"#e6f5d0\"], [0.7, \"#b8e186\"], [0.8, \"#7fbc41\"], [0.9, \"#4d9221\"], [1, \"#276419\"]], \"sequential\": [[0.0, \"#0d0887\"], [0.1111111111111111, \"#46039f\"], [0.2222222222222222, \"#7201a8\"], [0.3333333333333333, \"#9c179e\"], [0.4444444444444444, \"#bd3786\"], [0.5555555555555556, \"#d8576b\"], [0.6666666666666666, \"#ed7953\"], [0.7777777777777778, \"#fb9f3a\"], [0.8888888888888888, \"#fdca26\"], [1.0, \"#f0f921\"]], \"sequentialminus\": [[0.0, \"#0d0887\"], [0.1111111111111111, \"#46039f\"], [0.2222222222222222, \"#7201a8\"], [0.3333333333333333, \"#9c179e\"], [0.4444444444444444, \"#bd3786\"], [0.5555555555555556, \"#d8576b\"], [0.6666666666666666, \"#ed7953\"], [0.7777777777777778, \"#fb9f3a\"], [0.8888888888888888, \"#fdca26\"], [1.0, \"#f0f921\"]]}, \"colorway\": [\"#636efa\", \"#EF553B\", \"#00cc96\", \"#ab63fa\", \"#FFA15A\", \"#19d3f3\", \"#FF6692\", \"#B6E880\", \"#FF97FF\", \"#FECB52\"], \"font\": {\"color\": \"#2a3f5f\"}, \"geo\": {\"bgcolor\": \"white\", \"lakecolor\": \"white\", \"landcolor\": \"#E5ECF6\", \"showlakes\": true, \"showland\": true, \"subunitcolor\": \"white\"}, \"hoverlabel\": {\"align\": \"left\"}, \"hovermode\": \"closest\", \"mapbox\": {\"style\": \"light\"}, \"paper_bgcolor\": \"white\", \"plot_bgcolor\": \"#E5ECF6\", \"polar\": {\"angularaxis\": {\"gridcolor\": \"white\", \"linecolor\": \"white\", \"ticks\": \"\"}, \"bgcolor\": \"#E5ECF6\", \"radialaxis\": {\"gridcolor\": \"white\", \"linecolor\": \"white\", \"ticks\": \"\"}}, \"scene\": {\"xaxis\": {\"backgroundcolor\": \"#E5ECF6\", \"gridcolor\": \"white\", \"gridwidth\": 2, \"linecolor\": \"white\", \"showbackground\": true, \"ticks\": \"\", \"zerolinecolor\": \"white\"}, \"yaxis\": {\"backgroundcolor\": \"#E5ECF6\", \"gridcolor\": \"white\", \"gridwidth\": 2, \"linecolor\": \"white\", \"showbackground\": true, \"ticks\": \"\", \"zerolinecolor\": \"white\"}, \"zaxis\": {\"backgroundcolor\": \"#E5ECF6\", \"gridcolor\": \"white\", \"gridwidth\": 2, \"linecolor\": \"white\", \"showbackground\": true, \"ticks\": \"\", \"zerolinecolor\": \"white\"}}, \"shapedefaults\": {\"line\": {\"color\": \"#2a3f5f\"}}, \"ternary\": {\"aaxis\": {\"gridcolor\": \"white\", \"linecolor\": \"white\", \"ticks\": \"\"}, \"baxis\": {\"gridcolor\": \"white\", \"linecolor\": \"white\", \"ticks\": \"\"}, \"bgcolor\": \"#E5ECF6\", \"caxis\": {\"gridcolor\": \"white\", \"linecolor\": \"white\", \"ticks\": \"\"}}, \"title\": {\"x\": 0.05}, \"xaxis\": {\"automargin\": true, \"gridcolor\": \"white\", \"linecolor\": \"white\", \"ticks\": \"\", \"title\": {\"standoff\": 15}, \"zerolinecolor\": \"white\", \"zerolinewidth\": 2}, \"yaxis\": {\"automargin\": true, \"gridcolor\": \"white\", \"linecolor\": \"white\", \"ticks\": \"\", \"title\": {\"standoff\": 15}, \"zerolinecolor\": \"white\", \"zerolinewidth\": 2}}}, \"updatemenus\": [{\"buttons\": [{\"args\": [null, {\"frame\": {\"duration\": 500, \"redraw\": true}, \"fromcurrent\": true, \"mode\": \"immediate\", \"transition\": {\"duration\": 500, \"easing\": \"linear\"}}], \"label\": \"&#9654;\", \"method\": \"animate\"}, {\"args\": [[null], {\"frame\": {\"duration\": 0, \"redraw\": true}, \"fromcurrent\": true, \"mode\": \"immediate\", \"transition\": {\"duration\": 0, \"easing\": \"linear\"}}], \"label\": \"&#9724;\", \"method\": \"animate\"}], \"direction\": \"left\", \"pad\": {\"r\": 10, \"t\": 70}, \"showactive\": false, \"type\": \"buttons\", \"x\": 0.1, \"xanchor\": \"right\", \"y\": 0, \"yanchor\": \"top\"}], \"xaxis\": {\"anchor\": \"y\", \"domain\": [0.0, 1.0]}, \"yaxis\": {\"anchor\": \"x\", \"domain\": [0.0, 1.0], \"title\": {\"text\": \"Amount\"}}},\n",
       "                        {\"responsive\": true}\n",
       "                    ).then(function(){\n",
       "                            Plotly.addFrames('ddb88c56-c05c-451d-801b-c40ea5add03e', [{\"data\": [{\"alignmentgroup\": \"True\", \"hovertemplate\": \"Date=26<br>Amount=%{y}<extra></extra>\", \"legendgroup\": \"\", \"marker\": {\"color\": \"#636efa\"}, \"name\": \"\", \"notched\": false, \"offsetgroup\": \"\", \"orientation\": \"v\", \"showlegend\": false, \"x0\": \" \", \"xaxis\": \"x\", \"y\": [25000, 543, 5000, 132], \"y0\": \" \", \"yaxis\": \"y\", \"type\": \"box\"}], \"name\": \"26\"}, {\"data\": [{\"alignmentgroup\": \"True\", \"hovertemplate\": \"Date=20<br>Amount=%{y}<extra></extra>\", \"legendgroup\": \"\", \"marker\": {\"color\": \"#636efa\"}, \"name\": \"\", \"notched\": false, \"offsetgroup\": \"\", \"orientation\": \"v\", \"showlegend\": false, \"x0\": \" \", \"xaxis\": \"x\", \"y\": [300, 15000, 9056, 345, 23467, 670, 130000], \"y0\": \" \", \"yaxis\": \"y\", \"type\": \"box\"}], \"name\": \"20\"}, {\"data\": [{\"alignmentgroup\": \"True\", \"hovertemplate\": \"Date=15<br>Amount=%{y}<extra></extra>\", \"legendgroup\": \"\", \"marker\": {\"color\": \"#636efa\"}, \"name\": \"\", \"notched\": false, \"offsetgroup\": \"\", \"orientation\": \"v\", \"showlegend\": false, \"x0\": \" \", \"xaxis\": \"x\", \"y\": [45000, 11000, 10543, 120, 1356], \"y0\": \" \", \"yaxis\": \"y\", \"type\": \"box\"}], \"name\": \"15\"}, {\"data\": [{\"alignmentgroup\": \"True\", \"hovertemplate\": \"Date=17<br>Amount=%{y}<extra></extra>\", \"legendgroup\": \"\", \"marker\": {\"color\": \"#636efa\"}, \"name\": \"\", \"notched\": false, \"offsetgroup\": \"\", \"orientation\": \"v\", \"showlegend\": false, \"x0\": \" \", \"xaxis\": \"x\", \"y\": [670, 4000, 112, 45000, 4543], \"y0\": \" \", \"yaxis\": \"y\", \"type\": \"box\"}], \"name\": \"17\"}, {\"data\": [{\"alignmentgroup\": \"True\", \"hovertemplate\": \"Date=7<br>Amount=%{y}<extra></extra>\", \"legendgroup\": \"\", \"marker\": {\"color\": \"#636efa\"}, \"name\": \"\", \"notched\": false, \"offsetgroup\": \"\", \"orientation\": \"v\", \"showlegend\": false, \"x0\": \" \", \"xaxis\": \"x\", \"y\": [4543, 1356, 987, 132, 1340], \"y0\": \" \", \"yaxis\": \"y\", \"type\": \"box\"}], \"name\": \"7\"}, {\"data\": [{\"alignmentgroup\": \"True\", \"hovertemplate\": \"Date=21<br>Amount=%{y}<extra></extra>\", \"legendgroup\": \"\", \"marker\": {\"color\": \"#636efa\"}, \"name\": \"\", \"notched\": false, \"offsetgroup\": \"\", \"orientation\": \"v\", \"showlegend\": false, \"x0\": \" \", \"xaxis\": \"x\", \"y\": [11000, 4000, 75000, 25000, 300], \"y0\": \" \", \"yaxis\": \"y\", \"type\": \"box\"}], \"name\": \"21\"}, {\"data\": [{\"alignmentgroup\": \"True\", \"hovertemplate\": \"Date=24<br>Amount=%{y}<extra></extra>\", \"legendgroup\": \"\", \"marker\": {\"color\": \"#636efa\"}, \"name\": \"\", \"notched\": false, \"offsetgroup\": \"\", \"orientation\": \"v\", \"showlegend\": false, \"x0\": \" \", \"xaxis\": \"x\", \"y\": [130000], \"y0\": \" \", \"yaxis\": \"y\", \"type\": \"box\"}], \"name\": \"24\"}, {\"data\": [{\"alignmentgroup\": \"True\", \"hovertemplate\": \"Date=4<br>Amount=%{y}<extra></extra>\", \"legendgroup\": \"\", \"marker\": {\"color\": \"#636efa\"}, \"name\": \"\", \"notched\": false, \"offsetgroup\": \"\", \"orientation\": \"v\", \"showlegend\": false, \"x0\": \" \", \"xaxis\": \"x\", \"y\": [132, 1987, 24000, 1200, 25000], \"y0\": \" \", \"yaxis\": \"y\", \"type\": \"box\"}], \"name\": \"4\"}, {\"data\": [{\"alignmentgroup\": \"True\", \"hovertemplate\": \"Date=31<br>Amount=%{y}<extra></extra>\", \"legendgroup\": \"\", \"marker\": {\"color\": \"#636efa\"}, \"name\": \"\", \"notched\": false, \"offsetgroup\": \"\", \"orientation\": \"v\", \"showlegend\": false, \"x0\": \" \", \"xaxis\": \"x\", \"y\": [1200, 1200, 140], \"y0\": \" \", \"yaxis\": \"y\", \"type\": \"box\"}], \"name\": \"31\"}, {\"data\": [{\"alignmentgroup\": \"True\", \"hovertemplate\": \"Date=27<br>Amount=%{y}<extra></extra>\", \"legendgroup\": \"\", \"marker\": {\"color\": \"#636efa\"}, \"name\": \"\", \"notched\": false, \"offsetgroup\": \"\", \"orientation\": \"v\", \"showlegend\": false, \"x0\": \" \", \"xaxis\": \"x\", \"y\": [1340, 140, 1000], \"y0\": \" \", \"yaxis\": \"y\", \"type\": \"box\"}], \"name\": \"27\"}, {\"data\": [{\"alignmentgroup\": \"True\", \"hovertemplate\": \"Date=13<br>Amount=%{y}<extra></extra>\", \"legendgroup\": \"\", \"marker\": {\"color\": \"#636efa\"}, \"name\": \"\", \"notched\": false, \"offsetgroup\": \"\", \"orientation\": \"v\", \"showlegend\": false, \"x0\": \" \", \"xaxis\": \"x\", \"y\": [50000, 112, 800], \"y0\": \" \", \"yaxis\": \"y\", \"type\": \"box\"}], \"name\": \"13\"}, {\"data\": [{\"alignmentgroup\": \"True\", \"hovertemplate\": \"Date=1<br>Amount=%{y}<extra></extra>\", \"legendgroup\": \"\", \"marker\": {\"color\": \"#636efa\"}, \"name\": \"\", \"notched\": false, \"offsetgroup\": \"\", \"orientation\": \"v\", \"showlegend\": false, \"x0\": \" \", \"xaxis\": \"x\", \"y\": [994, 1340, 50, 10000, 11000], \"y0\": \" \", \"yaxis\": \"y\", \"type\": \"box\"}], \"name\": \"1\"}, {\"data\": [{\"alignmentgroup\": \"True\", \"hovertemplate\": \"Date=19<br>Amount=%{y}<extra></extra>\", \"legendgroup\": \"\", \"marker\": {\"color\": \"#636efa\"}, \"name\": \"\", \"notched\": false, \"offsetgroup\": \"\", \"orientation\": \"v\", \"showlegend\": false, \"x0\": \" \", \"xaxis\": \"x\", \"y\": [800, 175600, 23467, 4543, 11000, 1200, 1200], \"y0\": \" \", \"yaxis\": \"y\", \"type\": \"box\"}], \"name\": \"19\"}, {\"data\": [{\"alignmentgroup\": \"True\", \"hovertemplate\": \"Date=25<br>Amount=%{y}<extra></extra>\", \"legendgroup\": \"\", \"marker\": {\"color\": \"#636efa\"}, \"name\": \"\", \"notched\": false, \"offsetgroup\": \"\", \"orientation\": \"v\", \"showlegend\": false, \"x0\": \" \", \"xaxis\": \"x\", \"y\": [50, 5000, 75000, 1200], \"y0\": \" \", \"yaxis\": \"y\", \"type\": \"box\"}], \"name\": \"25\"}, {\"data\": [{\"alignmentgroup\": \"True\", \"hovertemplate\": \"Date=11<br>Amount=%{y}<extra></extra>\", \"legendgroup\": \"\", \"marker\": {\"color\": \"#636efa\"}, \"name\": \"\", \"notched\": false, \"offsetgroup\": \"\", \"orientation\": \"v\", \"showlegend\": false, \"x0\": \" \", \"xaxis\": \"x\", \"y\": [120, 12000, 907], \"y0\": \" \", \"yaxis\": \"y\", \"type\": \"box\"}], \"name\": \"11\"}, {\"data\": [{\"alignmentgroup\": \"True\", \"hovertemplate\": \"Date=2<br>Amount=%{y}<extra></extra>\", \"legendgroup\": \"\", \"marker\": {\"color\": \"#636efa\"}, \"name\": \"\", \"notched\": false, \"offsetgroup\": \"\", \"orientation\": \"v\", \"showlegend\": false, \"x0\": \" \", \"xaxis\": \"x\", \"y\": [140, 8954, 24000], \"y0\": \" \", \"yaxis\": \"y\", \"type\": \"box\"}], \"name\": \"2\"}, {\"data\": [{\"alignmentgroup\": \"True\", \"hovertemplate\": \"Date=23<br>Amount=%{y}<extra></extra>\", \"legendgroup\": \"\", \"marker\": {\"color\": \"#636efa\"}, \"name\": \"\", \"notched\": false, \"offsetgroup\": \"\", \"orientation\": \"v\", \"showlegend\": false, \"x0\": \" \", \"xaxis\": \"x\", \"y\": [1200], \"y0\": \" \", \"yaxis\": \"y\", \"type\": \"box\"}], \"name\": \"23\"}, {\"data\": [{\"alignmentgroup\": \"True\", \"hovertemplate\": \"Date=8<br>Amount=%{y}<extra></extra>\", \"legendgroup\": \"\", \"marker\": {\"color\": \"#636efa\"}, \"name\": \"\", \"notched\": false, \"offsetgroup\": \"\", \"orientation\": \"v\", \"showlegend\": false, \"x0\": \" \", \"xaxis\": \"x\", \"y\": [1200, 50000, 150000], \"y0\": \" \", \"yaxis\": \"y\", \"type\": \"box\"}], \"name\": \"8\"}, {\"data\": [{\"alignmentgroup\": \"True\", \"hovertemplate\": \"Date=30<br>Amount=%{y}<extra></extra>\", \"legendgroup\": \"\", \"marker\": {\"color\": \"#636efa\"}, \"name\": \"\", \"notched\": false, \"offsetgroup\": \"\", \"orientation\": \"v\", \"showlegend\": false, \"x0\": \" \", \"xaxis\": \"x\", \"y\": [4509, 10543, 987], \"y0\": \" \", \"yaxis\": \"y\", \"type\": \"box\"}], \"name\": \"30\"}, {\"data\": [{\"alignmentgroup\": \"True\", \"hovertemplate\": \"Date=29<br>Amount=%{y}<extra></extra>\", \"legendgroup\": \"\", \"marker\": {\"color\": \"#636efa\"}, \"name\": \"\", \"notched\": false, \"offsetgroup\": \"\", \"orientation\": \"v\", \"showlegend\": false, \"x0\": \" \", \"xaxis\": \"x\", \"y\": [9875, 4000], \"y0\": \" \", \"yaxis\": \"y\", \"type\": \"box\"}], \"name\": \"29\"}, {\"data\": [{\"alignmentgroup\": \"True\", \"hovertemplate\": \"Date=16<br>Amount=%{y}<extra></extra>\", \"legendgroup\": \"\", \"marker\": {\"color\": \"#636efa\"}, \"name\": \"\", \"notched\": false, \"offsetgroup\": \"\", \"orientation\": \"v\", \"showlegend\": false, \"x0\": \" \", \"xaxis\": \"x\", \"y\": [12567, 150000, 45000, 45000, 15000, 5000], \"y0\": \" \", \"yaxis\": \"y\", \"type\": \"box\"}], \"name\": \"16\"}, {\"data\": [{\"alignmentgroup\": \"True\", \"hovertemplate\": \"Date=12<br>Amount=%{y}<extra></extra>\", \"legendgroup\": \"\", \"marker\": {\"color\": \"#636efa\"}, \"name\": \"\", \"notched\": false, \"offsetgroup\": \"\", \"orientation\": \"v\", \"showlegend\": false, \"x0\": \" \", \"xaxis\": \"x\", \"y\": [907, 543], \"y0\": \" \", \"yaxis\": \"y\", \"type\": \"box\"}], \"name\": \"12\"}, {\"data\": [{\"alignmentgroup\": \"True\", \"hovertemplate\": \"Date=5<br>Amount=%{y}<extra></extra>\", \"legendgroup\": \"\", \"marker\": {\"color\": \"#636efa\"}, \"name\": \"\", \"notched\": false, \"offsetgroup\": \"\", \"orientation\": \"v\", \"showlegend\": false, \"x0\": \" \", \"xaxis\": \"x\", \"y\": [345, 12000, 300], \"y0\": \" \", \"yaxis\": \"y\", \"type\": \"box\"}], \"name\": \"5\"}, {\"data\": [{\"alignmentgroup\": \"True\", \"hovertemplate\": \"Date=9<br>Amount=%{y}<extra></extra>\", \"legendgroup\": \"\", \"marker\": {\"color\": \"#636efa\"}, \"name\": \"\", \"notched\": false, \"offsetgroup\": \"\", \"orientation\": \"v\", \"showlegend\": false, \"x0\": \" \", \"xaxis\": \"x\", \"y\": [12000, 9875, 12567], \"y0\": \" \", \"yaxis\": \"y\", \"type\": \"box\"}], \"name\": \"9\"}, {\"data\": [{\"alignmentgroup\": \"True\", \"hovertemplate\": \"Date=14<br>Amount=%{y}<extra></extra>\", \"legendgroup\": \"\", \"marker\": {\"color\": \"#636efa\"}, \"name\": \"\", \"notched\": false, \"offsetgroup\": \"\", \"orientation\": \"v\", \"showlegend\": false, \"x0\": \" \", \"xaxis\": \"x\", \"y\": [890, 10000, 670, 1356, 4509], \"y0\": \" \", \"yaxis\": \"y\", \"type\": \"box\"}], \"name\": \"14\"}, {\"data\": [{\"alignmentgroup\": \"True\", \"hovertemplate\": \"Date=6<br>Amount=%{y}<extra></extra>\", \"legendgroup\": \"\", \"marker\": {\"color\": \"#636efa\"}, \"name\": \"\", \"notched\": false, \"offsetgroup\": \"\", \"orientation\": \"v\", \"showlegend\": false, \"x0\": \" \", \"xaxis\": \"x\", \"y\": [567, 130000, 1987], \"y0\": \" \", \"yaxis\": \"y\", \"type\": \"box\"}], \"name\": \"6\"}, {\"data\": [{\"alignmentgroup\": \"True\", \"hovertemplate\": \"Date=3<br>Amount=%{y}<extra></extra>\", \"legendgroup\": \"\", \"marker\": {\"color\": \"#636efa\"}, \"name\": \"\", \"notched\": false, \"offsetgroup\": \"\", \"orientation\": \"v\", \"showlegend\": false, \"x0\": \" \", \"xaxis\": \"x\", \"y\": [1000, 11000], \"y0\": \" \", \"yaxis\": \"y\", \"type\": \"box\"}], \"name\": \"3\"}, {\"data\": [{\"alignmentgroup\": \"True\", \"hovertemplate\": \"Date=10<br>Amount=%{y}<extra></extra>\", \"legendgroup\": \"\", \"marker\": {\"color\": \"#636efa\"}, \"name\": \"\", \"notched\": false, \"offsetgroup\": \"\", \"orientation\": \"v\", \"showlegend\": false, \"x0\": \" \", \"xaxis\": \"x\", \"y\": [994, 140, 4000, 45000], \"y0\": \" \", \"yaxis\": \"y\", \"type\": \"box\"}], \"name\": \"10\"}, {\"data\": [{\"alignmentgroup\": \"True\", \"hovertemplate\": \"Date=22<br>Amount=%{y}<extra></extra>\", \"legendgroup\": \"\", \"marker\": {\"color\": \"#636efa\"}, \"name\": \"\", \"notched\": false, \"offsetgroup\": \"\", \"orientation\": \"v\", \"showlegend\": false, \"x0\": \" \", \"xaxis\": \"x\", \"y\": [1200], \"y0\": \" \", \"yaxis\": \"y\", \"type\": \"box\"}], \"name\": \"22\"}]);\n",
       "                        }).then(function(){\n",
       "                            \n",
       "var gd = document.getElementById('ddb88c56-c05c-451d-801b-c40ea5add03e');\n",
       "var x = new MutationObserver(function (mutations, observer) {{\n",
       "        var display = window.getComputedStyle(gd).display;\n",
       "        if (!display || display === 'none') {{\n",
       "            console.log([gd, 'removed!']);\n",
       "            Plotly.purge(gd);\n",
       "            observer.disconnect();\n",
       "        }}\n",
       "}});\n",
       "\n",
       "// Listen for the removal of the full notebook cells\n",
       "var notebookContainer = gd.closest('#notebook-container');\n",
       "if (notebookContainer) {{\n",
       "    x.observe(notebookContainer, {childList: true});\n",
       "}}\n",
       "\n",
       "// Listen for the clearing of the current output cell\n",
       "var outputEl = gd.closest('.output');\n",
       "if (outputEl) {{\n",
       "    x.observe(outputEl, {childList: true});\n",
       "}}\n",
       "\n",
       "                        })\n",
       "                };\n",
       "                });\n",
       "            </script>\n",
       "        </div>"
      ]
     },
     "metadata": {},
     "output_type": "display_data"
    }
   ],
   "source": [
    "# P - Box\n",
    "\n",
    "import plotly.express as px\n",
    "\n",
    "fig = px.box(DB, y=\"Amount\", animation_frame='Date')\n",
    "fig.show()"
   ]
  },
  {
   "cell_type": "markdown",
   "metadata": {},
   "source": [
    "##### Multivariate Analysis"
   ]
  },
  {
   "cell_type": "code",
   "execution_count": 40,
   "metadata": {
    "scrolled": true
   },
   "outputs": [
    {
     "data": {
      "application/vnd.plotly.v1+json": {
       "config": {
        "plotlyServerURL": "https://plot.ly"
       },
       "data": [
        {
         "hovertemplate": "color=Bangalore, India<br>animation_frame=Jun<br>x=%{x}<extra></extra>",
         "legendgroup": "Bangalore, India",
         "marker": {
          "color": "#636efa",
          "symbol": "circle"
         },
         "mode": "markers",
         "name": "Bangalore, India",
         "showlegend": true,
         "type": "scatter",
         "x": [
          25000
         ],
         "xaxis": "x",
         "yaxis": "y"
        },
        {
         "hovertemplate": "color=Moscow, Russia<br>animation_frame=Jun<br>x=%{x}<extra></extra>",
         "legendgroup": "Moscow, Russia",
         "marker": {
          "color": "#00cc96",
          "symbol": "circle"
         },
         "mode": "markers",
         "name": "Moscow, Russia",
         "showlegend": true,
         "type": "scatter",
         "x": [
          10543
         ],
         "xaxis": "x",
         "yaxis": "y"
        },
        {
         "hovertemplate": "color=Hyderabad, India<br>animation_frame=Jun<br>x=%{x}<extra></extra>",
         "legendgroup": "Hyderabad, India",
         "marker": {
          "color": "#19d3f3",
          "symbol": "circle"
         },
         "mode": "markers",
         "name": "Hyderabad, India",
         "showlegend": true,
         "type": "scatter",
         "x": [
          1356
         ],
         "xaxis": "x",
         "yaxis": "y"
        },
        {
         "hovertemplate": "color=Mumbai, India<br>animation_frame=Jun<br>x=%{x}<extra></extra>",
         "legendgroup": "Mumbai, India",
         "marker": {
          "color": "#FF6692",
          "symbol": "circle"
         },
         "mode": "markers",
         "name": "Mumbai, India",
         "showlegend": true,
         "type": "scatter",
         "x": [
          345,
          24000
         ],
         "xaxis": "x",
         "yaxis": "y"
        },
        {
         "hovertemplate": "color=Hyderabad,India<br>animation_frame=Jun<br>x=%{x}<extra></extra>",
         "legendgroup": "Hyderabad,India",
         "marker": {
          "color": "#B6E880",
          "symbol": "circle"
         },
         "mode": "markers",
         "name": "Hyderabad,India",
         "showlegend": true,
         "type": "scatter",
         "x": [
          140
         ],
         "xaxis": "x",
         "yaxis": "y"
        },
        {
         "hovertemplate": "color=Budapest, Hungary<br>animation_frame=Jun<br>x=%{x}<extra></extra>",
         "legendgroup": "Budapest, Hungary",
         "marker": {
          "color": "#FF97FF",
          "symbol": "circle"
         },
         "mode": "markers",
         "name": "Budapest, Hungary",
         "showlegend": true,
         "type": "scatter",
         "x": [
          15000
         ],
         "xaxis": "x",
         "yaxis": "y"
        },
        {
         "hovertemplate": "color=Pune, India<br>animation_frame=Jun<br>x=%{x}<extra></extra>",
         "legendgroup": "Pune, India",
         "marker": {
          "color": "#FECB52",
          "symbol": "circle"
         },
         "mode": "markers",
         "name": "Pune, India",
         "showlegend": true,
         "type": "scatter",
         "x": [
          987
         ],
         "xaxis": "x",
         "yaxis": "y"
        },
        {
         "hovertemplate": "color=Delhi, India<br>animation_frame=Jun<br>x=%{x}<extra></extra>",
         "legendgroup": "Delhi, India",
         "marker": {
          "color": "#00cc96",
          "symbol": "circle"
         },
         "mode": "markers",
         "name": "Delhi, India",
         "showlegend": true,
         "type": "scatter",
         "x": [
          11000
         ],
         "xaxis": "x",
         "yaxis": "y"
        },
        {
         "hovertemplate": "color=Ahmedabad, India<br>animation_frame=Jun<br>x=%{x}<extra></extra>",
         "legendgroup": "Ahmedabad, India",
         "marker": {
          "color": "#19d3f3",
          "symbol": "circle"
         },
         "mode": "markers",
         "name": "Ahmedabad, India",
         "showlegend": true,
         "type": "scatter",
         "x": [
          45000
         ],
         "xaxis": "x",
         "yaxis": "y"
        }
       ],
       "frames": [
        {
         "data": [
          {
           "hovertemplate": "color=Bangalore, India<br>animation_frame=Jun<br>x=%{x}<extra></extra>",
           "legendgroup": "Bangalore, India",
           "marker": {
            "color": "#636efa",
            "symbol": "circle"
           },
           "mode": "markers",
           "name": "Bangalore, India",
           "showlegend": true,
           "type": "scatter",
           "x": [
            25000
           ],
           "xaxis": "x",
           "yaxis": "y"
          },
          {
           "hovertemplate": "color=Moscow, Russia<br>animation_frame=Jun<br>x=%{x}<extra></extra>",
           "legendgroup": "Moscow, Russia",
           "marker": {
            "color": "#00cc96",
            "symbol": "circle"
           },
           "mode": "markers",
           "name": "Moscow, Russia",
           "showlegend": true,
           "type": "scatter",
           "x": [
            10543
           ],
           "xaxis": "x",
           "yaxis": "y"
          },
          {
           "hovertemplate": "color=Hyderabad, India<br>animation_frame=Jun<br>x=%{x}<extra></extra>",
           "legendgroup": "Hyderabad, India",
           "marker": {
            "color": "#19d3f3",
            "symbol": "circle"
           },
           "mode": "markers",
           "name": "Hyderabad, India",
           "showlegend": true,
           "type": "scatter",
           "x": [
            1356
           ],
           "xaxis": "x",
           "yaxis": "y"
          },
          {
           "hovertemplate": "color=Mumbai, India<br>animation_frame=Jun<br>x=%{x}<extra></extra>",
           "legendgroup": "Mumbai, India",
           "marker": {
            "color": "#FF6692",
            "symbol": "circle"
           },
           "mode": "markers",
           "name": "Mumbai, India",
           "showlegend": true,
           "type": "scatter",
           "x": [
            345,
            24000
           ],
           "xaxis": "x",
           "yaxis": "y"
          },
          {
           "hovertemplate": "color=Hyderabad,India<br>animation_frame=Jun<br>x=%{x}<extra></extra>",
           "legendgroup": "Hyderabad,India",
           "marker": {
            "color": "#B6E880",
            "symbol": "circle"
           },
           "mode": "markers",
           "name": "Hyderabad,India",
           "showlegend": true,
           "type": "scatter",
           "x": [
            140
           ],
           "xaxis": "x",
           "yaxis": "y"
          },
          {
           "hovertemplate": "color=Budapest, Hungary<br>animation_frame=Jun<br>x=%{x}<extra></extra>",
           "legendgroup": "Budapest, Hungary",
           "marker": {
            "color": "#FF97FF",
            "symbol": "circle"
           },
           "mode": "markers",
           "name": "Budapest, Hungary",
           "showlegend": true,
           "type": "scatter",
           "x": [
            15000
           ],
           "xaxis": "x",
           "yaxis": "y"
          },
          {
           "hovertemplate": "color=Pune, India<br>animation_frame=Jun<br>x=%{x}<extra></extra>",
           "legendgroup": "Pune, India",
           "marker": {
            "color": "#FECB52",
            "symbol": "circle"
           },
           "mode": "markers",
           "name": "Pune, India",
           "showlegend": true,
           "type": "scatter",
           "x": [
            987
           ],
           "xaxis": "x",
           "yaxis": "y"
          },
          {
           "hovertemplate": "color=Delhi, India<br>animation_frame=Jun<br>x=%{x}<extra></extra>",
           "legendgroup": "Delhi, India",
           "marker": {
            "color": "#00cc96",
            "symbol": "circle"
           },
           "mode": "markers",
           "name": "Delhi, India",
           "showlegend": true,
           "type": "scatter",
           "x": [
            11000
           ],
           "xaxis": "x",
           "yaxis": "y"
          },
          {
           "hovertemplate": "color=Ahmedabad, India<br>animation_frame=Jun<br>x=%{x}<extra></extra>",
           "legendgroup": "Ahmedabad, India",
           "marker": {
            "color": "#19d3f3",
            "symbol": "circle"
           },
           "mode": "markers",
           "name": "Ahmedabad, India",
           "showlegend": true,
           "type": "scatter",
           "x": [
            45000
           ],
           "xaxis": "x",
           "yaxis": "y"
          }
         ],
         "name": "Jun"
        },
        {
         "data": [
          {
           "hovertemplate": "color=Bangalore, India<br>animation_frame=Oct<br>x=%{x}<extra></extra>",
           "legendgroup": "Bangalore, India",
           "marker": {
            "color": "#636efa",
            "symbol": "circle"
           },
           "mode": "markers",
           "name": "Bangalore, India",
           "showlegend": true,
           "type": "scatter",
           "x": [
            300,
            75000,
            1200
           ],
           "xaxis": "x",
           "yaxis": "y"
          },
          {
           "hovertemplate": "color=Paris,France<br>animation_frame=Oct<br>x=%{x}<extra></extra>",
           "legendgroup": "Paris,France",
           "marker": {
            "color": "#FFA15A",
            "symbol": "circle"
           },
           "mode": "markers",
           "name": "Paris,France",
           "showlegend": true,
           "type": "scatter",
           "x": [
            1200
           ],
           "xaxis": "x",
           "yaxis": "y"
          },
          {
           "hovertemplate": "color=Mumbai, India<br>animation_frame=Oct<br>x=%{x}<extra></extra>",
           "legendgroup": "Mumbai, India",
           "marker": {
            "color": "#FF6692",
            "symbol": "circle"
           },
           "mode": "markers",
           "name": "Mumbai, India",
           "showlegend": true,
           "type": "scatter",
           "x": [
            1200,
            1987,
            345
           ],
           "xaxis": "x",
           "yaxis": "y"
          },
          {
           "hovertemplate": "color=Budapest, Hungary<br>animation_frame=Oct<br>x=%{x}<extra></extra>",
           "legendgroup": "Budapest, Hungary",
           "marker": {
            "color": "#FF97FF",
            "symbol": "circle"
           },
           "mode": "markers",
           "name": "Budapest, Hungary",
           "showlegend": true,
           "type": "scatter",
           "x": [
            150000
           ],
           "xaxis": "x",
           "yaxis": "y"
          },
          {
           "hovertemplate": "color=Pune, India<br>animation_frame=Oct<br>x=%{x}<extra></extra>",
           "legendgroup": "Pune, India",
           "marker": {
            "color": "#FECB52",
            "symbol": "circle"
           },
           "mode": "markers",
           "name": "Pune, India",
           "showlegend": true,
           "type": "scatter",
           "x": [
            15000
           ],
           "xaxis": "x",
           "yaxis": "y"
          },
          {
           "hovertemplate": "color=Nicosia, Cyprus<br>animation_frame=Oct<br>x=%{x}<extra></extra>",
           "legendgroup": "Nicosia, Cyprus",
           "marker": {
            "color": "#EF553B",
            "symbol": "circle"
           },
           "mode": "markers",
           "name": "Nicosia, Cyprus",
           "showlegend": true,
           "type": "scatter",
           "x": [
            5000
           ],
           "xaxis": "x",
           "yaxis": "y"
          },
          {
           "hovertemplate": "color=Delhi, India<br>animation_frame=Oct<br>x=%{x}<extra></extra>",
           "legendgroup": "Delhi, India",
           "marker": {
            "color": "#00cc96",
            "symbol": "circle"
           },
           "mode": "markers",
           "name": "Delhi, India",
           "showlegend": true,
           "type": "scatter",
           "x": [
            300,
            1356
           ],
           "xaxis": "x",
           "yaxis": "y"
          },
          {
           "hovertemplate": "color=NewYork, USA<br>animation_frame=Oct<br>x=%{x}<extra></extra>",
           "legendgroup": "NewYork, USA",
           "marker": {
            "color": "#ab63fa",
            "symbol": "circle"
           },
           "mode": "markers",
           "name": "NewYork, USA",
           "showlegend": true,
           "type": "scatter",
           "x": [
            9056
           ],
           "xaxis": "x",
           "yaxis": "y"
          },
          {
           "hovertemplate": "color=Ahmedabad, India<br>animation_frame=Oct<br>x=%{x}<extra></extra>",
           "legendgroup": "Ahmedabad, India",
           "marker": {
            "color": "#19d3f3",
            "symbol": "circle"
           },
           "mode": "markers",
           "name": "Ahmedabad, India",
           "showlegend": true,
           "type": "scatter",
           "x": [
            4543,
            132
           ],
           "xaxis": "x",
           "yaxis": "y"
          }
         ],
         "name": "Oct"
        },
        {
         "data": [
          {
           "hovertemplate": "color=London, UK<br>animation_frame=Jul<br>x=%{x}<extra></extra>",
           "legendgroup": "London, UK",
           "marker": {
            "color": "#EF553B",
            "symbol": "circle"
           },
           "mode": "markers",
           "name": "London, UK",
           "showlegend": true,
           "type": "scatter",
           "x": [
            45000,
            9875
           ],
           "xaxis": "x",
           "yaxis": "y"
          },
          {
           "hovertemplate": "color=Mumbai, India<br>animation_frame=Jul<br>x=%{x}<extra></extra>",
           "legendgroup": "Mumbai, India",
           "marker": {
            "color": "#FF6692",
            "symbol": "circle"
           },
           "mode": "markers",
           "name": "Mumbai, India",
           "showlegend": true,
           "type": "scatter",
           "x": [
            12000,
            75000,
            1000,
            10000
           ],
           "xaxis": "x",
           "yaxis": "y"
          },
          {
           "hovertemplate": "color=Delhi, India<br>animation_frame=Jul<br>x=%{x}<extra></extra>",
           "legendgroup": "Delhi, India",
           "marker": {
            "color": "#00cc96",
            "symbol": "circle"
           },
           "mode": "markers",
           "name": "Delhi, India",
           "showlegend": true,
           "type": "scatter",
           "x": [
            25000
           ],
           "xaxis": "x",
           "yaxis": "y"
          },
          {
           "hovertemplate": "color=NewYork, USA<br>animation_frame=Jul<br>x=%{x}<extra></extra>",
           "legendgroup": "NewYork, USA",
           "marker": {
            "color": "#ab63fa",
            "symbol": "circle"
           },
           "mode": "markers",
           "name": "NewYork, USA",
           "showlegend": true,
           "type": "scatter",
           "x": [
            1000
           ],
           "xaxis": "x",
           "yaxis": "y"
          },
          {
           "hovertemplate": "color=Paris, France<br>animation_frame=Jul<br>x=%{x}<extra></extra>",
           "legendgroup": "Paris, France",
           "marker": {
            "color": "#FFA15A",
            "symbol": "circle"
           },
           "mode": "markers",
           "name": "Paris, France",
           "showlegend": true,
           "type": "scatter",
           "x": [
            130000
           ],
           "xaxis": "x",
           "yaxis": "y"
          }
         ],
         "name": "Jul"
        },
        {
         "data": [
          {
           "hovertemplate": "color=Bangalore, India<br>animation_frame=Dec<br>x=%{x}<extra></extra>",
           "legendgroup": "Bangalore, India",
           "marker": {
            "color": "#636efa",
            "symbol": "circle"
           },
           "mode": "markers",
           "name": "Bangalore, India",
           "showlegend": true,
           "type": "scatter",
           "x": [
            45000
           ],
           "xaxis": "x",
           "yaxis": "y"
          },
          {
           "hovertemplate": "color=London, UK<br>animation_frame=Dec<br>x=%{x}<extra></extra>",
           "legendgroup": "London, UK",
           "marker": {
            "color": "#EF553B",
            "symbol": "circle"
           },
           "mode": "markers",
           "name": "London, UK",
           "showlegend": true,
           "type": "scatter",
           "x": [
            670
           ],
           "xaxis": "x",
           "yaxis": "y"
          },
          {
           "hovertemplate": "color=Paris,France<br>animation_frame=Dec<br>x=%{x}<extra></extra>",
           "legendgroup": "Paris,France",
           "marker": {
            "color": "#FFA15A",
            "symbol": "circle"
           },
           "mode": "markers",
           "name": "Paris,France",
           "showlegend": true,
           "type": "scatter",
           "x": [
            1340
           ],
           "xaxis": "x",
           "yaxis": "y"
          },
          {
           "hovertemplate": "color=Mumbai, India<br>animation_frame=Dec<br>x=%{x}<extra></extra>",
           "legendgroup": "Mumbai, India",
           "marker": {
            "color": "#FF6692",
            "symbol": "circle"
           },
           "mode": "markers",
           "name": "Mumbai, India",
           "showlegend": true,
           "type": "scatter",
           "x": [
            112
           ],
           "xaxis": "x",
           "yaxis": "y"
          },
          {
           "hovertemplate": "color=Hyderabad,India<br>animation_frame=Dec<br>x=%{x}<extra></extra>",
           "legendgroup": "Hyderabad,India",
           "marker": {
            "color": "#B6E880",
            "symbol": "circle"
           },
           "mode": "markers",
           "name": "Hyderabad,India",
           "showlegend": true,
           "type": "scatter",
           "x": [
            50000
           ],
           "xaxis": "x",
           "yaxis": "y"
          },
          {
           "hovertemplate": "color=Budapest, Hungary<br>animation_frame=Dec<br>x=%{x}<extra></extra>",
           "legendgroup": "Budapest, Hungary",
           "marker": {
            "color": "#FF97FF",
            "symbol": "circle"
           },
           "mode": "markers",
           "name": "Budapest, Hungary",
           "showlegend": true,
           "type": "scatter",
           "x": [
            907
           ],
           "xaxis": "x",
           "yaxis": "y"
          },
          {
           "hovertemplate": "color=Nicosia, Cyprus<br>animation_frame=Dec<br>x=%{x}<extra></extra>",
           "legendgroup": "Nicosia, Cyprus",
           "marker": {
            "color": "#EF553B",
            "symbol": "circle"
           },
           "mode": "markers",
           "name": "Nicosia, Cyprus",
           "showlegend": true,
           "type": "scatter",
           "x": [
            45000
           ],
           "xaxis": "x",
           "yaxis": "y"
          },
          {
           "hovertemplate": "color=Delhi, India<br>animation_frame=Dec<br>x=%{x}<extra></extra>",
           "legendgroup": "Delhi, India",
           "marker": {
            "color": "#00cc96",
            "symbol": "circle"
           },
           "mode": "markers",
           "name": "Delhi, India",
           "showlegend": true,
           "type": "scatter",
           "x": [
            50
           ],
           "xaxis": "x",
           "yaxis": "y"
          },
          {
           "hovertemplate": "color=Ahmedabad, India<br>animation_frame=Dec<br>x=%{x}<extra></extra>",
           "legendgroup": "Ahmedabad, India",
           "marker": {
            "color": "#19d3f3",
            "symbol": "circle"
           },
           "mode": "markers",
           "name": "Ahmedabad, India",
           "showlegend": true,
           "type": "scatter",
           "x": [
            300
           ],
           "xaxis": "x",
           "yaxis": "y"
          }
         ],
         "name": "Dec"
        },
        {
         "data": [
          {
           "hovertemplate": "color=Bangalore, India<br>animation_frame=Sep<br>x=%{x}<extra></extra>",
           "legendgroup": "Bangalore, India",
           "marker": {
            "color": "#636efa",
            "symbol": "circle"
           },
           "mode": "markers",
           "name": "Bangalore, India",
           "showlegend": true,
           "type": "scatter",
           "x": [
            4543,
            1200
           ],
           "xaxis": "x",
           "yaxis": "y"
          },
          {
           "hovertemplate": "color=Paris,France<br>animation_frame=Sep<br>x=%{x}<extra></extra>",
           "legendgroup": "Paris,France",
           "marker": {
            "color": "#FFA15A",
            "symbol": "circle"
           },
           "mode": "markers",
           "name": "Paris,France",
           "showlegend": true,
           "type": "scatter",
           "x": [
            1340
           ],
           "xaxis": "x",
           "yaxis": "y"
          },
          {
           "hovertemplate": "color=Mumbai, India<br>animation_frame=Sep<br>x=%{x}<extra></extra>",
           "legendgroup": "Mumbai, India",
           "marker": {
            "color": "#FF6692",
            "symbol": "circle"
           },
           "mode": "markers",
           "name": "Mumbai, India",
           "showlegend": true,
           "type": "scatter",
           "x": [
            120,
            4509
           ],
           "xaxis": "x",
           "yaxis": "y"
          },
          {
           "hovertemplate": "color=Hyderabad,India<br>animation_frame=Sep<br>x=%{x}<extra></extra>",
           "legendgroup": "Hyderabad,India",
           "marker": {
            "color": "#B6E880",
            "symbol": "circle"
           },
           "mode": "markers",
           "name": "Hyderabad,India",
           "showlegend": true,
           "type": "scatter",
           "x": [
            10543,
            50
           ],
           "xaxis": "x",
           "yaxis": "y"
          },
          {
           "hovertemplate": "color=Delhi, India<br>animation_frame=Sep<br>x=%{x}<extra></extra>",
           "legendgroup": "Delhi, India",
           "marker": {
            "color": "#00cc96",
            "symbol": "circle"
           },
           "mode": "markers",
           "name": "Delhi, India",
           "showlegend": true,
           "type": "scatter",
           "x": [
            8954,
            1987
           ],
           "xaxis": "x",
           "yaxis": "y"
          }
         ],
         "name": "Sep"
        },
        {
         "data": [
          {
           "hovertemplate": "color=Bangalore, India<br>animation_frame=Nov<br>x=%{x}<extra></extra>",
           "legendgroup": "Bangalore, India",
           "marker": {
            "color": "#636efa",
            "symbol": "circle"
           },
           "mode": "markers",
           "name": "Bangalore, India",
           "showlegend": true,
           "type": "scatter",
           "x": [
            11000
           ],
           "xaxis": "x",
           "yaxis": "y"
          },
          {
           "hovertemplate": "color=Hyderabad, India<br>animation_frame=Nov<br>x=%{x}<extra></extra>",
           "legendgroup": "Hyderabad, India",
           "marker": {
            "color": "#19d3f3",
            "symbol": "circle"
           },
           "mode": "markers",
           "name": "Hyderabad, India",
           "showlegend": true,
           "type": "scatter",
           "x": [
            1356
           ],
           "xaxis": "x",
           "yaxis": "y"
          },
          {
           "hovertemplate": "color=Mumbai, India<br>animation_frame=Nov<br>x=%{x}<extra></extra>",
           "legendgroup": "Mumbai, India",
           "marker": {
            "color": "#FF6692",
            "symbol": "circle"
           },
           "mode": "markers",
           "name": "Mumbai, India",
           "showlegend": true,
           "type": "scatter",
           "x": [
            543
           ],
           "xaxis": "x",
           "yaxis": "y"
          },
          {
           "hovertemplate": "color=Budapest, Hungary<br>animation_frame=Nov<br>x=%{x}<extra></extra>",
           "legendgroup": "Budapest, Hungary",
           "marker": {
            "color": "#FF97FF",
            "symbol": "circle"
           },
           "mode": "markers",
           "name": "Budapest, Hungary",
           "showlegend": true,
           "type": "scatter",
           "x": [
            12000,
            12567
           ],
           "xaxis": "x",
           "yaxis": "y"
          },
          {
           "hovertemplate": "color=Delhi, India<br>animation_frame=Nov<br>x=%{x}<extra></extra>",
           "legendgroup": "Delhi, India",
           "marker": {
            "color": "#00cc96",
            "symbol": "circle"
           },
           "mode": "markers",
           "name": "Delhi, India",
           "showlegend": true,
           "type": "scatter",
           "x": [
            150000
           ],
           "xaxis": "x",
           "yaxis": "y"
          }
         ],
         "name": "Nov"
        },
        {
         "data": [
          {
           "hovertemplate": "color=Bangalore, India<br>animation_frame=May<br>x=%{x}<extra></extra>",
           "legendgroup": "Bangalore, India",
           "marker": {
            "color": "#636efa",
            "symbol": "circle"
           },
           "mode": "markers",
           "name": "Bangalore, India",
           "showlegend": true,
           "type": "scatter",
           "x": [
            1340
           ],
           "xaxis": "x",
           "yaxis": "y"
          },
          {
           "hovertemplate": "color=Moscow, Russia<br>animation_frame=May<br>x=%{x}<extra></extra>",
           "legendgroup": "Moscow, Russia",
           "marker": {
            "color": "#00cc96",
            "symbol": "circle"
           },
           "mode": "markers",
           "name": "Moscow, Russia",
           "showlegend": true,
           "type": "scatter",
           "x": [
            130000
           ],
           "xaxis": "x",
           "yaxis": "y"
          },
          {
           "hovertemplate": "color=Rabat, Morocco<br>animation_frame=May<br>x=%{x}<extra></extra>",
           "legendgroup": "Rabat, Morocco",
           "marker": {
            "color": "#ab63fa",
            "symbol": "circle"
           },
           "mode": "markers",
           "name": "Rabat, Morocco",
           "showlegend": true,
           "type": "scatter",
           "x": [
            132
           ],
           "xaxis": "x",
           "yaxis": "y"
          },
          {
           "hovertemplate": "color=Paris,France<br>animation_frame=May<br>x=%{x}<extra></extra>",
           "legendgroup": "Paris,France",
           "marker": {
            "color": "#FFA15A",
            "symbol": "circle"
           },
           "mode": "markers",
           "name": "Paris,France",
           "showlegend": true,
           "type": "scatter",
           "x": [
            4000,
            567
           ],
           "xaxis": "x",
           "yaxis": "y"
          },
          {
           "hovertemplate": "color=Mumbai, India<br>animation_frame=May<br>x=%{x}<extra></extra>",
           "legendgroup": "Mumbai, India",
           "marker": {
            "color": "#FF6692",
            "symbol": "circle"
           },
           "mode": "markers",
           "name": "Mumbai, India",
           "showlegend": true,
           "type": "scatter",
           "x": [
            1200,
            24000,
            23467
           ],
           "xaxis": "x",
           "yaxis": "y"
          },
          {
           "hovertemplate": "color=Budapest, Hungary<br>animation_frame=May<br>x=%{x}<extra></extra>",
           "legendgroup": "Budapest, Hungary",
           "marker": {
            "color": "#FF97FF",
            "symbol": "circle"
           },
           "mode": "markers",
           "name": "Budapest, Hungary",
           "showlegend": true,
           "type": "scatter",
           "x": [
            9875
           ],
           "xaxis": "x",
           "yaxis": "y"
          },
          {
           "hovertemplate": "color=Pune, India<br>animation_frame=May<br>x=%{x}<extra></extra>",
           "legendgroup": "Pune, India",
           "marker": {
            "color": "#FECB52",
            "symbol": "circle"
           },
           "mode": "markers",
           "name": "Pune, India",
           "showlegend": true,
           "type": "scatter",
           "x": [
            987
           ],
           "xaxis": "x",
           "yaxis": "y"
          },
          {
           "hovertemplate": "color=Delhi, India<br>animation_frame=May<br>x=%{x}<extra></extra>",
           "legendgroup": "Delhi, India",
           "marker": {
            "color": "#00cc96",
            "symbol": "circle"
           },
           "mode": "markers",
           "name": "Delhi, India",
           "showlegend": true,
           "type": "scatter",
           "x": [
            4000,
            130000
           ],
           "xaxis": "x",
           "yaxis": "y"
          }
         ],
         "name": "May"
        },
        {
         "data": [
          {
           "hovertemplate": "color=Bangalore, India<br>animation_frame=Jan<br>x=%{x}<extra></extra>",
           "legendgroup": "Bangalore, India",
           "marker": {
            "color": "#636efa",
            "symbol": "circle"
           },
           "mode": "markers",
           "name": "Bangalore, India",
           "showlegend": true,
           "type": "scatter",
           "x": [
            670
           ],
           "xaxis": "x",
           "yaxis": "y"
          },
          {
           "hovertemplate": "color=Hyderabad, India<br>animation_frame=Jan<br>x=%{x}<extra></extra>",
           "legendgroup": "Hyderabad, India",
           "marker": {
            "color": "#19d3f3",
            "symbol": "circle"
           },
           "mode": "markers",
           "name": "Hyderabad, India",
           "showlegend": true,
           "type": "scatter",
           "x": [
            1200
           ],
           "xaxis": "x",
           "yaxis": "y"
          },
          {
           "hovertemplate": "color=Mumbai, India<br>animation_frame=Jan<br>x=%{x}<extra></extra>",
           "legendgroup": "Mumbai, India",
           "marker": {
            "color": "#FF6692",
            "symbol": "circle"
           },
           "mode": "markers",
           "name": "Mumbai, India",
           "showlegend": true,
           "type": "scatter",
           "x": [
            4000
           ],
           "xaxis": "x",
           "yaxis": "y"
          },
          {
           "hovertemplate": "color=Hyderabad,India<br>animation_frame=Jan<br>x=%{x}<extra></extra>",
           "legendgroup": "Hyderabad,India",
           "marker": {
            "color": "#B6E880",
            "symbol": "circle"
           },
           "mode": "markers",
           "name": "Hyderabad,India",
           "showlegend": true,
           "type": "scatter",
           "x": [
            800
           ],
           "xaxis": "x",
           "yaxis": "y"
          },
          {
           "hovertemplate": "color=Delhi, India<br>animation_frame=Jan<br>x=%{x}<extra></extra>",
           "legendgroup": "Delhi, India",
           "marker": {
            "color": "#00cc96",
            "symbol": "circle"
           },
           "mode": "markers",
           "name": "Delhi, India",
           "showlegend": true,
           "type": "scatter",
           "x": [
            4543
           ],
           "xaxis": "x",
           "yaxis": "y"
          }
         ],
         "name": "Jan"
        },
        {
         "data": [
          {
           "hovertemplate": "color=Hyderabad, India<br>animation_frame=Apr<br>x=%{x}<extra></extra>",
           "legendgroup": "Hyderabad, India",
           "marker": {
            "color": "#19d3f3",
            "symbol": "circle"
           },
           "mode": "markers",
           "name": "Hyderabad, India",
           "showlegend": true,
           "type": "scatter",
           "x": [
            1200
           ],
           "xaxis": "x",
           "yaxis": "y"
          },
          {
           "hovertemplate": "color=Mumbai, India<br>animation_frame=Apr<br>x=%{x}<extra></extra>",
           "legendgroup": "Mumbai, India",
           "marker": {
            "color": "#FF6692",
            "symbol": "circle"
           },
           "mode": "markers",
           "name": "Mumbai, India",
           "showlegend": true,
           "type": "scatter",
           "x": [
            11000,
            4000
           ],
           "xaxis": "x",
           "yaxis": "y"
          },
          {
           "hovertemplate": "color=Delhi, India<br>animation_frame=Apr<br>x=%{x}<extra></extra>",
           "legendgroup": "Delhi, India",
           "marker": {
            "color": "#00cc96",
            "symbol": "circle"
           },
           "mode": "markers",
           "name": "Delhi, India",
           "showlegend": true,
           "type": "scatter",
           "x": [
            890,
            23467
           ],
           "xaxis": "x",
           "yaxis": "y"
          },
          {
           "hovertemplate": "color=Paris, France<br>animation_frame=Apr<br>x=%{x}<extra></extra>",
           "legendgroup": "Paris, France",
           "marker": {
            "color": "#FFA15A",
            "symbol": "circle"
           },
           "mode": "markers",
           "name": "Paris, France",
           "showlegend": true,
           "type": "scatter",
           "x": [
            25000,
            11000
           ],
           "xaxis": "x",
           "yaxis": "y"
          },
          {
           "hovertemplate": "color=Hyderabad, ndia<br>animation_frame=Apr<br>x=%{x}<extra></extra>",
           "legendgroup": "Hyderabad, ndia",
           "marker": {
            "color": "#FF6692",
            "symbol": "circle"
           },
           "mode": "markers",
           "name": "Hyderabad, ndia",
           "showlegend": true,
           "type": "scatter",
           "x": [
            140
           ],
           "xaxis": "x",
           "yaxis": "y"
          }
         ],
         "name": "Apr"
        },
        {
         "data": [
          {
           "hovertemplate": "color=Bangalore, India<br>animation_frame=Feb<br>x=%{x}<extra></extra>",
           "legendgroup": "Bangalore, India",
           "marker": {
            "color": "#636efa",
            "symbol": "circle"
           },
           "mode": "markers",
           "name": "Bangalore, India",
           "showlegend": true,
           "type": "scatter",
           "x": [
            670,
            120
           ],
           "xaxis": "x",
           "yaxis": "y"
          },
          {
           "hovertemplate": "color=Mumbai, India<br>animation_frame=Feb<br>x=%{x}<extra></extra>",
           "legendgroup": "Mumbai, India",
           "marker": {
            "color": "#FF6692",
            "symbol": "circle"
           },
           "mode": "markers",
           "name": "Mumbai, India",
           "showlegend": true,
           "type": "scatter",
           "x": [
            994,
            140,
            12000,
            5000
           ],
           "xaxis": "x",
           "yaxis": "y"
          },
          {
           "hovertemplate": "color=Budapest, Hungary<br>animation_frame=Feb<br>x=%{x}<extra></extra>",
           "legendgroup": "Budapest, Hungary",
           "marker": {
            "color": "#FF97FF",
            "symbol": "circle"
           },
           "mode": "markers",
           "name": "Budapest, Hungary",
           "showlegend": true,
           "type": "scatter",
           "x": [
            907
           ],
           "xaxis": "x",
           "yaxis": "y"
          },
          {
           "hovertemplate": "color=Nicosia, Cyprus<br>animation_frame=Feb<br>x=%{x}<extra></extra>",
           "legendgroup": "Nicosia, Cyprus",
           "marker": {
            "color": "#EF553B",
            "symbol": "circle"
           },
           "mode": "markers",
           "name": "Nicosia, Cyprus",
           "showlegend": true,
           "type": "scatter",
           "x": [
            5000
           ],
           "xaxis": "x",
           "yaxis": "y"
          },
          {
           "hovertemplate": "color=Delhi, India<br>animation_frame=Feb<br>x=%{x}<extra></extra>",
           "legendgroup": "Delhi, India",
           "marker": {
            "color": "#00cc96",
            "symbol": "circle"
           },
           "mode": "markers",
           "name": "Delhi, India",
           "showlegend": true,
           "type": "scatter",
           "x": [
            175600,
            132
           ],
           "xaxis": "x",
           "yaxis": "y"
          }
         ],
         "name": "Feb"
        },
        {
         "data": [
          {
           "hovertemplate": "color=Hyderabad, India<br>animation_frame=Mar<br>x=%{x}<extra></extra>",
           "legendgroup": "Hyderabad, India",
           "marker": {
            "color": "#19d3f3",
            "symbol": "circle"
           },
           "mode": "markers",
           "name": "Hyderabad, India",
           "showlegend": true,
           "type": "scatter",
           "x": [
            50000
           ],
           "xaxis": "x",
           "yaxis": "y"
          },
          {
           "hovertemplate": "color=Mumbai, India<br>animation_frame=Mar<br>x=%{x}<extra></extra>",
           "legendgroup": "Mumbai, India",
           "marker": {
            "color": "#FF6692",
            "symbol": "circle"
           },
           "mode": "markers",
           "name": "Mumbai, India",
           "showlegend": true,
           "type": "scatter",
           "x": [
            140,
            4509,
            800
           ],
           "xaxis": "x",
           "yaxis": "y"
          },
          {
           "hovertemplate": "color=Pune, India<br>animation_frame=Mar<br>x=%{x}<extra></extra>",
           "legendgroup": "Pune, India",
           "marker": {
            "color": "#FECB52",
            "symbol": "circle"
           },
           "mode": "markers",
           "name": "Pune, India",
           "showlegend": true,
           "type": "scatter",
           "x": [
            1200
           ],
           "xaxis": "x",
           "yaxis": "y"
          },
          {
           "hovertemplate": "color=mumbai, India<br>animation_frame=Mar<br>x=%{x}<extra></extra>",
           "legendgroup": "mumbai, India",
           "marker": {
            "color": "#636efa",
            "symbol": "circle"
           },
           "mode": "markers",
           "name": "mumbai, India",
           "showlegend": true,
           "type": "scatter",
           "x": [
            543,
            112,
            45000
           ],
           "xaxis": "x",
           "yaxis": "y"
          },
          {
           "hovertemplate": "color=Delhi, India<br>animation_frame=Mar<br>x=%{x}<extra></extra>",
           "legendgroup": "Delhi, India",
           "marker": {
            "color": "#00cc96",
            "symbol": "circle"
           },
           "mode": "markers",
           "name": "Delhi, India",
           "showlegend": true,
           "type": "scatter",
           "x": [
            10000
           ],
           "xaxis": "x",
           "yaxis": "y"
          }
         ],
         "name": "Mar"
        },
        {
         "data": [
          {
           "hovertemplate": "color=Hyderabad, India<br>animation_frame=Aug<br>x=%{x}<extra></extra>",
           "legendgroup": "Hyderabad, India",
           "marker": {
            "color": "#19d3f3",
            "symbol": "circle"
           },
           "mode": "markers",
           "name": "Hyderabad, India",
           "showlegend": true,
           "type": "scatter",
           "x": [
            11000
           ],
           "xaxis": "x",
           "yaxis": "y"
          },
          {
           "hovertemplate": "color=Mumbai, India<br>animation_frame=Aug<br>x=%{x}<extra></extra>",
           "legendgroup": "Mumbai, India",
           "marker": {
            "color": "#FF6692",
            "symbol": "circle"
           },
           "mode": "markers",
           "name": "Mumbai, India",
           "showlegend": true,
           "type": "scatter",
           "x": [
            994
           ],
           "xaxis": "x",
           "yaxis": "y"
          },
          {
           "hovertemplate": "color=mumbai, India<br>animation_frame=Aug<br>x=%{x}<extra></extra>",
           "legendgroup": "mumbai, India",
           "marker": {
            "color": "#636efa",
            "symbol": "circle"
           },
           "mode": "markers",
           "name": "mumbai, India",
           "showlegend": true,
           "type": "scatter",
           "x": [
            12567
           ],
           "xaxis": "x",
           "yaxis": "y"
          },
          {
           "hovertemplate": "color=Delhi, India<br>animation_frame=Aug<br>x=%{x}<extra></extra>",
           "legendgroup": "Delhi, India",
           "marker": {
            "color": "#00cc96",
            "symbol": "circle"
           },
           "mode": "markers",
           "name": "Delhi, India",
           "showlegend": true,
           "type": "scatter",
           "x": [
            1200
           ],
           "xaxis": "x",
           "yaxis": "y"
          }
         ],
         "name": "Aug"
        }
       ],
       "layout": {
        "legend": {
         "title": {
          "text": "color"
         },
         "tracegroupgap": 0
        },
        "margin": {
         "t": 60
        },
        "sliders": [
         {
          "active": 0,
          "currentvalue": {
           "prefix": "animation_frame="
          },
          "len": 0.9,
          "pad": {
           "b": 10,
           "t": 60
          },
          "steps": [
           {
            "args": [
             [
              "Jun"
             ],
             {
              "frame": {
               "duration": 0,
               "redraw": false
              },
              "fromcurrent": true,
              "mode": "immediate",
              "transition": {
               "duration": 0,
               "easing": "linear"
              }
             }
            ],
            "label": "Jun",
            "method": "animate"
           },
           {
            "args": [
             [
              "Oct"
             ],
             {
              "frame": {
               "duration": 0,
               "redraw": false
              },
              "fromcurrent": true,
              "mode": "immediate",
              "transition": {
               "duration": 0,
               "easing": "linear"
              }
             }
            ],
            "label": "Oct",
            "method": "animate"
           },
           {
            "args": [
             [
              "Jul"
             ],
             {
              "frame": {
               "duration": 0,
               "redraw": false
              },
              "fromcurrent": true,
              "mode": "immediate",
              "transition": {
               "duration": 0,
               "easing": "linear"
              }
             }
            ],
            "label": "Jul",
            "method": "animate"
           },
           {
            "args": [
             [
              "Dec"
             ],
             {
              "frame": {
               "duration": 0,
               "redraw": false
              },
              "fromcurrent": true,
              "mode": "immediate",
              "transition": {
               "duration": 0,
               "easing": "linear"
              }
             }
            ],
            "label": "Dec",
            "method": "animate"
           },
           {
            "args": [
             [
              "Sep"
             ],
             {
              "frame": {
               "duration": 0,
               "redraw": false
              },
              "fromcurrent": true,
              "mode": "immediate",
              "transition": {
               "duration": 0,
               "easing": "linear"
              }
             }
            ],
            "label": "Sep",
            "method": "animate"
           },
           {
            "args": [
             [
              "Nov"
             ],
             {
              "frame": {
               "duration": 0,
               "redraw": false
              },
              "fromcurrent": true,
              "mode": "immediate",
              "transition": {
               "duration": 0,
               "easing": "linear"
              }
             }
            ],
            "label": "Nov",
            "method": "animate"
           },
           {
            "args": [
             [
              "May"
             ],
             {
              "frame": {
               "duration": 0,
               "redraw": false
              },
              "fromcurrent": true,
              "mode": "immediate",
              "transition": {
               "duration": 0,
               "easing": "linear"
              }
             }
            ],
            "label": "May",
            "method": "animate"
           },
           {
            "args": [
             [
              "Jan"
             ],
             {
              "frame": {
               "duration": 0,
               "redraw": false
              },
              "fromcurrent": true,
              "mode": "immediate",
              "transition": {
               "duration": 0,
               "easing": "linear"
              }
             }
            ],
            "label": "Jan",
            "method": "animate"
           },
           {
            "args": [
             [
              "Apr"
             ],
             {
              "frame": {
               "duration": 0,
               "redraw": false
              },
              "fromcurrent": true,
              "mode": "immediate",
              "transition": {
               "duration": 0,
               "easing": "linear"
              }
             }
            ],
            "label": "Apr",
            "method": "animate"
           },
           {
            "args": [
             [
              "Feb"
             ],
             {
              "frame": {
               "duration": 0,
               "redraw": false
              },
              "fromcurrent": true,
              "mode": "immediate",
              "transition": {
               "duration": 0,
               "easing": "linear"
              }
             }
            ],
            "label": "Feb",
            "method": "animate"
           },
           {
            "args": [
             [
              "Mar"
             ],
             {
              "frame": {
               "duration": 0,
               "redraw": false
              },
              "fromcurrent": true,
              "mode": "immediate",
              "transition": {
               "duration": 0,
               "easing": "linear"
              }
             }
            ],
            "label": "Mar",
            "method": "animate"
           },
           {
            "args": [
             [
              "Aug"
             ],
             {
              "frame": {
               "duration": 0,
               "redraw": false
              },
              "fromcurrent": true,
              "mode": "immediate",
              "transition": {
               "duration": 0,
               "easing": "linear"
              }
             }
            ],
            "label": "Aug",
            "method": "animate"
           }
          ],
          "x": 0.1,
          "xanchor": "left",
          "y": 0,
          "yanchor": "top"
         }
        ],
        "template": {
         "data": {
          "bar": [
           {
            "error_x": {
             "color": "#2a3f5f"
            },
            "error_y": {
             "color": "#2a3f5f"
            },
            "marker": {
             "line": {
              "color": "#E5ECF6",
              "width": 0.5
             }
            },
            "type": "bar"
           }
          ],
          "barpolar": [
           {
            "marker": {
             "line": {
              "color": "#E5ECF6",
              "width": 0.5
             }
            },
            "type": "barpolar"
           }
          ],
          "carpet": [
           {
            "aaxis": {
             "endlinecolor": "#2a3f5f",
             "gridcolor": "white",
             "linecolor": "white",
             "minorgridcolor": "white",
             "startlinecolor": "#2a3f5f"
            },
            "baxis": {
             "endlinecolor": "#2a3f5f",
             "gridcolor": "white",
             "linecolor": "white",
             "minorgridcolor": "white",
             "startlinecolor": "#2a3f5f"
            },
            "type": "carpet"
           }
          ],
          "choropleth": [
           {
            "colorbar": {
             "outlinewidth": 0,
             "ticks": ""
            },
            "type": "choropleth"
           }
          ],
          "contour": [
           {
            "colorbar": {
             "outlinewidth": 0,
             "ticks": ""
            },
            "colorscale": [
             [
              0,
              "#0d0887"
             ],
             [
              0.1111111111111111,
              "#46039f"
             ],
             [
              0.2222222222222222,
              "#7201a8"
             ],
             [
              0.3333333333333333,
              "#9c179e"
             ],
             [
              0.4444444444444444,
              "#bd3786"
             ],
             [
              0.5555555555555556,
              "#d8576b"
             ],
             [
              0.6666666666666666,
              "#ed7953"
             ],
             [
              0.7777777777777778,
              "#fb9f3a"
             ],
             [
              0.8888888888888888,
              "#fdca26"
             ],
             [
              1,
              "#f0f921"
             ]
            ],
            "type": "contour"
           }
          ],
          "contourcarpet": [
           {
            "colorbar": {
             "outlinewidth": 0,
             "ticks": ""
            },
            "type": "contourcarpet"
           }
          ],
          "heatmap": [
           {
            "colorbar": {
             "outlinewidth": 0,
             "ticks": ""
            },
            "colorscale": [
             [
              0,
              "#0d0887"
             ],
             [
              0.1111111111111111,
              "#46039f"
             ],
             [
              0.2222222222222222,
              "#7201a8"
             ],
             [
              0.3333333333333333,
              "#9c179e"
             ],
             [
              0.4444444444444444,
              "#bd3786"
             ],
             [
              0.5555555555555556,
              "#d8576b"
             ],
             [
              0.6666666666666666,
              "#ed7953"
             ],
             [
              0.7777777777777778,
              "#fb9f3a"
             ],
             [
              0.8888888888888888,
              "#fdca26"
             ],
             [
              1,
              "#f0f921"
             ]
            ],
            "type": "heatmap"
           }
          ],
          "heatmapgl": [
           {
            "colorbar": {
             "outlinewidth": 0,
             "ticks": ""
            },
            "colorscale": [
             [
              0,
              "#0d0887"
             ],
             [
              0.1111111111111111,
              "#46039f"
             ],
             [
              0.2222222222222222,
              "#7201a8"
             ],
             [
              0.3333333333333333,
              "#9c179e"
             ],
             [
              0.4444444444444444,
              "#bd3786"
             ],
             [
              0.5555555555555556,
              "#d8576b"
             ],
             [
              0.6666666666666666,
              "#ed7953"
             ],
             [
              0.7777777777777778,
              "#fb9f3a"
             ],
             [
              0.8888888888888888,
              "#fdca26"
             ],
             [
              1,
              "#f0f921"
             ]
            ],
            "type": "heatmapgl"
           }
          ],
          "histogram": [
           {
            "marker": {
             "colorbar": {
              "outlinewidth": 0,
              "ticks": ""
             }
            },
            "type": "histogram"
           }
          ],
          "histogram2d": [
           {
            "colorbar": {
             "outlinewidth": 0,
             "ticks": ""
            },
            "colorscale": [
             [
              0,
              "#0d0887"
             ],
             [
              0.1111111111111111,
              "#46039f"
             ],
             [
              0.2222222222222222,
              "#7201a8"
             ],
             [
              0.3333333333333333,
              "#9c179e"
             ],
             [
              0.4444444444444444,
              "#bd3786"
             ],
             [
              0.5555555555555556,
              "#d8576b"
             ],
             [
              0.6666666666666666,
              "#ed7953"
             ],
             [
              0.7777777777777778,
              "#fb9f3a"
             ],
             [
              0.8888888888888888,
              "#fdca26"
             ],
             [
              1,
              "#f0f921"
             ]
            ],
            "type": "histogram2d"
           }
          ],
          "histogram2dcontour": [
           {
            "colorbar": {
             "outlinewidth": 0,
             "ticks": ""
            },
            "colorscale": [
             [
              0,
              "#0d0887"
             ],
             [
              0.1111111111111111,
              "#46039f"
             ],
             [
              0.2222222222222222,
              "#7201a8"
             ],
             [
              0.3333333333333333,
              "#9c179e"
             ],
             [
              0.4444444444444444,
              "#bd3786"
             ],
             [
              0.5555555555555556,
              "#d8576b"
             ],
             [
              0.6666666666666666,
              "#ed7953"
             ],
             [
              0.7777777777777778,
              "#fb9f3a"
             ],
             [
              0.8888888888888888,
              "#fdca26"
             ],
             [
              1,
              "#f0f921"
             ]
            ],
            "type": "histogram2dcontour"
           }
          ],
          "mesh3d": [
           {
            "colorbar": {
             "outlinewidth": 0,
             "ticks": ""
            },
            "type": "mesh3d"
           }
          ],
          "parcoords": [
           {
            "line": {
             "colorbar": {
              "outlinewidth": 0,
              "ticks": ""
             }
            },
            "type": "parcoords"
           }
          ],
          "pie": [
           {
            "automargin": true,
            "type": "pie"
           }
          ],
          "scatter": [
           {
            "marker": {
             "colorbar": {
              "outlinewidth": 0,
              "ticks": ""
             }
            },
            "type": "scatter"
           }
          ],
          "scatter3d": [
           {
            "line": {
             "colorbar": {
              "outlinewidth": 0,
              "ticks": ""
             }
            },
            "marker": {
             "colorbar": {
              "outlinewidth": 0,
              "ticks": ""
             }
            },
            "type": "scatter3d"
           }
          ],
          "scattercarpet": [
           {
            "marker": {
             "colorbar": {
              "outlinewidth": 0,
              "ticks": ""
             }
            },
            "type": "scattercarpet"
           }
          ],
          "scattergeo": [
           {
            "marker": {
             "colorbar": {
              "outlinewidth": 0,
              "ticks": ""
             }
            },
            "type": "scattergeo"
           }
          ],
          "scattergl": [
           {
            "marker": {
             "colorbar": {
              "outlinewidth": 0,
              "ticks": ""
             }
            },
            "type": "scattergl"
           }
          ],
          "scattermapbox": [
           {
            "marker": {
             "colorbar": {
              "outlinewidth": 0,
              "ticks": ""
             }
            },
            "type": "scattermapbox"
           }
          ],
          "scatterpolar": [
           {
            "marker": {
             "colorbar": {
              "outlinewidth": 0,
              "ticks": ""
             }
            },
            "type": "scatterpolar"
           }
          ],
          "scatterpolargl": [
           {
            "marker": {
             "colorbar": {
              "outlinewidth": 0,
              "ticks": ""
             }
            },
            "type": "scatterpolargl"
           }
          ],
          "scatterternary": [
           {
            "marker": {
             "colorbar": {
              "outlinewidth": 0,
              "ticks": ""
             }
            },
            "type": "scatterternary"
           }
          ],
          "surface": [
           {
            "colorbar": {
             "outlinewidth": 0,
             "ticks": ""
            },
            "colorscale": [
             [
              0,
              "#0d0887"
             ],
             [
              0.1111111111111111,
              "#46039f"
             ],
             [
              0.2222222222222222,
              "#7201a8"
             ],
             [
              0.3333333333333333,
              "#9c179e"
             ],
             [
              0.4444444444444444,
              "#bd3786"
             ],
             [
              0.5555555555555556,
              "#d8576b"
             ],
             [
              0.6666666666666666,
              "#ed7953"
             ],
             [
              0.7777777777777778,
              "#fb9f3a"
             ],
             [
              0.8888888888888888,
              "#fdca26"
             ],
             [
              1,
              "#f0f921"
             ]
            ],
            "type": "surface"
           }
          ],
          "table": [
           {
            "cells": {
             "fill": {
              "color": "#EBF0F8"
             },
             "line": {
              "color": "white"
             }
            },
            "header": {
             "fill": {
              "color": "#C8D4E3"
             },
             "line": {
              "color": "white"
             }
            },
            "type": "table"
           }
          ]
         },
         "layout": {
          "annotationdefaults": {
           "arrowcolor": "#2a3f5f",
           "arrowhead": 0,
           "arrowwidth": 1
          },
          "coloraxis": {
           "colorbar": {
            "outlinewidth": 0,
            "ticks": ""
           }
          },
          "colorscale": {
           "diverging": [
            [
             0,
             "#8e0152"
            ],
            [
             0.1,
             "#c51b7d"
            ],
            [
             0.2,
             "#de77ae"
            ],
            [
             0.3,
             "#f1b6da"
            ],
            [
             0.4,
             "#fde0ef"
            ],
            [
             0.5,
             "#f7f7f7"
            ],
            [
             0.6,
             "#e6f5d0"
            ],
            [
             0.7,
             "#b8e186"
            ],
            [
             0.8,
             "#7fbc41"
            ],
            [
             0.9,
             "#4d9221"
            ],
            [
             1,
             "#276419"
            ]
           ],
           "sequential": [
            [
             0,
             "#0d0887"
            ],
            [
             0.1111111111111111,
             "#46039f"
            ],
            [
             0.2222222222222222,
             "#7201a8"
            ],
            [
             0.3333333333333333,
             "#9c179e"
            ],
            [
             0.4444444444444444,
             "#bd3786"
            ],
            [
             0.5555555555555556,
             "#d8576b"
            ],
            [
             0.6666666666666666,
             "#ed7953"
            ],
            [
             0.7777777777777778,
             "#fb9f3a"
            ],
            [
             0.8888888888888888,
             "#fdca26"
            ],
            [
             1,
             "#f0f921"
            ]
           ],
           "sequentialminus": [
            [
             0,
             "#0d0887"
            ],
            [
             0.1111111111111111,
             "#46039f"
            ],
            [
             0.2222222222222222,
             "#7201a8"
            ],
            [
             0.3333333333333333,
             "#9c179e"
            ],
            [
             0.4444444444444444,
             "#bd3786"
            ],
            [
             0.5555555555555556,
             "#d8576b"
            ],
            [
             0.6666666666666666,
             "#ed7953"
            ],
            [
             0.7777777777777778,
             "#fb9f3a"
            ],
            [
             0.8888888888888888,
             "#fdca26"
            ],
            [
             1,
             "#f0f921"
            ]
           ]
          },
          "colorway": [
           "#636efa",
           "#EF553B",
           "#00cc96",
           "#ab63fa",
           "#FFA15A",
           "#19d3f3",
           "#FF6692",
           "#B6E880",
           "#FF97FF",
           "#FECB52"
          ],
          "font": {
           "color": "#2a3f5f"
          },
          "geo": {
           "bgcolor": "white",
           "lakecolor": "white",
           "landcolor": "#E5ECF6",
           "showlakes": true,
           "showland": true,
           "subunitcolor": "white"
          },
          "hoverlabel": {
           "align": "left"
          },
          "hovermode": "closest",
          "mapbox": {
           "style": "light"
          },
          "paper_bgcolor": "white",
          "plot_bgcolor": "#E5ECF6",
          "polar": {
           "angularaxis": {
            "gridcolor": "white",
            "linecolor": "white",
            "ticks": ""
           },
           "bgcolor": "#E5ECF6",
           "radialaxis": {
            "gridcolor": "white",
            "linecolor": "white",
            "ticks": ""
           }
          },
          "scene": {
           "xaxis": {
            "backgroundcolor": "#E5ECF6",
            "gridcolor": "white",
            "gridwidth": 2,
            "linecolor": "white",
            "showbackground": true,
            "ticks": "",
            "zerolinecolor": "white"
           },
           "yaxis": {
            "backgroundcolor": "#E5ECF6",
            "gridcolor": "white",
            "gridwidth": 2,
            "linecolor": "white",
            "showbackground": true,
            "ticks": "",
            "zerolinecolor": "white"
           },
           "zaxis": {
            "backgroundcolor": "#E5ECF6",
            "gridcolor": "white",
            "gridwidth": 2,
            "linecolor": "white",
            "showbackground": true,
            "ticks": "",
            "zerolinecolor": "white"
           }
          },
          "shapedefaults": {
           "line": {
            "color": "#2a3f5f"
           }
          },
          "ternary": {
           "aaxis": {
            "gridcolor": "white",
            "linecolor": "white",
            "ticks": ""
           },
           "baxis": {
            "gridcolor": "white",
            "linecolor": "white",
            "ticks": ""
           },
           "bgcolor": "#E5ECF6",
           "caxis": {
            "gridcolor": "white",
            "linecolor": "white",
            "ticks": ""
           }
          },
          "title": {
           "x": 0.05
          },
          "xaxis": {
           "automargin": true,
           "gridcolor": "white",
           "linecolor": "white",
           "ticks": "",
           "title": {
            "standoff": 15
           },
           "zerolinecolor": "white",
           "zerolinewidth": 2
          },
          "yaxis": {
           "automargin": true,
           "gridcolor": "white",
           "linecolor": "white",
           "ticks": "",
           "title": {
            "standoff": 15
           },
           "zerolinecolor": "white",
           "zerolinewidth": 2
          }
         }
        },
        "updatemenus": [
         {
          "buttons": [
           {
            "args": [
             null,
             {
              "frame": {
               "duration": 500,
               "redraw": false
              },
              "fromcurrent": true,
              "mode": "immediate",
              "transition": {
               "duration": 500,
               "easing": "linear"
              }
             }
            ],
            "label": "&#9654;",
            "method": "animate"
           },
           {
            "args": [
             [
              null
             ],
             {
              "frame": {
               "duration": 0,
               "redraw": false
              },
              "fromcurrent": true,
              "mode": "immediate",
              "transition": {
               "duration": 0,
               "easing": "linear"
              }
             }
            ],
            "label": "&#9724;",
            "method": "animate"
           }
          ],
          "direction": "left",
          "pad": {
           "r": 10,
           "t": 70
          },
          "showactive": false,
          "type": "buttons",
          "x": 0.1,
          "xanchor": "right",
          "y": 0,
          "yanchor": "top"
         }
        ],
        "xaxis": {
         "anchor": "y",
         "domain": [
          0,
          1
         ],
         "title": {
          "text": "x"
         }
        },
        "yaxis": {
         "anchor": "x",
         "domain": [
          0,
          1
         ]
        }
       }
      },
      "text/html": [
       "<div>\n",
       "        \n",
       "        \n",
       "            <div id=\"02388595-3b0b-4321-b161-ab9a9529fa02\" class=\"plotly-graph-div\" style=\"height:525px; width:100%;\"></div>\n",
       "            <script type=\"text/javascript\">\n",
       "                require([\"plotly\"], function(Plotly) {\n",
       "                    window.PLOTLYENV=window.PLOTLYENV || {};\n",
       "                    \n",
       "                if (document.getElementById(\"02388595-3b0b-4321-b161-ab9a9529fa02\")) {\n",
       "                    Plotly.newPlot(\n",
       "                        '02388595-3b0b-4321-b161-ab9a9529fa02',\n",
       "                        [{\"hovertemplate\": \"color=Bangalore, India<br>animation_frame=Jun<br>x=%{x}<extra></extra>\", \"legendgroup\": \"Bangalore, India\", \"marker\": {\"color\": \"#636efa\", \"symbol\": \"circle\"}, \"mode\": \"markers\", \"name\": \"Bangalore, India\", \"showlegend\": true, \"type\": \"scatter\", \"x\": [25000], \"xaxis\": \"x\", \"yaxis\": \"y\"}, {\"hovertemplate\": \"color=Moscow, Russia<br>animation_frame=Jun<br>x=%{x}<extra></extra>\", \"legendgroup\": \"Moscow, Russia\", \"marker\": {\"color\": \"#00cc96\", \"symbol\": \"circle\"}, \"mode\": \"markers\", \"name\": \"Moscow, Russia\", \"showlegend\": true, \"type\": \"scatter\", \"x\": [10543], \"xaxis\": \"x\", \"yaxis\": \"y\"}, {\"hovertemplate\": \"color=Hyderabad, India<br>animation_frame=Jun<br>x=%{x}<extra></extra>\", \"legendgroup\": \"Hyderabad, India\", \"marker\": {\"color\": \"#19d3f3\", \"symbol\": \"circle\"}, \"mode\": \"markers\", \"name\": \"Hyderabad, India\", \"showlegend\": true, \"type\": \"scatter\", \"x\": [1356], \"xaxis\": \"x\", \"yaxis\": \"y\"}, {\"hovertemplate\": \"color=Mumbai, India<br>animation_frame=Jun<br>x=%{x}<extra></extra>\", \"legendgroup\": \"Mumbai, India\", \"marker\": {\"color\": \"#FF6692\", \"symbol\": \"circle\"}, \"mode\": \"markers\", \"name\": \"Mumbai, India\", \"showlegend\": true, \"type\": \"scatter\", \"x\": [345, 24000], \"xaxis\": \"x\", \"yaxis\": \"y\"}, {\"hovertemplate\": \"color=Hyderabad,India<br>animation_frame=Jun<br>x=%{x}<extra></extra>\", \"legendgroup\": \"Hyderabad,India\", \"marker\": {\"color\": \"#B6E880\", \"symbol\": \"circle\"}, \"mode\": \"markers\", \"name\": \"Hyderabad,India\", \"showlegend\": true, \"type\": \"scatter\", \"x\": [140], \"xaxis\": \"x\", \"yaxis\": \"y\"}, {\"hovertemplate\": \"color=Budapest, Hungary<br>animation_frame=Jun<br>x=%{x}<extra></extra>\", \"legendgroup\": \"Budapest, Hungary\", \"marker\": {\"color\": \"#FF97FF\", \"symbol\": \"circle\"}, \"mode\": \"markers\", \"name\": \"Budapest, Hungary\", \"showlegend\": true, \"type\": \"scatter\", \"x\": [15000], \"xaxis\": \"x\", \"yaxis\": \"y\"}, {\"hovertemplate\": \"color=Pune, India<br>animation_frame=Jun<br>x=%{x}<extra></extra>\", \"legendgroup\": \"Pune, India\", \"marker\": {\"color\": \"#FECB52\", \"symbol\": \"circle\"}, \"mode\": \"markers\", \"name\": \"Pune, India\", \"showlegend\": true, \"type\": \"scatter\", \"x\": [987], \"xaxis\": \"x\", \"yaxis\": \"y\"}, {\"hovertemplate\": \"color=Delhi, India<br>animation_frame=Jun<br>x=%{x}<extra></extra>\", \"legendgroup\": \"Delhi, India\", \"marker\": {\"color\": \"#00cc96\", \"symbol\": \"circle\"}, \"mode\": \"markers\", \"name\": \"Delhi, India\", \"showlegend\": true, \"type\": \"scatter\", \"x\": [11000], \"xaxis\": \"x\", \"yaxis\": \"y\"}, {\"hovertemplate\": \"color=Ahmedabad, India<br>animation_frame=Jun<br>x=%{x}<extra></extra>\", \"legendgroup\": \"Ahmedabad, India\", \"marker\": {\"color\": \"#19d3f3\", \"symbol\": \"circle\"}, \"mode\": \"markers\", \"name\": \"Ahmedabad, India\", \"showlegend\": true, \"type\": \"scatter\", \"x\": [45000], \"xaxis\": \"x\", \"yaxis\": \"y\"}],\n",
       "                        {\"legend\": {\"title\": {\"text\": \"color\"}, \"tracegroupgap\": 0}, \"margin\": {\"t\": 60}, \"sliders\": [{\"active\": 0, \"currentvalue\": {\"prefix\": \"animation_frame=\"}, \"len\": 0.9, \"pad\": {\"b\": 10, \"t\": 60}, \"steps\": [{\"args\": [[\"Jun\"], {\"frame\": {\"duration\": 0, \"redraw\": false}, \"fromcurrent\": true, \"mode\": \"immediate\", \"transition\": {\"duration\": 0, \"easing\": \"linear\"}}], \"label\": \"Jun\", \"method\": \"animate\"}, {\"args\": [[\"Oct\"], {\"frame\": {\"duration\": 0, \"redraw\": false}, \"fromcurrent\": true, \"mode\": \"immediate\", \"transition\": {\"duration\": 0, \"easing\": \"linear\"}}], \"label\": \"Oct\", \"method\": \"animate\"}, {\"args\": [[\"Jul\"], {\"frame\": {\"duration\": 0, \"redraw\": false}, \"fromcurrent\": true, \"mode\": \"immediate\", \"transition\": {\"duration\": 0, \"easing\": \"linear\"}}], \"label\": \"Jul\", \"method\": \"animate\"}, {\"args\": [[\"Dec\"], {\"frame\": {\"duration\": 0, \"redraw\": false}, \"fromcurrent\": true, \"mode\": \"immediate\", \"transition\": {\"duration\": 0, \"easing\": \"linear\"}}], \"label\": \"Dec\", \"method\": \"animate\"}, {\"args\": [[\"Sep\"], {\"frame\": {\"duration\": 0, \"redraw\": false}, \"fromcurrent\": true, \"mode\": \"immediate\", \"transition\": {\"duration\": 0, \"easing\": \"linear\"}}], \"label\": \"Sep\", \"method\": \"animate\"}, {\"args\": [[\"Nov\"], {\"frame\": {\"duration\": 0, \"redraw\": false}, \"fromcurrent\": true, \"mode\": \"immediate\", \"transition\": {\"duration\": 0, \"easing\": \"linear\"}}], \"label\": \"Nov\", \"method\": \"animate\"}, {\"args\": [[\"May\"], {\"frame\": {\"duration\": 0, \"redraw\": false}, \"fromcurrent\": true, \"mode\": \"immediate\", \"transition\": {\"duration\": 0, \"easing\": \"linear\"}}], \"label\": \"May\", \"method\": \"animate\"}, {\"args\": [[\"Jan\"], {\"frame\": {\"duration\": 0, \"redraw\": false}, \"fromcurrent\": true, \"mode\": \"immediate\", \"transition\": {\"duration\": 0, \"easing\": \"linear\"}}], \"label\": \"Jan\", \"method\": \"animate\"}, {\"args\": [[\"Apr\"], {\"frame\": {\"duration\": 0, \"redraw\": false}, \"fromcurrent\": true, \"mode\": \"immediate\", \"transition\": {\"duration\": 0, \"easing\": \"linear\"}}], \"label\": \"Apr\", \"method\": \"animate\"}, {\"args\": [[\"Feb\"], {\"frame\": {\"duration\": 0, \"redraw\": false}, \"fromcurrent\": true, \"mode\": \"immediate\", \"transition\": {\"duration\": 0, \"easing\": \"linear\"}}], \"label\": \"Feb\", \"method\": \"animate\"}, {\"args\": [[\"Mar\"], {\"frame\": {\"duration\": 0, \"redraw\": false}, \"fromcurrent\": true, \"mode\": \"immediate\", \"transition\": {\"duration\": 0, \"easing\": \"linear\"}}], \"label\": \"Mar\", \"method\": \"animate\"}, {\"args\": [[\"Aug\"], {\"frame\": {\"duration\": 0, \"redraw\": false}, \"fromcurrent\": true, \"mode\": \"immediate\", \"transition\": {\"duration\": 0, \"easing\": \"linear\"}}], \"label\": \"Aug\", \"method\": \"animate\"}], \"x\": 0.1, \"xanchor\": \"left\", \"y\": 0, \"yanchor\": \"top\"}], \"template\": {\"data\": {\"bar\": [{\"error_x\": {\"color\": \"#2a3f5f\"}, \"error_y\": {\"color\": \"#2a3f5f\"}, \"marker\": {\"line\": {\"color\": \"#E5ECF6\", \"width\": 0.5}}, \"type\": \"bar\"}], \"barpolar\": [{\"marker\": {\"line\": {\"color\": \"#E5ECF6\", \"width\": 0.5}}, \"type\": \"barpolar\"}], \"carpet\": [{\"aaxis\": {\"endlinecolor\": \"#2a3f5f\", \"gridcolor\": \"white\", \"linecolor\": \"white\", \"minorgridcolor\": \"white\", \"startlinecolor\": \"#2a3f5f\"}, \"baxis\": {\"endlinecolor\": \"#2a3f5f\", \"gridcolor\": \"white\", \"linecolor\": \"white\", \"minorgridcolor\": \"white\", \"startlinecolor\": \"#2a3f5f\"}, \"type\": \"carpet\"}], \"choropleth\": [{\"colorbar\": {\"outlinewidth\": 0, \"ticks\": \"\"}, \"type\": \"choropleth\"}], \"contour\": [{\"colorbar\": {\"outlinewidth\": 0, \"ticks\": \"\"}, \"colorscale\": [[0.0, \"#0d0887\"], [0.1111111111111111, \"#46039f\"], [0.2222222222222222, \"#7201a8\"], [0.3333333333333333, \"#9c179e\"], [0.4444444444444444, \"#bd3786\"], [0.5555555555555556, \"#d8576b\"], [0.6666666666666666, \"#ed7953\"], [0.7777777777777778, \"#fb9f3a\"], [0.8888888888888888, \"#fdca26\"], [1.0, \"#f0f921\"]], \"type\": \"contour\"}], \"contourcarpet\": [{\"colorbar\": {\"outlinewidth\": 0, \"ticks\": \"\"}, \"type\": \"contourcarpet\"}], \"heatmap\": [{\"colorbar\": {\"outlinewidth\": 0, \"ticks\": \"\"}, \"colorscale\": [[0.0, \"#0d0887\"], [0.1111111111111111, \"#46039f\"], [0.2222222222222222, \"#7201a8\"], [0.3333333333333333, \"#9c179e\"], [0.4444444444444444, \"#bd3786\"], [0.5555555555555556, \"#d8576b\"], [0.6666666666666666, \"#ed7953\"], [0.7777777777777778, \"#fb9f3a\"], [0.8888888888888888, \"#fdca26\"], [1.0, \"#f0f921\"]], \"type\": \"heatmap\"}], \"heatmapgl\": [{\"colorbar\": {\"outlinewidth\": 0, \"ticks\": \"\"}, \"colorscale\": [[0.0, \"#0d0887\"], [0.1111111111111111, \"#46039f\"], [0.2222222222222222, \"#7201a8\"], [0.3333333333333333, \"#9c179e\"], [0.4444444444444444, \"#bd3786\"], [0.5555555555555556, \"#d8576b\"], [0.6666666666666666, \"#ed7953\"], [0.7777777777777778, \"#fb9f3a\"], [0.8888888888888888, \"#fdca26\"], [1.0, \"#f0f921\"]], \"type\": \"heatmapgl\"}], \"histogram\": [{\"marker\": {\"colorbar\": {\"outlinewidth\": 0, \"ticks\": \"\"}}, \"type\": \"histogram\"}], \"histogram2d\": [{\"colorbar\": {\"outlinewidth\": 0, \"ticks\": \"\"}, \"colorscale\": [[0.0, \"#0d0887\"], [0.1111111111111111, \"#46039f\"], [0.2222222222222222, \"#7201a8\"], [0.3333333333333333, \"#9c179e\"], [0.4444444444444444, \"#bd3786\"], [0.5555555555555556, \"#d8576b\"], [0.6666666666666666, \"#ed7953\"], [0.7777777777777778, \"#fb9f3a\"], [0.8888888888888888, \"#fdca26\"], [1.0, \"#f0f921\"]], \"type\": \"histogram2d\"}], \"histogram2dcontour\": [{\"colorbar\": {\"outlinewidth\": 0, \"ticks\": \"\"}, \"colorscale\": [[0.0, \"#0d0887\"], [0.1111111111111111, \"#46039f\"], [0.2222222222222222, \"#7201a8\"], [0.3333333333333333, \"#9c179e\"], [0.4444444444444444, \"#bd3786\"], [0.5555555555555556, \"#d8576b\"], [0.6666666666666666, \"#ed7953\"], [0.7777777777777778, \"#fb9f3a\"], [0.8888888888888888, \"#fdca26\"], [1.0, \"#f0f921\"]], \"type\": \"histogram2dcontour\"}], \"mesh3d\": [{\"colorbar\": {\"outlinewidth\": 0, \"ticks\": \"\"}, \"type\": \"mesh3d\"}], \"parcoords\": [{\"line\": {\"colorbar\": {\"outlinewidth\": 0, \"ticks\": \"\"}}, \"type\": \"parcoords\"}], \"pie\": [{\"automargin\": true, \"type\": \"pie\"}], \"scatter\": [{\"marker\": {\"colorbar\": {\"outlinewidth\": 0, \"ticks\": \"\"}}, \"type\": \"scatter\"}], \"scatter3d\": [{\"line\": {\"colorbar\": {\"outlinewidth\": 0, \"ticks\": \"\"}}, \"marker\": {\"colorbar\": {\"outlinewidth\": 0, \"ticks\": \"\"}}, \"type\": \"scatter3d\"}], \"scattercarpet\": [{\"marker\": {\"colorbar\": {\"outlinewidth\": 0, \"ticks\": \"\"}}, \"type\": \"scattercarpet\"}], \"scattergeo\": [{\"marker\": {\"colorbar\": {\"outlinewidth\": 0, \"ticks\": \"\"}}, \"type\": \"scattergeo\"}], \"scattergl\": [{\"marker\": {\"colorbar\": {\"outlinewidth\": 0, \"ticks\": \"\"}}, \"type\": \"scattergl\"}], \"scattermapbox\": [{\"marker\": {\"colorbar\": {\"outlinewidth\": 0, \"ticks\": \"\"}}, \"type\": \"scattermapbox\"}], \"scatterpolar\": [{\"marker\": {\"colorbar\": {\"outlinewidth\": 0, \"ticks\": \"\"}}, \"type\": \"scatterpolar\"}], \"scatterpolargl\": [{\"marker\": {\"colorbar\": {\"outlinewidth\": 0, \"ticks\": \"\"}}, \"type\": \"scatterpolargl\"}], \"scatterternary\": [{\"marker\": {\"colorbar\": {\"outlinewidth\": 0, \"ticks\": \"\"}}, \"type\": \"scatterternary\"}], \"surface\": [{\"colorbar\": {\"outlinewidth\": 0, \"ticks\": \"\"}, \"colorscale\": [[0.0, \"#0d0887\"], [0.1111111111111111, \"#46039f\"], [0.2222222222222222, \"#7201a8\"], [0.3333333333333333, \"#9c179e\"], [0.4444444444444444, \"#bd3786\"], [0.5555555555555556, \"#d8576b\"], [0.6666666666666666, \"#ed7953\"], [0.7777777777777778, \"#fb9f3a\"], [0.8888888888888888, \"#fdca26\"], [1.0, \"#f0f921\"]], \"type\": \"surface\"}], \"table\": [{\"cells\": {\"fill\": {\"color\": \"#EBF0F8\"}, \"line\": {\"color\": \"white\"}}, \"header\": {\"fill\": {\"color\": \"#C8D4E3\"}, \"line\": {\"color\": \"white\"}}, \"type\": \"table\"}]}, \"layout\": {\"annotationdefaults\": {\"arrowcolor\": \"#2a3f5f\", \"arrowhead\": 0, \"arrowwidth\": 1}, \"coloraxis\": {\"colorbar\": {\"outlinewidth\": 0, \"ticks\": \"\"}}, \"colorscale\": {\"diverging\": [[0, \"#8e0152\"], [0.1, \"#c51b7d\"], [0.2, \"#de77ae\"], [0.3, \"#f1b6da\"], [0.4, \"#fde0ef\"], [0.5, \"#f7f7f7\"], [0.6, \"#e6f5d0\"], [0.7, \"#b8e186\"], [0.8, \"#7fbc41\"], [0.9, \"#4d9221\"], [1, \"#276419\"]], \"sequential\": [[0.0, \"#0d0887\"], [0.1111111111111111, \"#46039f\"], [0.2222222222222222, \"#7201a8\"], [0.3333333333333333, \"#9c179e\"], [0.4444444444444444, \"#bd3786\"], [0.5555555555555556, \"#d8576b\"], [0.6666666666666666, \"#ed7953\"], [0.7777777777777778, \"#fb9f3a\"], [0.8888888888888888, \"#fdca26\"], [1.0, \"#f0f921\"]], \"sequentialminus\": [[0.0, \"#0d0887\"], [0.1111111111111111, \"#46039f\"], [0.2222222222222222, \"#7201a8\"], [0.3333333333333333, \"#9c179e\"], [0.4444444444444444, \"#bd3786\"], [0.5555555555555556, \"#d8576b\"], [0.6666666666666666, \"#ed7953\"], [0.7777777777777778, \"#fb9f3a\"], [0.8888888888888888, \"#fdca26\"], [1.0, \"#f0f921\"]]}, \"colorway\": [\"#636efa\", \"#EF553B\", \"#00cc96\", \"#ab63fa\", \"#FFA15A\", \"#19d3f3\", \"#FF6692\", \"#B6E880\", \"#FF97FF\", \"#FECB52\"], \"font\": {\"color\": \"#2a3f5f\"}, \"geo\": {\"bgcolor\": \"white\", \"lakecolor\": \"white\", \"landcolor\": \"#E5ECF6\", \"showlakes\": true, \"showland\": true, \"subunitcolor\": \"white\"}, \"hoverlabel\": {\"align\": \"left\"}, \"hovermode\": \"closest\", \"mapbox\": {\"style\": \"light\"}, \"paper_bgcolor\": \"white\", \"plot_bgcolor\": \"#E5ECF6\", \"polar\": {\"angularaxis\": {\"gridcolor\": \"white\", \"linecolor\": \"white\", \"ticks\": \"\"}, \"bgcolor\": \"#E5ECF6\", \"radialaxis\": {\"gridcolor\": \"white\", \"linecolor\": \"white\", \"ticks\": \"\"}}, \"scene\": {\"xaxis\": {\"backgroundcolor\": \"#E5ECF6\", \"gridcolor\": \"white\", \"gridwidth\": 2, \"linecolor\": \"white\", \"showbackground\": true, \"ticks\": \"\", \"zerolinecolor\": \"white\"}, \"yaxis\": {\"backgroundcolor\": \"#E5ECF6\", \"gridcolor\": \"white\", \"gridwidth\": 2, \"linecolor\": \"white\", \"showbackground\": true, \"ticks\": \"\", \"zerolinecolor\": \"white\"}, \"zaxis\": {\"backgroundcolor\": \"#E5ECF6\", \"gridcolor\": \"white\", \"gridwidth\": 2, \"linecolor\": \"white\", \"showbackground\": true, \"ticks\": \"\", \"zerolinecolor\": \"white\"}}, \"shapedefaults\": {\"line\": {\"color\": \"#2a3f5f\"}}, \"ternary\": {\"aaxis\": {\"gridcolor\": \"white\", \"linecolor\": \"white\", \"ticks\": \"\"}, \"baxis\": {\"gridcolor\": \"white\", \"linecolor\": \"white\", \"ticks\": \"\"}, \"bgcolor\": \"#E5ECF6\", \"caxis\": {\"gridcolor\": \"white\", \"linecolor\": \"white\", \"ticks\": \"\"}}, \"title\": {\"x\": 0.05}, \"xaxis\": {\"automargin\": true, \"gridcolor\": \"white\", \"linecolor\": \"white\", \"ticks\": \"\", \"title\": {\"standoff\": 15}, \"zerolinecolor\": \"white\", \"zerolinewidth\": 2}, \"yaxis\": {\"automargin\": true, \"gridcolor\": \"white\", \"linecolor\": \"white\", \"ticks\": \"\", \"title\": {\"standoff\": 15}, \"zerolinecolor\": \"white\", \"zerolinewidth\": 2}}}, \"updatemenus\": [{\"buttons\": [{\"args\": [null, {\"frame\": {\"duration\": 500, \"redraw\": false}, \"fromcurrent\": true, \"mode\": \"immediate\", \"transition\": {\"duration\": 500, \"easing\": \"linear\"}}], \"label\": \"&#9654;\", \"method\": \"animate\"}, {\"args\": [[null], {\"frame\": {\"duration\": 0, \"redraw\": false}, \"fromcurrent\": true, \"mode\": \"immediate\", \"transition\": {\"duration\": 0, \"easing\": \"linear\"}}], \"label\": \"&#9724;\", \"method\": \"animate\"}], \"direction\": \"left\", \"pad\": {\"r\": 10, \"t\": 70}, \"showactive\": false, \"type\": \"buttons\", \"x\": 0.1, \"xanchor\": \"right\", \"y\": 0, \"yanchor\": \"top\"}], \"xaxis\": {\"anchor\": \"y\", \"domain\": [0.0, 1.0], \"title\": {\"text\": \"x\"}}, \"yaxis\": {\"anchor\": \"x\", \"domain\": [0.0, 1.0]}},\n",
       "                        {\"responsive\": true}\n",
       "                    ).then(function(){\n",
       "                            Plotly.addFrames('02388595-3b0b-4321-b161-ab9a9529fa02', [{\"data\": [{\"hovertemplate\": \"color=Bangalore, India<br>animation_frame=Jun<br>x=%{x}<extra></extra>\", \"legendgroup\": \"Bangalore, India\", \"marker\": {\"color\": \"#636efa\", \"symbol\": \"circle\"}, \"mode\": \"markers\", \"name\": \"Bangalore, India\", \"showlegend\": true, \"x\": [25000], \"xaxis\": \"x\", \"yaxis\": \"y\", \"type\": \"scatter\"}, {\"hovertemplate\": \"color=Moscow, Russia<br>animation_frame=Jun<br>x=%{x}<extra></extra>\", \"legendgroup\": \"Moscow, Russia\", \"marker\": {\"color\": \"#00cc96\", \"symbol\": \"circle\"}, \"mode\": \"markers\", \"name\": \"Moscow, Russia\", \"showlegend\": true, \"x\": [10543], \"xaxis\": \"x\", \"yaxis\": \"y\", \"type\": \"scatter\"}, {\"hovertemplate\": \"color=Hyderabad, India<br>animation_frame=Jun<br>x=%{x}<extra></extra>\", \"legendgroup\": \"Hyderabad, India\", \"marker\": {\"color\": \"#19d3f3\", \"symbol\": \"circle\"}, \"mode\": \"markers\", \"name\": \"Hyderabad, India\", \"showlegend\": true, \"x\": [1356], \"xaxis\": \"x\", \"yaxis\": \"y\", \"type\": \"scatter\"}, {\"hovertemplate\": \"color=Mumbai, India<br>animation_frame=Jun<br>x=%{x}<extra></extra>\", \"legendgroup\": \"Mumbai, India\", \"marker\": {\"color\": \"#FF6692\", \"symbol\": \"circle\"}, \"mode\": \"markers\", \"name\": \"Mumbai, India\", \"showlegend\": true, \"x\": [345, 24000], \"xaxis\": \"x\", \"yaxis\": \"y\", \"type\": \"scatter\"}, {\"hovertemplate\": \"color=Hyderabad,India<br>animation_frame=Jun<br>x=%{x}<extra></extra>\", \"legendgroup\": \"Hyderabad,India\", \"marker\": {\"color\": \"#B6E880\", \"symbol\": \"circle\"}, \"mode\": \"markers\", \"name\": \"Hyderabad,India\", \"showlegend\": true, \"x\": [140], \"xaxis\": \"x\", \"yaxis\": \"y\", \"type\": \"scatter\"}, {\"hovertemplate\": \"color=Budapest, Hungary<br>animation_frame=Jun<br>x=%{x}<extra></extra>\", \"legendgroup\": \"Budapest, Hungary\", \"marker\": {\"color\": \"#FF97FF\", \"symbol\": \"circle\"}, \"mode\": \"markers\", \"name\": \"Budapest, Hungary\", \"showlegend\": true, \"x\": [15000], \"xaxis\": \"x\", \"yaxis\": \"y\", \"type\": \"scatter\"}, {\"hovertemplate\": \"color=Pune, India<br>animation_frame=Jun<br>x=%{x}<extra></extra>\", \"legendgroup\": \"Pune, India\", \"marker\": {\"color\": \"#FECB52\", \"symbol\": \"circle\"}, \"mode\": \"markers\", \"name\": \"Pune, India\", \"showlegend\": true, \"x\": [987], \"xaxis\": \"x\", \"yaxis\": \"y\", \"type\": \"scatter\"}, {\"hovertemplate\": \"color=Delhi, India<br>animation_frame=Jun<br>x=%{x}<extra></extra>\", \"legendgroup\": \"Delhi, India\", \"marker\": {\"color\": \"#00cc96\", \"symbol\": \"circle\"}, \"mode\": \"markers\", \"name\": \"Delhi, India\", \"showlegend\": true, \"x\": [11000], \"xaxis\": \"x\", \"yaxis\": \"y\", \"type\": \"scatter\"}, {\"hovertemplate\": \"color=Ahmedabad, India<br>animation_frame=Jun<br>x=%{x}<extra></extra>\", \"legendgroup\": \"Ahmedabad, India\", \"marker\": {\"color\": \"#19d3f3\", \"symbol\": \"circle\"}, \"mode\": \"markers\", \"name\": \"Ahmedabad, India\", \"showlegend\": true, \"x\": [45000], \"xaxis\": \"x\", \"yaxis\": \"y\", \"type\": \"scatter\"}], \"name\": \"Jun\"}, {\"data\": [{\"hovertemplate\": \"color=Bangalore, India<br>animation_frame=Oct<br>x=%{x}<extra></extra>\", \"legendgroup\": \"Bangalore, India\", \"marker\": {\"color\": \"#636efa\", \"symbol\": \"circle\"}, \"mode\": \"markers\", \"name\": \"Bangalore, India\", \"showlegend\": true, \"x\": [300, 75000, 1200], \"xaxis\": \"x\", \"yaxis\": \"y\", \"type\": \"scatter\"}, {\"hovertemplate\": \"color=Paris,France<br>animation_frame=Oct<br>x=%{x}<extra></extra>\", \"legendgroup\": \"Paris,France\", \"marker\": {\"color\": \"#FFA15A\", \"symbol\": \"circle\"}, \"mode\": \"markers\", \"name\": \"Paris,France\", \"showlegend\": true, \"x\": [1200], \"xaxis\": \"x\", \"yaxis\": \"y\", \"type\": \"scatter\"}, {\"hovertemplate\": \"color=Mumbai, India<br>animation_frame=Oct<br>x=%{x}<extra></extra>\", \"legendgroup\": \"Mumbai, India\", \"marker\": {\"color\": \"#FF6692\", \"symbol\": \"circle\"}, \"mode\": \"markers\", \"name\": \"Mumbai, India\", \"showlegend\": true, \"x\": [1200, 1987, 345], \"xaxis\": \"x\", \"yaxis\": \"y\", \"type\": \"scatter\"}, {\"hovertemplate\": \"color=Budapest, Hungary<br>animation_frame=Oct<br>x=%{x}<extra></extra>\", \"legendgroup\": \"Budapest, Hungary\", \"marker\": {\"color\": \"#FF97FF\", \"symbol\": \"circle\"}, \"mode\": \"markers\", \"name\": \"Budapest, Hungary\", \"showlegend\": true, \"x\": [150000], \"xaxis\": \"x\", \"yaxis\": \"y\", \"type\": \"scatter\"}, {\"hovertemplate\": \"color=Pune, India<br>animation_frame=Oct<br>x=%{x}<extra></extra>\", \"legendgroup\": \"Pune, India\", \"marker\": {\"color\": \"#FECB52\", \"symbol\": \"circle\"}, \"mode\": \"markers\", \"name\": \"Pune, India\", \"showlegend\": true, \"x\": [15000], \"xaxis\": \"x\", \"yaxis\": \"y\", \"type\": \"scatter\"}, {\"hovertemplate\": \"color=Nicosia, Cyprus<br>animation_frame=Oct<br>x=%{x}<extra></extra>\", \"legendgroup\": \"Nicosia, Cyprus\", \"marker\": {\"color\": \"#EF553B\", \"symbol\": \"circle\"}, \"mode\": \"markers\", \"name\": \"Nicosia, Cyprus\", \"showlegend\": true, \"x\": [5000], \"xaxis\": \"x\", \"yaxis\": \"y\", \"type\": \"scatter\"}, {\"hovertemplate\": \"color=Delhi, India<br>animation_frame=Oct<br>x=%{x}<extra></extra>\", \"legendgroup\": \"Delhi, India\", \"marker\": {\"color\": \"#00cc96\", \"symbol\": \"circle\"}, \"mode\": \"markers\", \"name\": \"Delhi, India\", \"showlegend\": true, \"x\": [300, 1356], \"xaxis\": \"x\", \"yaxis\": \"y\", \"type\": \"scatter\"}, {\"hovertemplate\": \"color=NewYork, USA<br>animation_frame=Oct<br>x=%{x}<extra></extra>\", \"legendgroup\": \"NewYork, USA\", \"marker\": {\"color\": \"#ab63fa\", \"symbol\": \"circle\"}, \"mode\": \"markers\", \"name\": \"NewYork, USA\", \"showlegend\": true, \"x\": [9056], \"xaxis\": \"x\", \"yaxis\": \"y\", \"type\": \"scatter\"}, {\"hovertemplate\": \"color=Ahmedabad, India<br>animation_frame=Oct<br>x=%{x}<extra></extra>\", \"legendgroup\": \"Ahmedabad, India\", \"marker\": {\"color\": \"#19d3f3\", \"symbol\": \"circle\"}, \"mode\": \"markers\", \"name\": \"Ahmedabad, India\", \"showlegend\": true, \"x\": [4543, 132], \"xaxis\": \"x\", \"yaxis\": \"y\", \"type\": \"scatter\"}], \"name\": \"Oct\"}, {\"data\": [{\"hovertemplate\": \"color=London, UK<br>animation_frame=Jul<br>x=%{x}<extra></extra>\", \"legendgroup\": \"London, UK\", \"marker\": {\"color\": \"#EF553B\", \"symbol\": \"circle\"}, \"mode\": \"markers\", \"name\": \"London, UK\", \"showlegend\": true, \"x\": [45000, 9875], \"xaxis\": \"x\", \"yaxis\": \"y\", \"type\": \"scatter\"}, {\"hovertemplate\": \"color=Mumbai, India<br>animation_frame=Jul<br>x=%{x}<extra></extra>\", \"legendgroup\": \"Mumbai, India\", \"marker\": {\"color\": \"#FF6692\", \"symbol\": \"circle\"}, \"mode\": \"markers\", \"name\": \"Mumbai, India\", \"showlegend\": true, \"x\": [12000, 75000, 1000, 10000], \"xaxis\": \"x\", \"yaxis\": \"y\", \"type\": \"scatter\"}, {\"hovertemplate\": \"color=Delhi, India<br>animation_frame=Jul<br>x=%{x}<extra></extra>\", \"legendgroup\": \"Delhi, India\", \"marker\": {\"color\": \"#00cc96\", \"symbol\": \"circle\"}, \"mode\": \"markers\", \"name\": \"Delhi, India\", \"showlegend\": true, \"x\": [25000], \"xaxis\": \"x\", \"yaxis\": \"y\", \"type\": \"scatter\"}, {\"hovertemplate\": \"color=NewYork, USA<br>animation_frame=Jul<br>x=%{x}<extra></extra>\", \"legendgroup\": \"NewYork, USA\", \"marker\": {\"color\": \"#ab63fa\", \"symbol\": \"circle\"}, \"mode\": \"markers\", \"name\": \"NewYork, USA\", \"showlegend\": true, \"x\": [1000], \"xaxis\": \"x\", \"yaxis\": \"y\", \"type\": \"scatter\"}, {\"hovertemplate\": \"color=Paris, France<br>animation_frame=Jul<br>x=%{x}<extra></extra>\", \"legendgroup\": \"Paris, France\", \"marker\": {\"color\": \"#FFA15A\", \"symbol\": \"circle\"}, \"mode\": \"markers\", \"name\": \"Paris, France\", \"showlegend\": true, \"x\": [130000], \"xaxis\": \"x\", \"yaxis\": \"y\", \"type\": \"scatter\"}], \"name\": \"Jul\"}, {\"data\": [{\"hovertemplate\": \"color=Bangalore, India<br>animation_frame=Dec<br>x=%{x}<extra></extra>\", \"legendgroup\": \"Bangalore, India\", \"marker\": {\"color\": \"#636efa\", \"symbol\": \"circle\"}, \"mode\": \"markers\", \"name\": \"Bangalore, India\", \"showlegend\": true, \"x\": [45000], \"xaxis\": \"x\", \"yaxis\": \"y\", \"type\": \"scatter\"}, {\"hovertemplate\": \"color=London, UK<br>animation_frame=Dec<br>x=%{x}<extra></extra>\", \"legendgroup\": \"London, UK\", \"marker\": {\"color\": \"#EF553B\", \"symbol\": \"circle\"}, \"mode\": \"markers\", \"name\": \"London, UK\", \"showlegend\": true, \"x\": [670], \"xaxis\": \"x\", \"yaxis\": \"y\", \"type\": \"scatter\"}, {\"hovertemplate\": \"color=Paris,France<br>animation_frame=Dec<br>x=%{x}<extra></extra>\", \"legendgroup\": \"Paris,France\", \"marker\": {\"color\": \"#FFA15A\", \"symbol\": \"circle\"}, \"mode\": \"markers\", \"name\": \"Paris,France\", \"showlegend\": true, \"x\": [1340], \"xaxis\": \"x\", \"yaxis\": \"y\", \"type\": \"scatter\"}, {\"hovertemplate\": \"color=Mumbai, India<br>animation_frame=Dec<br>x=%{x}<extra></extra>\", \"legendgroup\": \"Mumbai, India\", \"marker\": {\"color\": \"#FF6692\", \"symbol\": \"circle\"}, \"mode\": \"markers\", \"name\": \"Mumbai, India\", \"showlegend\": true, \"x\": [112], \"xaxis\": \"x\", \"yaxis\": \"y\", \"type\": \"scatter\"}, {\"hovertemplate\": \"color=Hyderabad,India<br>animation_frame=Dec<br>x=%{x}<extra></extra>\", \"legendgroup\": \"Hyderabad,India\", \"marker\": {\"color\": \"#B6E880\", \"symbol\": \"circle\"}, \"mode\": \"markers\", \"name\": \"Hyderabad,India\", \"showlegend\": true, \"x\": [50000], \"xaxis\": \"x\", \"yaxis\": \"y\", \"type\": \"scatter\"}, {\"hovertemplate\": \"color=Budapest, Hungary<br>animation_frame=Dec<br>x=%{x}<extra></extra>\", \"legendgroup\": \"Budapest, Hungary\", \"marker\": {\"color\": \"#FF97FF\", \"symbol\": \"circle\"}, \"mode\": \"markers\", \"name\": \"Budapest, Hungary\", \"showlegend\": true, \"x\": [907], \"xaxis\": \"x\", \"yaxis\": \"y\", \"type\": \"scatter\"}, {\"hovertemplate\": \"color=Nicosia, Cyprus<br>animation_frame=Dec<br>x=%{x}<extra></extra>\", \"legendgroup\": \"Nicosia, Cyprus\", \"marker\": {\"color\": \"#EF553B\", \"symbol\": \"circle\"}, \"mode\": \"markers\", \"name\": \"Nicosia, Cyprus\", \"showlegend\": true, \"x\": [45000], \"xaxis\": \"x\", \"yaxis\": \"y\", \"type\": \"scatter\"}, {\"hovertemplate\": \"color=Delhi, India<br>animation_frame=Dec<br>x=%{x}<extra></extra>\", \"legendgroup\": \"Delhi, India\", \"marker\": {\"color\": \"#00cc96\", \"symbol\": \"circle\"}, \"mode\": \"markers\", \"name\": \"Delhi, India\", \"showlegend\": true, \"x\": [50], \"xaxis\": \"x\", \"yaxis\": \"y\", \"type\": \"scatter\"}, {\"hovertemplate\": \"color=Ahmedabad, India<br>animation_frame=Dec<br>x=%{x}<extra></extra>\", \"legendgroup\": \"Ahmedabad, India\", \"marker\": {\"color\": \"#19d3f3\", \"symbol\": \"circle\"}, \"mode\": \"markers\", \"name\": \"Ahmedabad, India\", \"showlegend\": true, \"x\": [300], \"xaxis\": \"x\", \"yaxis\": \"y\", \"type\": \"scatter\"}], \"name\": \"Dec\"}, {\"data\": [{\"hovertemplate\": \"color=Bangalore, India<br>animation_frame=Sep<br>x=%{x}<extra></extra>\", \"legendgroup\": \"Bangalore, India\", \"marker\": {\"color\": \"#636efa\", \"symbol\": \"circle\"}, \"mode\": \"markers\", \"name\": \"Bangalore, India\", \"showlegend\": true, \"x\": [4543, 1200], \"xaxis\": \"x\", \"yaxis\": \"y\", \"type\": \"scatter\"}, {\"hovertemplate\": \"color=Paris,France<br>animation_frame=Sep<br>x=%{x}<extra></extra>\", \"legendgroup\": \"Paris,France\", \"marker\": {\"color\": \"#FFA15A\", \"symbol\": \"circle\"}, \"mode\": \"markers\", \"name\": \"Paris,France\", \"showlegend\": true, \"x\": [1340], \"xaxis\": \"x\", \"yaxis\": \"y\", \"type\": \"scatter\"}, {\"hovertemplate\": \"color=Mumbai, India<br>animation_frame=Sep<br>x=%{x}<extra></extra>\", \"legendgroup\": \"Mumbai, India\", \"marker\": {\"color\": \"#FF6692\", \"symbol\": \"circle\"}, \"mode\": \"markers\", \"name\": \"Mumbai, India\", \"showlegend\": true, \"x\": [120, 4509], \"xaxis\": \"x\", \"yaxis\": \"y\", \"type\": \"scatter\"}, {\"hovertemplate\": \"color=Hyderabad,India<br>animation_frame=Sep<br>x=%{x}<extra></extra>\", \"legendgroup\": \"Hyderabad,India\", \"marker\": {\"color\": \"#B6E880\", \"symbol\": \"circle\"}, \"mode\": \"markers\", \"name\": \"Hyderabad,India\", \"showlegend\": true, \"x\": [10543, 50], \"xaxis\": \"x\", \"yaxis\": \"y\", \"type\": \"scatter\"}, {\"hovertemplate\": \"color=Delhi, India<br>animation_frame=Sep<br>x=%{x}<extra></extra>\", \"legendgroup\": \"Delhi, India\", \"marker\": {\"color\": \"#00cc96\", \"symbol\": \"circle\"}, \"mode\": \"markers\", \"name\": \"Delhi, India\", \"showlegend\": true, \"x\": [8954, 1987], \"xaxis\": \"x\", \"yaxis\": \"y\", \"type\": \"scatter\"}], \"name\": \"Sep\"}, {\"data\": [{\"hovertemplate\": \"color=Bangalore, India<br>animation_frame=Nov<br>x=%{x}<extra></extra>\", \"legendgroup\": \"Bangalore, India\", \"marker\": {\"color\": \"#636efa\", \"symbol\": \"circle\"}, \"mode\": \"markers\", \"name\": \"Bangalore, India\", \"showlegend\": true, \"x\": [11000], \"xaxis\": \"x\", \"yaxis\": \"y\", \"type\": \"scatter\"}, {\"hovertemplate\": \"color=Hyderabad, India<br>animation_frame=Nov<br>x=%{x}<extra></extra>\", \"legendgroup\": \"Hyderabad, India\", \"marker\": {\"color\": \"#19d3f3\", \"symbol\": \"circle\"}, \"mode\": \"markers\", \"name\": \"Hyderabad, India\", \"showlegend\": true, \"x\": [1356], \"xaxis\": \"x\", \"yaxis\": \"y\", \"type\": \"scatter\"}, {\"hovertemplate\": \"color=Mumbai, India<br>animation_frame=Nov<br>x=%{x}<extra></extra>\", \"legendgroup\": \"Mumbai, India\", \"marker\": {\"color\": \"#FF6692\", \"symbol\": \"circle\"}, \"mode\": \"markers\", \"name\": \"Mumbai, India\", \"showlegend\": true, \"x\": [543], \"xaxis\": \"x\", \"yaxis\": \"y\", \"type\": \"scatter\"}, {\"hovertemplate\": \"color=Budapest, Hungary<br>animation_frame=Nov<br>x=%{x}<extra></extra>\", \"legendgroup\": \"Budapest, Hungary\", \"marker\": {\"color\": \"#FF97FF\", \"symbol\": \"circle\"}, \"mode\": \"markers\", \"name\": \"Budapest, Hungary\", \"showlegend\": true, \"x\": [12000, 12567], \"xaxis\": \"x\", \"yaxis\": \"y\", \"type\": \"scatter\"}, {\"hovertemplate\": \"color=Delhi, India<br>animation_frame=Nov<br>x=%{x}<extra></extra>\", \"legendgroup\": \"Delhi, India\", \"marker\": {\"color\": \"#00cc96\", \"symbol\": \"circle\"}, \"mode\": \"markers\", \"name\": \"Delhi, India\", \"showlegend\": true, \"x\": [150000], \"xaxis\": \"x\", \"yaxis\": \"y\", \"type\": \"scatter\"}], \"name\": \"Nov\"}, {\"data\": [{\"hovertemplate\": \"color=Bangalore, India<br>animation_frame=May<br>x=%{x}<extra></extra>\", \"legendgroup\": \"Bangalore, India\", \"marker\": {\"color\": \"#636efa\", \"symbol\": \"circle\"}, \"mode\": \"markers\", \"name\": \"Bangalore, India\", \"showlegend\": true, \"x\": [1340], \"xaxis\": \"x\", \"yaxis\": \"y\", \"type\": \"scatter\"}, {\"hovertemplate\": \"color=Moscow, Russia<br>animation_frame=May<br>x=%{x}<extra></extra>\", \"legendgroup\": \"Moscow, Russia\", \"marker\": {\"color\": \"#00cc96\", \"symbol\": \"circle\"}, \"mode\": \"markers\", \"name\": \"Moscow, Russia\", \"showlegend\": true, \"x\": [130000], \"xaxis\": \"x\", \"yaxis\": \"y\", \"type\": \"scatter\"}, {\"hovertemplate\": \"color=Rabat, Morocco<br>animation_frame=May<br>x=%{x}<extra></extra>\", \"legendgroup\": \"Rabat, Morocco\", \"marker\": {\"color\": \"#ab63fa\", \"symbol\": \"circle\"}, \"mode\": \"markers\", \"name\": \"Rabat, Morocco\", \"showlegend\": true, \"x\": [132], \"xaxis\": \"x\", \"yaxis\": \"y\", \"type\": \"scatter\"}, {\"hovertemplate\": \"color=Paris,France<br>animation_frame=May<br>x=%{x}<extra></extra>\", \"legendgroup\": \"Paris,France\", \"marker\": {\"color\": \"#FFA15A\", \"symbol\": \"circle\"}, \"mode\": \"markers\", \"name\": \"Paris,France\", \"showlegend\": true, \"x\": [4000, 567], \"xaxis\": \"x\", \"yaxis\": \"y\", \"type\": \"scatter\"}, {\"hovertemplate\": \"color=Mumbai, India<br>animation_frame=May<br>x=%{x}<extra></extra>\", \"legendgroup\": \"Mumbai, India\", \"marker\": {\"color\": \"#FF6692\", \"symbol\": \"circle\"}, \"mode\": \"markers\", \"name\": \"Mumbai, India\", \"showlegend\": true, \"x\": [1200, 24000, 23467], \"xaxis\": \"x\", \"yaxis\": \"y\", \"type\": \"scatter\"}, {\"hovertemplate\": \"color=Budapest, Hungary<br>animation_frame=May<br>x=%{x}<extra></extra>\", \"legendgroup\": \"Budapest, Hungary\", \"marker\": {\"color\": \"#FF97FF\", \"symbol\": \"circle\"}, \"mode\": \"markers\", \"name\": \"Budapest, Hungary\", \"showlegend\": true, \"x\": [9875], \"xaxis\": \"x\", \"yaxis\": \"y\", \"type\": \"scatter\"}, {\"hovertemplate\": \"color=Pune, India<br>animation_frame=May<br>x=%{x}<extra></extra>\", \"legendgroup\": \"Pune, India\", \"marker\": {\"color\": \"#FECB52\", \"symbol\": \"circle\"}, \"mode\": \"markers\", \"name\": \"Pune, India\", \"showlegend\": true, \"x\": [987], \"xaxis\": \"x\", \"yaxis\": \"y\", \"type\": \"scatter\"}, {\"hovertemplate\": \"color=Delhi, India<br>animation_frame=May<br>x=%{x}<extra></extra>\", \"legendgroup\": \"Delhi, India\", \"marker\": {\"color\": \"#00cc96\", \"symbol\": \"circle\"}, \"mode\": \"markers\", \"name\": \"Delhi, India\", \"showlegend\": true, \"x\": [4000, 130000], \"xaxis\": \"x\", \"yaxis\": \"y\", \"type\": \"scatter\"}], \"name\": \"May\"}, {\"data\": [{\"hovertemplate\": \"color=Bangalore, India<br>animation_frame=Jan<br>x=%{x}<extra></extra>\", \"legendgroup\": \"Bangalore, India\", \"marker\": {\"color\": \"#636efa\", \"symbol\": \"circle\"}, \"mode\": \"markers\", \"name\": \"Bangalore, India\", \"showlegend\": true, \"x\": [670], \"xaxis\": \"x\", \"yaxis\": \"y\", \"type\": \"scatter\"}, {\"hovertemplate\": \"color=Hyderabad, India<br>animation_frame=Jan<br>x=%{x}<extra></extra>\", \"legendgroup\": \"Hyderabad, India\", \"marker\": {\"color\": \"#19d3f3\", \"symbol\": \"circle\"}, \"mode\": \"markers\", \"name\": \"Hyderabad, India\", \"showlegend\": true, \"x\": [1200], \"xaxis\": \"x\", \"yaxis\": \"y\", \"type\": \"scatter\"}, {\"hovertemplate\": \"color=Mumbai, India<br>animation_frame=Jan<br>x=%{x}<extra></extra>\", \"legendgroup\": \"Mumbai, India\", \"marker\": {\"color\": \"#FF6692\", \"symbol\": \"circle\"}, \"mode\": \"markers\", \"name\": \"Mumbai, India\", \"showlegend\": true, \"x\": [4000], \"xaxis\": \"x\", \"yaxis\": \"y\", \"type\": \"scatter\"}, {\"hovertemplate\": \"color=Hyderabad,India<br>animation_frame=Jan<br>x=%{x}<extra></extra>\", \"legendgroup\": \"Hyderabad,India\", \"marker\": {\"color\": \"#B6E880\", \"symbol\": \"circle\"}, \"mode\": \"markers\", \"name\": \"Hyderabad,India\", \"showlegend\": true, \"x\": [800], \"xaxis\": \"x\", \"yaxis\": \"y\", \"type\": \"scatter\"}, {\"hovertemplate\": \"color=Delhi, India<br>animation_frame=Jan<br>x=%{x}<extra></extra>\", \"legendgroup\": \"Delhi, India\", \"marker\": {\"color\": \"#00cc96\", \"symbol\": \"circle\"}, \"mode\": \"markers\", \"name\": \"Delhi, India\", \"showlegend\": true, \"x\": [4543], \"xaxis\": \"x\", \"yaxis\": \"y\", \"type\": \"scatter\"}], \"name\": \"Jan\"}, {\"data\": [{\"hovertemplate\": \"color=Hyderabad, India<br>animation_frame=Apr<br>x=%{x}<extra></extra>\", \"legendgroup\": \"Hyderabad, India\", \"marker\": {\"color\": \"#19d3f3\", \"symbol\": \"circle\"}, \"mode\": \"markers\", \"name\": \"Hyderabad, India\", \"showlegend\": true, \"x\": [1200], \"xaxis\": \"x\", \"yaxis\": \"y\", \"type\": \"scatter\"}, {\"hovertemplate\": \"color=Mumbai, India<br>animation_frame=Apr<br>x=%{x}<extra></extra>\", \"legendgroup\": \"Mumbai, India\", \"marker\": {\"color\": \"#FF6692\", \"symbol\": \"circle\"}, \"mode\": \"markers\", \"name\": \"Mumbai, India\", \"showlegend\": true, \"x\": [11000, 4000], \"xaxis\": \"x\", \"yaxis\": \"y\", \"type\": \"scatter\"}, {\"hovertemplate\": \"color=Delhi, India<br>animation_frame=Apr<br>x=%{x}<extra></extra>\", \"legendgroup\": \"Delhi, India\", \"marker\": {\"color\": \"#00cc96\", \"symbol\": \"circle\"}, \"mode\": \"markers\", \"name\": \"Delhi, India\", \"showlegend\": true, \"x\": [890, 23467], \"xaxis\": \"x\", \"yaxis\": \"y\", \"type\": \"scatter\"}, {\"hovertemplate\": \"color=Paris, France<br>animation_frame=Apr<br>x=%{x}<extra></extra>\", \"legendgroup\": \"Paris, France\", \"marker\": {\"color\": \"#FFA15A\", \"symbol\": \"circle\"}, \"mode\": \"markers\", \"name\": \"Paris, France\", \"showlegend\": true, \"x\": [25000, 11000], \"xaxis\": \"x\", \"yaxis\": \"y\", \"type\": \"scatter\"}, {\"hovertemplate\": \"color=Hyderabad, ndia<br>animation_frame=Apr<br>x=%{x}<extra></extra>\", \"legendgroup\": \"Hyderabad, ndia\", \"marker\": {\"color\": \"#FF6692\", \"symbol\": \"circle\"}, \"mode\": \"markers\", \"name\": \"Hyderabad, ndia\", \"showlegend\": true, \"x\": [140], \"xaxis\": \"x\", \"yaxis\": \"y\", \"type\": \"scatter\"}], \"name\": \"Apr\"}, {\"data\": [{\"hovertemplate\": \"color=Bangalore, India<br>animation_frame=Feb<br>x=%{x}<extra></extra>\", \"legendgroup\": \"Bangalore, India\", \"marker\": {\"color\": \"#636efa\", \"symbol\": \"circle\"}, \"mode\": \"markers\", \"name\": \"Bangalore, India\", \"showlegend\": true, \"x\": [670, 120], \"xaxis\": \"x\", \"yaxis\": \"y\", \"type\": \"scatter\"}, {\"hovertemplate\": \"color=Mumbai, India<br>animation_frame=Feb<br>x=%{x}<extra></extra>\", \"legendgroup\": \"Mumbai, India\", \"marker\": {\"color\": \"#FF6692\", \"symbol\": \"circle\"}, \"mode\": \"markers\", \"name\": \"Mumbai, India\", \"showlegend\": true, \"x\": [994, 140, 12000, 5000], \"xaxis\": \"x\", \"yaxis\": \"y\", \"type\": \"scatter\"}, {\"hovertemplate\": \"color=Budapest, Hungary<br>animation_frame=Feb<br>x=%{x}<extra></extra>\", \"legendgroup\": \"Budapest, Hungary\", \"marker\": {\"color\": \"#FF97FF\", \"symbol\": \"circle\"}, \"mode\": \"markers\", \"name\": \"Budapest, Hungary\", \"showlegend\": true, \"x\": [907], \"xaxis\": \"x\", \"yaxis\": \"y\", \"type\": \"scatter\"}, {\"hovertemplate\": \"color=Nicosia, Cyprus<br>animation_frame=Feb<br>x=%{x}<extra></extra>\", \"legendgroup\": \"Nicosia, Cyprus\", \"marker\": {\"color\": \"#EF553B\", \"symbol\": \"circle\"}, \"mode\": \"markers\", \"name\": \"Nicosia, Cyprus\", \"showlegend\": true, \"x\": [5000], \"xaxis\": \"x\", \"yaxis\": \"y\", \"type\": \"scatter\"}, {\"hovertemplate\": \"color=Delhi, India<br>animation_frame=Feb<br>x=%{x}<extra></extra>\", \"legendgroup\": \"Delhi, India\", \"marker\": {\"color\": \"#00cc96\", \"symbol\": \"circle\"}, \"mode\": \"markers\", \"name\": \"Delhi, India\", \"showlegend\": true, \"x\": [175600, 132], \"xaxis\": \"x\", \"yaxis\": \"y\", \"type\": \"scatter\"}], \"name\": \"Feb\"}, {\"data\": [{\"hovertemplate\": \"color=Hyderabad, India<br>animation_frame=Mar<br>x=%{x}<extra></extra>\", \"legendgroup\": \"Hyderabad, India\", \"marker\": {\"color\": \"#19d3f3\", \"symbol\": \"circle\"}, \"mode\": \"markers\", \"name\": \"Hyderabad, India\", \"showlegend\": true, \"x\": [50000], \"xaxis\": \"x\", \"yaxis\": \"y\", \"type\": \"scatter\"}, {\"hovertemplate\": \"color=Mumbai, India<br>animation_frame=Mar<br>x=%{x}<extra></extra>\", \"legendgroup\": \"Mumbai, India\", \"marker\": {\"color\": \"#FF6692\", \"symbol\": \"circle\"}, \"mode\": \"markers\", \"name\": \"Mumbai, India\", \"showlegend\": true, \"x\": [140, 4509, 800], \"xaxis\": \"x\", \"yaxis\": \"y\", \"type\": \"scatter\"}, {\"hovertemplate\": \"color=Pune, India<br>animation_frame=Mar<br>x=%{x}<extra></extra>\", \"legendgroup\": \"Pune, India\", \"marker\": {\"color\": \"#FECB52\", \"symbol\": \"circle\"}, \"mode\": \"markers\", \"name\": \"Pune, India\", \"showlegend\": true, \"x\": [1200], \"xaxis\": \"x\", \"yaxis\": \"y\", \"type\": \"scatter\"}, {\"hovertemplate\": \"color=mumbai, India<br>animation_frame=Mar<br>x=%{x}<extra></extra>\", \"legendgroup\": \"mumbai, India\", \"marker\": {\"color\": \"#636efa\", \"symbol\": \"circle\"}, \"mode\": \"markers\", \"name\": \"mumbai, India\", \"showlegend\": true, \"x\": [543, 112, 45000], \"xaxis\": \"x\", \"yaxis\": \"y\", \"type\": \"scatter\"}, {\"hovertemplate\": \"color=Delhi, India<br>animation_frame=Mar<br>x=%{x}<extra></extra>\", \"legendgroup\": \"Delhi, India\", \"marker\": {\"color\": \"#00cc96\", \"symbol\": \"circle\"}, \"mode\": \"markers\", \"name\": \"Delhi, India\", \"showlegend\": true, \"x\": [10000], \"xaxis\": \"x\", \"yaxis\": \"y\", \"type\": \"scatter\"}], \"name\": \"Mar\"}, {\"data\": [{\"hovertemplate\": \"color=Hyderabad, India<br>animation_frame=Aug<br>x=%{x}<extra></extra>\", \"legendgroup\": \"Hyderabad, India\", \"marker\": {\"color\": \"#19d3f3\", \"symbol\": \"circle\"}, \"mode\": \"markers\", \"name\": \"Hyderabad, India\", \"showlegend\": true, \"x\": [11000], \"xaxis\": \"x\", \"yaxis\": \"y\", \"type\": \"scatter\"}, {\"hovertemplate\": \"color=Mumbai, India<br>animation_frame=Aug<br>x=%{x}<extra></extra>\", \"legendgroup\": \"Mumbai, India\", \"marker\": {\"color\": \"#FF6692\", \"symbol\": \"circle\"}, \"mode\": \"markers\", \"name\": \"Mumbai, India\", \"showlegend\": true, \"x\": [994], \"xaxis\": \"x\", \"yaxis\": \"y\", \"type\": \"scatter\"}, {\"hovertemplate\": \"color=mumbai, India<br>animation_frame=Aug<br>x=%{x}<extra></extra>\", \"legendgroup\": \"mumbai, India\", \"marker\": {\"color\": \"#636efa\", \"symbol\": \"circle\"}, \"mode\": \"markers\", \"name\": \"mumbai, India\", \"showlegend\": true, \"x\": [12567], \"xaxis\": \"x\", \"yaxis\": \"y\", \"type\": \"scatter\"}, {\"hovertemplate\": \"color=Delhi, India<br>animation_frame=Aug<br>x=%{x}<extra></extra>\", \"legendgroup\": \"Delhi, India\", \"marker\": {\"color\": \"#00cc96\", \"symbol\": \"circle\"}, \"mode\": \"markers\", \"name\": \"Delhi, India\", \"showlegend\": true, \"x\": [1200], \"xaxis\": \"x\", \"yaxis\": \"y\", \"type\": \"scatter\"}], \"name\": \"Aug\"}]);\n",
       "                        }).then(function(){\n",
       "                            \n",
       "var gd = document.getElementById('02388595-3b0b-4321-b161-ab9a9529fa02');\n",
       "var x = new MutationObserver(function (mutations, observer) {{\n",
       "        var display = window.getComputedStyle(gd).display;\n",
       "        if (!display || display === 'none') {{\n",
       "            console.log([gd, 'removed!']);\n",
       "            Plotly.purge(gd);\n",
       "            observer.disconnect();\n",
       "        }}\n",
       "}});\n",
       "\n",
       "// Listen for the removal of the full notebook cells\n",
       "var notebookContainer = gd.closest('#notebook-container');\n",
       "if (notebookContainer) {{\n",
       "    x.observe(notebookContainer, {childList: true});\n",
       "}}\n",
       "\n",
       "// Listen for the clearing of the current output cell\n",
       "var outputEl = gd.closest('.output');\n",
       "if (outputEl) {{\n",
       "    x.observe(outputEl, {childList: true});\n",
       "}}\n",
       "\n",
       "                        })\n",
       "                };\n",
       "                });\n",
       "            </script>\n",
       "        </div>"
      ]
     },
     "metadata": {},
     "output_type": "display_data"
    }
   ],
   "source": [
    "# P - Scatter\n",
    "\n",
    "import plotly.express as px\n",
    "fig = px.scatter(DB['Date'],DB['Amount'],color=DB['Transaction'],animation_frame=DB['Month'])\n",
    "fig.show()"
   ]
  },
  {
   "cell_type": "code",
   "execution_count": 44,
   "metadata": {},
   "outputs": [
    {
     "data": {
      "application/vnd.plotly.v1+json": {
       "config": {
        "plotlyServerURL": "https://plot.ly"
       },
       "data": [
        {
         "hovertemplate": "Type=Normal<br>Month=Jun<br>Origin=%{x}<br>Amount=%{y}<br>Limit=%{marker.size}<extra></extra>",
         "legendgroup": "Normal",
         "marker": {
          "color": "#636efa",
          "size": [
           500000,
           100000,
           100000,
           350000,
           500000,
           25000,
           350000
          ],
          "sizemode": "area",
          "sizeref": 1250,
          "symbol": "circle"
         },
         "mode": "markers",
         "name": "Normal",
         "showlegend": true,
         "type": "scatter",
         "x": [
          "Bangalore, India",
          "Hyderabad, India",
          "Hyderabad, India",
          "Mumbai, India",
          "Ahmedabad, India",
          "Pune, India",
          "Chennai, India"
         ],
         "xaxis": "x",
         "y": [
          25000,
          1356,
          140,
          345,
          45000,
          987,
          24000
         ],
         "yaxis": "y"
        },
        {
         "hovertemplate": "Type=Fraud<br>Month=Jun<br>Origin=%{x}<br>Amount=%{y}<br>Limit=%{marker.size}<extra></extra>",
         "legendgroup": "Fraud",
         "marker": {
          "color": "#EF553B",
          "size": [
           100000,
           100000,
           225000
          ],
          "sizemode": "area",
          "sizeref": 1250,
          "symbol": "circle"
         },
         "mode": "markers",
         "name": "Fraud",
         "showlegend": true,
         "type": "scatter",
         "x": [
          "Hyderabad, India",
          "Hyderabad, India",
          "Delhi, India"
         ],
         "xaxis": "x",
         "y": [
          15000,
          10543,
          11000
         ],
         "yaxis": "y"
        }
       ],
       "frames": [
        {
         "data": [
          {
           "hovertemplate": "Type=Normal<br>Month=Jun<br>Origin=%{x}<br>Amount=%{y}<br>Limit=%{marker.size}<extra></extra>",
           "legendgroup": "Normal",
           "marker": {
            "color": "#636efa",
            "size": [
             500000,
             100000,
             100000,
             350000,
             500000,
             25000,
             350000
            ],
            "sizemode": "area",
            "sizeref": 1250,
            "symbol": "circle"
           },
           "mode": "markers",
           "name": "Normal",
           "showlegend": true,
           "type": "scatter",
           "x": [
            "Bangalore, India",
            "Hyderabad, India",
            "Hyderabad, India",
            "Mumbai, India",
            "Ahmedabad, India",
            "Pune, India",
            "Chennai, India"
           ],
           "xaxis": "x",
           "y": [
            25000,
            1356,
            140,
            345,
            45000,
            987,
            24000
           ],
           "yaxis": "y"
          },
          {
           "hovertemplate": "Type=Fraud<br>Month=Jun<br>Origin=%{x}<br>Amount=%{y}<br>Limit=%{marker.size}<extra></extra>",
           "legendgroup": "Fraud",
           "marker": {
            "color": "#EF553B",
            "size": [
             100000,
             100000,
             225000
            ],
            "sizemode": "area",
            "sizeref": 1250,
            "symbol": "circle"
           },
           "mode": "markers",
           "name": "Fraud",
           "showlegend": true,
           "type": "scatter",
           "x": [
            "Hyderabad, India",
            "Hyderabad, India",
            "Delhi, India"
           ],
           "xaxis": "x",
           "y": [
            15000,
            10543,
            11000
           ],
           "yaxis": "y"
          }
         ],
         "name": "Jun"
        },
        {
         "data": [
          {
           "hovertemplate": "Type=Normal<br>Month=Oct<br>Origin=%{x}<br>Amount=%{y}<br>Limit=%{marker.size}<extra></extra>",
           "legendgroup": "Normal",
           "marker": {
            "color": "#636efa",
            "size": [
             500000,
             25000,
             25000,
             225000,
             500000,
             25000,
             350000,
             350000,
             225000
            ],
            "sizemode": "area",
            "sizeref": 1250,
            "symbol": "circle"
           },
           "mode": "markers",
           "name": "Normal",
           "showlegend": true,
           "type": "scatter",
           "x": [
            "Bangalore, India",
            "Mumbai, India",
            "Mumbai, India",
            "Delhi, India",
            "Ahmedabad, India",
            "Pune, India",
            "Chennai, India",
            "Chennai, India",
            "Delhi, India"
           ],
           "xaxis": "x",
           "y": [
            300,
            1200,
            1987,
            9056,
            132,
            15000,
            1200,
            345,
            1356
           ],
           "yaxis": "y"
          },
          {
           "hovertemplate": "Type=Fraud<br>Month=Oct<br>Origin=%{x}<br>Amount=%{y}<br>Limit=%{marker.size}<extra></extra>",
           "legendgroup": "Fraud",
           "marker": {
            "color": "#EF553B",
            "size": [
             350000,
             350000,
             225000,
             500000,
             500000,
             225000
            ],
            "sizemode": "area",
            "sizeref": 1250,
            "symbol": "circle"
           },
           "mode": "markers",
           "name": "Fraud",
           "showlegend": true,
           "type": "scatter",
           "x": [
            "Mumbai, India",
            "Mumbai, India",
            "Delhi, India",
            "Ahmedabad, India",
            "Bangalore, India",
            "Delhi, India"
           ],
           "xaxis": "x",
           "y": [
            150000,
            75000,
            5000,
            4543,
            1200,
            300
           ],
           "yaxis": "y"
          }
         ],
         "name": "Oct"
        },
        {
         "data": [
          {
           "hovertemplate": "Type=Normal<br>Month=Jul<br>Origin=%{x}<br>Amount=%{y}<br>Limit=%{marker.size}<extra></extra>",
           "legendgroup": "Normal",
           "marker": {
            "color": "#636efa",
            "size": [
             500000,
             350000,
             350000,
             500000,
             350000,
             225000
            ],
            "sizemode": "area",
            "sizeref": 1250,
            "symbol": "circle"
           },
           "mode": "markers",
           "name": "Normal",
           "showlegend": true,
           "type": "scatter",
           "x": [
            "Bangalore, India",
            "Mumbai, India",
            "Mumbai, India",
            "Ahmedabad, India",
            "Mumbai, India",
            "Delhi, India"
           ],
           "xaxis": "x",
           "y": [
            45000,
            9875,
            12000,
            130000,
            10000,
            25000
           ],
           "yaxis": "y"
          },
          {
           "hovertemplate": "Type=Fraud<br>Month=Jul<br>Origin=%{x}<br>Amount=%{y}<br>Limit=%{marker.size}<extra></extra>",
           "legendgroup": "Fraud",
           "marker": {
            "color": "#EF553B",
            "size": [
             225000,
             350000,
             350000
            ],
            "sizemode": "area",
            "sizeref": 1250,
            "symbol": "circle"
           },
           "mode": "markers",
           "name": "Fraud",
           "showlegend": true,
           "type": "scatter",
           "x": [
            "Delhi, India",
            "Mumbai, India",
            "Mumbai, India"
           ],
           "xaxis": "x",
           "y": [
            1000,
            75000,
            1000
           ],
           "yaxis": "y"
          }
         ],
         "name": "Jul"
        },
        {
         "data": [
          {
           "hovertemplate": "Type=Normal<br>Month=Dec<br>Origin=%{x}<br>Amount=%{y}<br>Limit=%{marker.size}<extra></extra>",
           "legendgroup": "Normal",
           "marker": {
            "color": "#636efa",
            "size": [
             500000,
             500000,
             25000,
             500000,
             25000,
             225000
            ],
            "sizemode": "area",
            "sizeref": 1250,
            "symbol": "circle"
           },
           "mode": "markers",
           "name": "Normal",
           "showlegend": true,
           "type": "scatter",
           "x": [
            "Bangalore, India",
            "Bangalore, India",
            "Mumbai, India",
            "Ahmedabad, India",
            "Pune, India",
            "Delhi, India"
           ],
           "xaxis": "x",
           "y": [
            670,
            1340,
            112,
            300,
            50,
            45000
           ],
           "yaxis": "y"
          },
          {
           "hovertemplate": "Type=Fraud<br>Month=Dec<br>Origin=%{x}<br>Amount=%{y}<br>Limit=%{marker.size}<extra></extra>",
           "legendgroup": "Fraud",
           "marker": {
            "color": "#EF553B",
            "size": [
             100000,
             225000,
             350000
            ],
            "sizemode": "area",
            "sizeref": 1250,
            "symbol": "circle"
           },
           "mode": "markers",
           "name": "Fraud",
           "showlegend": true,
           "type": "scatter",
           "x": [
            "Hyderabad, India",
            "Delhi, India",
            "Mumbai, India"
           ],
           "xaxis": "x",
           "y": [
            50000,
            45000,
            907
           ],
           "yaxis": "y"
          }
         ],
         "name": "Dec"
        },
        {
         "data": [
          {
           "hovertemplate": "Type=Normal<br>Month=Sep<br>Origin=%{x}<br>Amount=%{y}<br>Limit=%{marker.size}<extra></extra>",
           "legendgroup": "Normal",
           "marker": {
            "color": "#636efa",
            "size": [
             500000,
             500000,
             100000,
             100000,
             25000,
             225000,
             500000,
             25000,
             350000
            ],
            "sizemode": "area",
            "sizeref": 1250,
            "symbol": "circle"
           },
           "mode": "markers",
           "name": "Normal",
           "showlegend": true,
           "type": "scatter",
           "x": [
            "Bangalore, India",
            "Bangalore, India",
            "Hyderabad, India",
            "Hyderabad, India",
            "Mumbai, India",
            "Delhi, India",
            "Ahmedabad, India",
            "Pune, India",
            "Chennai, India"
           ],
           "xaxis": "x",
           "y": [
            4543,
            1200,
            10543,
            50,
            120,
            8954,
            1340,
            1987,
            4509
           ],
           "yaxis": "y"
          }
         ],
         "name": "Sep"
        },
        {
         "data": [
          {
           "hovertemplate": "Type=Normal<br>Month=Nov<br>Origin=%{x}<br>Amount=%{y}<br>Limit=%{marker.size}<extra></extra>",
           "legendgroup": "Normal",
           "marker": {
            "color": "#636efa",
            "size": [
             500000,
             350000,
             100000,
             350000
            ],
            "sizemode": "area",
            "sizeref": 1250,
            "symbol": "circle"
           },
           "mode": "markers",
           "name": "Normal",
           "showlegend": true,
           "type": "scatter",
           "x": [
            "Bangalore, India",
            "Mumbai, India",
            "Hyderabad, India",
            "Chennai, India"
           ],
           "xaxis": "x",
           "y": [
            11000,
            12567,
            1356,
            150000
           ],
           "yaxis": "y"
          },
          {
           "hovertemplate": "Type=Fraud<br>Month=Nov<br>Origin=%{x}<br>Amount=%{y}<br>Limit=%{marker.size}<extra></extra>",
           "legendgroup": "Fraud",
           "marker": {
            "color": "#EF553B",
            "size": [
             25000,
             350000
            ],
            "sizemode": "area",
            "sizeref": 1250,
            "symbol": "circle"
           },
           "mode": "markers",
           "name": "Fraud",
           "showlegend": true,
           "type": "scatter",
           "x": [
            "Mumbai, India",
            "Chennai, India"
           ],
           "xaxis": "x",
           "y": [
            12000,
            543
           ],
           "yaxis": "y"
          }
         ],
         "name": "Nov"
        },
        {
         "data": [
          {
           "hovertemplate": "Type=Normal<br>Month=May<br>Origin=%{x}<br>Amount=%{y}<br>Limit=%{marker.size}<extra></extra>",
           "legendgroup": "Normal",
           "marker": {
            "color": "#636efa",
            "size": [
             25000,
             350000,
             350000,
             225000,
             350000,
             350000,
             225000,
             225000
            ],
            "sizemode": "area",
            "sizeref": 1250,
            "symbol": "circle"
           },
           "mode": "markers",
           "name": "Normal",
           "showlegend": true,
           "type": "scatter",
           "x": [
            "Mumbai, India",
            "Mumbai, India",
            "Mumbai, India",
            "Delhi, India",
            "Chennai, India",
            "Chennai, India",
            "Delhi, India",
            "Delhi, India"
           ],
           "xaxis": "x",
           "y": [
            1200,
            4000,
            24000,
            567,
            4000,
            23467,
            130000,
            1340
           ],
           "yaxis": "y"
          },
          {
           "hovertemplate": "Type=Fraud<br>Month=May<br>Origin=%{x}<br>Amount=%{y}<br>Limit=%{marker.size}<extra></extra>",
           "legendgroup": "Fraud",
           "marker": {
            "color": "#EF553B",
            "size": [
             500000,
             500000,
             25000,
             350000
            ],
            "sizemode": "area",
            "sizeref": 1250,
            "symbol": "circle"
           },
           "mode": "markers",
           "name": "Fraud",
           "showlegend": true,
           "type": "scatter",
           "x": [
            "Bangalore, India",
            "Bangalore, India",
            "Mumbai, India",
            "Mumbai, India"
           ],
           "xaxis": "x",
           "y": [
            130000,
            132,
            987,
            9875
           ],
           "yaxis": "y"
          }
         ],
         "name": "May"
        },
        {
         "data": [
          {
           "hovertemplate": "Type=Normal<br>Month=Jan<br>Origin=%{x}<br>Amount=%{y}<br>Limit=%{marker.size}<extra></extra>",
           "legendgroup": "Normal",
           "marker": {
            "color": "#636efa",
            "size": [
             100000,
             100000,
             25000,
             225000,
             225000
            ],
            "sizemode": "area",
            "sizeref": 1250,
            "symbol": "circle"
           },
           "mode": "markers",
           "name": "Normal",
           "showlegend": true,
           "type": "scatter",
           "x": [
            "Hyderabad, India",
            "Hyderabad, India",
            "Pune, India",
            "Delhi, India",
            "Delhi, India"
           ],
           "xaxis": "x",
           "y": [
            1200,
            800,
            4000,
            670,
            4543
           ],
           "yaxis": "y"
          }
         ],
         "name": "Jan"
        },
        {
         "data": [
          {
           "hovertemplate": "Type=Normal<br>Month=Apr<br>Origin=%{x}<br>Amount=%{y}<br>Limit=%{marker.size}<extra></extra>",
           "legendgroup": "Normal",
           "marker": {
            "color": "#636efa",
            "size": [
             100000,
             25000,
             225000,
             225000,
             500000,
             500000,
             100000,
             100000
            ],
            "sizemode": "area",
            "sizeref": 1250,
            "symbol": "circle"
           },
           "mode": "markers",
           "name": "Normal",
           "showlegend": true,
           "type": "scatter",
           "x": [
            "Hyderabad, India",
            "Mumbai, India",
            "Delhi, India",
            "Delhi, India",
            "Ahmedabad, India",
            "Ahmedabad, India",
            "Hyderabad, India",
            "Hyderabad, India"
           ],
           "xaxis": "x",
           "y": [
            11000,
            4000,
            890,
            23467,
            25000,
            11000,
            1200,
            140
           ],
           "yaxis": "y"
          }
         ],
         "name": "Apr"
        },
        {
         "data": [
          {
           "hovertemplate": "Type=Normal<br>Month=Feb<br>Origin=%{x}<br>Amount=%{y}<br>Limit=%{marker.size}<extra></extra>",
           "legendgroup": "Normal",
           "marker": {
            "color": "#636efa",
            "size": [
             100000,
             350000,
             350000
            ],
            "sizemode": "area",
            "sizeref": 1250,
            "symbol": "circle"
           },
           "mode": "markers",
           "name": "Normal",
           "showlegend": true,
           "type": "scatter",
           "x": [
            "Hyderabad, India",
            "Mumbai, India",
            "Chennai, India"
           ],
           "xaxis": "x",
           "y": [
            994,
            907,
            5000
           ],
           "yaxis": "y"
          },
          {
           "hovertemplate": "Type=Fraud<br>Month=Feb<br>Origin=%{x}<br>Amount=%{y}<br>Limit=%{marker.size}<extra></extra>",
           "legendgroup": "Fraud",
           "marker": {
            "color": "#EF553B",
            "size": [
             350000,
             225000,
             500000,
             25000,
             25000,
             350000,
             225000
            ],
            "sizemode": "area",
            "sizeref": 1250,
            "symbol": "circle"
           },
           "mode": "markers",
           "name": "Fraud",
           "showlegend": true,
           "type": "scatter",
           "x": [
            "Mumbai, India",
            "Delhi, India",
            "Bangalore, India",
            "Mumbai, India",
            "Mumbai, India",
            "Mumbai, India",
            "Delhi, India"
           ],
           "xaxis": "x",
           "y": [
            5000,
            175600,
            670,
            120,
            140,
            12000,
            132
           ],
           "yaxis": "y"
          }
         ],
         "name": "Feb"
        },
        {
         "data": [
          {
           "hovertemplate": "Type=Normal<br>Month=Mar<br>Origin=%{x}<br>Amount=%{y}<br>Limit=%{marker.size}<extra></extra>",
           "legendgroup": "Normal",
           "marker": {
            "color": "#636efa",
            "size": [
             25000,
             350000,
             225000,
             25000
            ],
            "sizemode": "area",
            "sizeref": 1250,
            "symbol": "circle"
           },
           "mode": "markers",
           "name": "Normal",
           "showlegend": true,
           "type": "scatter",
           "x": [
            "Mumbai, India",
            "Mumbai, India",
            "Delhi, India",
            "Pune, India"
           ],
           "xaxis": "x",
           "y": [
            4509,
            543,
            10000,
            800
           ],
           "yaxis": "y"
          },
          {
           "hovertemplate": "Type=Fraud<br>Month=Mar<br>Origin=%{x}<br>Amount=%{y}<br>Limit=%{marker.size}<extra></extra>",
           "legendgroup": "Fraud",
           "marker": {
            "color": "#EF553B",
            "size": [
             25000,
             100000,
             25000,
             350000,
             350000
            ],
            "sizemode": "area",
            "sizeref": 1250,
            "symbol": "circle"
           },
           "mode": "markers",
           "name": "Fraud",
           "showlegend": true,
           "type": "scatter",
           "x": [
            "Mumbai, India",
            "Hyderabad, India",
            "Pune, India",
            "Mumbai, India",
            "Mumbai, India"
           ],
           "xaxis": "x",
           "y": [
            140,
            50000,
            1200,
            112,
            45000
           ],
           "yaxis": "y"
          }
         ],
         "name": "Mar"
        },
        {
         "data": [
          {
           "hovertemplate": "Type=Normal<br>Month=Aug<br>Origin=%{x}<br>Amount=%{y}<br>Limit=%{marker.size}<extra></extra>",
           "legendgroup": "Normal",
           "marker": {
            "color": "#636efa",
            "size": [
             100000,
             25000,
             225000
            ],
            "sizemode": "area",
            "sizeref": 1250,
            "symbol": "circle"
           },
           "mode": "markers",
           "name": "Normal",
           "showlegend": true,
           "type": "scatter",
           "x": [
            "Hyderabad, India",
            "Pune, India",
            "Delhi, India"
           ],
           "xaxis": "x",
           "y": [
            11000,
            994,
            1200
           ],
           "yaxis": "y"
          },
          {
           "hovertemplate": "Type=Fraud<br>Month=Aug<br>Origin=%{x}<br>Amount=%{y}<br>Limit=%{marker.size}<extra></extra>",
           "legendgroup": "Fraud",
           "marker": {
            "color": "#EF553B",
            "size": [
             350000
            ],
            "sizemode": "area",
            "sizeref": 1250,
            "symbol": "circle"
           },
           "mode": "markers",
           "name": "Fraud",
           "showlegend": true,
           "type": "scatter",
           "x": [
            "Mumbai, India"
           ],
           "xaxis": "x",
           "y": [
            12567
           ],
           "yaxis": "y"
          }
         ],
         "name": "Aug"
        }
       ],
       "layout": {
        "legend": {
         "itemsizing": "constant",
         "title": {
          "text": "Type"
         },
         "tracegroupgap": 0
        },
        "margin": {
         "t": 60
        },
        "sliders": [
         {
          "active": 0,
          "currentvalue": {
           "prefix": "Month="
          },
          "len": 0.9,
          "pad": {
           "b": 10,
           "t": 60
          },
          "steps": [
           {
            "args": [
             [
              "Jun"
             ],
             {
              "frame": {
               "duration": 0,
               "redraw": false
              },
              "fromcurrent": true,
              "mode": "immediate",
              "transition": {
               "duration": 0,
               "easing": "linear"
              }
             }
            ],
            "label": "Jun",
            "method": "animate"
           },
           {
            "args": [
             [
              "Oct"
             ],
             {
              "frame": {
               "duration": 0,
               "redraw": false
              },
              "fromcurrent": true,
              "mode": "immediate",
              "transition": {
               "duration": 0,
               "easing": "linear"
              }
             }
            ],
            "label": "Oct",
            "method": "animate"
           },
           {
            "args": [
             [
              "Jul"
             ],
             {
              "frame": {
               "duration": 0,
               "redraw": false
              },
              "fromcurrent": true,
              "mode": "immediate",
              "transition": {
               "duration": 0,
               "easing": "linear"
              }
             }
            ],
            "label": "Jul",
            "method": "animate"
           },
           {
            "args": [
             [
              "Dec"
             ],
             {
              "frame": {
               "duration": 0,
               "redraw": false
              },
              "fromcurrent": true,
              "mode": "immediate",
              "transition": {
               "duration": 0,
               "easing": "linear"
              }
             }
            ],
            "label": "Dec",
            "method": "animate"
           },
           {
            "args": [
             [
              "Sep"
             ],
             {
              "frame": {
               "duration": 0,
               "redraw": false
              },
              "fromcurrent": true,
              "mode": "immediate",
              "transition": {
               "duration": 0,
               "easing": "linear"
              }
             }
            ],
            "label": "Sep",
            "method": "animate"
           },
           {
            "args": [
             [
              "Nov"
             ],
             {
              "frame": {
               "duration": 0,
               "redraw": false
              },
              "fromcurrent": true,
              "mode": "immediate",
              "transition": {
               "duration": 0,
               "easing": "linear"
              }
             }
            ],
            "label": "Nov",
            "method": "animate"
           },
           {
            "args": [
             [
              "May"
             ],
             {
              "frame": {
               "duration": 0,
               "redraw": false
              },
              "fromcurrent": true,
              "mode": "immediate",
              "transition": {
               "duration": 0,
               "easing": "linear"
              }
             }
            ],
            "label": "May",
            "method": "animate"
           },
           {
            "args": [
             [
              "Jan"
             ],
             {
              "frame": {
               "duration": 0,
               "redraw": false
              },
              "fromcurrent": true,
              "mode": "immediate",
              "transition": {
               "duration": 0,
               "easing": "linear"
              }
             }
            ],
            "label": "Jan",
            "method": "animate"
           },
           {
            "args": [
             [
              "Apr"
             ],
             {
              "frame": {
               "duration": 0,
               "redraw": false
              },
              "fromcurrent": true,
              "mode": "immediate",
              "transition": {
               "duration": 0,
               "easing": "linear"
              }
             }
            ],
            "label": "Apr",
            "method": "animate"
           },
           {
            "args": [
             [
              "Feb"
             ],
             {
              "frame": {
               "duration": 0,
               "redraw": false
              },
              "fromcurrent": true,
              "mode": "immediate",
              "transition": {
               "duration": 0,
               "easing": "linear"
              }
             }
            ],
            "label": "Feb",
            "method": "animate"
           },
           {
            "args": [
             [
              "Mar"
             ],
             {
              "frame": {
               "duration": 0,
               "redraw": false
              },
              "fromcurrent": true,
              "mode": "immediate",
              "transition": {
               "duration": 0,
               "easing": "linear"
              }
             }
            ],
            "label": "Mar",
            "method": "animate"
           },
           {
            "args": [
             [
              "Aug"
             ],
             {
              "frame": {
               "duration": 0,
               "redraw": false
              },
              "fromcurrent": true,
              "mode": "immediate",
              "transition": {
               "duration": 0,
               "easing": "linear"
              }
             }
            ],
            "label": "Aug",
            "method": "animate"
           }
          ],
          "x": 0.1,
          "xanchor": "left",
          "y": 0,
          "yanchor": "top"
         }
        ],
        "template": {
         "data": {
          "bar": [
           {
            "error_x": {
             "color": "#2a3f5f"
            },
            "error_y": {
             "color": "#2a3f5f"
            },
            "marker": {
             "line": {
              "color": "#E5ECF6",
              "width": 0.5
             }
            },
            "type": "bar"
           }
          ],
          "barpolar": [
           {
            "marker": {
             "line": {
              "color": "#E5ECF6",
              "width": 0.5
             }
            },
            "type": "barpolar"
           }
          ],
          "carpet": [
           {
            "aaxis": {
             "endlinecolor": "#2a3f5f",
             "gridcolor": "white",
             "linecolor": "white",
             "minorgridcolor": "white",
             "startlinecolor": "#2a3f5f"
            },
            "baxis": {
             "endlinecolor": "#2a3f5f",
             "gridcolor": "white",
             "linecolor": "white",
             "minorgridcolor": "white",
             "startlinecolor": "#2a3f5f"
            },
            "type": "carpet"
           }
          ],
          "choropleth": [
           {
            "colorbar": {
             "outlinewidth": 0,
             "ticks": ""
            },
            "type": "choropleth"
           }
          ],
          "contour": [
           {
            "colorbar": {
             "outlinewidth": 0,
             "ticks": ""
            },
            "colorscale": [
             [
              0,
              "#0d0887"
             ],
             [
              0.1111111111111111,
              "#46039f"
             ],
             [
              0.2222222222222222,
              "#7201a8"
             ],
             [
              0.3333333333333333,
              "#9c179e"
             ],
             [
              0.4444444444444444,
              "#bd3786"
             ],
             [
              0.5555555555555556,
              "#d8576b"
             ],
             [
              0.6666666666666666,
              "#ed7953"
             ],
             [
              0.7777777777777778,
              "#fb9f3a"
             ],
             [
              0.8888888888888888,
              "#fdca26"
             ],
             [
              1,
              "#f0f921"
             ]
            ],
            "type": "contour"
           }
          ],
          "contourcarpet": [
           {
            "colorbar": {
             "outlinewidth": 0,
             "ticks": ""
            },
            "type": "contourcarpet"
           }
          ],
          "heatmap": [
           {
            "colorbar": {
             "outlinewidth": 0,
             "ticks": ""
            },
            "colorscale": [
             [
              0,
              "#0d0887"
             ],
             [
              0.1111111111111111,
              "#46039f"
             ],
             [
              0.2222222222222222,
              "#7201a8"
             ],
             [
              0.3333333333333333,
              "#9c179e"
             ],
             [
              0.4444444444444444,
              "#bd3786"
             ],
             [
              0.5555555555555556,
              "#d8576b"
             ],
             [
              0.6666666666666666,
              "#ed7953"
             ],
             [
              0.7777777777777778,
              "#fb9f3a"
             ],
             [
              0.8888888888888888,
              "#fdca26"
             ],
             [
              1,
              "#f0f921"
             ]
            ],
            "type": "heatmap"
           }
          ],
          "heatmapgl": [
           {
            "colorbar": {
             "outlinewidth": 0,
             "ticks": ""
            },
            "colorscale": [
             [
              0,
              "#0d0887"
             ],
             [
              0.1111111111111111,
              "#46039f"
             ],
             [
              0.2222222222222222,
              "#7201a8"
             ],
             [
              0.3333333333333333,
              "#9c179e"
             ],
             [
              0.4444444444444444,
              "#bd3786"
             ],
             [
              0.5555555555555556,
              "#d8576b"
             ],
             [
              0.6666666666666666,
              "#ed7953"
             ],
             [
              0.7777777777777778,
              "#fb9f3a"
             ],
             [
              0.8888888888888888,
              "#fdca26"
             ],
             [
              1,
              "#f0f921"
             ]
            ],
            "type": "heatmapgl"
           }
          ],
          "histogram": [
           {
            "marker": {
             "colorbar": {
              "outlinewidth": 0,
              "ticks": ""
             }
            },
            "type": "histogram"
           }
          ],
          "histogram2d": [
           {
            "colorbar": {
             "outlinewidth": 0,
             "ticks": ""
            },
            "colorscale": [
             [
              0,
              "#0d0887"
             ],
             [
              0.1111111111111111,
              "#46039f"
             ],
             [
              0.2222222222222222,
              "#7201a8"
             ],
             [
              0.3333333333333333,
              "#9c179e"
             ],
             [
              0.4444444444444444,
              "#bd3786"
             ],
             [
              0.5555555555555556,
              "#d8576b"
             ],
             [
              0.6666666666666666,
              "#ed7953"
             ],
             [
              0.7777777777777778,
              "#fb9f3a"
             ],
             [
              0.8888888888888888,
              "#fdca26"
             ],
             [
              1,
              "#f0f921"
             ]
            ],
            "type": "histogram2d"
           }
          ],
          "histogram2dcontour": [
           {
            "colorbar": {
             "outlinewidth": 0,
             "ticks": ""
            },
            "colorscale": [
             [
              0,
              "#0d0887"
             ],
             [
              0.1111111111111111,
              "#46039f"
             ],
             [
              0.2222222222222222,
              "#7201a8"
             ],
             [
              0.3333333333333333,
              "#9c179e"
             ],
             [
              0.4444444444444444,
              "#bd3786"
             ],
             [
              0.5555555555555556,
              "#d8576b"
             ],
             [
              0.6666666666666666,
              "#ed7953"
             ],
             [
              0.7777777777777778,
              "#fb9f3a"
             ],
             [
              0.8888888888888888,
              "#fdca26"
             ],
             [
              1,
              "#f0f921"
             ]
            ],
            "type": "histogram2dcontour"
           }
          ],
          "mesh3d": [
           {
            "colorbar": {
             "outlinewidth": 0,
             "ticks": ""
            },
            "type": "mesh3d"
           }
          ],
          "parcoords": [
           {
            "line": {
             "colorbar": {
              "outlinewidth": 0,
              "ticks": ""
             }
            },
            "type": "parcoords"
           }
          ],
          "pie": [
           {
            "automargin": true,
            "type": "pie"
           }
          ],
          "scatter": [
           {
            "marker": {
             "colorbar": {
              "outlinewidth": 0,
              "ticks": ""
             }
            },
            "type": "scatter"
           }
          ],
          "scatter3d": [
           {
            "line": {
             "colorbar": {
              "outlinewidth": 0,
              "ticks": ""
             }
            },
            "marker": {
             "colorbar": {
              "outlinewidth": 0,
              "ticks": ""
             }
            },
            "type": "scatter3d"
           }
          ],
          "scattercarpet": [
           {
            "marker": {
             "colorbar": {
              "outlinewidth": 0,
              "ticks": ""
             }
            },
            "type": "scattercarpet"
           }
          ],
          "scattergeo": [
           {
            "marker": {
             "colorbar": {
              "outlinewidth": 0,
              "ticks": ""
             }
            },
            "type": "scattergeo"
           }
          ],
          "scattergl": [
           {
            "marker": {
             "colorbar": {
              "outlinewidth": 0,
              "ticks": ""
             }
            },
            "type": "scattergl"
           }
          ],
          "scattermapbox": [
           {
            "marker": {
             "colorbar": {
              "outlinewidth": 0,
              "ticks": ""
             }
            },
            "type": "scattermapbox"
           }
          ],
          "scatterpolar": [
           {
            "marker": {
             "colorbar": {
              "outlinewidth": 0,
              "ticks": ""
             }
            },
            "type": "scatterpolar"
           }
          ],
          "scatterpolargl": [
           {
            "marker": {
             "colorbar": {
              "outlinewidth": 0,
              "ticks": ""
             }
            },
            "type": "scatterpolargl"
           }
          ],
          "scatterternary": [
           {
            "marker": {
             "colorbar": {
              "outlinewidth": 0,
              "ticks": ""
             }
            },
            "type": "scatterternary"
           }
          ],
          "surface": [
           {
            "colorbar": {
             "outlinewidth": 0,
             "ticks": ""
            },
            "colorscale": [
             [
              0,
              "#0d0887"
             ],
             [
              0.1111111111111111,
              "#46039f"
             ],
             [
              0.2222222222222222,
              "#7201a8"
             ],
             [
              0.3333333333333333,
              "#9c179e"
             ],
             [
              0.4444444444444444,
              "#bd3786"
             ],
             [
              0.5555555555555556,
              "#d8576b"
             ],
             [
              0.6666666666666666,
              "#ed7953"
             ],
             [
              0.7777777777777778,
              "#fb9f3a"
             ],
             [
              0.8888888888888888,
              "#fdca26"
             ],
             [
              1,
              "#f0f921"
             ]
            ],
            "type": "surface"
           }
          ],
          "table": [
           {
            "cells": {
             "fill": {
              "color": "#EBF0F8"
             },
             "line": {
              "color": "white"
             }
            },
            "header": {
             "fill": {
              "color": "#C8D4E3"
             },
             "line": {
              "color": "white"
             }
            },
            "type": "table"
           }
          ]
         },
         "layout": {
          "annotationdefaults": {
           "arrowcolor": "#2a3f5f",
           "arrowhead": 0,
           "arrowwidth": 1
          },
          "coloraxis": {
           "colorbar": {
            "outlinewidth": 0,
            "ticks": ""
           }
          },
          "colorscale": {
           "diverging": [
            [
             0,
             "#8e0152"
            ],
            [
             0.1,
             "#c51b7d"
            ],
            [
             0.2,
             "#de77ae"
            ],
            [
             0.3,
             "#f1b6da"
            ],
            [
             0.4,
             "#fde0ef"
            ],
            [
             0.5,
             "#f7f7f7"
            ],
            [
             0.6,
             "#e6f5d0"
            ],
            [
             0.7,
             "#b8e186"
            ],
            [
             0.8,
             "#7fbc41"
            ],
            [
             0.9,
             "#4d9221"
            ],
            [
             1,
             "#276419"
            ]
           ],
           "sequential": [
            [
             0,
             "#0d0887"
            ],
            [
             0.1111111111111111,
             "#46039f"
            ],
            [
             0.2222222222222222,
             "#7201a8"
            ],
            [
             0.3333333333333333,
             "#9c179e"
            ],
            [
             0.4444444444444444,
             "#bd3786"
            ],
            [
             0.5555555555555556,
             "#d8576b"
            ],
            [
             0.6666666666666666,
             "#ed7953"
            ],
            [
             0.7777777777777778,
             "#fb9f3a"
            ],
            [
             0.8888888888888888,
             "#fdca26"
            ],
            [
             1,
             "#f0f921"
            ]
           ],
           "sequentialminus": [
            [
             0,
             "#0d0887"
            ],
            [
             0.1111111111111111,
             "#46039f"
            ],
            [
             0.2222222222222222,
             "#7201a8"
            ],
            [
             0.3333333333333333,
             "#9c179e"
            ],
            [
             0.4444444444444444,
             "#bd3786"
            ],
            [
             0.5555555555555556,
             "#d8576b"
            ],
            [
             0.6666666666666666,
             "#ed7953"
            ],
            [
             0.7777777777777778,
             "#fb9f3a"
            ],
            [
             0.8888888888888888,
             "#fdca26"
            ],
            [
             1,
             "#f0f921"
            ]
           ]
          },
          "colorway": [
           "#636efa",
           "#EF553B",
           "#00cc96",
           "#ab63fa",
           "#FFA15A",
           "#19d3f3",
           "#FF6692",
           "#B6E880",
           "#FF97FF",
           "#FECB52"
          ],
          "font": {
           "color": "#2a3f5f"
          },
          "geo": {
           "bgcolor": "white",
           "lakecolor": "white",
           "landcolor": "#E5ECF6",
           "showlakes": true,
           "showland": true,
           "subunitcolor": "white"
          },
          "hoverlabel": {
           "align": "left"
          },
          "hovermode": "closest",
          "mapbox": {
           "style": "light"
          },
          "paper_bgcolor": "white",
          "plot_bgcolor": "#E5ECF6",
          "polar": {
           "angularaxis": {
            "gridcolor": "white",
            "linecolor": "white",
            "ticks": ""
           },
           "bgcolor": "#E5ECF6",
           "radialaxis": {
            "gridcolor": "white",
            "linecolor": "white",
            "ticks": ""
           }
          },
          "scene": {
           "xaxis": {
            "backgroundcolor": "#E5ECF6",
            "gridcolor": "white",
            "gridwidth": 2,
            "linecolor": "white",
            "showbackground": true,
            "ticks": "",
            "zerolinecolor": "white"
           },
           "yaxis": {
            "backgroundcolor": "#E5ECF6",
            "gridcolor": "white",
            "gridwidth": 2,
            "linecolor": "white",
            "showbackground": true,
            "ticks": "",
            "zerolinecolor": "white"
           },
           "zaxis": {
            "backgroundcolor": "#E5ECF6",
            "gridcolor": "white",
            "gridwidth": 2,
            "linecolor": "white",
            "showbackground": true,
            "ticks": "",
            "zerolinecolor": "white"
           }
          },
          "shapedefaults": {
           "line": {
            "color": "#2a3f5f"
           }
          },
          "ternary": {
           "aaxis": {
            "gridcolor": "white",
            "linecolor": "white",
            "ticks": ""
           },
           "baxis": {
            "gridcolor": "white",
            "linecolor": "white",
            "ticks": ""
           },
           "bgcolor": "#E5ECF6",
           "caxis": {
            "gridcolor": "white",
            "linecolor": "white",
            "ticks": ""
           }
          },
          "title": {
           "x": 0.05
          },
          "xaxis": {
           "automargin": true,
           "gridcolor": "white",
           "linecolor": "white",
           "ticks": "",
           "title": {
            "standoff": 15
           },
           "zerolinecolor": "white",
           "zerolinewidth": 2
          },
          "yaxis": {
           "automargin": true,
           "gridcolor": "white",
           "linecolor": "white",
           "ticks": "",
           "title": {
            "standoff": 15
           },
           "zerolinecolor": "white",
           "zerolinewidth": 2
          }
         }
        },
        "updatemenus": [
         {
          "buttons": [
           {
            "args": [
             null,
             {
              "frame": {
               "duration": 500,
               "redraw": false
              },
              "fromcurrent": true,
              "mode": "immediate",
              "transition": {
               "duration": 500,
               "easing": "linear"
              }
             }
            ],
            "label": "&#9654;",
            "method": "animate"
           },
           {
            "args": [
             [
              null
             ],
             {
              "frame": {
               "duration": 0,
               "redraw": false
              },
              "fromcurrent": true,
              "mode": "immediate",
              "transition": {
               "duration": 0,
               "easing": "linear"
              }
             }
            ],
            "label": "&#9724;",
            "method": "animate"
           }
          ],
          "direction": "left",
          "pad": {
           "r": 10,
           "t": 70
          },
          "showactive": false,
          "type": "buttons",
          "x": 0.1,
          "xanchor": "right",
          "y": 0,
          "yanchor": "top"
         }
        ],
        "xaxis": {
         "anchor": "y",
         "domain": [
          0,
          1
         ],
         "title": {
          "text": "Origin"
         }
        },
        "yaxis": {
         "anchor": "x",
         "domain": [
          0,
          1
         ],
         "title": {
          "text": "Amount"
         }
        }
       }
      },
      "text/html": [
       "<div>\n",
       "        \n",
       "        \n",
       "            <div id=\"0ce76b49-1bb9-4b70-afdb-960b7cba6f29\" class=\"plotly-graph-div\" style=\"height:525px; width:100%;\"></div>\n",
       "            <script type=\"text/javascript\">\n",
       "                require([\"plotly\"], function(Plotly) {\n",
       "                    window.PLOTLYENV=window.PLOTLYENV || {};\n",
       "                    \n",
       "                if (document.getElementById(\"0ce76b49-1bb9-4b70-afdb-960b7cba6f29\")) {\n",
       "                    Plotly.newPlot(\n",
       "                        '0ce76b49-1bb9-4b70-afdb-960b7cba6f29',\n",
       "                        [{\"hovertemplate\": \"Type=Normal<br>Month=Jun<br>Origin=%{x}<br>Amount=%{y}<br>Limit=%{marker.size}<extra></extra>\", \"legendgroup\": \"Normal\", \"marker\": {\"color\": \"#636efa\", \"size\": [500000, 100000, 100000, 350000, 500000, 25000, 350000], \"sizemode\": \"area\", \"sizeref\": 1250.0, \"symbol\": \"circle\"}, \"mode\": \"markers\", \"name\": \"Normal\", \"showlegend\": true, \"type\": \"scatter\", \"x\": [\"Bangalore, India\", \"Hyderabad, India\", \"Hyderabad, India\", \"Mumbai, India\", \"Ahmedabad, India\", \"Pune, India\", \"Chennai, India\"], \"xaxis\": \"x\", \"y\": [25000, 1356, 140, 345, 45000, 987, 24000], \"yaxis\": \"y\"}, {\"hovertemplate\": \"Type=Fraud<br>Month=Jun<br>Origin=%{x}<br>Amount=%{y}<br>Limit=%{marker.size}<extra></extra>\", \"legendgroup\": \"Fraud\", \"marker\": {\"color\": \"#EF553B\", \"size\": [100000, 100000, 225000], \"sizemode\": \"area\", \"sizeref\": 1250.0, \"symbol\": \"circle\"}, \"mode\": \"markers\", \"name\": \"Fraud\", \"showlegend\": true, \"type\": \"scatter\", \"x\": [\"Hyderabad, India\", \"Hyderabad, India\", \"Delhi, India\"], \"xaxis\": \"x\", \"y\": [15000, 10543, 11000], \"yaxis\": \"y\"}],\n",
       "                        {\"legend\": {\"itemsizing\": \"constant\", \"title\": {\"text\": \"Type\"}, \"tracegroupgap\": 0}, \"margin\": {\"t\": 60}, \"sliders\": [{\"active\": 0, \"currentvalue\": {\"prefix\": \"Month=\"}, \"len\": 0.9, \"pad\": {\"b\": 10, \"t\": 60}, \"steps\": [{\"args\": [[\"Jun\"], {\"frame\": {\"duration\": 0, \"redraw\": false}, \"fromcurrent\": true, \"mode\": \"immediate\", \"transition\": {\"duration\": 0, \"easing\": \"linear\"}}], \"label\": \"Jun\", \"method\": \"animate\"}, {\"args\": [[\"Oct\"], {\"frame\": {\"duration\": 0, \"redraw\": false}, \"fromcurrent\": true, \"mode\": \"immediate\", \"transition\": {\"duration\": 0, \"easing\": \"linear\"}}], \"label\": \"Oct\", \"method\": \"animate\"}, {\"args\": [[\"Jul\"], {\"frame\": {\"duration\": 0, \"redraw\": false}, \"fromcurrent\": true, \"mode\": \"immediate\", \"transition\": {\"duration\": 0, \"easing\": \"linear\"}}], \"label\": \"Jul\", \"method\": \"animate\"}, {\"args\": [[\"Dec\"], {\"frame\": {\"duration\": 0, \"redraw\": false}, \"fromcurrent\": true, \"mode\": \"immediate\", \"transition\": {\"duration\": 0, \"easing\": \"linear\"}}], \"label\": \"Dec\", \"method\": \"animate\"}, {\"args\": [[\"Sep\"], {\"frame\": {\"duration\": 0, \"redraw\": false}, \"fromcurrent\": true, \"mode\": \"immediate\", \"transition\": {\"duration\": 0, \"easing\": \"linear\"}}], \"label\": \"Sep\", \"method\": \"animate\"}, {\"args\": [[\"Nov\"], {\"frame\": {\"duration\": 0, \"redraw\": false}, \"fromcurrent\": true, \"mode\": \"immediate\", \"transition\": {\"duration\": 0, \"easing\": \"linear\"}}], \"label\": \"Nov\", \"method\": \"animate\"}, {\"args\": [[\"May\"], {\"frame\": {\"duration\": 0, \"redraw\": false}, \"fromcurrent\": true, \"mode\": \"immediate\", \"transition\": {\"duration\": 0, \"easing\": \"linear\"}}], \"label\": \"May\", \"method\": \"animate\"}, {\"args\": [[\"Jan\"], {\"frame\": {\"duration\": 0, \"redraw\": false}, \"fromcurrent\": true, \"mode\": \"immediate\", \"transition\": {\"duration\": 0, \"easing\": \"linear\"}}], \"label\": \"Jan\", \"method\": \"animate\"}, {\"args\": [[\"Apr\"], {\"frame\": {\"duration\": 0, \"redraw\": false}, \"fromcurrent\": true, \"mode\": \"immediate\", \"transition\": {\"duration\": 0, \"easing\": \"linear\"}}], \"label\": \"Apr\", \"method\": \"animate\"}, {\"args\": [[\"Feb\"], {\"frame\": {\"duration\": 0, \"redraw\": false}, \"fromcurrent\": true, \"mode\": \"immediate\", \"transition\": {\"duration\": 0, \"easing\": \"linear\"}}], \"label\": \"Feb\", \"method\": \"animate\"}, {\"args\": [[\"Mar\"], {\"frame\": {\"duration\": 0, \"redraw\": false}, \"fromcurrent\": true, \"mode\": \"immediate\", \"transition\": {\"duration\": 0, \"easing\": \"linear\"}}], \"label\": \"Mar\", \"method\": \"animate\"}, {\"args\": [[\"Aug\"], {\"frame\": {\"duration\": 0, \"redraw\": false}, \"fromcurrent\": true, \"mode\": \"immediate\", \"transition\": {\"duration\": 0, \"easing\": \"linear\"}}], \"label\": \"Aug\", \"method\": \"animate\"}], \"x\": 0.1, \"xanchor\": \"left\", \"y\": 0, \"yanchor\": \"top\"}], \"template\": {\"data\": {\"bar\": [{\"error_x\": {\"color\": \"#2a3f5f\"}, \"error_y\": {\"color\": \"#2a3f5f\"}, \"marker\": {\"line\": {\"color\": \"#E5ECF6\", \"width\": 0.5}}, \"type\": \"bar\"}], \"barpolar\": [{\"marker\": {\"line\": {\"color\": \"#E5ECF6\", \"width\": 0.5}}, \"type\": \"barpolar\"}], \"carpet\": [{\"aaxis\": {\"endlinecolor\": \"#2a3f5f\", \"gridcolor\": \"white\", \"linecolor\": \"white\", \"minorgridcolor\": \"white\", \"startlinecolor\": \"#2a3f5f\"}, \"baxis\": {\"endlinecolor\": \"#2a3f5f\", \"gridcolor\": \"white\", \"linecolor\": \"white\", \"minorgridcolor\": \"white\", \"startlinecolor\": \"#2a3f5f\"}, \"type\": \"carpet\"}], \"choropleth\": [{\"colorbar\": {\"outlinewidth\": 0, \"ticks\": \"\"}, \"type\": \"choropleth\"}], \"contour\": [{\"colorbar\": {\"outlinewidth\": 0, \"ticks\": \"\"}, \"colorscale\": [[0.0, \"#0d0887\"], [0.1111111111111111, \"#46039f\"], [0.2222222222222222, \"#7201a8\"], [0.3333333333333333, \"#9c179e\"], [0.4444444444444444, \"#bd3786\"], [0.5555555555555556, \"#d8576b\"], [0.6666666666666666, \"#ed7953\"], [0.7777777777777778, \"#fb9f3a\"], [0.8888888888888888, \"#fdca26\"], [1.0, \"#f0f921\"]], \"type\": \"contour\"}], \"contourcarpet\": [{\"colorbar\": {\"outlinewidth\": 0, \"ticks\": \"\"}, \"type\": \"contourcarpet\"}], \"heatmap\": [{\"colorbar\": {\"outlinewidth\": 0, \"ticks\": \"\"}, \"colorscale\": [[0.0, \"#0d0887\"], [0.1111111111111111, \"#46039f\"], [0.2222222222222222, \"#7201a8\"], [0.3333333333333333, \"#9c179e\"], [0.4444444444444444, \"#bd3786\"], [0.5555555555555556, \"#d8576b\"], [0.6666666666666666, \"#ed7953\"], [0.7777777777777778, \"#fb9f3a\"], [0.8888888888888888, \"#fdca26\"], [1.0, \"#f0f921\"]], \"type\": \"heatmap\"}], \"heatmapgl\": [{\"colorbar\": {\"outlinewidth\": 0, \"ticks\": \"\"}, \"colorscale\": [[0.0, \"#0d0887\"], [0.1111111111111111, \"#46039f\"], [0.2222222222222222, \"#7201a8\"], [0.3333333333333333, \"#9c179e\"], [0.4444444444444444, \"#bd3786\"], [0.5555555555555556, \"#d8576b\"], [0.6666666666666666, \"#ed7953\"], [0.7777777777777778, \"#fb9f3a\"], [0.8888888888888888, \"#fdca26\"], [1.0, \"#f0f921\"]], \"type\": \"heatmapgl\"}], \"histogram\": [{\"marker\": {\"colorbar\": {\"outlinewidth\": 0, \"ticks\": \"\"}}, \"type\": \"histogram\"}], \"histogram2d\": [{\"colorbar\": {\"outlinewidth\": 0, \"ticks\": \"\"}, \"colorscale\": [[0.0, \"#0d0887\"], [0.1111111111111111, \"#46039f\"], [0.2222222222222222, \"#7201a8\"], [0.3333333333333333, \"#9c179e\"], [0.4444444444444444, \"#bd3786\"], [0.5555555555555556, \"#d8576b\"], [0.6666666666666666, \"#ed7953\"], [0.7777777777777778, \"#fb9f3a\"], [0.8888888888888888, \"#fdca26\"], [1.0, \"#f0f921\"]], \"type\": \"histogram2d\"}], \"histogram2dcontour\": [{\"colorbar\": {\"outlinewidth\": 0, \"ticks\": \"\"}, \"colorscale\": [[0.0, \"#0d0887\"], [0.1111111111111111, \"#46039f\"], [0.2222222222222222, \"#7201a8\"], [0.3333333333333333, \"#9c179e\"], [0.4444444444444444, \"#bd3786\"], [0.5555555555555556, \"#d8576b\"], [0.6666666666666666, \"#ed7953\"], [0.7777777777777778, \"#fb9f3a\"], [0.8888888888888888, \"#fdca26\"], [1.0, \"#f0f921\"]], \"type\": \"histogram2dcontour\"}], \"mesh3d\": [{\"colorbar\": {\"outlinewidth\": 0, \"ticks\": \"\"}, \"type\": \"mesh3d\"}], \"parcoords\": [{\"line\": {\"colorbar\": {\"outlinewidth\": 0, \"ticks\": \"\"}}, \"type\": \"parcoords\"}], \"pie\": [{\"automargin\": true, \"type\": \"pie\"}], \"scatter\": [{\"marker\": {\"colorbar\": {\"outlinewidth\": 0, \"ticks\": \"\"}}, \"type\": \"scatter\"}], \"scatter3d\": [{\"line\": {\"colorbar\": {\"outlinewidth\": 0, \"ticks\": \"\"}}, \"marker\": {\"colorbar\": {\"outlinewidth\": 0, \"ticks\": \"\"}}, \"type\": \"scatter3d\"}], \"scattercarpet\": [{\"marker\": {\"colorbar\": {\"outlinewidth\": 0, \"ticks\": \"\"}}, \"type\": \"scattercarpet\"}], \"scattergeo\": [{\"marker\": {\"colorbar\": {\"outlinewidth\": 0, \"ticks\": \"\"}}, \"type\": \"scattergeo\"}], \"scattergl\": [{\"marker\": {\"colorbar\": {\"outlinewidth\": 0, \"ticks\": \"\"}}, \"type\": \"scattergl\"}], \"scattermapbox\": [{\"marker\": {\"colorbar\": {\"outlinewidth\": 0, \"ticks\": \"\"}}, \"type\": \"scattermapbox\"}], \"scatterpolar\": [{\"marker\": {\"colorbar\": {\"outlinewidth\": 0, \"ticks\": \"\"}}, \"type\": \"scatterpolar\"}], \"scatterpolargl\": [{\"marker\": {\"colorbar\": {\"outlinewidth\": 0, \"ticks\": \"\"}}, \"type\": \"scatterpolargl\"}], \"scatterternary\": [{\"marker\": {\"colorbar\": {\"outlinewidth\": 0, \"ticks\": \"\"}}, \"type\": \"scatterternary\"}], \"surface\": [{\"colorbar\": {\"outlinewidth\": 0, \"ticks\": \"\"}, \"colorscale\": [[0.0, \"#0d0887\"], [0.1111111111111111, \"#46039f\"], [0.2222222222222222, \"#7201a8\"], [0.3333333333333333, \"#9c179e\"], [0.4444444444444444, \"#bd3786\"], [0.5555555555555556, \"#d8576b\"], [0.6666666666666666, \"#ed7953\"], [0.7777777777777778, \"#fb9f3a\"], [0.8888888888888888, \"#fdca26\"], [1.0, \"#f0f921\"]], \"type\": \"surface\"}], \"table\": [{\"cells\": {\"fill\": {\"color\": \"#EBF0F8\"}, \"line\": {\"color\": \"white\"}}, \"header\": {\"fill\": {\"color\": \"#C8D4E3\"}, \"line\": {\"color\": \"white\"}}, \"type\": \"table\"}]}, \"layout\": {\"annotationdefaults\": {\"arrowcolor\": \"#2a3f5f\", \"arrowhead\": 0, \"arrowwidth\": 1}, \"coloraxis\": {\"colorbar\": {\"outlinewidth\": 0, \"ticks\": \"\"}}, \"colorscale\": {\"diverging\": [[0, \"#8e0152\"], [0.1, \"#c51b7d\"], [0.2, \"#de77ae\"], [0.3, \"#f1b6da\"], [0.4, \"#fde0ef\"], [0.5, \"#f7f7f7\"], [0.6, \"#e6f5d0\"], [0.7, \"#b8e186\"], [0.8, \"#7fbc41\"], [0.9, \"#4d9221\"], [1, \"#276419\"]], \"sequential\": [[0.0, \"#0d0887\"], [0.1111111111111111, \"#46039f\"], [0.2222222222222222, \"#7201a8\"], [0.3333333333333333, \"#9c179e\"], [0.4444444444444444, \"#bd3786\"], [0.5555555555555556, \"#d8576b\"], [0.6666666666666666, \"#ed7953\"], [0.7777777777777778, \"#fb9f3a\"], [0.8888888888888888, \"#fdca26\"], [1.0, \"#f0f921\"]], \"sequentialminus\": [[0.0, \"#0d0887\"], [0.1111111111111111, \"#46039f\"], [0.2222222222222222, \"#7201a8\"], [0.3333333333333333, \"#9c179e\"], [0.4444444444444444, \"#bd3786\"], [0.5555555555555556, \"#d8576b\"], [0.6666666666666666, \"#ed7953\"], [0.7777777777777778, \"#fb9f3a\"], [0.8888888888888888, \"#fdca26\"], [1.0, \"#f0f921\"]]}, \"colorway\": [\"#636efa\", \"#EF553B\", \"#00cc96\", \"#ab63fa\", \"#FFA15A\", \"#19d3f3\", \"#FF6692\", \"#B6E880\", \"#FF97FF\", \"#FECB52\"], \"font\": {\"color\": \"#2a3f5f\"}, \"geo\": {\"bgcolor\": \"white\", \"lakecolor\": \"white\", \"landcolor\": \"#E5ECF6\", \"showlakes\": true, \"showland\": true, \"subunitcolor\": \"white\"}, \"hoverlabel\": {\"align\": \"left\"}, \"hovermode\": \"closest\", \"mapbox\": {\"style\": \"light\"}, \"paper_bgcolor\": \"white\", \"plot_bgcolor\": \"#E5ECF6\", \"polar\": {\"angularaxis\": {\"gridcolor\": \"white\", \"linecolor\": \"white\", \"ticks\": \"\"}, \"bgcolor\": \"#E5ECF6\", \"radialaxis\": {\"gridcolor\": \"white\", \"linecolor\": \"white\", \"ticks\": \"\"}}, \"scene\": {\"xaxis\": {\"backgroundcolor\": \"#E5ECF6\", \"gridcolor\": \"white\", \"gridwidth\": 2, \"linecolor\": \"white\", \"showbackground\": true, \"ticks\": \"\", \"zerolinecolor\": \"white\"}, \"yaxis\": {\"backgroundcolor\": \"#E5ECF6\", \"gridcolor\": \"white\", \"gridwidth\": 2, \"linecolor\": \"white\", \"showbackground\": true, \"ticks\": \"\", \"zerolinecolor\": \"white\"}, \"zaxis\": {\"backgroundcolor\": \"#E5ECF6\", \"gridcolor\": \"white\", \"gridwidth\": 2, \"linecolor\": \"white\", \"showbackground\": true, \"ticks\": \"\", \"zerolinecolor\": \"white\"}}, \"shapedefaults\": {\"line\": {\"color\": \"#2a3f5f\"}}, \"ternary\": {\"aaxis\": {\"gridcolor\": \"white\", \"linecolor\": \"white\", \"ticks\": \"\"}, \"baxis\": {\"gridcolor\": \"white\", \"linecolor\": \"white\", \"ticks\": \"\"}, \"bgcolor\": \"#E5ECF6\", \"caxis\": {\"gridcolor\": \"white\", \"linecolor\": \"white\", \"ticks\": \"\"}}, \"title\": {\"x\": 0.05}, \"xaxis\": {\"automargin\": true, \"gridcolor\": \"white\", \"linecolor\": \"white\", \"ticks\": \"\", \"title\": {\"standoff\": 15}, \"zerolinecolor\": \"white\", \"zerolinewidth\": 2}, \"yaxis\": {\"automargin\": true, \"gridcolor\": \"white\", \"linecolor\": \"white\", \"ticks\": \"\", \"title\": {\"standoff\": 15}, \"zerolinecolor\": \"white\", \"zerolinewidth\": 2}}}, \"updatemenus\": [{\"buttons\": [{\"args\": [null, {\"frame\": {\"duration\": 500, \"redraw\": false}, \"fromcurrent\": true, \"mode\": \"immediate\", \"transition\": {\"duration\": 500, \"easing\": \"linear\"}}], \"label\": \"&#9654;\", \"method\": \"animate\"}, {\"args\": [[null], {\"frame\": {\"duration\": 0, \"redraw\": false}, \"fromcurrent\": true, \"mode\": \"immediate\", \"transition\": {\"duration\": 0, \"easing\": \"linear\"}}], \"label\": \"&#9724;\", \"method\": \"animate\"}], \"direction\": \"left\", \"pad\": {\"r\": 10, \"t\": 70}, \"showactive\": false, \"type\": \"buttons\", \"x\": 0.1, \"xanchor\": \"right\", \"y\": 0, \"yanchor\": \"top\"}], \"xaxis\": {\"anchor\": \"y\", \"domain\": [0.0, 1.0], \"title\": {\"text\": \"Origin\"}}, \"yaxis\": {\"anchor\": \"x\", \"domain\": [0.0, 1.0], \"title\": {\"text\": \"Amount\"}}},\n",
       "                        {\"responsive\": true}\n",
       "                    ).then(function(){\n",
       "                            Plotly.addFrames('0ce76b49-1bb9-4b70-afdb-960b7cba6f29', [{\"data\": [{\"hovertemplate\": \"Type=Normal<br>Month=Jun<br>Origin=%{x}<br>Amount=%{y}<br>Limit=%{marker.size}<extra></extra>\", \"legendgroup\": \"Normal\", \"marker\": {\"color\": \"#636efa\", \"size\": [500000, 100000, 100000, 350000, 500000, 25000, 350000], \"sizemode\": \"area\", \"sizeref\": 1250.0, \"symbol\": \"circle\"}, \"mode\": \"markers\", \"name\": \"Normal\", \"showlegend\": true, \"x\": [\"Bangalore, India\", \"Hyderabad, India\", \"Hyderabad, India\", \"Mumbai, India\", \"Ahmedabad, India\", \"Pune, India\", \"Chennai, India\"], \"xaxis\": \"x\", \"y\": [25000, 1356, 140, 345, 45000, 987, 24000], \"yaxis\": \"y\", \"type\": \"scatter\"}, {\"hovertemplate\": \"Type=Fraud<br>Month=Jun<br>Origin=%{x}<br>Amount=%{y}<br>Limit=%{marker.size}<extra></extra>\", \"legendgroup\": \"Fraud\", \"marker\": {\"color\": \"#EF553B\", \"size\": [100000, 100000, 225000], \"sizemode\": \"area\", \"sizeref\": 1250.0, \"symbol\": \"circle\"}, \"mode\": \"markers\", \"name\": \"Fraud\", \"showlegend\": true, \"x\": [\"Hyderabad, India\", \"Hyderabad, India\", \"Delhi, India\"], \"xaxis\": \"x\", \"y\": [15000, 10543, 11000], \"yaxis\": \"y\", \"type\": \"scatter\"}], \"name\": \"Jun\"}, {\"data\": [{\"hovertemplate\": \"Type=Normal<br>Month=Oct<br>Origin=%{x}<br>Amount=%{y}<br>Limit=%{marker.size}<extra></extra>\", \"legendgroup\": \"Normal\", \"marker\": {\"color\": \"#636efa\", \"size\": [500000, 25000, 25000, 225000, 500000, 25000, 350000, 350000, 225000], \"sizemode\": \"area\", \"sizeref\": 1250.0, \"symbol\": \"circle\"}, \"mode\": \"markers\", \"name\": \"Normal\", \"showlegend\": true, \"x\": [\"Bangalore, India\", \"Mumbai, India\", \"Mumbai, India\", \"Delhi, India\", \"Ahmedabad, India\", \"Pune, India\", \"Chennai, India\", \"Chennai, India\", \"Delhi, India\"], \"xaxis\": \"x\", \"y\": [300, 1200, 1987, 9056, 132, 15000, 1200, 345, 1356], \"yaxis\": \"y\", \"type\": \"scatter\"}, {\"hovertemplate\": \"Type=Fraud<br>Month=Oct<br>Origin=%{x}<br>Amount=%{y}<br>Limit=%{marker.size}<extra></extra>\", \"legendgroup\": \"Fraud\", \"marker\": {\"color\": \"#EF553B\", \"size\": [350000, 350000, 225000, 500000, 500000, 225000], \"sizemode\": \"area\", \"sizeref\": 1250.0, \"symbol\": \"circle\"}, \"mode\": \"markers\", \"name\": \"Fraud\", \"showlegend\": true, \"x\": [\"Mumbai, India\", \"Mumbai, India\", \"Delhi, India\", \"Ahmedabad, India\", \"Bangalore, India\", \"Delhi, India\"], \"xaxis\": \"x\", \"y\": [150000, 75000, 5000, 4543, 1200, 300], \"yaxis\": \"y\", \"type\": \"scatter\"}], \"name\": \"Oct\"}, {\"data\": [{\"hovertemplate\": \"Type=Normal<br>Month=Jul<br>Origin=%{x}<br>Amount=%{y}<br>Limit=%{marker.size}<extra></extra>\", \"legendgroup\": \"Normal\", \"marker\": {\"color\": \"#636efa\", \"size\": [500000, 350000, 350000, 500000, 350000, 225000], \"sizemode\": \"area\", \"sizeref\": 1250.0, \"symbol\": \"circle\"}, \"mode\": \"markers\", \"name\": \"Normal\", \"showlegend\": true, \"x\": [\"Bangalore, India\", \"Mumbai, India\", \"Mumbai, India\", \"Ahmedabad, India\", \"Mumbai, India\", \"Delhi, India\"], \"xaxis\": \"x\", \"y\": [45000, 9875, 12000, 130000, 10000, 25000], \"yaxis\": \"y\", \"type\": \"scatter\"}, {\"hovertemplate\": \"Type=Fraud<br>Month=Jul<br>Origin=%{x}<br>Amount=%{y}<br>Limit=%{marker.size}<extra></extra>\", \"legendgroup\": \"Fraud\", \"marker\": {\"color\": \"#EF553B\", \"size\": [225000, 350000, 350000], \"sizemode\": \"area\", \"sizeref\": 1250.0, \"symbol\": \"circle\"}, \"mode\": \"markers\", \"name\": \"Fraud\", \"showlegend\": true, \"x\": [\"Delhi, India\", \"Mumbai, India\", \"Mumbai, India\"], \"xaxis\": \"x\", \"y\": [1000, 75000, 1000], \"yaxis\": \"y\", \"type\": \"scatter\"}], \"name\": \"Jul\"}, {\"data\": [{\"hovertemplate\": \"Type=Normal<br>Month=Dec<br>Origin=%{x}<br>Amount=%{y}<br>Limit=%{marker.size}<extra></extra>\", \"legendgroup\": \"Normal\", \"marker\": {\"color\": \"#636efa\", \"size\": [500000, 500000, 25000, 500000, 25000, 225000], \"sizemode\": \"area\", \"sizeref\": 1250.0, \"symbol\": \"circle\"}, \"mode\": \"markers\", \"name\": \"Normal\", \"showlegend\": true, \"x\": [\"Bangalore, India\", \"Bangalore, India\", \"Mumbai, India\", \"Ahmedabad, India\", \"Pune, India\", \"Delhi, India\"], \"xaxis\": \"x\", \"y\": [670, 1340, 112, 300, 50, 45000], \"yaxis\": \"y\", \"type\": \"scatter\"}, {\"hovertemplate\": \"Type=Fraud<br>Month=Dec<br>Origin=%{x}<br>Amount=%{y}<br>Limit=%{marker.size}<extra></extra>\", \"legendgroup\": \"Fraud\", \"marker\": {\"color\": \"#EF553B\", \"size\": [100000, 225000, 350000], \"sizemode\": \"area\", \"sizeref\": 1250.0, \"symbol\": \"circle\"}, \"mode\": \"markers\", \"name\": \"Fraud\", \"showlegend\": true, \"x\": [\"Hyderabad, India\", \"Delhi, India\", \"Mumbai, India\"], \"xaxis\": \"x\", \"y\": [50000, 45000, 907], \"yaxis\": \"y\", \"type\": \"scatter\"}], \"name\": \"Dec\"}, {\"data\": [{\"hovertemplate\": \"Type=Normal<br>Month=Sep<br>Origin=%{x}<br>Amount=%{y}<br>Limit=%{marker.size}<extra></extra>\", \"legendgroup\": \"Normal\", \"marker\": {\"color\": \"#636efa\", \"size\": [500000, 500000, 100000, 100000, 25000, 225000, 500000, 25000, 350000], \"sizemode\": \"area\", \"sizeref\": 1250.0, \"symbol\": \"circle\"}, \"mode\": \"markers\", \"name\": \"Normal\", \"showlegend\": true, \"x\": [\"Bangalore, India\", \"Bangalore, India\", \"Hyderabad, India\", \"Hyderabad, India\", \"Mumbai, India\", \"Delhi, India\", \"Ahmedabad, India\", \"Pune, India\", \"Chennai, India\"], \"xaxis\": \"x\", \"y\": [4543, 1200, 10543, 50, 120, 8954, 1340, 1987, 4509], \"yaxis\": \"y\", \"type\": \"scatter\"}], \"name\": \"Sep\"}, {\"data\": [{\"hovertemplate\": \"Type=Normal<br>Month=Nov<br>Origin=%{x}<br>Amount=%{y}<br>Limit=%{marker.size}<extra></extra>\", \"legendgroup\": \"Normal\", \"marker\": {\"color\": \"#636efa\", \"size\": [500000, 350000, 100000, 350000], \"sizemode\": \"area\", \"sizeref\": 1250.0, \"symbol\": \"circle\"}, \"mode\": \"markers\", \"name\": \"Normal\", \"showlegend\": true, \"x\": [\"Bangalore, India\", \"Mumbai, India\", \"Hyderabad, India\", \"Chennai, India\"], \"xaxis\": \"x\", \"y\": [11000, 12567, 1356, 150000], \"yaxis\": \"y\", \"type\": \"scatter\"}, {\"hovertemplate\": \"Type=Fraud<br>Month=Nov<br>Origin=%{x}<br>Amount=%{y}<br>Limit=%{marker.size}<extra></extra>\", \"legendgroup\": \"Fraud\", \"marker\": {\"color\": \"#EF553B\", \"size\": [25000, 350000], \"sizemode\": \"area\", \"sizeref\": 1250.0, \"symbol\": \"circle\"}, \"mode\": \"markers\", \"name\": \"Fraud\", \"showlegend\": true, \"x\": [\"Mumbai, India\", \"Chennai, India\"], \"xaxis\": \"x\", \"y\": [12000, 543], \"yaxis\": \"y\", \"type\": \"scatter\"}], \"name\": \"Nov\"}, {\"data\": [{\"hovertemplate\": \"Type=Normal<br>Month=May<br>Origin=%{x}<br>Amount=%{y}<br>Limit=%{marker.size}<extra></extra>\", \"legendgroup\": \"Normal\", \"marker\": {\"color\": \"#636efa\", \"size\": [25000, 350000, 350000, 225000, 350000, 350000, 225000, 225000], \"sizemode\": \"area\", \"sizeref\": 1250.0, \"symbol\": \"circle\"}, \"mode\": \"markers\", \"name\": \"Normal\", \"showlegend\": true, \"x\": [\"Mumbai, India\", \"Mumbai, India\", \"Mumbai, India\", \"Delhi, India\", \"Chennai, India\", \"Chennai, India\", \"Delhi, India\", \"Delhi, India\"], \"xaxis\": \"x\", \"y\": [1200, 4000, 24000, 567, 4000, 23467, 130000, 1340], \"yaxis\": \"y\", \"type\": \"scatter\"}, {\"hovertemplate\": \"Type=Fraud<br>Month=May<br>Origin=%{x}<br>Amount=%{y}<br>Limit=%{marker.size}<extra></extra>\", \"legendgroup\": \"Fraud\", \"marker\": {\"color\": \"#EF553B\", \"size\": [500000, 500000, 25000, 350000], \"sizemode\": \"area\", \"sizeref\": 1250.0, \"symbol\": \"circle\"}, \"mode\": \"markers\", \"name\": \"Fraud\", \"showlegend\": true, \"x\": [\"Bangalore, India\", \"Bangalore, India\", \"Mumbai, India\", \"Mumbai, India\"], \"xaxis\": \"x\", \"y\": [130000, 132, 987, 9875], \"yaxis\": \"y\", \"type\": \"scatter\"}], \"name\": \"May\"}, {\"data\": [{\"hovertemplate\": \"Type=Normal<br>Month=Jan<br>Origin=%{x}<br>Amount=%{y}<br>Limit=%{marker.size}<extra></extra>\", \"legendgroup\": \"Normal\", \"marker\": {\"color\": \"#636efa\", \"size\": [100000, 100000, 25000, 225000, 225000], \"sizemode\": \"area\", \"sizeref\": 1250.0, \"symbol\": \"circle\"}, \"mode\": \"markers\", \"name\": \"Normal\", \"showlegend\": true, \"x\": [\"Hyderabad, India\", \"Hyderabad, India\", \"Pune, India\", \"Delhi, India\", \"Delhi, India\"], \"xaxis\": \"x\", \"y\": [1200, 800, 4000, 670, 4543], \"yaxis\": \"y\", \"type\": \"scatter\"}], \"name\": \"Jan\"}, {\"data\": [{\"hovertemplate\": \"Type=Normal<br>Month=Apr<br>Origin=%{x}<br>Amount=%{y}<br>Limit=%{marker.size}<extra></extra>\", \"legendgroup\": \"Normal\", \"marker\": {\"color\": \"#636efa\", \"size\": [100000, 25000, 225000, 225000, 500000, 500000, 100000, 100000], \"sizemode\": \"area\", \"sizeref\": 1250.0, \"symbol\": \"circle\"}, \"mode\": \"markers\", \"name\": \"Normal\", \"showlegend\": true, \"x\": [\"Hyderabad, India\", \"Mumbai, India\", \"Delhi, India\", \"Delhi, India\", \"Ahmedabad, India\", \"Ahmedabad, India\", \"Hyderabad, India\", \"Hyderabad, India\"], \"xaxis\": \"x\", \"y\": [11000, 4000, 890, 23467, 25000, 11000, 1200, 140], \"yaxis\": \"y\", \"type\": \"scatter\"}], \"name\": \"Apr\"}, {\"data\": [{\"hovertemplate\": \"Type=Normal<br>Month=Feb<br>Origin=%{x}<br>Amount=%{y}<br>Limit=%{marker.size}<extra></extra>\", \"legendgroup\": \"Normal\", \"marker\": {\"color\": \"#636efa\", \"size\": [100000, 350000, 350000], \"sizemode\": \"area\", \"sizeref\": 1250.0, \"symbol\": \"circle\"}, \"mode\": \"markers\", \"name\": \"Normal\", \"showlegend\": true, \"x\": [\"Hyderabad, India\", \"Mumbai, India\", \"Chennai, India\"], \"xaxis\": \"x\", \"y\": [994, 907, 5000], \"yaxis\": \"y\", \"type\": \"scatter\"}, {\"hovertemplate\": \"Type=Fraud<br>Month=Feb<br>Origin=%{x}<br>Amount=%{y}<br>Limit=%{marker.size}<extra></extra>\", \"legendgroup\": \"Fraud\", \"marker\": {\"color\": \"#EF553B\", \"size\": [350000, 225000, 500000, 25000, 25000, 350000, 225000], \"sizemode\": \"area\", \"sizeref\": 1250.0, \"symbol\": \"circle\"}, \"mode\": \"markers\", \"name\": \"Fraud\", \"showlegend\": true, \"x\": [\"Mumbai, India\", \"Delhi, India\", \"Bangalore, India\", \"Mumbai, India\", \"Mumbai, India\", \"Mumbai, India\", \"Delhi, India\"], \"xaxis\": \"x\", \"y\": [5000, 175600, 670, 120, 140, 12000, 132], \"yaxis\": \"y\", \"type\": \"scatter\"}], \"name\": \"Feb\"}, {\"data\": [{\"hovertemplate\": \"Type=Normal<br>Month=Mar<br>Origin=%{x}<br>Amount=%{y}<br>Limit=%{marker.size}<extra></extra>\", \"legendgroup\": \"Normal\", \"marker\": {\"color\": \"#636efa\", \"size\": [25000, 350000, 225000, 25000], \"sizemode\": \"area\", \"sizeref\": 1250.0, \"symbol\": \"circle\"}, \"mode\": \"markers\", \"name\": \"Normal\", \"showlegend\": true, \"x\": [\"Mumbai, India\", \"Mumbai, India\", \"Delhi, India\", \"Pune, India\"], \"xaxis\": \"x\", \"y\": [4509, 543, 10000, 800], \"yaxis\": \"y\", \"type\": \"scatter\"}, {\"hovertemplate\": \"Type=Fraud<br>Month=Mar<br>Origin=%{x}<br>Amount=%{y}<br>Limit=%{marker.size}<extra></extra>\", \"legendgroup\": \"Fraud\", \"marker\": {\"color\": \"#EF553B\", \"size\": [25000, 100000, 25000, 350000, 350000], \"sizemode\": \"area\", \"sizeref\": 1250.0, \"symbol\": \"circle\"}, \"mode\": \"markers\", \"name\": \"Fraud\", \"showlegend\": true, \"x\": [\"Mumbai, India\", \"Hyderabad, India\", \"Pune, India\", \"Mumbai, India\", \"Mumbai, India\"], \"xaxis\": \"x\", \"y\": [140, 50000, 1200, 112, 45000], \"yaxis\": \"y\", \"type\": \"scatter\"}], \"name\": \"Mar\"}, {\"data\": [{\"hovertemplate\": \"Type=Normal<br>Month=Aug<br>Origin=%{x}<br>Amount=%{y}<br>Limit=%{marker.size}<extra></extra>\", \"legendgroup\": \"Normal\", \"marker\": {\"color\": \"#636efa\", \"size\": [100000, 25000, 225000], \"sizemode\": \"area\", \"sizeref\": 1250.0, \"symbol\": \"circle\"}, \"mode\": \"markers\", \"name\": \"Normal\", \"showlegend\": true, \"x\": [\"Hyderabad, India\", \"Pune, India\", \"Delhi, India\"], \"xaxis\": \"x\", \"y\": [11000, 994, 1200], \"yaxis\": \"y\", \"type\": \"scatter\"}, {\"hovertemplate\": \"Type=Fraud<br>Month=Aug<br>Origin=%{x}<br>Amount=%{y}<br>Limit=%{marker.size}<extra></extra>\", \"legendgroup\": \"Fraud\", \"marker\": {\"color\": \"#EF553B\", \"size\": [350000], \"sizemode\": \"area\", \"sizeref\": 1250.0, \"symbol\": \"circle\"}, \"mode\": \"markers\", \"name\": \"Fraud\", \"showlegend\": true, \"x\": [\"Mumbai, India\"], \"xaxis\": \"x\", \"y\": [12567], \"yaxis\": \"y\", \"type\": \"scatter\"}], \"name\": \"Aug\"}]);\n",
       "                        }).then(function(){\n",
       "                            \n",
       "var gd = document.getElementById('0ce76b49-1bb9-4b70-afdb-960b7cba6f29');\n",
       "var x = new MutationObserver(function (mutations, observer) {{\n",
       "        var display = window.getComputedStyle(gd).display;\n",
       "        if (!display || display === 'none') {{\n",
       "            console.log([gd, 'removed!']);\n",
       "            Plotly.purge(gd);\n",
       "            observer.disconnect();\n",
       "        }}\n",
       "}});\n",
       "\n",
       "// Listen for the removal of the full notebook cells\n",
       "var notebookContainer = gd.closest('#notebook-container');\n",
       "if (notebookContainer) {{\n",
       "    x.observe(notebookContainer, {childList: true});\n",
       "}}\n",
       "\n",
       "// Listen for the clearing of the current output cell\n",
       "var outputEl = gd.closest('.output');\n",
       "if (outputEl) {{\n",
       "    x.observe(outputEl, {childList: true});\n",
       "}}\n",
       "\n",
       "                        })\n",
       "                };\n",
       "                });\n",
       "            </script>\n",
       "        </div>"
      ]
     },
     "metadata": {},
     "output_type": "display_data"
    }
   ],
   "source": [
    "# P - Scatter + bubbles\n",
    "import plotly.express as px\n",
    "\n",
    "\n",
    "fig = px.scatter(DB, DB['Origin'],DB['Amount'], color=DB['Type'],size=DB['Limit'],animation_frame=DB['Month'])\n",
    "fig.show()"
   ]
  },
  {
   "cell_type": "code",
   "execution_count": 45,
   "metadata": {},
   "outputs": [
    {
     "data": {
      "application/vnd.plotly.v1+json": {
       "config": {
        "plotlyServerURL": "https://plot.ly"
       },
       "data": [
        {
         "hovertemplate": "Date=26<br>Amount=%{y}<extra></extra>",
         "legendgroup": "26",
         "line": {
          "color": "#636efa",
          "dash": "solid"
         },
         "mode": "lines",
         "name": "26",
         "showlegend": true,
         "type": "scatter",
         "xaxis": "x",
         "y": [
          25000,
          543,
          5000,
          132
         ],
         "yaxis": "y"
        },
        {
         "hovertemplate": "Date=20<br>Amount=%{y}<extra></extra>",
         "legendgroup": "20",
         "line": {
          "color": "#EF553B",
          "dash": "solid"
         },
         "mode": "lines",
         "name": "20",
         "showlegend": true,
         "type": "scatter",
         "xaxis": "x",
         "y": [
          300,
          15000,
          9056,
          345,
          23467,
          670,
          130000
         ],
         "yaxis": "y"
        },
        {
         "hovertemplate": "Date=15<br>Amount=%{y}<extra></extra>",
         "legendgroup": "15",
         "line": {
          "color": "#00cc96",
          "dash": "solid"
         },
         "mode": "lines",
         "name": "15",
         "showlegend": true,
         "type": "scatter",
         "xaxis": "x",
         "y": [
          45000,
          11000,
          10543,
          120,
          1356
         ],
         "yaxis": "y"
        },
        {
         "hovertemplate": "Date=17<br>Amount=%{y}<extra></extra>",
         "legendgroup": "17",
         "line": {
          "color": "#ab63fa",
          "dash": "solid"
         },
         "mode": "lines",
         "name": "17",
         "showlegend": true,
         "type": "scatter",
         "xaxis": "x",
         "y": [
          670,
          4000,
          112,
          45000,
          4543
         ],
         "yaxis": "y"
        },
        {
         "hovertemplate": "Date=7<br>Amount=%{y}<extra></extra>",
         "legendgroup": "7",
         "line": {
          "color": "#FFA15A",
          "dash": "solid"
         },
         "mode": "lines",
         "name": "7",
         "showlegend": true,
         "type": "scatter",
         "xaxis": "x",
         "y": [
          4543,
          1356,
          987,
          132,
          1340
         ],
         "yaxis": "y"
        },
        {
         "hovertemplate": "Date=21<br>Amount=%{y}<extra></extra>",
         "legendgroup": "21",
         "line": {
          "color": "#19d3f3",
          "dash": "solid"
         },
         "mode": "lines",
         "name": "21",
         "showlegend": true,
         "type": "scatter",
         "xaxis": "x",
         "y": [
          11000,
          4000,
          75000,
          25000,
          300
         ],
         "yaxis": "y"
        },
        {
         "hovertemplate": "Date=24<br>Amount=%{y}<extra></extra>",
         "legendgroup": "24",
         "line": {
          "color": "#FF6692",
          "dash": "solid"
         },
         "mode": "lines",
         "name": "24",
         "showlegend": true,
         "type": "scatter",
         "xaxis": "x",
         "y": [
          130000
         ],
         "yaxis": "y"
        },
        {
         "hovertemplate": "Date=4<br>Amount=%{y}<extra></extra>",
         "legendgroup": "4",
         "line": {
          "color": "#B6E880",
          "dash": "solid"
         },
         "mode": "lines",
         "name": "4",
         "showlegend": true,
         "type": "scatter",
         "xaxis": "x",
         "y": [
          132,
          1987,
          24000,
          1200,
          25000
         ],
         "yaxis": "y"
        },
        {
         "hovertemplate": "Date=31<br>Amount=%{y}<extra></extra>",
         "legendgroup": "31",
         "line": {
          "color": "#FF97FF",
          "dash": "solid"
         },
         "mode": "lines",
         "name": "31",
         "showlegend": true,
         "type": "scatter",
         "xaxis": "x",
         "y": [
          1200,
          1200,
          140
         ],
         "yaxis": "y"
        },
        {
         "hovertemplate": "Date=27<br>Amount=%{y}<extra></extra>",
         "legendgroup": "27",
         "line": {
          "color": "#FECB52",
          "dash": "solid"
         },
         "mode": "lines",
         "name": "27",
         "showlegend": true,
         "type": "scatter",
         "xaxis": "x",
         "y": [
          1340,
          140,
          1000
         ],
         "yaxis": "y"
        },
        {
         "hovertemplate": "Date=13<br>Amount=%{y}<extra></extra>",
         "legendgroup": "13",
         "line": {
          "color": "#636efa",
          "dash": "solid"
         },
         "mode": "lines",
         "name": "13",
         "showlegend": true,
         "type": "scatter",
         "xaxis": "x",
         "y": [
          50000,
          112,
          800
         ],
         "yaxis": "y"
        },
        {
         "hovertemplate": "Date=1<br>Amount=%{y}<extra></extra>",
         "legendgroup": "1",
         "line": {
          "color": "#EF553B",
          "dash": "solid"
         },
         "mode": "lines",
         "name": "1",
         "showlegend": true,
         "type": "scatter",
         "xaxis": "x",
         "y": [
          994,
          1340,
          50,
          10000,
          11000
         ],
         "yaxis": "y"
        },
        {
         "hovertemplate": "Date=19<br>Amount=%{y}<extra></extra>",
         "legendgroup": "19",
         "line": {
          "color": "#00cc96",
          "dash": "solid"
         },
         "mode": "lines",
         "name": "19",
         "showlegend": true,
         "type": "scatter",
         "xaxis": "x",
         "y": [
          800,
          175600,
          23467,
          4543,
          11000,
          1200,
          1200
         ],
         "yaxis": "y"
        },
        {
         "hovertemplate": "Date=25<br>Amount=%{y}<extra></extra>",
         "legendgroup": "25",
         "line": {
          "color": "#ab63fa",
          "dash": "solid"
         },
         "mode": "lines",
         "name": "25",
         "showlegend": true,
         "type": "scatter",
         "xaxis": "x",
         "y": [
          50,
          5000,
          75000,
          1200
         ],
         "yaxis": "y"
        },
        {
         "hovertemplate": "Date=11<br>Amount=%{y}<extra></extra>",
         "legendgroup": "11",
         "line": {
          "color": "#FFA15A",
          "dash": "solid"
         },
         "mode": "lines",
         "name": "11",
         "showlegend": true,
         "type": "scatter",
         "xaxis": "x",
         "y": [
          120,
          12000,
          907
         ],
         "yaxis": "y"
        },
        {
         "hovertemplate": "Date=2<br>Amount=%{y}<extra></extra>",
         "legendgroup": "2",
         "line": {
          "color": "#19d3f3",
          "dash": "solid"
         },
         "mode": "lines",
         "name": "2",
         "showlegend": true,
         "type": "scatter",
         "xaxis": "x",
         "y": [
          140,
          8954,
          24000
         ],
         "yaxis": "y"
        },
        {
         "hovertemplate": "Date=23<br>Amount=%{y}<extra></extra>",
         "legendgroup": "23",
         "line": {
          "color": "#FF6692",
          "dash": "solid"
         },
         "mode": "lines",
         "name": "23",
         "showlegend": true,
         "type": "scatter",
         "xaxis": "x",
         "y": [
          1200
         ],
         "yaxis": "y"
        },
        {
         "hovertemplate": "Date=8<br>Amount=%{y}<extra></extra>",
         "legendgroup": "8",
         "line": {
          "color": "#B6E880",
          "dash": "solid"
         },
         "mode": "lines",
         "name": "8",
         "showlegend": true,
         "type": "scatter",
         "xaxis": "x",
         "y": [
          1200,
          50000,
          150000
         ],
         "yaxis": "y"
        },
        {
         "hovertemplate": "Date=30<br>Amount=%{y}<extra></extra>",
         "legendgroup": "30",
         "line": {
          "color": "#FF97FF",
          "dash": "solid"
         },
         "mode": "lines",
         "name": "30",
         "showlegend": true,
         "type": "scatter",
         "xaxis": "x",
         "y": [
          4509,
          10543,
          987
         ],
         "yaxis": "y"
        },
        {
         "hovertemplate": "Date=29<br>Amount=%{y}<extra></extra>",
         "legendgroup": "29",
         "line": {
          "color": "#FECB52",
          "dash": "solid"
         },
         "mode": "lines",
         "name": "29",
         "showlegend": true,
         "type": "scatter",
         "xaxis": "x",
         "y": [
          9875,
          4000
         ],
         "yaxis": "y"
        },
        {
         "hovertemplate": "Date=16<br>Amount=%{y}<extra></extra>",
         "legendgroup": "16",
         "line": {
          "color": "#636efa",
          "dash": "solid"
         },
         "mode": "lines",
         "name": "16",
         "showlegend": true,
         "type": "scatter",
         "xaxis": "x",
         "y": [
          12567,
          150000,
          45000,
          45000,
          15000,
          5000
         ],
         "yaxis": "y"
        },
        {
         "hovertemplate": "Date=12<br>Amount=%{y}<extra></extra>",
         "legendgroup": "12",
         "line": {
          "color": "#EF553B",
          "dash": "solid"
         },
         "mode": "lines",
         "name": "12",
         "showlegend": true,
         "type": "scatter",
         "xaxis": "x",
         "y": [
          907,
          543
         ],
         "yaxis": "y"
        },
        {
         "hovertemplate": "Date=5<br>Amount=%{y}<extra></extra>",
         "legendgroup": "5",
         "line": {
          "color": "#00cc96",
          "dash": "solid"
         },
         "mode": "lines",
         "name": "5",
         "showlegend": true,
         "type": "scatter",
         "xaxis": "x",
         "y": [
          345,
          12000,
          300
         ],
         "yaxis": "y"
        },
        {
         "hovertemplate": "Date=9<br>Amount=%{y}<extra></extra>",
         "legendgroup": "9",
         "line": {
          "color": "#ab63fa",
          "dash": "solid"
         },
         "mode": "lines",
         "name": "9",
         "showlegend": true,
         "type": "scatter",
         "xaxis": "x",
         "y": [
          12000,
          9875,
          12567
         ],
         "yaxis": "y"
        },
        {
         "hovertemplate": "Date=14<br>Amount=%{y}<extra></extra>",
         "legendgroup": "14",
         "line": {
          "color": "#FFA15A",
          "dash": "solid"
         },
         "mode": "lines",
         "name": "14",
         "showlegend": true,
         "type": "scatter",
         "xaxis": "x",
         "y": [
          890,
          10000,
          670,
          1356,
          4509
         ],
         "yaxis": "y"
        },
        {
         "hovertemplate": "Date=6<br>Amount=%{y}<extra></extra>",
         "legendgroup": "6",
         "line": {
          "color": "#19d3f3",
          "dash": "solid"
         },
         "mode": "lines",
         "name": "6",
         "showlegend": true,
         "type": "scatter",
         "xaxis": "x",
         "y": [
          567,
          130000,
          1987
         ],
         "yaxis": "y"
        },
        {
         "hovertemplate": "Date=3<br>Amount=%{y}<extra></extra>",
         "legendgroup": "3",
         "line": {
          "color": "#FF6692",
          "dash": "solid"
         },
         "mode": "lines",
         "name": "3",
         "showlegend": true,
         "type": "scatter",
         "xaxis": "x",
         "y": [
          1000,
          11000
         ],
         "yaxis": "y"
        },
        {
         "hovertemplate": "Date=10<br>Amount=%{y}<extra></extra>",
         "legendgroup": "10",
         "line": {
          "color": "#B6E880",
          "dash": "solid"
         },
         "mode": "lines",
         "name": "10",
         "showlegend": true,
         "type": "scatter",
         "xaxis": "x",
         "y": [
          994,
          140,
          4000,
          45000
         ],
         "yaxis": "y"
        },
        {
         "hovertemplate": "Date=22<br>Amount=%{y}<extra></extra>",
         "legendgroup": "22",
         "line": {
          "color": "#FF97FF",
          "dash": "solid"
         },
         "mode": "lines",
         "name": "22",
         "showlegend": true,
         "type": "scatter",
         "xaxis": "x",
         "y": [
          1200
         ],
         "yaxis": "y"
        }
       ],
       "layout": {
        "legend": {
         "title": {
          "text": "Date"
         },
         "tracegroupgap": 0
        },
        "margin": {
         "t": 60
        },
        "template": {
         "data": {
          "bar": [
           {
            "error_x": {
             "color": "#2a3f5f"
            },
            "error_y": {
             "color": "#2a3f5f"
            },
            "marker": {
             "line": {
              "color": "#E5ECF6",
              "width": 0.5
             }
            },
            "type": "bar"
           }
          ],
          "barpolar": [
           {
            "marker": {
             "line": {
              "color": "#E5ECF6",
              "width": 0.5
             }
            },
            "type": "barpolar"
           }
          ],
          "carpet": [
           {
            "aaxis": {
             "endlinecolor": "#2a3f5f",
             "gridcolor": "white",
             "linecolor": "white",
             "minorgridcolor": "white",
             "startlinecolor": "#2a3f5f"
            },
            "baxis": {
             "endlinecolor": "#2a3f5f",
             "gridcolor": "white",
             "linecolor": "white",
             "minorgridcolor": "white",
             "startlinecolor": "#2a3f5f"
            },
            "type": "carpet"
           }
          ],
          "choropleth": [
           {
            "colorbar": {
             "outlinewidth": 0,
             "ticks": ""
            },
            "type": "choropleth"
           }
          ],
          "contour": [
           {
            "colorbar": {
             "outlinewidth": 0,
             "ticks": ""
            },
            "colorscale": [
             [
              0,
              "#0d0887"
             ],
             [
              0.1111111111111111,
              "#46039f"
             ],
             [
              0.2222222222222222,
              "#7201a8"
             ],
             [
              0.3333333333333333,
              "#9c179e"
             ],
             [
              0.4444444444444444,
              "#bd3786"
             ],
             [
              0.5555555555555556,
              "#d8576b"
             ],
             [
              0.6666666666666666,
              "#ed7953"
             ],
             [
              0.7777777777777778,
              "#fb9f3a"
             ],
             [
              0.8888888888888888,
              "#fdca26"
             ],
             [
              1,
              "#f0f921"
             ]
            ],
            "type": "contour"
           }
          ],
          "contourcarpet": [
           {
            "colorbar": {
             "outlinewidth": 0,
             "ticks": ""
            },
            "type": "contourcarpet"
           }
          ],
          "heatmap": [
           {
            "colorbar": {
             "outlinewidth": 0,
             "ticks": ""
            },
            "colorscale": [
             [
              0,
              "#0d0887"
             ],
             [
              0.1111111111111111,
              "#46039f"
             ],
             [
              0.2222222222222222,
              "#7201a8"
             ],
             [
              0.3333333333333333,
              "#9c179e"
             ],
             [
              0.4444444444444444,
              "#bd3786"
             ],
             [
              0.5555555555555556,
              "#d8576b"
             ],
             [
              0.6666666666666666,
              "#ed7953"
             ],
             [
              0.7777777777777778,
              "#fb9f3a"
             ],
             [
              0.8888888888888888,
              "#fdca26"
             ],
             [
              1,
              "#f0f921"
             ]
            ],
            "type": "heatmap"
           }
          ],
          "heatmapgl": [
           {
            "colorbar": {
             "outlinewidth": 0,
             "ticks": ""
            },
            "colorscale": [
             [
              0,
              "#0d0887"
             ],
             [
              0.1111111111111111,
              "#46039f"
             ],
             [
              0.2222222222222222,
              "#7201a8"
             ],
             [
              0.3333333333333333,
              "#9c179e"
             ],
             [
              0.4444444444444444,
              "#bd3786"
             ],
             [
              0.5555555555555556,
              "#d8576b"
             ],
             [
              0.6666666666666666,
              "#ed7953"
             ],
             [
              0.7777777777777778,
              "#fb9f3a"
             ],
             [
              0.8888888888888888,
              "#fdca26"
             ],
             [
              1,
              "#f0f921"
             ]
            ],
            "type": "heatmapgl"
           }
          ],
          "histogram": [
           {
            "marker": {
             "colorbar": {
              "outlinewidth": 0,
              "ticks": ""
             }
            },
            "type": "histogram"
           }
          ],
          "histogram2d": [
           {
            "colorbar": {
             "outlinewidth": 0,
             "ticks": ""
            },
            "colorscale": [
             [
              0,
              "#0d0887"
             ],
             [
              0.1111111111111111,
              "#46039f"
             ],
             [
              0.2222222222222222,
              "#7201a8"
             ],
             [
              0.3333333333333333,
              "#9c179e"
             ],
             [
              0.4444444444444444,
              "#bd3786"
             ],
             [
              0.5555555555555556,
              "#d8576b"
             ],
             [
              0.6666666666666666,
              "#ed7953"
             ],
             [
              0.7777777777777778,
              "#fb9f3a"
             ],
             [
              0.8888888888888888,
              "#fdca26"
             ],
             [
              1,
              "#f0f921"
             ]
            ],
            "type": "histogram2d"
           }
          ],
          "histogram2dcontour": [
           {
            "colorbar": {
             "outlinewidth": 0,
             "ticks": ""
            },
            "colorscale": [
             [
              0,
              "#0d0887"
             ],
             [
              0.1111111111111111,
              "#46039f"
             ],
             [
              0.2222222222222222,
              "#7201a8"
             ],
             [
              0.3333333333333333,
              "#9c179e"
             ],
             [
              0.4444444444444444,
              "#bd3786"
             ],
             [
              0.5555555555555556,
              "#d8576b"
             ],
             [
              0.6666666666666666,
              "#ed7953"
             ],
             [
              0.7777777777777778,
              "#fb9f3a"
             ],
             [
              0.8888888888888888,
              "#fdca26"
             ],
             [
              1,
              "#f0f921"
             ]
            ],
            "type": "histogram2dcontour"
           }
          ],
          "mesh3d": [
           {
            "colorbar": {
             "outlinewidth": 0,
             "ticks": ""
            },
            "type": "mesh3d"
           }
          ],
          "parcoords": [
           {
            "line": {
             "colorbar": {
              "outlinewidth": 0,
              "ticks": ""
             }
            },
            "type": "parcoords"
           }
          ],
          "pie": [
           {
            "automargin": true,
            "type": "pie"
           }
          ],
          "scatter": [
           {
            "marker": {
             "colorbar": {
              "outlinewidth": 0,
              "ticks": ""
             }
            },
            "type": "scatter"
           }
          ],
          "scatter3d": [
           {
            "line": {
             "colorbar": {
              "outlinewidth": 0,
              "ticks": ""
             }
            },
            "marker": {
             "colorbar": {
              "outlinewidth": 0,
              "ticks": ""
             }
            },
            "type": "scatter3d"
           }
          ],
          "scattercarpet": [
           {
            "marker": {
             "colorbar": {
              "outlinewidth": 0,
              "ticks": ""
             }
            },
            "type": "scattercarpet"
           }
          ],
          "scattergeo": [
           {
            "marker": {
             "colorbar": {
              "outlinewidth": 0,
              "ticks": ""
             }
            },
            "type": "scattergeo"
           }
          ],
          "scattergl": [
           {
            "marker": {
             "colorbar": {
              "outlinewidth": 0,
              "ticks": ""
             }
            },
            "type": "scattergl"
           }
          ],
          "scattermapbox": [
           {
            "marker": {
             "colorbar": {
              "outlinewidth": 0,
              "ticks": ""
             }
            },
            "type": "scattermapbox"
           }
          ],
          "scatterpolar": [
           {
            "marker": {
             "colorbar": {
              "outlinewidth": 0,
              "ticks": ""
             }
            },
            "type": "scatterpolar"
           }
          ],
          "scatterpolargl": [
           {
            "marker": {
             "colorbar": {
              "outlinewidth": 0,
              "ticks": ""
             }
            },
            "type": "scatterpolargl"
           }
          ],
          "scatterternary": [
           {
            "marker": {
             "colorbar": {
              "outlinewidth": 0,
              "ticks": ""
             }
            },
            "type": "scatterternary"
           }
          ],
          "surface": [
           {
            "colorbar": {
             "outlinewidth": 0,
             "ticks": ""
            },
            "colorscale": [
             [
              0,
              "#0d0887"
             ],
             [
              0.1111111111111111,
              "#46039f"
             ],
             [
              0.2222222222222222,
              "#7201a8"
             ],
             [
              0.3333333333333333,
              "#9c179e"
             ],
             [
              0.4444444444444444,
              "#bd3786"
             ],
             [
              0.5555555555555556,
              "#d8576b"
             ],
             [
              0.6666666666666666,
              "#ed7953"
             ],
             [
              0.7777777777777778,
              "#fb9f3a"
             ],
             [
              0.8888888888888888,
              "#fdca26"
             ],
             [
              1,
              "#f0f921"
             ]
            ],
            "type": "surface"
           }
          ],
          "table": [
           {
            "cells": {
             "fill": {
              "color": "#EBF0F8"
             },
             "line": {
              "color": "white"
             }
            },
            "header": {
             "fill": {
              "color": "#C8D4E3"
             },
             "line": {
              "color": "white"
             }
            },
            "type": "table"
           }
          ]
         },
         "layout": {
          "annotationdefaults": {
           "arrowcolor": "#2a3f5f",
           "arrowhead": 0,
           "arrowwidth": 1
          },
          "coloraxis": {
           "colorbar": {
            "outlinewidth": 0,
            "ticks": ""
           }
          },
          "colorscale": {
           "diverging": [
            [
             0,
             "#8e0152"
            ],
            [
             0.1,
             "#c51b7d"
            ],
            [
             0.2,
             "#de77ae"
            ],
            [
             0.3,
             "#f1b6da"
            ],
            [
             0.4,
             "#fde0ef"
            ],
            [
             0.5,
             "#f7f7f7"
            ],
            [
             0.6,
             "#e6f5d0"
            ],
            [
             0.7,
             "#b8e186"
            ],
            [
             0.8,
             "#7fbc41"
            ],
            [
             0.9,
             "#4d9221"
            ],
            [
             1,
             "#276419"
            ]
           ],
           "sequential": [
            [
             0,
             "#0d0887"
            ],
            [
             0.1111111111111111,
             "#46039f"
            ],
            [
             0.2222222222222222,
             "#7201a8"
            ],
            [
             0.3333333333333333,
             "#9c179e"
            ],
            [
             0.4444444444444444,
             "#bd3786"
            ],
            [
             0.5555555555555556,
             "#d8576b"
            ],
            [
             0.6666666666666666,
             "#ed7953"
            ],
            [
             0.7777777777777778,
             "#fb9f3a"
            ],
            [
             0.8888888888888888,
             "#fdca26"
            ],
            [
             1,
             "#f0f921"
            ]
           ],
           "sequentialminus": [
            [
             0,
             "#0d0887"
            ],
            [
             0.1111111111111111,
             "#46039f"
            ],
            [
             0.2222222222222222,
             "#7201a8"
            ],
            [
             0.3333333333333333,
             "#9c179e"
            ],
            [
             0.4444444444444444,
             "#bd3786"
            ],
            [
             0.5555555555555556,
             "#d8576b"
            ],
            [
             0.6666666666666666,
             "#ed7953"
            ],
            [
             0.7777777777777778,
             "#fb9f3a"
            ],
            [
             0.8888888888888888,
             "#fdca26"
            ],
            [
             1,
             "#f0f921"
            ]
           ]
          },
          "colorway": [
           "#636efa",
           "#EF553B",
           "#00cc96",
           "#ab63fa",
           "#FFA15A",
           "#19d3f3",
           "#FF6692",
           "#B6E880",
           "#FF97FF",
           "#FECB52"
          ],
          "font": {
           "color": "#2a3f5f"
          },
          "geo": {
           "bgcolor": "white",
           "lakecolor": "white",
           "landcolor": "#E5ECF6",
           "showlakes": true,
           "showland": true,
           "subunitcolor": "white"
          },
          "hoverlabel": {
           "align": "left"
          },
          "hovermode": "closest",
          "mapbox": {
           "style": "light"
          },
          "paper_bgcolor": "white",
          "plot_bgcolor": "#E5ECF6",
          "polar": {
           "angularaxis": {
            "gridcolor": "white",
            "linecolor": "white",
            "ticks": ""
           },
           "bgcolor": "#E5ECF6",
           "radialaxis": {
            "gridcolor": "white",
            "linecolor": "white",
            "ticks": ""
           }
          },
          "scene": {
           "xaxis": {
            "backgroundcolor": "#E5ECF6",
            "gridcolor": "white",
            "gridwidth": 2,
            "linecolor": "white",
            "showbackground": true,
            "ticks": "",
            "zerolinecolor": "white"
           },
           "yaxis": {
            "backgroundcolor": "#E5ECF6",
            "gridcolor": "white",
            "gridwidth": 2,
            "linecolor": "white",
            "showbackground": true,
            "ticks": "",
            "zerolinecolor": "white"
           },
           "zaxis": {
            "backgroundcolor": "#E5ECF6",
            "gridcolor": "white",
            "gridwidth": 2,
            "linecolor": "white",
            "showbackground": true,
            "ticks": "",
            "zerolinecolor": "white"
           }
          },
          "shapedefaults": {
           "line": {
            "color": "#2a3f5f"
           }
          },
          "ternary": {
           "aaxis": {
            "gridcolor": "white",
            "linecolor": "white",
            "ticks": ""
           },
           "baxis": {
            "gridcolor": "white",
            "linecolor": "white",
            "ticks": ""
           },
           "bgcolor": "#E5ECF6",
           "caxis": {
            "gridcolor": "white",
            "linecolor": "white",
            "ticks": ""
           }
          },
          "title": {
           "x": 0.05
          },
          "xaxis": {
           "automargin": true,
           "gridcolor": "white",
           "linecolor": "white",
           "ticks": "",
           "title": {
            "standoff": 15
           },
           "zerolinecolor": "white",
           "zerolinewidth": 2
          },
          "yaxis": {
           "automargin": true,
           "gridcolor": "white",
           "linecolor": "white",
           "ticks": "",
           "title": {
            "standoff": 15
           },
           "zerolinecolor": "white",
           "zerolinewidth": 2
          }
         }
        },
        "xaxis": {
         "anchor": "y",
         "domain": [
          0,
          1
         ]
        },
        "yaxis": {
         "anchor": "x",
         "domain": [
          0,
          1
         ],
         "title": {
          "text": "Amount"
         }
        }
       }
      },
      "text/html": [
       "<div>\n",
       "        \n",
       "        \n",
       "            <div id=\"17de8337-84d6-471a-8423-0b2d49738c3a\" class=\"plotly-graph-div\" style=\"height:525px; width:100%;\"></div>\n",
       "            <script type=\"text/javascript\">\n",
       "                require([\"plotly\"], function(Plotly) {\n",
       "                    window.PLOTLYENV=window.PLOTLYENV || {};\n",
       "                    \n",
       "                if (document.getElementById(\"17de8337-84d6-471a-8423-0b2d49738c3a\")) {\n",
       "                    Plotly.newPlot(\n",
       "                        '17de8337-84d6-471a-8423-0b2d49738c3a',\n",
       "                        [{\"hovertemplate\": \"Date=26<br>Amount=%{y}<extra></extra>\", \"legendgroup\": \"26\", \"line\": {\"color\": \"#636efa\", \"dash\": \"solid\"}, \"mode\": \"lines\", \"name\": \"26\", \"showlegend\": true, \"type\": \"scatter\", \"xaxis\": \"x\", \"y\": [25000, 543, 5000, 132], \"yaxis\": \"y\"}, {\"hovertemplate\": \"Date=20<br>Amount=%{y}<extra></extra>\", \"legendgroup\": \"20\", \"line\": {\"color\": \"#EF553B\", \"dash\": \"solid\"}, \"mode\": \"lines\", \"name\": \"20\", \"showlegend\": true, \"type\": \"scatter\", \"xaxis\": \"x\", \"y\": [300, 15000, 9056, 345, 23467, 670, 130000], \"yaxis\": \"y\"}, {\"hovertemplate\": \"Date=15<br>Amount=%{y}<extra></extra>\", \"legendgroup\": \"15\", \"line\": {\"color\": \"#00cc96\", \"dash\": \"solid\"}, \"mode\": \"lines\", \"name\": \"15\", \"showlegend\": true, \"type\": \"scatter\", \"xaxis\": \"x\", \"y\": [45000, 11000, 10543, 120, 1356], \"yaxis\": \"y\"}, {\"hovertemplate\": \"Date=17<br>Amount=%{y}<extra></extra>\", \"legendgroup\": \"17\", \"line\": {\"color\": \"#ab63fa\", \"dash\": \"solid\"}, \"mode\": \"lines\", \"name\": \"17\", \"showlegend\": true, \"type\": \"scatter\", \"xaxis\": \"x\", \"y\": [670, 4000, 112, 45000, 4543], \"yaxis\": \"y\"}, {\"hovertemplate\": \"Date=7<br>Amount=%{y}<extra></extra>\", \"legendgroup\": \"7\", \"line\": {\"color\": \"#FFA15A\", \"dash\": \"solid\"}, \"mode\": \"lines\", \"name\": \"7\", \"showlegend\": true, \"type\": \"scatter\", \"xaxis\": \"x\", \"y\": [4543, 1356, 987, 132, 1340], \"yaxis\": \"y\"}, {\"hovertemplate\": \"Date=21<br>Amount=%{y}<extra></extra>\", \"legendgroup\": \"21\", \"line\": {\"color\": \"#19d3f3\", \"dash\": \"solid\"}, \"mode\": \"lines\", \"name\": \"21\", \"showlegend\": true, \"type\": \"scatter\", \"xaxis\": \"x\", \"y\": [11000, 4000, 75000, 25000, 300], \"yaxis\": \"y\"}, {\"hovertemplate\": \"Date=24<br>Amount=%{y}<extra></extra>\", \"legendgroup\": \"24\", \"line\": {\"color\": \"#FF6692\", \"dash\": \"solid\"}, \"mode\": \"lines\", \"name\": \"24\", \"showlegend\": true, \"type\": \"scatter\", \"xaxis\": \"x\", \"y\": [130000], \"yaxis\": \"y\"}, {\"hovertemplate\": \"Date=4<br>Amount=%{y}<extra></extra>\", \"legendgroup\": \"4\", \"line\": {\"color\": \"#B6E880\", \"dash\": \"solid\"}, \"mode\": \"lines\", \"name\": \"4\", \"showlegend\": true, \"type\": \"scatter\", \"xaxis\": \"x\", \"y\": [132, 1987, 24000, 1200, 25000], \"yaxis\": \"y\"}, {\"hovertemplate\": \"Date=31<br>Amount=%{y}<extra></extra>\", \"legendgroup\": \"31\", \"line\": {\"color\": \"#FF97FF\", \"dash\": \"solid\"}, \"mode\": \"lines\", \"name\": \"31\", \"showlegend\": true, \"type\": \"scatter\", \"xaxis\": \"x\", \"y\": [1200, 1200, 140], \"yaxis\": \"y\"}, {\"hovertemplate\": \"Date=27<br>Amount=%{y}<extra></extra>\", \"legendgroup\": \"27\", \"line\": {\"color\": \"#FECB52\", \"dash\": \"solid\"}, \"mode\": \"lines\", \"name\": \"27\", \"showlegend\": true, \"type\": \"scatter\", \"xaxis\": \"x\", \"y\": [1340, 140, 1000], \"yaxis\": \"y\"}, {\"hovertemplate\": \"Date=13<br>Amount=%{y}<extra></extra>\", \"legendgroup\": \"13\", \"line\": {\"color\": \"#636efa\", \"dash\": \"solid\"}, \"mode\": \"lines\", \"name\": \"13\", \"showlegend\": true, \"type\": \"scatter\", \"xaxis\": \"x\", \"y\": [50000, 112, 800], \"yaxis\": \"y\"}, {\"hovertemplate\": \"Date=1<br>Amount=%{y}<extra></extra>\", \"legendgroup\": \"1\", \"line\": {\"color\": \"#EF553B\", \"dash\": \"solid\"}, \"mode\": \"lines\", \"name\": \"1\", \"showlegend\": true, \"type\": \"scatter\", \"xaxis\": \"x\", \"y\": [994, 1340, 50, 10000, 11000], \"yaxis\": \"y\"}, {\"hovertemplate\": \"Date=19<br>Amount=%{y}<extra></extra>\", \"legendgroup\": \"19\", \"line\": {\"color\": \"#00cc96\", \"dash\": \"solid\"}, \"mode\": \"lines\", \"name\": \"19\", \"showlegend\": true, \"type\": \"scatter\", \"xaxis\": \"x\", \"y\": [800, 175600, 23467, 4543, 11000, 1200, 1200], \"yaxis\": \"y\"}, {\"hovertemplate\": \"Date=25<br>Amount=%{y}<extra></extra>\", \"legendgroup\": \"25\", \"line\": {\"color\": \"#ab63fa\", \"dash\": \"solid\"}, \"mode\": \"lines\", \"name\": \"25\", \"showlegend\": true, \"type\": \"scatter\", \"xaxis\": \"x\", \"y\": [50, 5000, 75000, 1200], \"yaxis\": \"y\"}, {\"hovertemplate\": \"Date=11<br>Amount=%{y}<extra></extra>\", \"legendgroup\": \"11\", \"line\": {\"color\": \"#FFA15A\", \"dash\": \"solid\"}, \"mode\": \"lines\", \"name\": \"11\", \"showlegend\": true, \"type\": \"scatter\", \"xaxis\": \"x\", \"y\": [120, 12000, 907], \"yaxis\": \"y\"}, {\"hovertemplate\": \"Date=2<br>Amount=%{y}<extra></extra>\", \"legendgroup\": \"2\", \"line\": {\"color\": \"#19d3f3\", \"dash\": \"solid\"}, \"mode\": \"lines\", \"name\": \"2\", \"showlegend\": true, \"type\": \"scatter\", \"xaxis\": \"x\", \"y\": [140, 8954, 24000], \"yaxis\": \"y\"}, {\"hovertemplate\": \"Date=23<br>Amount=%{y}<extra></extra>\", \"legendgroup\": \"23\", \"line\": {\"color\": \"#FF6692\", \"dash\": \"solid\"}, \"mode\": \"lines\", \"name\": \"23\", \"showlegend\": true, \"type\": \"scatter\", \"xaxis\": \"x\", \"y\": [1200], \"yaxis\": \"y\"}, {\"hovertemplate\": \"Date=8<br>Amount=%{y}<extra></extra>\", \"legendgroup\": \"8\", \"line\": {\"color\": \"#B6E880\", \"dash\": \"solid\"}, \"mode\": \"lines\", \"name\": \"8\", \"showlegend\": true, \"type\": \"scatter\", \"xaxis\": \"x\", \"y\": [1200, 50000, 150000], \"yaxis\": \"y\"}, {\"hovertemplate\": \"Date=30<br>Amount=%{y}<extra></extra>\", \"legendgroup\": \"30\", \"line\": {\"color\": \"#FF97FF\", \"dash\": \"solid\"}, \"mode\": \"lines\", \"name\": \"30\", \"showlegend\": true, \"type\": \"scatter\", \"xaxis\": \"x\", \"y\": [4509, 10543, 987], \"yaxis\": \"y\"}, {\"hovertemplate\": \"Date=29<br>Amount=%{y}<extra></extra>\", \"legendgroup\": \"29\", \"line\": {\"color\": \"#FECB52\", \"dash\": \"solid\"}, \"mode\": \"lines\", \"name\": \"29\", \"showlegend\": true, \"type\": \"scatter\", \"xaxis\": \"x\", \"y\": [9875, 4000], \"yaxis\": \"y\"}, {\"hovertemplate\": \"Date=16<br>Amount=%{y}<extra></extra>\", \"legendgroup\": \"16\", \"line\": {\"color\": \"#636efa\", \"dash\": \"solid\"}, \"mode\": \"lines\", \"name\": \"16\", \"showlegend\": true, \"type\": \"scatter\", \"xaxis\": \"x\", \"y\": [12567, 150000, 45000, 45000, 15000, 5000], \"yaxis\": \"y\"}, {\"hovertemplate\": \"Date=12<br>Amount=%{y}<extra></extra>\", \"legendgroup\": \"12\", \"line\": {\"color\": \"#EF553B\", \"dash\": \"solid\"}, \"mode\": \"lines\", \"name\": \"12\", \"showlegend\": true, \"type\": \"scatter\", \"xaxis\": \"x\", \"y\": [907, 543], \"yaxis\": \"y\"}, {\"hovertemplate\": \"Date=5<br>Amount=%{y}<extra></extra>\", \"legendgroup\": \"5\", \"line\": {\"color\": \"#00cc96\", \"dash\": \"solid\"}, \"mode\": \"lines\", \"name\": \"5\", \"showlegend\": true, \"type\": \"scatter\", \"xaxis\": \"x\", \"y\": [345, 12000, 300], \"yaxis\": \"y\"}, {\"hovertemplate\": \"Date=9<br>Amount=%{y}<extra></extra>\", \"legendgroup\": \"9\", \"line\": {\"color\": \"#ab63fa\", \"dash\": \"solid\"}, \"mode\": \"lines\", \"name\": \"9\", \"showlegend\": true, \"type\": \"scatter\", \"xaxis\": \"x\", \"y\": [12000, 9875, 12567], \"yaxis\": \"y\"}, {\"hovertemplate\": \"Date=14<br>Amount=%{y}<extra></extra>\", \"legendgroup\": \"14\", \"line\": {\"color\": \"#FFA15A\", \"dash\": \"solid\"}, \"mode\": \"lines\", \"name\": \"14\", \"showlegend\": true, \"type\": \"scatter\", \"xaxis\": \"x\", \"y\": [890, 10000, 670, 1356, 4509], \"yaxis\": \"y\"}, {\"hovertemplate\": \"Date=6<br>Amount=%{y}<extra></extra>\", \"legendgroup\": \"6\", \"line\": {\"color\": \"#19d3f3\", \"dash\": \"solid\"}, \"mode\": \"lines\", \"name\": \"6\", \"showlegend\": true, \"type\": \"scatter\", \"xaxis\": \"x\", \"y\": [567, 130000, 1987], \"yaxis\": \"y\"}, {\"hovertemplate\": \"Date=3<br>Amount=%{y}<extra></extra>\", \"legendgroup\": \"3\", \"line\": {\"color\": \"#FF6692\", \"dash\": \"solid\"}, \"mode\": \"lines\", \"name\": \"3\", \"showlegend\": true, \"type\": \"scatter\", \"xaxis\": \"x\", \"y\": [1000, 11000], \"yaxis\": \"y\"}, {\"hovertemplate\": \"Date=10<br>Amount=%{y}<extra></extra>\", \"legendgroup\": \"10\", \"line\": {\"color\": \"#B6E880\", \"dash\": \"solid\"}, \"mode\": \"lines\", \"name\": \"10\", \"showlegend\": true, \"type\": \"scatter\", \"xaxis\": \"x\", \"y\": [994, 140, 4000, 45000], \"yaxis\": \"y\"}, {\"hovertemplate\": \"Date=22<br>Amount=%{y}<extra></extra>\", \"legendgroup\": \"22\", \"line\": {\"color\": \"#FF97FF\", \"dash\": \"solid\"}, \"mode\": \"lines\", \"name\": \"22\", \"showlegend\": true, \"type\": \"scatter\", \"xaxis\": \"x\", \"y\": [1200], \"yaxis\": \"y\"}],\n",
       "                        {\"legend\": {\"title\": {\"text\": \"Date\"}, \"tracegroupgap\": 0}, \"margin\": {\"t\": 60}, \"template\": {\"data\": {\"bar\": [{\"error_x\": {\"color\": \"#2a3f5f\"}, \"error_y\": {\"color\": \"#2a3f5f\"}, \"marker\": {\"line\": {\"color\": \"#E5ECF6\", \"width\": 0.5}}, \"type\": \"bar\"}], \"barpolar\": [{\"marker\": {\"line\": {\"color\": \"#E5ECF6\", \"width\": 0.5}}, \"type\": \"barpolar\"}], \"carpet\": [{\"aaxis\": {\"endlinecolor\": \"#2a3f5f\", \"gridcolor\": \"white\", \"linecolor\": \"white\", \"minorgridcolor\": \"white\", \"startlinecolor\": \"#2a3f5f\"}, \"baxis\": {\"endlinecolor\": \"#2a3f5f\", \"gridcolor\": \"white\", \"linecolor\": \"white\", \"minorgridcolor\": \"white\", \"startlinecolor\": \"#2a3f5f\"}, \"type\": \"carpet\"}], \"choropleth\": [{\"colorbar\": {\"outlinewidth\": 0, \"ticks\": \"\"}, \"type\": \"choropleth\"}], \"contour\": [{\"colorbar\": {\"outlinewidth\": 0, \"ticks\": \"\"}, \"colorscale\": [[0.0, \"#0d0887\"], [0.1111111111111111, \"#46039f\"], [0.2222222222222222, \"#7201a8\"], [0.3333333333333333, \"#9c179e\"], [0.4444444444444444, \"#bd3786\"], [0.5555555555555556, \"#d8576b\"], [0.6666666666666666, \"#ed7953\"], [0.7777777777777778, \"#fb9f3a\"], [0.8888888888888888, \"#fdca26\"], [1.0, \"#f0f921\"]], \"type\": \"contour\"}], \"contourcarpet\": [{\"colorbar\": {\"outlinewidth\": 0, \"ticks\": \"\"}, \"type\": \"contourcarpet\"}], \"heatmap\": [{\"colorbar\": {\"outlinewidth\": 0, \"ticks\": \"\"}, \"colorscale\": [[0.0, \"#0d0887\"], [0.1111111111111111, \"#46039f\"], [0.2222222222222222, \"#7201a8\"], [0.3333333333333333, \"#9c179e\"], [0.4444444444444444, \"#bd3786\"], [0.5555555555555556, \"#d8576b\"], [0.6666666666666666, \"#ed7953\"], [0.7777777777777778, \"#fb9f3a\"], [0.8888888888888888, \"#fdca26\"], [1.0, \"#f0f921\"]], \"type\": \"heatmap\"}], \"heatmapgl\": [{\"colorbar\": {\"outlinewidth\": 0, \"ticks\": \"\"}, \"colorscale\": [[0.0, \"#0d0887\"], [0.1111111111111111, \"#46039f\"], [0.2222222222222222, \"#7201a8\"], [0.3333333333333333, \"#9c179e\"], [0.4444444444444444, \"#bd3786\"], [0.5555555555555556, \"#d8576b\"], [0.6666666666666666, \"#ed7953\"], [0.7777777777777778, \"#fb9f3a\"], [0.8888888888888888, \"#fdca26\"], [1.0, \"#f0f921\"]], \"type\": \"heatmapgl\"}], \"histogram\": [{\"marker\": {\"colorbar\": {\"outlinewidth\": 0, \"ticks\": \"\"}}, \"type\": \"histogram\"}], \"histogram2d\": [{\"colorbar\": {\"outlinewidth\": 0, \"ticks\": \"\"}, \"colorscale\": [[0.0, \"#0d0887\"], [0.1111111111111111, \"#46039f\"], [0.2222222222222222, \"#7201a8\"], [0.3333333333333333, \"#9c179e\"], [0.4444444444444444, \"#bd3786\"], [0.5555555555555556, \"#d8576b\"], [0.6666666666666666, \"#ed7953\"], [0.7777777777777778, \"#fb9f3a\"], [0.8888888888888888, \"#fdca26\"], [1.0, \"#f0f921\"]], \"type\": \"histogram2d\"}], \"histogram2dcontour\": [{\"colorbar\": {\"outlinewidth\": 0, \"ticks\": \"\"}, \"colorscale\": [[0.0, \"#0d0887\"], [0.1111111111111111, \"#46039f\"], [0.2222222222222222, \"#7201a8\"], [0.3333333333333333, \"#9c179e\"], [0.4444444444444444, \"#bd3786\"], [0.5555555555555556, \"#d8576b\"], [0.6666666666666666, \"#ed7953\"], [0.7777777777777778, \"#fb9f3a\"], [0.8888888888888888, \"#fdca26\"], [1.0, \"#f0f921\"]], \"type\": \"histogram2dcontour\"}], \"mesh3d\": [{\"colorbar\": {\"outlinewidth\": 0, \"ticks\": \"\"}, \"type\": \"mesh3d\"}], \"parcoords\": [{\"line\": {\"colorbar\": {\"outlinewidth\": 0, \"ticks\": \"\"}}, \"type\": \"parcoords\"}], \"pie\": [{\"automargin\": true, \"type\": \"pie\"}], \"scatter\": [{\"marker\": {\"colorbar\": {\"outlinewidth\": 0, \"ticks\": \"\"}}, \"type\": \"scatter\"}], \"scatter3d\": [{\"line\": {\"colorbar\": {\"outlinewidth\": 0, \"ticks\": \"\"}}, \"marker\": {\"colorbar\": {\"outlinewidth\": 0, \"ticks\": \"\"}}, \"type\": \"scatter3d\"}], \"scattercarpet\": [{\"marker\": {\"colorbar\": {\"outlinewidth\": 0, \"ticks\": \"\"}}, \"type\": \"scattercarpet\"}], \"scattergeo\": [{\"marker\": {\"colorbar\": {\"outlinewidth\": 0, \"ticks\": \"\"}}, \"type\": \"scattergeo\"}], \"scattergl\": [{\"marker\": {\"colorbar\": {\"outlinewidth\": 0, \"ticks\": \"\"}}, \"type\": \"scattergl\"}], \"scattermapbox\": [{\"marker\": {\"colorbar\": {\"outlinewidth\": 0, \"ticks\": \"\"}}, \"type\": \"scattermapbox\"}], \"scatterpolar\": [{\"marker\": {\"colorbar\": {\"outlinewidth\": 0, \"ticks\": \"\"}}, \"type\": \"scatterpolar\"}], \"scatterpolargl\": [{\"marker\": {\"colorbar\": {\"outlinewidth\": 0, \"ticks\": \"\"}}, \"type\": \"scatterpolargl\"}], \"scatterternary\": [{\"marker\": {\"colorbar\": {\"outlinewidth\": 0, \"ticks\": \"\"}}, \"type\": \"scatterternary\"}], \"surface\": [{\"colorbar\": {\"outlinewidth\": 0, \"ticks\": \"\"}, \"colorscale\": [[0.0, \"#0d0887\"], [0.1111111111111111, \"#46039f\"], [0.2222222222222222, \"#7201a8\"], [0.3333333333333333, \"#9c179e\"], [0.4444444444444444, \"#bd3786\"], [0.5555555555555556, \"#d8576b\"], [0.6666666666666666, \"#ed7953\"], [0.7777777777777778, \"#fb9f3a\"], [0.8888888888888888, \"#fdca26\"], [1.0, \"#f0f921\"]], \"type\": \"surface\"}], \"table\": [{\"cells\": {\"fill\": {\"color\": \"#EBF0F8\"}, \"line\": {\"color\": \"white\"}}, \"header\": {\"fill\": {\"color\": \"#C8D4E3\"}, \"line\": {\"color\": \"white\"}}, \"type\": \"table\"}]}, \"layout\": {\"annotationdefaults\": {\"arrowcolor\": \"#2a3f5f\", \"arrowhead\": 0, \"arrowwidth\": 1}, \"coloraxis\": {\"colorbar\": {\"outlinewidth\": 0, \"ticks\": \"\"}}, \"colorscale\": {\"diverging\": [[0, \"#8e0152\"], [0.1, \"#c51b7d\"], [0.2, \"#de77ae\"], [0.3, \"#f1b6da\"], [0.4, \"#fde0ef\"], [0.5, \"#f7f7f7\"], [0.6, \"#e6f5d0\"], [0.7, \"#b8e186\"], [0.8, \"#7fbc41\"], [0.9, \"#4d9221\"], [1, \"#276419\"]], \"sequential\": [[0.0, \"#0d0887\"], [0.1111111111111111, \"#46039f\"], [0.2222222222222222, \"#7201a8\"], [0.3333333333333333, \"#9c179e\"], [0.4444444444444444, \"#bd3786\"], [0.5555555555555556, \"#d8576b\"], [0.6666666666666666, \"#ed7953\"], [0.7777777777777778, \"#fb9f3a\"], [0.8888888888888888, \"#fdca26\"], [1.0, \"#f0f921\"]], \"sequentialminus\": [[0.0, \"#0d0887\"], [0.1111111111111111, \"#46039f\"], [0.2222222222222222, \"#7201a8\"], [0.3333333333333333, \"#9c179e\"], [0.4444444444444444, \"#bd3786\"], [0.5555555555555556, \"#d8576b\"], [0.6666666666666666, \"#ed7953\"], [0.7777777777777778, \"#fb9f3a\"], [0.8888888888888888, \"#fdca26\"], [1.0, \"#f0f921\"]]}, \"colorway\": [\"#636efa\", \"#EF553B\", \"#00cc96\", \"#ab63fa\", \"#FFA15A\", \"#19d3f3\", \"#FF6692\", \"#B6E880\", \"#FF97FF\", \"#FECB52\"], \"font\": {\"color\": \"#2a3f5f\"}, \"geo\": {\"bgcolor\": \"white\", \"lakecolor\": \"white\", \"landcolor\": \"#E5ECF6\", \"showlakes\": true, \"showland\": true, \"subunitcolor\": \"white\"}, \"hoverlabel\": {\"align\": \"left\"}, \"hovermode\": \"closest\", \"mapbox\": {\"style\": \"light\"}, \"paper_bgcolor\": \"white\", \"plot_bgcolor\": \"#E5ECF6\", \"polar\": {\"angularaxis\": {\"gridcolor\": \"white\", \"linecolor\": \"white\", \"ticks\": \"\"}, \"bgcolor\": \"#E5ECF6\", \"radialaxis\": {\"gridcolor\": \"white\", \"linecolor\": \"white\", \"ticks\": \"\"}}, \"scene\": {\"xaxis\": {\"backgroundcolor\": \"#E5ECF6\", \"gridcolor\": \"white\", \"gridwidth\": 2, \"linecolor\": \"white\", \"showbackground\": true, \"ticks\": \"\", \"zerolinecolor\": \"white\"}, \"yaxis\": {\"backgroundcolor\": \"#E5ECF6\", \"gridcolor\": \"white\", \"gridwidth\": 2, \"linecolor\": \"white\", \"showbackground\": true, \"ticks\": \"\", \"zerolinecolor\": \"white\"}, \"zaxis\": {\"backgroundcolor\": \"#E5ECF6\", \"gridcolor\": \"white\", \"gridwidth\": 2, \"linecolor\": \"white\", \"showbackground\": true, \"ticks\": \"\", \"zerolinecolor\": \"white\"}}, \"shapedefaults\": {\"line\": {\"color\": \"#2a3f5f\"}}, \"ternary\": {\"aaxis\": {\"gridcolor\": \"white\", \"linecolor\": \"white\", \"ticks\": \"\"}, \"baxis\": {\"gridcolor\": \"white\", \"linecolor\": \"white\", \"ticks\": \"\"}, \"bgcolor\": \"#E5ECF6\", \"caxis\": {\"gridcolor\": \"white\", \"linecolor\": \"white\", \"ticks\": \"\"}}, \"title\": {\"x\": 0.05}, \"xaxis\": {\"automargin\": true, \"gridcolor\": \"white\", \"linecolor\": \"white\", \"ticks\": \"\", \"title\": {\"standoff\": 15}, \"zerolinecolor\": \"white\", \"zerolinewidth\": 2}, \"yaxis\": {\"automargin\": true, \"gridcolor\": \"white\", \"linecolor\": \"white\", \"ticks\": \"\", \"title\": {\"standoff\": 15}, \"zerolinecolor\": \"white\", \"zerolinewidth\": 2}}}, \"xaxis\": {\"anchor\": \"y\", \"domain\": [0.0, 1.0]}, \"yaxis\": {\"anchor\": \"x\", \"domain\": [0.0, 1.0], \"title\": {\"text\": \"Amount\"}}},\n",
       "                        {\"responsive\": true}\n",
       "                    ).then(function(){\n",
       "                            \n",
       "var gd = document.getElementById('17de8337-84d6-471a-8423-0b2d49738c3a');\n",
       "var x = new MutationObserver(function (mutations, observer) {{\n",
       "        var display = window.getComputedStyle(gd).display;\n",
       "        if (!display || display === 'none') {{\n",
       "            console.log([gd, 'removed!']);\n",
       "            Plotly.purge(gd);\n",
       "            observer.disconnect();\n",
       "        }}\n",
       "}});\n",
       "\n",
       "// Listen for the removal of the full notebook cells\n",
       "var notebookContainer = gd.closest('#notebook-container');\n",
       "if (notebookContainer) {{\n",
       "    x.observe(notebookContainer, {childList: true});\n",
       "}}\n",
       "\n",
       "// Listen for the clearing of the current output cell\n",
       "var outputEl = gd.closest('.output');\n",
       "if (outputEl) {{\n",
       "    x.observe(outputEl, {childList: true});\n",
       "}}\n",
       "\n",
       "                        })\n",
       "                };\n",
       "                });\n",
       "            </script>\n",
       "        </div>"
      ]
     },
     "metadata": {},
     "output_type": "display_data"
    }
   ],
   "source": [
    "# P - Line\n",
    "\n",
    "import plotly.express as px\n",
    "\n",
    "fig = px.line(DB, y=\"Amount\",color='Date')\n",
    "fig.show()"
   ]
  },
  {
   "cell_type": "code",
   "execution_count": 46,
   "metadata": {},
   "outputs": [
    {
     "data": {
      "application/vnd.plotly.v1+json": {
       "config": {
        "plotlyServerURL": "https://plot.ly"
       },
       "data": [
        {
         "mode": "lines",
         "name": "lines",
         "type": "scatter",
         "x": [
          19,
          18,
          7,
          15,
          17,
          24,
          21,
          7,
          20,
          16,
          3,
          2,
          4,
          4,
          22,
          20,
          21,
          21,
          11,
          18,
          4,
          11,
          10,
          12,
          21,
          9,
          20,
          21,
          6,
          18,
          16,
          7,
          1,
          21,
          5,
          8,
          10,
          4,
          18,
          1,
          4,
          22,
          23,
          9,
          19,
          12,
          19,
          7,
          21,
          1,
          24,
          11,
          3,
          17,
          12,
          1,
          20,
          17,
          6,
          21,
          13,
          4,
          7,
          11,
          8,
          2,
          9,
          17,
          18,
          22,
          4,
          14,
          1,
          16,
          15,
          11,
          6,
          22,
          2,
          3,
          6,
          16,
          12,
          23,
          21,
          1,
          21,
          20,
          7,
          4,
          7,
          8,
          14,
          19,
          18,
          21,
          11,
          13,
          20,
          23,
          6,
          9,
          14,
          7,
          19,
          16
         ],
         "y": [
          25000,
          300,
          45000,
          670,
          4543,
          11000,
          130000,
          132,
          1200,
          1340,
          1356,
          1200,
          11000,
          50000,
          10543,
          140,
          15000,
          994,
          800,
          50,
          120,
          140,
          1200,
          1987,
          987,
          4000,
          1200,
          112,
          12000,
          4509,
          4000,
          543,
          9875,
          12567,
          150000,
          907,
          345,
          5000,
          75000,
          24000,
          12000,
          175600,
          890,
          567,
          8954,
          9056,
          5000,
          23467,
          1000,
          10000,
          45000,
          25000,
          300,
          45000,
          670,
          4543,
          11000,
          130000,
          132,
          1200,
          1340,
          1356,
          1200,
          11000,
          50000,
          10543,
          140,
          15000,
          994,
          800,
          50,
          120,
          140,
          1200,
          1987,
          987,
          4000,
          1200,
          112,
          12000,
          4509,
          4000,
          543,
          9875,
          12567,
          150000,
          907,
          345,
          5000,
          75000,
          24000,
          23467,
          1000,
          10000,
          45000,
          25000,
          300,
          45000,
          670,
          4543,
          11000,
          130000,
          132,
          1200,
          1340,
          1356
         ]
        },
        {
         "mode": "markers",
         "name": "markers",
         "type": "scatter",
         "x": [
          19,
          18,
          7,
          15,
          17,
          24,
          21,
          7,
          20,
          16,
          3,
          2,
          4,
          4,
          22,
          20,
          21,
          21,
          11,
          18,
          4,
          11,
          10,
          12,
          21,
          9,
          20,
          21,
          6,
          18,
          16,
          7,
          1,
          21,
          5,
          8,
          10,
          4,
          18,
          1,
          4,
          22,
          23,
          9,
          19,
          12,
          19,
          7,
          21,
          1,
          24,
          11,
          3,
          17,
          12,
          1,
          20,
          17,
          6,
          21,
          13,
          4,
          7,
          11,
          8,
          2,
          9,
          17,
          18,
          22,
          4,
          14,
          1,
          16,
          15,
          11,
          6,
          22,
          2,
          3,
          6,
          16,
          12,
          23,
          21,
          1,
          21,
          20,
          7,
          4,
          7,
          8,
          14,
          19,
          18,
          21,
          11,
          13,
          20,
          23,
          6,
          9,
          14,
          7,
          19,
          16
         ],
         "y": [
          500000,
          500000,
          500000,
          500000,
          500000,
          500000,
          500000,
          500000,
          500000,
          500000,
          100000,
          100000,
          100000,
          100000,
          100000,
          100000,
          100000,
          100000,
          100000,
          100000,
          25000,
          25000,
          25000,
          25000,
          25000,
          25000,
          25000,
          25000,
          25000,
          25000,
          350000,
          350000,
          350000,
          350000,
          350000,
          350000,
          350000,
          350000,
          350000,
          350000,
          350000,
          225000,
          225000,
          225000,
          225000,
          225000,
          225000,
          225000,
          225000,
          225000,
          225000,
          500000,
          500000,
          500000,
          500000,
          500000,
          500000,
          500000,
          500000,
          500000,
          500000,
          100000,
          100000,
          100000,
          100000,
          100000,
          100000,
          25000,
          25000,
          25000,
          25000,
          25000,
          25000,
          25000,
          25000,
          25000,
          25000,
          350000,
          350000,
          350000,
          350000,
          350000,
          350000,
          350000,
          350000,
          350000,
          350000,
          350000,
          350000,
          350000,
          350000,
          350000,
          350000,
          350000,
          350000,
          225000,
          225000,
          225000,
          225000,
          225000,
          225000,
          225000,
          225000,
          225000,
          225000,
          225000
         ]
        }
       ],
       "layout": {
        "template": {
         "data": {
          "bar": [
           {
            "error_x": {
             "color": "#2a3f5f"
            },
            "error_y": {
             "color": "#2a3f5f"
            },
            "marker": {
             "line": {
              "color": "#E5ECF6",
              "width": 0.5
             }
            },
            "type": "bar"
           }
          ],
          "barpolar": [
           {
            "marker": {
             "line": {
              "color": "#E5ECF6",
              "width": 0.5
             }
            },
            "type": "barpolar"
           }
          ],
          "carpet": [
           {
            "aaxis": {
             "endlinecolor": "#2a3f5f",
             "gridcolor": "white",
             "linecolor": "white",
             "minorgridcolor": "white",
             "startlinecolor": "#2a3f5f"
            },
            "baxis": {
             "endlinecolor": "#2a3f5f",
             "gridcolor": "white",
             "linecolor": "white",
             "minorgridcolor": "white",
             "startlinecolor": "#2a3f5f"
            },
            "type": "carpet"
           }
          ],
          "choropleth": [
           {
            "colorbar": {
             "outlinewidth": 0,
             "ticks": ""
            },
            "type": "choropleth"
           }
          ],
          "contour": [
           {
            "colorbar": {
             "outlinewidth": 0,
             "ticks": ""
            },
            "colorscale": [
             [
              0,
              "#0d0887"
             ],
             [
              0.1111111111111111,
              "#46039f"
             ],
             [
              0.2222222222222222,
              "#7201a8"
             ],
             [
              0.3333333333333333,
              "#9c179e"
             ],
             [
              0.4444444444444444,
              "#bd3786"
             ],
             [
              0.5555555555555556,
              "#d8576b"
             ],
             [
              0.6666666666666666,
              "#ed7953"
             ],
             [
              0.7777777777777778,
              "#fb9f3a"
             ],
             [
              0.8888888888888888,
              "#fdca26"
             ],
             [
              1,
              "#f0f921"
             ]
            ],
            "type": "contour"
           }
          ],
          "contourcarpet": [
           {
            "colorbar": {
             "outlinewidth": 0,
             "ticks": ""
            },
            "type": "contourcarpet"
           }
          ],
          "heatmap": [
           {
            "colorbar": {
             "outlinewidth": 0,
             "ticks": ""
            },
            "colorscale": [
             [
              0,
              "#0d0887"
             ],
             [
              0.1111111111111111,
              "#46039f"
             ],
             [
              0.2222222222222222,
              "#7201a8"
             ],
             [
              0.3333333333333333,
              "#9c179e"
             ],
             [
              0.4444444444444444,
              "#bd3786"
             ],
             [
              0.5555555555555556,
              "#d8576b"
             ],
             [
              0.6666666666666666,
              "#ed7953"
             ],
             [
              0.7777777777777778,
              "#fb9f3a"
             ],
             [
              0.8888888888888888,
              "#fdca26"
             ],
             [
              1,
              "#f0f921"
             ]
            ],
            "type": "heatmap"
           }
          ],
          "heatmapgl": [
           {
            "colorbar": {
             "outlinewidth": 0,
             "ticks": ""
            },
            "colorscale": [
             [
              0,
              "#0d0887"
             ],
             [
              0.1111111111111111,
              "#46039f"
             ],
             [
              0.2222222222222222,
              "#7201a8"
             ],
             [
              0.3333333333333333,
              "#9c179e"
             ],
             [
              0.4444444444444444,
              "#bd3786"
             ],
             [
              0.5555555555555556,
              "#d8576b"
             ],
             [
              0.6666666666666666,
              "#ed7953"
             ],
             [
              0.7777777777777778,
              "#fb9f3a"
             ],
             [
              0.8888888888888888,
              "#fdca26"
             ],
             [
              1,
              "#f0f921"
             ]
            ],
            "type": "heatmapgl"
           }
          ],
          "histogram": [
           {
            "marker": {
             "colorbar": {
              "outlinewidth": 0,
              "ticks": ""
             }
            },
            "type": "histogram"
           }
          ],
          "histogram2d": [
           {
            "colorbar": {
             "outlinewidth": 0,
             "ticks": ""
            },
            "colorscale": [
             [
              0,
              "#0d0887"
             ],
             [
              0.1111111111111111,
              "#46039f"
             ],
             [
              0.2222222222222222,
              "#7201a8"
             ],
             [
              0.3333333333333333,
              "#9c179e"
             ],
             [
              0.4444444444444444,
              "#bd3786"
             ],
             [
              0.5555555555555556,
              "#d8576b"
             ],
             [
              0.6666666666666666,
              "#ed7953"
             ],
             [
              0.7777777777777778,
              "#fb9f3a"
             ],
             [
              0.8888888888888888,
              "#fdca26"
             ],
             [
              1,
              "#f0f921"
             ]
            ],
            "type": "histogram2d"
           }
          ],
          "histogram2dcontour": [
           {
            "colorbar": {
             "outlinewidth": 0,
             "ticks": ""
            },
            "colorscale": [
             [
              0,
              "#0d0887"
             ],
             [
              0.1111111111111111,
              "#46039f"
             ],
             [
              0.2222222222222222,
              "#7201a8"
             ],
             [
              0.3333333333333333,
              "#9c179e"
             ],
             [
              0.4444444444444444,
              "#bd3786"
             ],
             [
              0.5555555555555556,
              "#d8576b"
             ],
             [
              0.6666666666666666,
              "#ed7953"
             ],
             [
              0.7777777777777778,
              "#fb9f3a"
             ],
             [
              0.8888888888888888,
              "#fdca26"
             ],
             [
              1,
              "#f0f921"
             ]
            ],
            "type": "histogram2dcontour"
           }
          ],
          "mesh3d": [
           {
            "colorbar": {
             "outlinewidth": 0,
             "ticks": ""
            },
            "type": "mesh3d"
           }
          ],
          "parcoords": [
           {
            "line": {
             "colorbar": {
              "outlinewidth": 0,
              "ticks": ""
             }
            },
            "type": "parcoords"
           }
          ],
          "pie": [
           {
            "automargin": true,
            "type": "pie"
           }
          ],
          "scatter": [
           {
            "marker": {
             "colorbar": {
              "outlinewidth": 0,
              "ticks": ""
             }
            },
            "type": "scatter"
           }
          ],
          "scatter3d": [
           {
            "line": {
             "colorbar": {
              "outlinewidth": 0,
              "ticks": ""
             }
            },
            "marker": {
             "colorbar": {
              "outlinewidth": 0,
              "ticks": ""
             }
            },
            "type": "scatter3d"
           }
          ],
          "scattercarpet": [
           {
            "marker": {
             "colorbar": {
              "outlinewidth": 0,
              "ticks": ""
             }
            },
            "type": "scattercarpet"
           }
          ],
          "scattergeo": [
           {
            "marker": {
             "colorbar": {
              "outlinewidth": 0,
              "ticks": ""
             }
            },
            "type": "scattergeo"
           }
          ],
          "scattergl": [
           {
            "marker": {
             "colorbar": {
              "outlinewidth": 0,
              "ticks": ""
             }
            },
            "type": "scattergl"
           }
          ],
          "scattermapbox": [
           {
            "marker": {
             "colorbar": {
              "outlinewidth": 0,
              "ticks": ""
             }
            },
            "type": "scattermapbox"
           }
          ],
          "scatterpolar": [
           {
            "marker": {
             "colorbar": {
              "outlinewidth": 0,
              "ticks": ""
             }
            },
            "type": "scatterpolar"
           }
          ],
          "scatterpolargl": [
           {
            "marker": {
             "colorbar": {
              "outlinewidth": 0,
              "ticks": ""
             }
            },
            "type": "scatterpolargl"
           }
          ],
          "scatterternary": [
           {
            "marker": {
             "colorbar": {
              "outlinewidth": 0,
              "ticks": ""
             }
            },
            "type": "scatterternary"
           }
          ],
          "surface": [
           {
            "colorbar": {
             "outlinewidth": 0,
             "ticks": ""
            },
            "colorscale": [
             [
              0,
              "#0d0887"
             ],
             [
              0.1111111111111111,
              "#46039f"
             ],
             [
              0.2222222222222222,
              "#7201a8"
             ],
             [
              0.3333333333333333,
              "#9c179e"
             ],
             [
              0.4444444444444444,
              "#bd3786"
             ],
             [
              0.5555555555555556,
              "#d8576b"
             ],
             [
              0.6666666666666666,
              "#ed7953"
             ],
             [
              0.7777777777777778,
              "#fb9f3a"
             ],
             [
              0.8888888888888888,
              "#fdca26"
             ],
             [
              1,
              "#f0f921"
             ]
            ],
            "type": "surface"
           }
          ],
          "table": [
           {
            "cells": {
             "fill": {
              "color": "#EBF0F8"
             },
             "line": {
              "color": "white"
             }
            },
            "header": {
             "fill": {
              "color": "#C8D4E3"
             },
             "line": {
              "color": "white"
             }
            },
            "type": "table"
           }
          ]
         },
         "layout": {
          "annotationdefaults": {
           "arrowcolor": "#2a3f5f",
           "arrowhead": 0,
           "arrowwidth": 1
          },
          "coloraxis": {
           "colorbar": {
            "outlinewidth": 0,
            "ticks": ""
           }
          },
          "colorscale": {
           "diverging": [
            [
             0,
             "#8e0152"
            ],
            [
             0.1,
             "#c51b7d"
            ],
            [
             0.2,
             "#de77ae"
            ],
            [
             0.3,
             "#f1b6da"
            ],
            [
             0.4,
             "#fde0ef"
            ],
            [
             0.5,
             "#f7f7f7"
            ],
            [
             0.6,
             "#e6f5d0"
            ],
            [
             0.7,
             "#b8e186"
            ],
            [
             0.8,
             "#7fbc41"
            ],
            [
             0.9,
             "#4d9221"
            ],
            [
             1,
             "#276419"
            ]
           ],
           "sequential": [
            [
             0,
             "#0d0887"
            ],
            [
             0.1111111111111111,
             "#46039f"
            ],
            [
             0.2222222222222222,
             "#7201a8"
            ],
            [
             0.3333333333333333,
             "#9c179e"
            ],
            [
             0.4444444444444444,
             "#bd3786"
            ],
            [
             0.5555555555555556,
             "#d8576b"
            ],
            [
             0.6666666666666666,
             "#ed7953"
            ],
            [
             0.7777777777777778,
             "#fb9f3a"
            ],
            [
             0.8888888888888888,
             "#fdca26"
            ],
            [
             1,
             "#f0f921"
            ]
           ],
           "sequentialminus": [
            [
             0,
             "#0d0887"
            ],
            [
             0.1111111111111111,
             "#46039f"
            ],
            [
             0.2222222222222222,
             "#7201a8"
            ],
            [
             0.3333333333333333,
             "#9c179e"
            ],
            [
             0.4444444444444444,
             "#bd3786"
            ],
            [
             0.5555555555555556,
             "#d8576b"
            ],
            [
             0.6666666666666666,
             "#ed7953"
            ],
            [
             0.7777777777777778,
             "#fb9f3a"
            ],
            [
             0.8888888888888888,
             "#fdca26"
            ],
            [
             1,
             "#f0f921"
            ]
           ]
          },
          "colorway": [
           "#636efa",
           "#EF553B",
           "#00cc96",
           "#ab63fa",
           "#FFA15A",
           "#19d3f3",
           "#FF6692",
           "#B6E880",
           "#FF97FF",
           "#FECB52"
          ],
          "font": {
           "color": "#2a3f5f"
          },
          "geo": {
           "bgcolor": "white",
           "lakecolor": "white",
           "landcolor": "#E5ECF6",
           "showlakes": true,
           "showland": true,
           "subunitcolor": "white"
          },
          "hoverlabel": {
           "align": "left"
          },
          "hovermode": "closest",
          "mapbox": {
           "style": "light"
          },
          "paper_bgcolor": "white",
          "plot_bgcolor": "#E5ECF6",
          "polar": {
           "angularaxis": {
            "gridcolor": "white",
            "linecolor": "white",
            "ticks": ""
           },
           "bgcolor": "#E5ECF6",
           "radialaxis": {
            "gridcolor": "white",
            "linecolor": "white",
            "ticks": ""
           }
          },
          "scene": {
           "xaxis": {
            "backgroundcolor": "#E5ECF6",
            "gridcolor": "white",
            "gridwidth": 2,
            "linecolor": "white",
            "showbackground": true,
            "ticks": "",
            "zerolinecolor": "white"
           },
           "yaxis": {
            "backgroundcolor": "#E5ECF6",
            "gridcolor": "white",
            "gridwidth": 2,
            "linecolor": "white",
            "showbackground": true,
            "ticks": "",
            "zerolinecolor": "white"
           },
           "zaxis": {
            "backgroundcolor": "#E5ECF6",
            "gridcolor": "white",
            "gridwidth": 2,
            "linecolor": "white",
            "showbackground": true,
            "ticks": "",
            "zerolinecolor": "white"
           }
          },
          "shapedefaults": {
           "line": {
            "color": "#2a3f5f"
           }
          },
          "ternary": {
           "aaxis": {
            "gridcolor": "white",
            "linecolor": "white",
            "ticks": ""
           },
           "baxis": {
            "gridcolor": "white",
            "linecolor": "white",
            "ticks": ""
           },
           "bgcolor": "#E5ECF6",
           "caxis": {
            "gridcolor": "white",
            "linecolor": "white",
            "ticks": ""
           }
          },
          "title": {
           "x": 0.05
          },
          "xaxis": {
           "automargin": true,
           "gridcolor": "white",
           "linecolor": "white",
           "ticks": "",
           "title": {
            "standoff": 15
           },
           "zerolinecolor": "white",
           "zerolinewidth": 2
          },
          "yaxis": {
           "automargin": true,
           "gridcolor": "white",
           "linecolor": "white",
           "ticks": "",
           "title": {
            "standoff": 15
           },
           "zerolinecolor": "white",
           "zerolinewidth": 2
          }
         }
        }
       }
      },
      "text/html": [
       "<div>\n",
       "        \n",
       "        \n",
       "            <div id=\"77131e8c-09d0-4a6e-b0ad-000187c81be7\" class=\"plotly-graph-div\" style=\"height:525px; width:100%;\"></div>\n",
       "            <script type=\"text/javascript\">\n",
       "                require([\"plotly\"], function(Plotly) {\n",
       "                    window.PLOTLYENV=window.PLOTLYENV || {};\n",
       "                    \n",
       "                if (document.getElementById(\"77131e8c-09d0-4a6e-b0ad-000187c81be7\")) {\n",
       "                    Plotly.newPlot(\n",
       "                        '77131e8c-09d0-4a6e-b0ad-000187c81be7',\n",
       "                        [{\"mode\": \"lines\", \"name\": \"lines\", \"type\": \"scatter\", \"x\": [19, 18, 7, 15, 17, 24, 21, 7, 20, 16, 3, 2, 4, 4, 22, 20, 21, 21, 11, 18, 4, 11, 10, 12, 21, 9, 20, 21, 6, 18, 16, 7, 1, 21, 5, 8, 10, 4, 18, 1, 4, 22, 23, 9, 19, 12, 19, 7, 21, 1, 24, 11, 3, 17, 12, 1, 20, 17, 6, 21, 13, 4, 7, 11, 8, 2, 9, 17, 18, 22, 4, 14, 1, 16, 15, 11, 6, 22, 2, 3, 6, 16, 12, 23, 21, 1, 21, 20, 7, 4, 7, 8, 14, 19, 18, 21, 11, 13, 20, 23, 6, 9, 14, 7, 19, 16], \"y\": [25000, 300, 45000, 670, 4543, 11000, 130000, 132, 1200, 1340, 1356, 1200, 11000, 50000, 10543, 140, 15000, 994, 800, 50, 120, 140, 1200, 1987, 987, 4000, 1200, 112, 12000, 4509, 4000, 543, 9875, 12567, 150000, 907, 345, 5000, 75000, 24000, 12000, 175600, 890, 567, 8954, 9056, 5000, 23467, 1000, 10000, 45000, 25000, 300, 45000, 670, 4543, 11000, 130000, 132, 1200, 1340, 1356, 1200, 11000, 50000, 10543, 140, 15000, 994, 800, 50, 120, 140, 1200, 1987, 987, 4000, 1200, 112, 12000, 4509, 4000, 543, 9875, 12567, 150000, 907, 345, 5000, 75000, 24000, 23467, 1000, 10000, 45000, 25000, 300, 45000, 670, 4543, 11000, 130000, 132, 1200, 1340, 1356]}, {\"mode\": \"markers\", \"name\": \"markers\", \"type\": \"scatter\", \"x\": [19, 18, 7, 15, 17, 24, 21, 7, 20, 16, 3, 2, 4, 4, 22, 20, 21, 21, 11, 18, 4, 11, 10, 12, 21, 9, 20, 21, 6, 18, 16, 7, 1, 21, 5, 8, 10, 4, 18, 1, 4, 22, 23, 9, 19, 12, 19, 7, 21, 1, 24, 11, 3, 17, 12, 1, 20, 17, 6, 21, 13, 4, 7, 11, 8, 2, 9, 17, 18, 22, 4, 14, 1, 16, 15, 11, 6, 22, 2, 3, 6, 16, 12, 23, 21, 1, 21, 20, 7, 4, 7, 8, 14, 19, 18, 21, 11, 13, 20, 23, 6, 9, 14, 7, 19, 16], \"y\": [500000, 500000, 500000, 500000, 500000, 500000, 500000, 500000, 500000, 500000, 100000, 100000, 100000, 100000, 100000, 100000, 100000, 100000, 100000, 100000, 25000, 25000, 25000, 25000, 25000, 25000, 25000, 25000, 25000, 25000, 350000, 350000, 350000, 350000, 350000, 350000, 350000, 350000, 350000, 350000, 350000, 225000, 225000, 225000, 225000, 225000, 225000, 225000, 225000, 225000, 225000, 500000, 500000, 500000, 500000, 500000, 500000, 500000, 500000, 500000, 500000, 100000, 100000, 100000, 100000, 100000, 100000, 25000, 25000, 25000, 25000, 25000, 25000, 25000, 25000, 25000, 25000, 350000, 350000, 350000, 350000, 350000, 350000, 350000, 350000, 350000, 350000, 350000, 350000, 350000, 350000, 350000, 350000, 350000, 350000, 225000, 225000, 225000, 225000, 225000, 225000, 225000, 225000, 225000, 225000, 225000]}],\n",
       "                        {\"template\": {\"data\": {\"bar\": [{\"error_x\": {\"color\": \"#2a3f5f\"}, \"error_y\": {\"color\": \"#2a3f5f\"}, \"marker\": {\"line\": {\"color\": \"#E5ECF6\", \"width\": 0.5}}, \"type\": \"bar\"}], \"barpolar\": [{\"marker\": {\"line\": {\"color\": \"#E5ECF6\", \"width\": 0.5}}, \"type\": \"barpolar\"}], \"carpet\": [{\"aaxis\": {\"endlinecolor\": \"#2a3f5f\", \"gridcolor\": \"white\", \"linecolor\": \"white\", \"minorgridcolor\": \"white\", \"startlinecolor\": \"#2a3f5f\"}, \"baxis\": {\"endlinecolor\": \"#2a3f5f\", \"gridcolor\": \"white\", \"linecolor\": \"white\", \"minorgridcolor\": \"white\", \"startlinecolor\": \"#2a3f5f\"}, \"type\": \"carpet\"}], \"choropleth\": [{\"colorbar\": {\"outlinewidth\": 0, \"ticks\": \"\"}, \"type\": \"choropleth\"}], \"contour\": [{\"colorbar\": {\"outlinewidth\": 0, \"ticks\": \"\"}, \"colorscale\": [[0.0, \"#0d0887\"], [0.1111111111111111, \"#46039f\"], [0.2222222222222222, \"#7201a8\"], [0.3333333333333333, \"#9c179e\"], [0.4444444444444444, \"#bd3786\"], [0.5555555555555556, \"#d8576b\"], [0.6666666666666666, \"#ed7953\"], [0.7777777777777778, \"#fb9f3a\"], [0.8888888888888888, \"#fdca26\"], [1.0, \"#f0f921\"]], \"type\": \"contour\"}], \"contourcarpet\": [{\"colorbar\": {\"outlinewidth\": 0, \"ticks\": \"\"}, \"type\": \"contourcarpet\"}], \"heatmap\": [{\"colorbar\": {\"outlinewidth\": 0, \"ticks\": \"\"}, \"colorscale\": [[0.0, \"#0d0887\"], [0.1111111111111111, \"#46039f\"], [0.2222222222222222, \"#7201a8\"], [0.3333333333333333, \"#9c179e\"], [0.4444444444444444, \"#bd3786\"], [0.5555555555555556, \"#d8576b\"], [0.6666666666666666, \"#ed7953\"], [0.7777777777777778, \"#fb9f3a\"], [0.8888888888888888, \"#fdca26\"], [1.0, \"#f0f921\"]], \"type\": \"heatmap\"}], \"heatmapgl\": [{\"colorbar\": {\"outlinewidth\": 0, \"ticks\": \"\"}, \"colorscale\": [[0.0, \"#0d0887\"], [0.1111111111111111, \"#46039f\"], [0.2222222222222222, \"#7201a8\"], [0.3333333333333333, \"#9c179e\"], [0.4444444444444444, \"#bd3786\"], [0.5555555555555556, \"#d8576b\"], [0.6666666666666666, \"#ed7953\"], [0.7777777777777778, \"#fb9f3a\"], [0.8888888888888888, \"#fdca26\"], [1.0, \"#f0f921\"]], \"type\": \"heatmapgl\"}], \"histogram\": [{\"marker\": {\"colorbar\": {\"outlinewidth\": 0, \"ticks\": \"\"}}, \"type\": \"histogram\"}], \"histogram2d\": [{\"colorbar\": {\"outlinewidth\": 0, \"ticks\": \"\"}, \"colorscale\": [[0.0, \"#0d0887\"], [0.1111111111111111, \"#46039f\"], [0.2222222222222222, \"#7201a8\"], [0.3333333333333333, \"#9c179e\"], [0.4444444444444444, \"#bd3786\"], [0.5555555555555556, \"#d8576b\"], [0.6666666666666666, \"#ed7953\"], [0.7777777777777778, \"#fb9f3a\"], [0.8888888888888888, \"#fdca26\"], [1.0, \"#f0f921\"]], \"type\": \"histogram2d\"}], \"histogram2dcontour\": [{\"colorbar\": {\"outlinewidth\": 0, \"ticks\": \"\"}, \"colorscale\": [[0.0, \"#0d0887\"], [0.1111111111111111, \"#46039f\"], [0.2222222222222222, \"#7201a8\"], [0.3333333333333333, \"#9c179e\"], [0.4444444444444444, \"#bd3786\"], [0.5555555555555556, \"#d8576b\"], [0.6666666666666666, \"#ed7953\"], [0.7777777777777778, \"#fb9f3a\"], [0.8888888888888888, \"#fdca26\"], [1.0, \"#f0f921\"]], \"type\": \"histogram2dcontour\"}], \"mesh3d\": [{\"colorbar\": {\"outlinewidth\": 0, \"ticks\": \"\"}, \"type\": \"mesh3d\"}], \"parcoords\": [{\"line\": {\"colorbar\": {\"outlinewidth\": 0, \"ticks\": \"\"}}, \"type\": \"parcoords\"}], \"pie\": [{\"automargin\": true, \"type\": \"pie\"}], \"scatter\": [{\"marker\": {\"colorbar\": {\"outlinewidth\": 0, \"ticks\": \"\"}}, \"type\": \"scatter\"}], \"scatter3d\": [{\"line\": {\"colorbar\": {\"outlinewidth\": 0, \"ticks\": \"\"}}, \"marker\": {\"colorbar\": {\"outlinewidth\": 0, \"ticks\": \"\"}}, \"type\": \"scatter3d\"}], \"scattercarpet\": [{\"marker\": {\"colorbar\": {\"outlinewidth\": 0, \"ticks\": \"\"}}, \"type\": \"scattercarpet\"}], \"scattergeo\": [{\"marker\": {\"colorbar\": {\"outlinewidth\": 0, \"ticks\": \"\"}}, \"type\": \"scattergeo\"}], \"scattergl\": [{\"marker\": {\"colorbar\": {\"outlinewidth\": 0, \"ticks\": \"\"}}, \"type\": \"scattergl\"}], \"scattermapbox\": [{\"marker\": {\"colorbar\": {\"outlinewidth\": 0, \"ticks\": \"\"}}, \"type\": \"scattermapbox\"}], \"scatterpolar\": [{\"marker\": {\"colorbar\": {\"outlinewidth\": 0, \"ticks\": \"\"}}, \"type\": \"scatterpolar\"}], \"scatterpolargl\": [{\"marker\": {\"colorbar\": {\"outlinewidth\": 0, \"ticks\": \"\"}}, \"type\": \"scatterpolargl\"}], \"scatterternary\": [{\"marker\": {\"colorbar\": {\"outlinewidth\": 0, \"ticks\": \"\"}}, \"type\": \"scatterternary\"}], \"surface\": [{\"colorbar\": {\"outlinewidth\": 0, \"ticks\": \"\"}, \"colorscale\": [[0.0, \"#0d0887\"], [0.1111111111111111, \"#46039f\"], [0.2222222222222222, \"#7201a8\"], [0.3333333333333333, \"#9c179e\"], [0.4444444444444444, \"#bd3786\"], [0.5555555555555556, \"#d8576b\"], [0.6666666666666666, \"#ed7953\"], [0.7777777777777778, \"#fb9f3a\"], [0.8888888888888888, \"#fdca26\"], [1.0, \"#f0f921\"]], \"type\": \"surface\"}], \"table\": [{\"cells\": {\"fill\": {\"color\": \"#EBF0F8\"}, \"line\": {\"color\": \"white\"}}, \"header\": {\"fill\": {\"color\": \"#C8D4E3\"}, \"line\": {\"color\": \"white\"}}, \"type\": \"table\"}]}, \"layout\": {\"annotationdefaults\": {\"arrowcolor\": \"#2a3f5f\", \"arrowhead\": 0, \"arrowwidth\": 1}, \"coloraxis\": {\"colorbar\": {\"outlinewidth\": 0, \"ticks\": \"\"}}, \"colorscale\": {\"diverging\": [[0, \"#8e0152\"], [0.1, \"#c51b7d\"], [0.2, \"#de77ae\"], [0.3, \"#f1b6da\"], [0.4, \"#fde0ef\"], [0.5, \"#f7f7f7\"], [0.6, \"#e6f5d0\"], [0.7, \"#b8e186\"], [0.8, \"#7fbc41\"], [0.9, \"#4d9221\"], [1, \"#276419\"]], \"sequential\": [[0.0, \"#0d0887\"], [0.1111111111111111, \"#46039f\"], [0.2222222222222222, \"#7201a8\"], [0.3333333333333333, \"#9c179e\"], [0.4444444444444444, \"#bd3786\"], [0.5555555555555556, \"#d8576b\"], [0.6666666666666666, \"#ed7953\"], [0.7777777777777778, \"#fb9f3a\"], [0.8888888888888888, \"#fdca26\"], [1.0, \"#f0f921\"]], \"sequentialminus\": [[0.0, \"#0d0887\"], [0.1111111111111111, \"#46039f\"], [0.2222222222222222, \"#7201a8\"], [0.3333333333333333, \"#9c179e\"], [0.4444444444444444, \"#bd3786\"], [0.5555555555555556, \"#d8576b\"], [0.6666666666666666, \"#ed7953\"], [0.7777777777777778, \"#fb9f3a\"], [0.8888888888888888, \"#fdca26\"], [1.0, \"#f0f921\"]]}, \"colorway\": [\"#636efa\", \"#EF553B\", \"#00cc96\", \"#ab63fa\", \"#FFA15A\", \"#19d3f3\", \"#FF6692\", \"#B6E880\", \"#FF97FF\", \"#FECB52\"], \"font\": {\"color\": \"#2a3f5f\"}, \"geo\": {\"bgcolor\": \"white\", \"lakecolor\": \"white\", \"landcolor\": \"#E5ECF6\", \"showlakes\": true, \"showland\": true, \"subunitcolor\": \"white\"}, \"hoverlabel\": {\"align\": \"left\"}, \"hovermode\": \"closest\", \"mapbox\": {\"style\": \"light\"}, \"paper_bgcolor\": \"white\", \"plot_bgcolor\": \"#E5ECF6\", \"polar\": {\"angularaxis\": {\"gridcolor\": \"white\", \"linecolor\": \"white\", \"ticks\": \"\"}, \"bgcolor\": \"#E5ECF6\", \"radialaxis\": {\"gridcolor\": \"white\", \"linecolor\": \"white\", \"ticks\": \"\"}}, \"scene\": {\"xaxis\": {\"backgroundcolor\": \"#E5ECF6\", \"gridcolor\": \"white\", \"gridwidth\": 2, \"linecolor\": \"white\", \"showbackground\": true, \"ticks\": \"\", \"zerolinecolor\": \"white\"}, \"yaxis\": {\"backgroundcolor\": \"#E5ECF6\", \"gridcolor\": \"white\", \"gridwidth\": 2, \"linecolor\": \"white\", \"showbackground\": true, \"ticks\": \"\", \"zerolinecolor\": \"white\"}, \"zaxis\": {\"backgroundcolor\": \"#E5ECF6\", \"gridcolor\": \"white\", \"gridwidth\": 2, \"linecolor\": \"white\", \"showbackground\": true, \"ticks\": \"\", \"zerolinecolor\": \"white\"}}, \"shapedefaults\": {\"line\": {\"color\": \"#2a3f5f\"}}, \"ternary\": {\"aaxis\": {\"gridcolor\": \"white\", \"linecolor\": \"white\", \"ticks\": \"\"}, \"baxis\": {\"gridcolor\": \"white\", \"linecolor\": \"white\", \"ticks\": \"\"}, \"bgcolor\": \"#E5ECF6\", \"caxis\": {\"gridcolor\": \"white\", \"linecolor\": \"white\", \"ticks\": \"\"}}, \"title\": {\"x\": 0.05}, \"xaxis\": {\"automargin\": true, \"gridcolor\": \"white\", \"linecolor\": \"white\", \"ticks\": \"\", \"title\": {\"standoff\": 15}, \"zerolinecolor\": \"white\", \"zerolinewidth\": 2}, \"yaxis\": {\"automargin\": true, \"gridcolor\": \"white\", \"linecolor\": \"white\", \"ticks\": \"\", \"title\": {\"standoff\": 15}, \"zerolinecolor\": \"white\", \"zerolinewidth\": 2}}}},\n",
       "                        {\"responsive\": true}\n",
       "                    ).then(function(){\n",
       "                            \n",
       "var gd = document.getElementById('77131e8c-09d0-4a6e-b0ad-000187c81be7');\n",
       "var x = new MutationObserver(function (mutations, observer) {{\n",
       "        var display = window.getComputedStyle(gd).display;\n",
       "        if (!display || display === 'none') {{\n",
       "            console.log([gd, 'removed!']);\n",
       "            Plotly.purge(gd);\n",
       "            observer.disconnect();\n",
       "        }}\n",
       "}});\n",
       "\n",
       "// Listen for the removal of the full notebook cells\n",
       "var notebookContainer = gd.closest('#notebook-container');\n",
       "if (notebookContainer) {{\n",
       "    x.observe(notebookContainer, {childList: true});\n",
       "}}\n",
       "\n",
       "// Listen for the clearing of the current output cell\n",
       "var outputEl = gd.closest('.output');\n",
       "if (outputEl) {{\n",
       "    x.observe(outputEl, {childList: true});\n",
       "}}\n",
       "\n",
       "                        })\n",
       "                };\n",
       "                });\n",
       "            </script>\n",
       "        </div>"
      ]
     },
     "metadata": {},
     "output_type": "display_data"
    }
   ],
   "source": [
    "# P - Lines\n",
    "\n",
    "import plotly.graph_objects as go\n",
    "\n",
    "fig = go.Figure()\n",
    "fig.add_trace(go.Scatter(x=DB['Time'],y=DB['Amount'], mode='lines',name='lines'))\n",
    "fig.add_trace(go.Scatter(x=DB['Time'],y=DB['Limit'], mode='markers',name='markers'))\n",
    "\n",
    "fig.show()"
   ]
  },
  {
   "cell_type": "code",
   "execution_count": 48,
   "metadata": {},
   "outputs": [
    {
     "data": {
      "application/vnd.plotly.v1+json": {
       "config": {
        "plotlyServerURL": "https://plot.ly"
       },
       "data": [
        {
         "alignmentgroup": "True",
         "bingroup": "x",
         "hovertemplate": "Transaction_Type=POS<br>Amount=%{x}<br>count of Date=%{y}<extra></extra>",
         "legendgroup": "POS",
         "marker": {
          "color": "#636efa"
         },
         "name": "POS",
         "offsetgroup": "POS",
         "orientation": "v",
         "showlegend": true,
         "type": "histogram",
         "x": [
          25000,
          300,
          45000,
          670,
          4543,
          11000,
          132,
          1200,
          1340,
          1200,
          11000,
          10543,
          140,
          994,
          50,
          120,
          140,
          1987,
          4000,
          1200,
          112,
          4509,
          4000,
          9875,
          12567,
          907,
          345,
          75000,
          24000,
          12000,
          175600,
          890,
          567,
          8954,
          9056,
          23467,
          1000,
          10000,
          25000,
          300,
          45000,
          670,
          11000,
          130000,
          132,
          1200,
          1340,
          1200,
          10543,
          140,
          15000,
          800,
          50,
          120,
          140,
          1987,
          987,
          4000,
          112,
          4509,
          543,
          9875,
          150000,
          5000,
          75000,
          23467,
          1000,
          25000,
          45000,
          670,
          4543,
          130000,
          1200
         ],
         "xaxis": "x",
         "y": [
          26,
          20,
          15,
          17,
          7,
          21,
          4,
          31,
          27,
          31,
          15,
          15,
          27,
          1,
          25,
          11,
          2,
          4,
          17,
          8,
          13,
          30,
          21,
          29,
          16,
          12,
          5,
          21,
          4,
          9,
          19,
          14,
          6,
          2,
          20,
          19,
          3,
          14,
          21,
          21,
          16,
          14,
          19,
          6,
          7,
          19,
          1,
          4,
          30,
          31,
          16,
          13,
          1,
          15,
          10,
          6,
          30,
          29,
          17,
          14,
          12,
          9,
          8,
          16,
          25,
          20,
          27,
          4,
          17,
          20,
          17,
          20,
          25
         ],
         "yaxis": "y"
        },
        {
         "alignmentgroup": "True",
         "customdata": [
          [
           500000,
           2016,
           "Jun",
           26,
           19,
           "Bangalore, India",
           "Bangalore, India",
           "POS",
           25000,
           "Normal"
          ],
          [
           500000,
           2016,
           "Oct",
           20,
           18,
           "Bangalore, India",
           "Bangalore, India",
           "POS",
           300,
           "Normal"
          ],
          [
           500000,
           2016,
           "Jul",
           15,
           7,
           "Bangalore, India",
           "London, UK",
           "POS",
           45000,
           "Normal"
          ],
          [
           500000,
           2016,
           "Dec",
           17,
           15,
           "Bangalore, India",
           "London, UK",
           "POS",
           670,
           "Normal"
          ],
          [
           500000,
           2016,
           "Sep",
           7,
           17,
           "Bangalore, India",
           "Bangalore, India",
           "POS",
           4543,
           "Normal"
          ],
          [
           500000,
           2016,
           "Nov",
           21,
           24,
           "Bangalore, India",
           "Bangalore, India",
           "POS",
           11000,
           "Normal"
          ],
          [
           500000,
           2016,
           "May",
           4,
           7,
           "Bangalore, India",
           "Rabat, Morocco",
           "POS",
           132,
           "Fraud"
          ],
          [
           500000,
           2016,
           "Sep",
           31,
           20,
           "Bangalore, India",
           "Bangalore, India",
           "POS",
           1200,
           "Normal"
          ],
          [
           500000,
           2016,
           "Dec",
           27,
           16,
           "Bangalore, India",
           "Paris,France",
           "POS",
           1340,
           "Normal"
          ],
          [
           100000,
           2016,
           "Jan",
           31,
           2,
           "Hyderabad, India",
           "Hyderabad, India",
           "POS",
           1200,
           "Normal"
          ],
          [
           100000,
           2016,
           "Apr",
           15,
           4,
           "Hyderabad, India",
           "Mumbai, India",
           "POS",
           11000,
           "Normal"
          ],
          [
           100000,
           2016,
           "Sep",
           15,
           22,
           "Hyderabad, India",
           "Hyderabad,India",
           "POS",
           10543,
           "Normal"
          ],
          [
           100000,
           2016,
           "Jun",
           27,
           20,
           "Hyderabad, India",
           "Hyderabad,India",
           "POS",
           140,
           "Normal"
          ],
          [
           100000,
           2016,
           "Feb",
           1,
           21,
           "Hyderabad, India",
           "Mumbai, India",
           "POS",
           994,
           "Normal"
          ],
          [
           100000,
           2016,
           "Sep",
           25,
           18,
           "Hyderabad, India",
           "Hyderabad,India",
           "POS",
           50,
           "Normal"
          ],
          [
           25000,
           2016,
           "Sep",
           11,
           4,
           "Mumbai, India",
           "Mumbai, India",
           "POS",
           120,
           "Normal"
          ],
          [
           25000,
           2016,
           "Mar",
           2,
           11,
           "Mumbai, India",
           "Mumbai, India",
           "POS",
           140,
           "Fraud"
          ],
          [
           25000,
           2016,
           "Oct",
           4,
           12,
           "Mumbai, India",
           "Mumbai, India",
           "POS",
           1987,
           "Normal"
          ],
          [
           25000,
           2016,
           "Apr",
           17,
           9,
           "Mumbai, India",
           "Mumbai, India",
           "POS",
           4000,
           "Normal"
          ],
          [
           25000,
           2016,
           "May",
           8,
           20,
           "Mumbai, India",
           "Mumbai, India",
           "POS",
           1200,
           "Normal"
          ],
          [
           25000,
           2016,
           "Dec",
           13,
           21,
           "Mumbai, India",
           "Mumbai, India",
           "POS",
           112,
           "Normal"
          ],
          [
           25000,
           2016,
           "Mar",
           30,
           18,
           "Mumbai, India",
           "Mumbai, India",
           "POS",
           4509,
           "Normal"
          ],
          [
           350000,
           2016,
           "May",
           21,
           16,
           "Mumbai, India",
           "Paris,France",
           "POS",
           4000,
           "Normal"
          ],
          [
           350000,
           2016,
           "Jul",
           29,
           1,
           "Mumbai, India",
           "London, UK",
           "POS",
           9875,
           "Normal"
          ],
          [
           350000,
           2016,
           "Nov",
           16,
           21,
           "Mumbai, India",
           "Budapest, Hungary",
           "POS",
           12567,
           "Normal"
          ],
          [
           350000,
           2016,
           "Feb",
           12,
           8,
           "Mumbai, India",
           "Budapest, Hungary",
           "POS",
           907,
           "Normal"
          ],
          [
           350000,
           2016,
           "Jun",
           5,
           10,
           "Mumbai, India",
           "Mumbai, India",
           "POS",
           345,
           "Normal"
          ],
          [
           350000,
           2016,
           "Oct",
           21,
           18,
           "Mumbai, India",
           "Bangalore, India",
           "POS",
           75000,
           "Fraud"
          ],
          [
           350000,
           2016,
           "May",
           4,
           1,
           "Mumbai, India",
           "Mumbai, India",
           "POS",
           24000,
           "Normal"
          ],
          [
           350000,
           2016,
           "Jul",
           9,
           4,
           "Mumbai, India",
           "Mumbai, India",
           "POS",
           12000,
           "Normal"
          ],
          [
           225000,
           2016,
           "Feb",
           19,
           22,
           "Delhi, India",
           "Delhi, India",
           "POS",
           175600,
           "Fraud"
          ],
          [
           225000,
           2016,
           "Apr",
           14,
           23,
           "Delhi, India",
           "Delhi, India",
           "POS",
           890,
           "Normal"
          ],
          [
           225000,
           2016,
           "May",
           6,
           9,
           "Delhi, India",
           "Paris,France",
           "POS",
           567,
           "Normal"
          ],
          [
           225000,
           2016,
           "Sep",
           2,
           19,
           "Delhi, India",
           "Delhi, India",
           "POS",
           8954,
           "Normal"
          ],
          [
           225000,
           2016,
           "Oct",
           20,
           12,
           "Delhi, India",
           "NewYork, USA",
           "POS",
           9056,
           "Normal"
          ],
          [
           225000,
           2016,
           "Apr",
           19,
           7,
           "Delhi, India",
           "Delhi, India",
           "POS",
           23467,
           "Normal"
          ],
          [
           225000,
           2016,
           "Jul",
           3,
           21,
           "Delhi, India",
           "NewYork, USA",
           "POS",
           1000,
           "Fraud"
          ],
          [
           225000,
           2016,
           "Mar",
           14,
           1,
           "Delhi, India",
           "Delhi, India",
           "POS",
           10000,
           "Normal"
          ],
          [
           500000,
           2016,
           "Apr",
           21,
           11,
           "Ahmedabad, India",
           "Paris, France",
           "POS",
           25000,
           "Normal"
          ],
          [
           500000,
           2016,
           "Dec",
           21,
           3,
           "Ahmedabad, India",
           "Ahmedabad, India",
           "POS",
           300,
           "Normal"
          ],
          [
           500000,
           2016,
           "Jun",
           16,
           17,
           "Ahmedabad, India",
           "Ahmedabad, India",
           "POS",
           45000,
           "Normal"
          ],
          [
           500000,
           2016,
           "Feb",
           14,
           12,
           "Bangalore, India",
           "Bangalore, India",
           "POS",
           670,
           "Fraud"
          ],
          [
           500000,
           2016,
           "Apr",
           19,
           20,
           "Ahmedabad, India",
           "Paris, France",
           "POS",
           11000,
           "Normal"
          ],
          [
           500000,
           2016,
           "Jul",
           6,
           17,
           "Ahmedabad, India",
           "Paris, France",
           "POS",
           130000,
           "Normal"
          ],
          [
           500000,
           2016,
           "Oct",
           7,
           6,
           "Ahmedabad, India",
           "Ahmedabad, India",
           "POS",
           132,
           "Normal"
          ],
          [
           500000,
           2016,
           "Oct",
           19,
           21,
           "Bangalore, India",
           "Paris,France",
           "POS",
           1200,
           "Fraud"
          ],
          [
           500000,
           2016,
           "Sep",
           1,
           13,
           "Ahmedabad, India",
           "Paris,France",
           "POS",
           1340,
           "Normal"
          ],
          [
           100000,
           2016,
           "Apr",
           4,
           7,
           "Hyderabad, India",
           "Hyderabad, India",
           "POS",
           1200,
           "Normal"
          ],
          [
           100000,
           2016,
           "Jun",
           30,
           2,
           "Hyderabad, India",
           "Moscow, Russia",
           "POS",
           10543,
           "Fraud"
          ],
          [
           100000,
           2016,
           "Apr",
           31,
           9,
           "Hyderabad, India",
           "Hyderabad, ndia",
           "POS",
           140,
           "Normal"
          ],
          [
           25000,
           2016,
           "Oct",
           16,
           17,
           "Pune, India",
           "Pune, India",
           "POS",
           15000,
           "Normal"
          ],
          [
           25000,
           2016,
           "Mar",
           13,
           22,
           "Pune, India",
           "Mumbai, India",
           "POS",
           800,
           "Normal"
          ],
          [
           25000,
           2016,
           "Dec",
           1,
           4,
           "Pune, India",
           "Delhi, India",
           "POS",
           50,
           "Normal"
          ],
          [
           25000,
           2016,
           "Feb",
           15,
           14,
           "Mumbai, India",
           "Bangalore, India",
           "POS",
           120,
           "Fraud"
          ],
          [
           25000,
           2016,
           "Feb",
           10,
           1,
           "Mumbai, India",
           "Mumbai, India",
           "POS",
           140,
           "Fraud"
          ],
          [
           25000,
           2016,
           "Sep",
           6,
           15,
           "Pune, India",
           "Delhi, India",
           "POS",
           1987,
           "Normal"
          ],
          [
           25000,
           2016,
           "Jun",
           30,
           11,
           "Pune, India",
           "Pune, India",
           "POS",
           987,
           "Normal"
          ],
          [
           25000,
           2016,
           "Jan",
           29,
           6,
           "Pune, India",
           "Mumbai, India",
           "POS",
           4000,
           "Normal"
          ],
          [
           350000,
           2016,
           "Mar",
           17,
           2,
           "Mumbai, India",
           "mumbai, India",
           "POS",
           112,
           "Fraud"
          ],
          [
           350000,
           2016,
           "Sep",
           14,
           6,
           "Chennai, India",
           "Mumbai, India",
           "POS",
           4509,
           "Normal"
          ],
          [
           350000,
           2016,
           "Nov",
           12,
           12,
           "Chennai, India",
           "Mumbai, India",
           "POS",
           543,
           "Fraud"
          ],
          [
           350000,
           2016,
           "May",
           9,
           23,
           "Mumbai, India",
           "Budapest, Hungary",
           "POS",
           9875,
           "Fraud"
          ],
          [
           350000,
           2016,
           "Nov",
           8,
           1,
           "Chennai, India",
           "Delhi, India",
           "POS",
           150000,
           "Normal"
          ],
          [
           350000,
           2016,
           "Feb",
           16,
           7,
           "Chennai, India",
           "Mumbai, India",
           "POS",
           5000,
           "Normal"
          ],
          [
           350000,
           2016,
           "Jul",
           25,
           4,
           "Mumbai, India",
           "Mumbai, India",
           "POS",
           75000,
           "Fraud"
          ],
          [
           350000,
           2016,
           "May",
           20,
           8,
           "Chennai, India",
           "Mumbai, India",
           "POS",
           23467,
           "Normal"
          ],
          [
           350000,
           2016,
           "Jul",
           27,
           14,
           "Mumbai, India",
           "Mumbai, India",
           "POS",
           1000,
           "Fraud"
          ],
          [
           225000,
           2016,
           "Jul",
           4,
           21,
           "Delhi, India",
           "Delhi, India",
           "POS",
           25000,
           "Normal"
          ],
          [
           225000,
           2016,
           "Dec",
           17,
           13,
           "Delhi, India",
           "Bangalore, India",
           "POS",
           45000,
           "Normal"
          ],
          [
           225000,
           2016,
           "Jan",
           20,
           20,
           "Delhi, India",
           "Bangalore, India",
           "POS",
           670,
           "Normal"
          ],
          [
           225000,
           2016,
           "Jan",
           17,
           23,
           "Delhi, India",
           "Delhi, India",
           "POS",
           4543,
           "Normal"
          ],
          [
           225000,
           2016,
           "May",
           20,
           9,
           "Delhi, India",
           "Delhi, India",
           "POS",
           130000,
           "Normal"
          ],
          [
           225000,
           2016,
           "Aug",
           25,
           7,
           "Delhi, India",
           "Delhi, India",
           "POS",
           1200,
           "Normal"
          ]
         ],
         "hovertemplate": "Transaction_Type=%{customdata[7]}<br>Amount=%{customdata[8]}<br>Limit=%{customdata[0]}<br>Year=%{customdata[1]}<br>Month=%{customdata[2]}<br>Date=%{customdata[3]}<br>Time=%{customdata[4]}<br>Origin=%{customdata[5]}<br>Transaction=%{customdata[6]}<br>Type=%{customdata[9]}<extra></extra>",
         "legendgroup": "POS",
         "marker": {
          "color": "#636efa"
         },
         "name": "POS",
         "offsetgroup": "POS",
         "scalegroup": "x",
         "showlegend": false,
         "type": "violin",
         "x": [
          25000,
          300,
          45000,
          670,
          4543,
          11000,
          132,
          1200,
          1340,
          1200,
          11000,
          10543,
          140,
          994,
          50,
          120,
          140,
          1987,
          4000,
          1200,
          112,
          4509,
          4000,
          9875,
          12567,
          907,
          345,
          75000,
          24000,
          12000,
          175600,
          890,
          567,
          8954,
          9056,
          23467,
          1000,
          10000,
          25000,
          300,
          45000,
          670,
          11000,
          130000,
          132,
          1200,
          1340,
          1200,
          10543,
          140,
          15000,
          800,
          50,
          120,
          140,
          1987,
          987,
          4000,
          112,
          4509,
          543,
          9875,
          150000,
          5000,
          75000,
          23467,
          1000,
          25000,
          45000,
          670,
          4543,
          130000,
          1200
         ],
         "xaxis": "x2",
         "yaxis": "y2"
        },
        {
         "alignmentgroup": "True",
         "bingroup": "x",
         "hovertemplate": "Transaction_Type=Internet<br>Amount=%{x}<br>count of Date=%{y}<extra></extra>",
         "legendgroup": "Internet",
         "marker": {
          "color": "#EF553B"
         },
         "name": "Internet",
         "offsetgroup": "Internet",
         "orientation": "v",
         "showlegend": true,
         "type": "histogram",
         "x": [
          130000,
          1356,
          50000,
          15000,
          800,
          1200,
          987,
          12000,
          543,
          150000,
          5000,
          5000,
          45000,
          4543,
          1356,
          11000,
          50000,
          994,
          1200,
          1200,
          12000,
          4000,
          12567,
          907,
          345,
          24000,
          10000,
          45000,
          300,
          11000,
          132,
          1340,
          1356
         ],
         "xaxis": "x",
         "y": [
          24,
          7,
          13,
          20,
          19,
          23,
          7,
          11,
          26,
          16,
          26,
          25,
          16,
          19,
          14,
          3,
          8,
          10,
          22,
          19,
          5,
          10,
          9,
          11,
          20,
          2,
          1,
          10,
          5,
          1,
          26,
          7,
          15
         ],
         "yaxis": "y"
        },
        {
         "alignmentgroup": "True",
         "customdata": [
          [
           500000,
           2016,
           "May",
           24,
           21,
           "Bangalore, India",
           "Moscow, Russia",
           "Internet",
           130000,
           "Fraud"
          ],
          [
           100000,
           2016,
           "Jun",
           7,
           3,
           "Hyderabad, India",
           "Hyderabad, India",
           "Internet",
           1356,
           "Normal"
          ],
          [
           100000,
           2016,
           "Dec",
           13,
           4,
           "Hyderabad, India",
           "Hyderabad,India",
           "Internet",
           50000,
           "Fraud"
          ],
          [
           100000,
           2016,
           "Jun",
           20,
           21,
           "Hyderabad, India",
           "Budapest, Hungary",
           "Internet",
           15000,
           "Fraud"
          ],
          [
           100000,
           2016,
           "Jan",
           19,
           11,
           "Hyderabad, India",
           "Hyderabad,India",
           "Internet",
           800,
           "Normal"
          ],
          [
           25000,
           2016,
           "Oct",
           23,
           10,
           "Mumbai, India",
           "Mumbai, India",
           "Internet",
           1200,
           "Normal"
          ],
          [
           25000,
           2016,
           "May",
           7,
           21,
           "Mumbai, India",
           "Pune, India",
           "Internet",
           987,
           "Fraud"
          ],
          [
           25000,
           2016,
           "Nov",
           11,
           6,
           "Mumbai, India",
           "Budapest, Hungary",
           "Internet",
           12000,
           "Fraud"
          ],
          [
           350000,
           2016,
           "Mar",
           26,
           7,
           "Mumbai, India",
           "mumbai, India",
           "Internet",
           543,
           "Normal"
          ],
          [
           350000,
           2016,
           "Oct",
           16,
           5,
           "Mumbai, India",
           "Budapest, Hungary",
           "Internet",
           150000,
           "Fraud"
          ],
          [
           350000,
           2016,
           "Feb",
           26,
           4,
           "Mumbai, India",
           "Nicosia, Cyprus",
           "Internet",
           5000,
           "Fraud"
          ],
          [
           225000,
           2016,
           "Oct",
           25,
           19,
           "Delhi, India",
           "Nicosia, Cyprus",
           "Internet",
           5000,
           "Fraud"
          ],
          [
           225000,
           2016,
           "Dec",
           16,
           24,
           "Delhi, India",
           "Nicosia, Cyprus",
           "Internet",
           45000,
           "Fraud"
          ],
          [
           500000,
           2016,
           "Oct",
           19,
           1,
           "Ahmedabad, India",
           "Ahmedabad, India",
           "Internet",
           4543,
           "Fraud"
          ],
          [
           100000,
           2016,
           "Nov",
           14,
           4,
           "Hyderabad, India",
           "Hyderabad, India",
           "Internet",
           1356,
           "Normal"
          ],
          [
           100000,
           2016,
           "Aug",
           3,
           11,
           "Hyderabad, India",
           "Hyderabad, India",
           "Internet",
           11000,
           "Normal"
          ],
          [
           100000,
           2016,
           "Mar",
           8,
           8,
           "Hyderabad, India",
           "Hyderabad, India",
           "Internet",
           50000,
           "Fraud"
          ],
          [
           25000,
           2016,
           "Aug",
           10,
           18,
           "Pune, India",
           "Mumbai, India",
           "Internet",
           994,
           "Normal"
          ],
          [
           25000,
           2016,
           "Mar",
           22,
           16,
           "Pune, India",
           "Pune, India",
           "Internet",
           1200,
           "Fraud"
          ],
          [
           350000,
           2016,
           "Oct",
           19,
           22,
           "Chennai, India",
           "Bangalore, India",
           "Internet",
           1200,
           "Normal"
          ],
          [
           350000,
           2016,
           "Feb",
           5,
           3,
           "Mumbai, India",
           "Mumbai, India",
           "Internet",
           12000,
           "Fraud"
          ],
          [
           350000,
           2016,
           "May",
           10,
           16,
           "Chennai, India",
           "Delhi, India",
           "Internet",
           4000,
           "Normal"
          ],
          [
           350000,
           2016,
           "Aug",
           9,
           21,
           "Mumbai, India",
           "mumbai, India",
           "Internet",
           12567,
           "Fraud"
          ],
          [
           350000,
           2016,
           "Dec",
           11,
           21,
           "Mumbai, India",
           "Budapest, Hungary",
           "Internet",
           907,
           "Fraud"
          ],
          [
           350000,
           2016,
           "Oct",
           20,
           20,
           "Chennai, India",
           "Mumbai, India",
           "Internet",
           345,
           "Normal"
          ],
          [
           350000,
           2016,
           "Jun",
           2,
           7,
           "Chennai, India",
           "Mumbai, India",
           "Internet",
           24000,
           "Normal"
          ],
          [
           350000,
           2016,
           "Jul",
           1,
           19,
           "Mumbai, India",
           "Mumbai, India",
           "Internet",
           10000,
           "Normal"
          ],
          [
           350000,
           2016,
           "Mar",
           10,
           18,
           "Mumbai, India",
           "mumbai, India",
           "Internet",
           45000,
           "Fraud"
          ],
          [
           225000,
           2016,
           "Oct",
           5,
           11,
           "Delhi, India",
           "Delhi, India",
           "Internet",
           300,
           "Fraud"
          ],
          [
           225000,
           2016,
           "Jun",
           1,
           6,
           "Delhi, India",
           "Delhi, India",
           "Internet",
           11000,
           "Fraud"
          ],
          [
           225000,
           2016,
           "Feb",
           26,
           14,
           "Delhi, India",
           "Delhi, India",
           "Internet",
           132,
           "Fraud"
          ],
          [
           225000,
           2016,
           "May",
           7,
           19,
           "Delhi, India",
           "Bangalore, India",
           "Internet",
           1340,
           "Normal"
          ],
          [
           225000,
           2016,
           "Oct",
           15,
           16,
           "Delhi, India",
           "Delhi, India",
           "Internet",
           1356,
           "Normal"
          ]
         ],
         "hovertemplate": "Transaction_Type=%{customdata[7]}<br>Amount=%{customdata[8]}<br>Limit=%{customdata[0]}<br>Year=%{customdata[1]}<br>Month=%{customdata[2]}<br>Date=%{customdata[3]}<br>Time=%{customdata[4]}<br>Origin=%{customdata[5]}<br>Transaction=%{customdata[6]}<br>Type=%{customdata[9]}<extra></extra>",
         "legendgroup": "Internet",
         "marker": {
          "color": "#EF553B"
         },
         "name": "Internet",
         "offsetgroup": "Internet",
         "scalegroup": "x",
         "showlegend": false,
         "type": "violin",
         "x": [
          130000,
          1356,
          50000,
          15000,
          800,
          1200,
          987,
          12000,
          543,
          150000,
          5000,
          5000,
          45000,
          4543,
          1356,
          11000,
          50000,
          994,
          1200,
          1200,
          12000,
          4000,
          12567,
          907,
          345,
          24000,
          10000,
          45000,
          300,
          11000,
          132,
          1340,
          1356
         ],
         "xaxis": "x2",
         "yaxis": "y2"
        }
       ],
       "layout": {
        "barmode": "relative",
        "legend": {
         "title": {
          "text": "Transaction_Type"
         },
         "tracegroupgap": 0
        },
        "margin": {
         "t": 60
        },
        "template": {
         "data": {
          "bar": [
           {
            "error_x": {
             "color": "#2a3f5f"
            },
            "error_y": {
             "color": "#2a3f5f"
            },
            "marker": {
             "line": {
              "color": "#E5ECF6",
              "width": 0.5
             }
            },
            "type": "bar"
           }
          ],
          "barpolar": [
           {
            "marker": {
             "line": {
              "color": "#E5ECF6",
              "width": 0.5
             }
            },
            "type": "barpolar"
           }
          ],
          "carpet": [
           {
            "aaxis": {
             "endlinecolor": "#2a3f5f",
             "gridcolor": "white",
             "linecolor": "white",
             "minorgridcolor": "white",
             "startlinecolor": "#2a3f5f"
            },
            "baxis": {
             "endlinecolor": "#2a3f5f",
             "gridcolor": "white",
             "linecolor": "white",
             "minorgridcolor": "white",
             "startlinecolor": "#2a3f5f"
            },
            "type": "carpet"
           }
          ],
          "choropleth": [
           {
            "colorbar": {
             "outlinewidth": 0,
             "ticks": ""
            },
            "type": "choropleth"
           }
          ],
          "contour": [
           {
            "colorbar": {
             "outlinewidth": 0,
             "ticks": ""
            },
            "colorscale": [
             [
              0,
              "#0d0887"
             ],
             [
              0.1111111111111111,
              "#46039f"
             ],
             [
              0.2222222222222222,
              "#7201a8"
             ],
             [
              0.3333333333333333,
              "#9c179e"
             ],
             [
              0.4444444444444444,
              "#bd3786"
             ],
             [
              0.5555555555555556,
              "#d8576b"
             ],
             [
              0.6666666666666666,
              "#ed7953"
             ],
             [
              0.7777777777777778,
              "#fb9f3a"
             ],
             [
              0.8888888888888888,
              "#fdca26"
             ],
             [
              1,
              "#f0f921"
             ]
            ],
            "type": "contour"
           }
          ],
          "contourcarpet": [
           {
            "colorbar": {
             "outlinewidth": 0,
             "ticks": ""
            },
            "type": "contourcarpet"
           }
          ],
          "heatmap": [
           {
            "colorbar": {
             "outlinewidth": 0,
             "ticks": ""
            },
            "colorscale": [
             [
              0,
              "#0d0887"
             ],
             [
              0.1111111111111111,
              "#46039f"
             ],
             [
              0.2222222222222222,
              "#7201a8"
             ],
             [
              0.3333333333333333,
              "#9c179e"
             ],
             [
              0.4444444444444444,
              "#bd3786"
             ],
             [
              0.5555555555555556,
              "#d8576b"
             ],
             [
              0.6666666666666666,
              "#ed7953"
             ],
             [
              0.7777777777777778,
              "#fb9f3a"
             ],
             [
              0.8888888888888888,
              "#fdca26"
             ],
             [
              1,
              "#f0f921"
             ]
            ],
            "type": "heatmap"
           }
          ],
          "heatmapgl": [
           {
            "colorbar": {
             "outlinewidth": 0,
             "ticks": ""
            },
            "colorscale": [
             [
              0,
              "#0d0887"
             ],
             [
              0.1111111111111111,
              "#46039f"
             ],
             [
              0.2222222222222222,
              "#7201a8"
             ],
             [
              0.3333333333333333,
              "#9c179e"
             ],
             [
              0.4444444444444444,
              "#bd3786"
             ],
             [
              0.5555555555555556,
              "#d8576b"
             ],
             [
              0.6666666666666666,
              "#ed7953"
             ],
             [
              0.7777777777777778,
              "#fb9f3a"
             ],
             [
              0.8888888888888888,
              "#fdca26"
             ],
             [
              1,
              "#f0f921"
             ]
            ],
            "type": "heatmapgl"
           }
          ],
          "histogram": [
           {
            "marker": {
             "colorbar": {
              "outlinewidth": 0,
              "ticks": ""
             }
            },
            "type": "histogram"
           }
          ],
          "histogram2d": [
           {
            "colorbar": {
             "outlinewidth": 0,
             "ticks": ""
            },
            "colorscale": [
             [
              0,
              "#0d0887"
             ],
             [
              0.1111111111111111,
              "#46039f"
             ],
             [
              0.2222222222222222,
              "#7201a8"
             ],
             [
              0.3333333333333333,
              "#9c179e"
             ],
             [
              0.4444444444444444,
              "#bd3786"
             ],
             [
              0.5555555555555556,
              "#d8576b"
             ],
             [
              0.6666666666666666,
              "#ed7953"
             ],
             [
              0.7777777777777778,
              "#fb9f3a"
             ],
             [
              0.8888888888888888,
              "#fdca26"
             ],
             [
              1,
              "#f0f921"
             ]
            ],
            "type": "histogram2d"
           }
          ],
          "histogram2dcontour": [
           {
            "colorbar": {
             "outlinewidth": 0,
             "ticks": ""
            },
            "colorscale": [
             [
              0,
              "#0d0887"
             ],
             [
              0.1111111111111111,
              "#46039f"
             ],
             [
              0.2222222222222222,
              "#7201a8"
             ],
             [
              0.3333333333333333,
              "#9c179e"
             ],
             [
              0.4444444444444444,
              "#bd3786"
             ],
             [
              0.5555555555555556,
              "#d8576b"
             ],
             [
              0.6666666666666666,
              "#ed7953"
             ],
             [
              0.7777777777777778,
              "#fb9f3a"
             ],
             [
              0.8888888888888888,
              "#fdca26"
             ],
             [
              1,
              "#f0f921"
             ]
            ],
            "type": "histogram2dcontour"
           }
          ],
          "mesh3d": [
           {
            "colorbar": {
             "outlinewidth": 0,
             "ticks": ""
            },
            "type": "mesh3d"
           }
          ],
          "parcoords": [
           {
            "line": {
             "colorbar": {
              "outlinewidth": 0,
              "ticks": ""
             }
            },
            "type": "parcoords"
           }
          ],
          "pie": [
           {
            "automargin": true,
            "type": "pie"
           }
          ],
          "scatter": [
           {
            "marker": {
             "colorbar": {
              "outlinewidth": 0,
              "ticks": ""
             }
            },
            "type": "scatter"
           }
          ],
          "scatter3d": [
           {
            "line": {
             "colorbar": {
              "outlinewidth": 0,
              "ticks": ""
             }
            },
            "marker": {
             "colorbar": {
              "outlinewidth": 0,
              "ticks": ""
             }
            },
            "type": "scatter3d"
           }
          ],
          "scattercarpet": [
           {
            "marker": {
             "colorbar": {
              "outlinewidth": 0,
              "ticks": ""
             }
            },
            "type": "scattercarpet"
           }
          ],
          "scattergeo": [
           {
            "marker": {
             "colorbar": {
              "outlinewidth": 0,
              "ticks": ""
             }
            },
            "type": "scattergeo"
           }
          ],
          "scattergl": [
           {
            "marker": {
             "colorbar": {
              "outlinewidth": 0,
              "ticks": ""
             }
            },
            "type": "scattergl"
           }
          ],
          "scattermapbox": [
           {
            "marker": {
             "colorbar": {
              "outlinewidth": 0,
              "ticks": ""
             }
            },
            "type": "scattermapbox"
           }
          ],
          "scatterpolar": [
           {
            "marker": {
             "colorbar": {
              "outlinewidth": 0,
              "ticks": ""
             }
            },
            "type": "scatterpolar"
           }
          ],
          "scatterpolargl": [
           {
            "marker": {
             "colorbar": {
              "outlinewidth": 0,
              "ticks": ""
             }
            },
            "type": "scatterpolargl"
           }
          ],
          "scatterternary": [
           {
            "marker": {
             "colorbar": {
              "outlinewidth": 0,
              "ticks": ""
             }
            },
            "type": "scatterternary"
           }
          ],
          "surface": [
           {
            "colorbar": {
             "outlinewidth": 0,
             "ticks": ""
            },
            "colorscale": [
             [
              0,
              "#0d0887"
             ],
             [
              0.1111111111111111,
              "#46039f"
             ],
             [
              0.2222222222222222,
              "#7201a8"
             ],
             [
              0.3333333333333333,
              "#9c179e"
             ],
             [
              0.4444444444444444,
              "#bd3786"
             ],
             [
              0.5555555555555556,
              "#d8576b"
             ],
             [
              0.6666666666666666,
              "#ed7953"
             ],
             [
              0.7777777777777778,
              "#fb9f3a"
             ],
             [
              0.8888888888888888,
              "#fdca26"
             ],
             [
              1,
              "#f0f921"
             ]
            ],
            "type": "surface"
           }
          ],
          "table": [
           {
            "cells": {
             "fill": {
              "color": "#EBF0F8"
             },
             "line": {
              "color": "white"
             }
            },
            "header": {
             "fill": {
              "color": "#C8D4E3"
             },
             "line": {
              "color": "white"
             }
            },
            "type": "table"
           }
          ]
         },
         "layout": {
          "annotationdefaults": {
           "arrowcolor": "#2a3f5f",
           "arrowhead": 0,
           "arrowwidth": 1
          },
          "coloraxis": {
           "colorbar": {
            "outlinewidth": 0,
            "ticks": ""
           }
          },
          "colorscale": {
           "diverging": [
            [
             0,
             "#8e0152"
            ],
            [
             0.1,
             "#c51b7d"
            ],
            [
             0.2,
             "#de77ae"
            ],
            [
             0.3,
             "#f1b6da"
            ],
            [
             0.4,
             "#fde0ef"
            ],
            [
             0.5,
             "#f7f7f7"
            ],
            [
             0.6,
             "#e6f5d0"
            ],
            [
             0.7,
             "#b8e186"
            ],
            [
             0.8,
             "#7fbc41"
            ],
            [
             0.9,
             "#4d9221"
            ],
            [
             1,
             "#276419"
            ]
           ],
           "sequential": [
            [
             0,
             "#0d0887"
            ],
            [
             0.1111111111111111,
             "#46039f"
            ],
            [
             0.2222222222222222,
             "#7201a8"
            ],
            [
             0.3333333333333333,
             "#9c179e"
            ],
            [
             0.4444444444444444,
             "#bd3786"
            ],
            [
             0.5555555555555556,
             "#d8576b"
            ],
            [
             0.6666666666666666,
             "#ed7953"
            ],
            [
             0.7777777777777778,
             "#fb9f3a"
            ],
            [
             0.8888888888888888,
             "#fdca26"
            ],
            [
             1,
             "#f0f921"
            ]
           ],
           "sequentialminus": [
            [
             0,
             "#0d0887"
            ],
            [
             0.1111111111111111,
             "#46039f"
            ],
            [
             0.2222222222222222,
             "#7201a8"
            ],
            [
             0.3333333333333333,
             "#9c179e"
            ],
            [
             0.4444444444444444,
             "#bd3786"
            ],
            [
             0.5555555555555556,
             "#d8576b"
            ],
            [
             0.6666666666666666,
             "#ed7953"
            ],
            [
             0.7777777777777778,
             "#fb9f3a"
            ],
            [
             0.8888888888888888,
             "#fdca26"
            ],
            [
             1,
             "#f0f921"
            ]
           ]
          },
          "colorway": [
           "#636efa",
           "#EF553B",
           "#00cc96",
           "#ab63fa",
           "#FFA15A",
           "#19d3f3",
           "#FF6692",
           "#B6E880",
           "#FF97FF",
           "#FECB52"
          ],
          "font": {
           "color": "#2a3f5f"
          },
          "geo": {
           "bgcolor": "white",
           "lakecolor": "white",
           "landcolor": "#E5ECF6",
           "showlakes": true,
           "showland": true,
           "subunitcolor": "white"
          },
          "hoverlabel": {
           "align": "left"
          },
          "hovermode": "closest",
          "mapbox": {
           "style": "light"
          },
          "paper_bgcolor": "white",
          "plot_bgcolor": "#E5ECF6",
          "polar": {
           "angularaxis": {
            "gridcolor": "white",
            "linecolor": "white",
            "ticks": ""
           },
           "bgcolor": "#E5ECF6",
           "radialaxis": {
            "gridcolor": "white",
            "linecolor": "white",
            "ticks": ""
           }
          },
          "scene": {
           "xaxis": {
            "backgroundcolor": "#E5ECF6",
            "gridcolor": "white",
            "gridwidth": 2,
            "linecolor": "white",
            "showbackground": true,
            "ticks": "",
            "zerolinecolor": "white"
           },
           "yaxis": {
            "backgroundcolor": "#E5ECF6",
            "gridcolor": "white",
            "gridwidth": 2,
            "linecolor": "white",
            "showbackground": true,
            "ticks": "",
            "zerolinecolor": "white"
           },
           "zaxis": {
            "backgroundcolor": "#E5ECF6",
            "gridcolor": "white",
            "gridwidth": 2,
            "linecolor": "white",
            "showbackground": true,
            "ticks": "",
            "zerolinecolor": "white"
           }
          },
          "shapedefaults": {
           "line": {
            "color": "#2a3f5f"
           }
          },
          "ternary": {
           "aaxis": {
            "gridcolor": "white",
            "linecolor": "white",
            "ticks": ""
           },
           "baxis": {
            "gridcolor": "white",
            "linecolor": "white",
            "ticks": ""
           },
           "bgcolor": "#E5ECF6",
           "caxis": {
            "gridcolor": "white",
            "linecolor": "white",
            "ticks": ""
           }
          },
          "title": {
           "x": 0.05
          },
          "xaxis": {
           "automargin": true,
           "gridcolor": "white",
           "linecolor": "white",
           "ticks": "",
           "title": {
            "standoff": 15
           },
           "zerolinecolor": "white",
           "zerolinewidth": 2
          },
          "yaxis": {
           "automargin": true,
           "gridcolor": "white",
           "linecolor": "white",
           "ticks": "",
           "title": {
            "standoff": 15
           },
           "zerolinecolor": "white",
           "zerolinewidth": 2
          }
         }
        },
        "xaxis": {
         "anchor": "y",
         "domain": [
          0,
          1
         ],
         "title": {
          "text": "Amount"
         }
        },
        "xaxis2": {
         "anchor": "y2",
         "domain": [
          0,
          1
         ],
         "matches": "x",
         "showgrid": true,
         "showticklabels": false
        },
        "yaxis": {
         "anchor": "x",
         "domain": [
          0,
          0.7326
         ],
         "title": {
          "text": "count of Date"
         }
        },
        "yaxis2": {
         "anchor": "x2",
         "domain": [
          0.7426,
          1
         ],
         "matches": "y2",
         "showgrid": false,
         "showline": false,
         "showticklabels": false,
         "ticks": ""
        }
       }
      },
      "text/html": [
       "<div>\n",
       "        \n",
       "        \n",
       "            <div id=\"f13592aa-228f-4eca-ad8c-5d471554db73\" class=\"plotly-graph-div\" style=\"height:525px; width:100%;\"></div>\n",
       "            <script type=\"text/javascript\">\n",
       "                require([\"plotly\"], function(Plotly) {\n",
       "                    window.PLOTLYENV=window.PLOTLYENV || {};\n",
       "                    \n",
       "                if (document.getElementById(\"f13592aa-228f-4eca-ad8c-5d471554db73\")) {\n",
       "                    Plotly.newPlot(\n",
       "                        'f13592aa-228f-4eca-ad8c-5d471554db73',\n",
       "                        [{\"alignmentgroup\": \"True\", \"bingroup\": \"x\", \"hovertemplate\": \"Transaction_Type=POS<br>Amount=%{x}<br>count of Date=%{y}<extra></extra>\", \"legendgroup\": \"POS\", \"marker\": {\"color\": \"#636efa\"}, \"name\": \"POS\", \"offsetgroup\": \"POS\", \"orientation\": \"v\", \"showlegend\": true, \"type\": \"histogram\", \"x\": [25000, 300, 45000, 670, 4543, 11000, 132, 1200, 1340, 1200, 11000, 10543, 140, 994, 50, 120, 140, 1987, 4000, 1200, 112, 4509, 4000, 9875, 12567, 907, 345, 75000, 24000, 12000, 175600, 890, 567, 8954, 9056, 23467, 1000, 10000, 25000, 300, 45000, 670, 11000, 130000, 132, 1200, 1340, 1200, 10543, 140, 15000, 800, 50, 120, 140, 1987, 987, 4000, 112, 4509, 543, 9875, 150000, 5000, 75000, 23467, 1000, 25000, 45000, 670, 4543, 130000, 1200], \"xaxis\": \"x\", \"y\": [26, 20, 15, 17, 7, 21, 4, 31, 27, 31, 15, 15, 27, 1, 25, 11, 2, 4, 17, 8, 13, 30, 21, 29, 16, 12, 5, 21, 4, 9, 19, 14, 6, 2, 20, 19, 3, 14, 21, 21, 16, 14, 19, 6, 7, 19, 1, 4, 30, 31, 16, 13, 1, 15, 10, 6, 30, 29, 17, 14, 12, 9, 8, 16, 25, 20, 27, 4, 17, 20, 17, 20, 25], \"yaxis\": \"y\"}, {\"alignmentgroup\": \"True\", \"customdata\": [[500000, 2016, \"Jun\", 26, 19, \"Bangalore, India\", \"Bangalore, India\", \"POS\", 25000, \"Normal\"], [500000, 2016, \"Oct\", 20, 18, \"Bangalore, India\", \"Bangalore, India\", \"POS\", 300, \"Normal\"], [500000, 2016, \"Jul\", 15, 7, \"Bangalore, India\", \"London, UK\", \"POS\", 45000, \"Normal\"], [500000, 2016, \"Dec\", 17, 15, \"Bangalore, India\", \"London, UK\", \"POS\", 670, \"Normal\"], [500000, 2016, \"Sep\", 7, 17, \"Bangalore, India\", \"Bangalore, India\", \"POS\", 4543, \"Normal\"], [500000, 2016, \"Nov\", 21, 24, \"Bangalore, India\", \"Bangalore, India\", \"POS\", 11000, \"Normal\"], [500000, 2016, \"May\", 4, 7, \"Bangalore, India\", \"Rabat, Morocco\", \"POS\", 132, \"Fraud\"], [500000, 2016, \"Sep\", 31, 20, \"Bangalore, India\", \"Bangalore, India\", \"POS\", 1200, \"Normal\"], [500000, 2016, \"Dec\", 27, 16, \"Bangalore, India\", \"Paris,France\", \"POS\", 1340, \"Normal\"], [100000, 2016, \"Jan\", 31, 2, \"Hyderabad, India\", \"Hyderabad, India\", \"POS\", 1200, \"Normal\"], [100000, 2016, \"Apr\", 15, 4, \"Hyderabad, India\", \"Mumbai, India\", \"POS\", 11000, \"Normal\"], [100000, 2016, \"Sep\", 15, 22, \"Hyderabad, India\", \"Hyderabad,India\", \"POS\", 10543, \"Normal\"], [100000, 2016, \"Jun\", 27, 20, \"Hyderabad, India\", \"Hyderabad,India\", \"POS\", 140, \"Normal\"], [100000, 2016, \"Feb\", 1, 21, \"Hyderabad, India\", \"Mumbai, India\", \"POS\", 994, \"Normal\"], [100000, 2016, \"Sep\", 25, 18, \"Hyderabad, India\", \"Hyderabad,India\", \"POS\", 50, \"Normal\"], [25000, 2016, \"Sep\", 11, 4, \"Mumbai, India\", \"Mumbai, India\", \"POS\", 120, \"Normal\"], [25000, 2016, \"Mar\", 2, 11, \"Mumbai, India\", \"Mumbai, India\", \"POS\", 140, \"Fraud\"], [25000, 2016, \"Oct\", 4, 12, \"Mumbai, India\", \"Mumbai, India\", \"POS\", 1987, \"Normal\"], [25000, 2016, \"Apr\", 17, 9, \"Mumbai, India\", \"Mumbai, India\", \"POS\", 4000, \"Normal\"], [25000, 2016, \"May\", 8, 20, \"Mumbai, India\", \"Mumbai, India\", \"POS\", 1200, \"Normal\"], [25000, 2016, \"Dec\", 13, 21, \"Mumbai, India\", \"Mumbai, India\", \"POS\", 112, \"Normal\"], [25000, 2016, \"Mar\", 30, 18, \"Mumbai, India\", \"Mumbai, India\", \"POS\", 4509, \"Normal\"], [350000, 2016, \"May\", 21, 16, \"Mumbai, India\", \"Paris,France\", \"POS\", 4000, \"Normal\"], [350000, 2016, \"Jul\", 29, 1, \"Mumbai, India\", \"London, UK\", \"POS\", 9875, \"Normal\"], [350000, 2016, \"Nov\", 16, 21, \"Mumbai, India\", \"Budapest, Hungary\", \"POS\", 12567, \"Normal\"], [350000, 2016, \"Feb\", 12, 8, \"Mumbai, India\", \"Budapest, Hungary\", \"POS\", 907, \"Normal\"], [350000, 2016, \"Jun\", 5, 10, \"Mumbai, India\", \"Mumbai, India\", \"POS\", 345, \"Normal\"], [350000, 2016, \"Oct\", 21, 18, \"Mumbai, India\", \"Bangalore, India\", \"POS\", 75000, \"Fraud\"], [350000, 2016, \"May\", 4, 1, \"Mumbai, India\", \"Mumbai, India\", \"POS\", 24000, \"Normal\"], [350000, 2016, \"Jul\", 9, 4, \"Mumbai, India\", \"Mumbai, India\", \"POS\", 12000, \"Normal\"], [225000, 2016, \"Feb\", 19, 22, \"Delhi, India\", \"Delhi, India\", \"POS\", 175600, \"Fraud\"], [225000, 2016, \"Apr\", 14, 23, \"Delhi, India\", \"Delhi, India\", \"POS\", 890, \"Normal\"], [225000, 2016, \"May\", 6, 9, \"Delhi, India\", \"Paris,France\", \"POS\", 567, \"Normal\"], [225000, 2016, \"Sep\", 2, 19, \"Delhi, India\", \"Delhi, India\", \"POS\", 8954, \"Normal\"], [225000, 2016, \"Oct\", 20, 12, \"Delhi, India\", \"NewYork, USA\", \"POS\", 9056, \"Normal\"], [225000, 2016, \"Apr\", 19, 7, \"Delhi, India\", \"Delhi, India\", \"POS\", 23467, \"Normal\"], [225000, 2016, \"Jul\", 3, 21, \"Delhi, India\", \"NewYork, USA\", \"POS\", 1000, \"Fraud\"], [225000, 2016, \"Mar\", 14, 1, \"Delhi, India\", \"Delhi, India\", \"POS\", 10000, \"Normal\"], [500000, 2016, \"Apr\", 21, 11, \"Ahmedabad, India\", \"Paris, France\", \"POS\", 25000, \"Normal\"], [500000, 2016, \"Dec\", 21, 3, \"Ahmedabad, India\", \"Ahmedabad, India\", \"POS\", 300, \"Normal\"], [500000, 2016, \"Jun\", 16, 17, \"Ahmedabad, India\", \"Ahmedabad, India\", \"POS\", 45000, \"Normal\"], [500000, 2016, \"Feb\", 14, 12, \"Bangalore, India\", \"Bangalore, India\", \"POS\", 670, \"Fraud\"], [500000, 2016, \"Apr\", 19, 20, \"Ahmedabad, India\", \"Paris, France\", \"POS\", 11000, \"Normal\"], [500000, 2016, \"Jul\", 6, 17, \"Ahmedabad, India\", \"Paris, France\", \"POS\", 130000, \"Normal\"], [500000, 2016, \"Oct\", 7, 6, \"Ahmedabad, India\", \"Ahmedabad, India\", \"POS\", 132, \"Normal\"], [500000, 2016, \"Oct\", 19, 21, \"Bangalore, India\", \"Paris,France\", \"POS\", 1200, \"Fraud\"], [500000, 2016, \"Sep\", 1, 13, \"Ahmedabad, India\", \"Paris,France\", \"POS\", 1340, \"Normal\"], [100000, 2016, \"Apr\", 4, 7, \"Hyderabad, India\", \"Hyderabad, India\", \"POS\", 1200, \"Normal\"], [100000, 2016, \"Jun\", 30, 2, \"Hyderabad, India\", \"Moscow, Russia\", \"POS\", 10543, \"Fraud\"], [100000, 2016, \"Apr\", 31, 9, \"Hyderabad, India\", \"Hyderabad, ndia\", \"POS\", 140, \"Normal\"], [25000, 2016, \"Oct\", 16, 17, \"Pune, India\", \"Pune, India\", \"POS\", 15000, \"Normal\"], [25000, 2016, \"Mar\", 13, 22, \"Pune, India\", \"Mumbai, India\", \"POS\", 800, \"Normal\"], [25000, 2016, \"Dec\", 1, 4, \"Pune, India\", \"Delhi, India\", \"POS\", 50, \"Normal\"], [25000, 2016, \"Feb\", 15, 14, \"Mumbai, India\", \"Bangalore, India\", \"POS\", 120, \"Fraud\"], [25000, 2016, \"Feb\", 10, 1, \"Mumbai, India\", \"Mumbai, India\", \"POS\", 140, \"Fraud\"], [25000, 2016, \"Sep\", 6, 15, \"Pune, India\", \"Delhi, India\", \"POS\", 1987, \"Normal\"], [25000, 2016, \"Jun\", 30, 11, \"Pune, India\", \"Pune, India\", \"POS\", 987, \"Normal\"], [25000, 2016, \"Jan\", 29, 6, \"Pune, India\", \"Mumbai, India\", \"POS\", 4000, \"Normal\"], [350000, 2016, \"Mar\", 17, 2, \"Mumbai, India\", \"mumbai, India\", \"POS\", 112, \"Fraud\"], [350000, 2016, \"Sep\", 14, 6, \"Chennai, India\", \"Mumbai, India\", \"POS\", 4509, \"Normal\"], [350000, 2016, \"Nov\", 12, 12, \"Chennai, India\", \"Mumbai, India\", \"POS\", 543, \"Fraud\"], [350000, 2016, \"May\", 9, 23, \"Mumbai, India\", \"Budapest, Hungary\", \"POS\", 9875, \"Fraud\"], [350000, 2016, \"Nov\", 8, 1, \"Chennai, India\", \"Delhi, India\", \"POS\", 150000, \"Normal\"], [350000, 2016, \"Feb\", 16, 7, \"Chennai, India\", \"Mumbai, India\", \"POS\", 5000, \"Normal\"], [350000, 2016, \"Jul\", 25, 4, \"Mumbai, India\", \"Mumbai, India\", \"POS\", 75000, \"Fraud\"], [350000, 2016, \"May\", 20, 8, \"Chennai, India\", \"Mumbai, India\", \"POS\", 23467, \"Normal\"], [350000, 2016, \"Jul\", 27, 14, \"Mumbai, India\", \"Mumbai, India\", \"POS\", 1000, \"Fraud\"], [225000, 2016, \"Jul\", 4, 21, \"Delhi, India\", \"Delhi, India\", \"POS\", 25000, \"Normal\"], [225000, 2016, \"Dec\", 17, 13, \"Delhi, India\", \"Bangalore, India\", \"POS\", 45000, \"Normal\"], [225000, 2016, \"Jan\", 20, 20, \"Delhi, India\", \"Bangalore, India\", \"POS\", 670, \"Normal\"], [225000, 2016, \"Jan\", 17, 23, \"Delhi, India\", \"Delhi, India\", \"POS\", 4543, \"Normal\"], [225000, 2016, \"May\", 20, 9, \"Delhi, India\", \"Delhi, India\", \"POS\", 130000, \"Normal\"], [225000, 2016, \"Aug\", 25, 7, \"Delhi, India\", \"Delhi, India\", \"POS\", 1200, \"Normal\"]], \"hovertemplate\": \"Transaction_Type=%{customdata[7]}<br>Amount=%{customdata[8]}<br>Limit=%{customdata[0]}<br>Year=%{customdata[1]}<br>Month=%{customdata[2]}<br>Date=%{customdata[3]}<br>Time=%{customdata[4]}<br>Origin=%{customdata[5]}<br>Transaction=%{customdata[6]}<br>Type=%{customdata[9]}<extra></extra>\", \"legendgroup\": \"POS\", \"marker\": {\"color\": \"#636efa\"}, \"name\": \"POS\", \"offsetgroup\": \"POS\", \"scalegroup\": \"x\", \"showlegend\": false, \"type\": \"violin\", \"x\": [25000, 300, 45000, 670, 4543, 11000, 132, 1200, 1340, 1200, 11000, 10543, 140, 994, 50, 120, 140, 1987, 4000, 1200, 112, 4509, 4000, 9875, 12567, 907, 345, 75000, 24000, 12000, 175600, 890, 567, 8954, 9056, 23467, 1000, 10000, 25000, 300, 45000, 670, 11000, 130000, 132, 1200, 1340, 1200, 10543, 140, 15000, 800, 50, 120, 140, 1987, 987, 4000, 112, 4509, 543, 9875, 150000, 5000, 75000, 23467, 1000, 25000, 45000, 670, 4543, 130000, 1200], \"xaxis\": \"x2\", \"yaxis\": \"y2\"}, {\"alignmentgroup\": \"True\", \"bingroup\": \"x\", \"hovertemplate\": \"Transaction_Type=Internet<br>Amount=%{x}<br>count of Date=%{y}<extra></extra>\", \"legendgroup\": \"Internet\", \"marker\": {\"color\": \"#EF553B\"}, \"name\": \"Internet\", \"offsetgroup\": \"Internet\", \"orientation\": \"v\", \"showlegend\": true, \"type\": \"histogram\", \"x\": [130000, 1356, 50000, 15000, 800, 1200, 987, 12000, 543, 150000, 5000, 5000, 45000, 4543, 1356, 11000, 50000, 994, 1200, 1200, 12000, 4000, 12567, 907, 345, 24000, 10000, 45000, 300, 11000, 132, 1340, 1356], \"xaxis\": \"x\", \"y\": [24, 7, 13, 20, 19, 23, 7, 11, 26, 16, 26, 25, 16, 19, 14, 3, 8, 10, 22, 19, 5, 10, 9, 11, 20, 2, 1, 10, 5, 1, 26, 7, 15], \"yaxis\": \"y\"}, {\"alignmentgroup\": \"True\", \"customdata\": [[500000, 2016, \"May\", 24, 21, \"Bangalore, India\", \"Moscow, Russia\", \"Internet\", 130000, \"Fraud\"], [100000, 2016, \"Jun\", 7, 3, \"Hyderabad, India\", \"Hyderabad, India\", \"Internet\", 1356, \"Normal\"], [100000, 2016, \"Dec\", 13, 4, \"Hyderabad, India\", \"Hyderabad,India\", \"Internet\", 50000, \"Fraud\"], [100000, 2016, \"Jun\", 20, 21, \"Hyderabad, India\", \"Budapest, Hungary\", \"Internet\", 15000, \"Fraud\"], [100000, 2016, \"Jan\", 19, 11, \"Hyderabad, India\", \"Hyderabad,India\", \"Internet\", 800, \"Normal\"], [25000, 2016, \"Oct\", 23, 10, \"Mumbai, India\", \"Mumbai, India\", \"Internet\", 1200, \"Normal\"], [25000, 2016, \"May\", 7, 21, \"Mumbai, India\", \"Pune, India\", \"Internet\", 987, \"Fraud\"], [25000, 2016, \"Nov\", 11, 6, \"Mumbai, India\", \"Budapest, Hungary\", \"Internet\", 12000, \"Fraud\"], [350000, 2016, \"Mar\", 26, 7, \"Mumbai, India\", \"mumbai, India\", \"Internet\", 543, \"Normal\"], [350000, 2016, \"Oct\", 16, 5, \"Mumbai, India\", \"Budapest, Hungary\", \"Internet\", 150000, \"Fraud\"], [350000, 2016, \"Feb\", 26, 4, \"Mumbai, India\", \"Nicosia, Cyprus\", \"Internet\", 5000, \"Fraud\"], [225000, 2016, \"Oct\", 25, 19, \"Delhi, India\", \"Nicosia, Cyprus\", \"Internet\", 5000, \"Fraud\"], [225000, 2016, \"Dec\", 16, 24, \"Delhi, India\", \"Nicosia, Cyprus\", \"Internet\", 45000, \"Fraud\"], [500000, 2016, \"Oct\", 19, 1, \"Ahmedabad, India\", \"Ahmedabad, India\", \"Internet\", 4543, \"Fraud\"], [100000, 2016, \"Nov\", 14, 4, \"Hyderabad, India\", \"Hyderabad, India\", \"Internet\", 1356, \"Normal\"], [100000, 2016, \"Aug\", 3, 11, \"Hyderabad, India\", \"Hyderabad, India\", \"Internet\", 11000, \"Normal\"], [100000, 2016, \"Mar\", 8, 8, \"Hyderabad, India\", \"Hyderabad, India\", \"Internet\", 50000, \"Fraud\"], [25000, 2016, \"Aug\", 10, 18, \"Pune, India\", \"Mumbai, India\", \"Internet\", 994, \"Normal\"], [25000, 2016, \"Mar\", 22, 16, \"Pune, India\", \"Pune, India\", \"Internet\", 1200, \"Fraud\"], [350000, 2016, \"Oct\", 19, 22, \"Chennai, India\", \"Bangalore, India\", \"Internet\", 1200, \"Normal\"], [350000, 2016, \"Feb\", 5, 3, \"Mumbai, India\", \"Mumbai, India\", \"Internet\", 12000, \"Fraud\"], [350000, 2016, \"May\", 10, 16, \"Chennai, India\", \"Delhi, India\", \"Internet\", 4000, \"Normal\"], [350000, 2016, \"Aug\", 9, 21, \"Mumbai, India\", \"mumbai, India\", \"Internet\", 12567, \"Fraud\"], [350000, 2016, \"Dec\", 11, 21, \"Mumbai, India\", \"Budapest, Hungary\", \"Internet\", 907, \"Fraud\"], [350000, 2016, \"Oct\", 20, 20, \"Chennai, India\", \"Mumbai, India\", \"Internet\", 345, \"Normal\"], [350000, 2016, \"Jun\", 2, 7, \"Chennai, India\", \"Mumbai, India\", \"Internet\", 24000, \"Normal\"], [350000, 2016, \"Jul\", 1, 19, \"Mumbai, India\", \"Mumbai, India\", \"Internet\", 10000, \"Normal\"], [350000, 2016, \"Mar\", 10, 18, \"Mumbai, India\", \"mumbai, India\", \"Internet\", 45000, \"Fraud\"], [225000, 2016, \"Oct\", 5, 11, \"Delhi, India\", \"Delhi, India\", \"Internet\", 300, \"Fraud\"], [225000, 2016, \"Jun\", 1, 6, \"Delhi, India\", \"Delhi, India\", \"Internet\", 11000, \"Fraud\"], [225000, 2016, \"Feb\", 26, 14, \"Delhi, India\", \"Delhi, India\", \"Internet\", 132, \"Fraud\"], [225000, 2016, \"May\", 7, 19, \"Delhi, India\", \"Bangalore, India\", \"Internet\", 1340, \"Normal\"], [225000, 2016, \"Oct\", 15, 16, \"Delhi, India\", \"Delhi, India\", \"Internet\", 1356, \"Normal\"]], \"hovertemplate\": \"Transaction_Type=%{customdata[7]}<br>Amount=%{customdata[8]}<br>Limit=%{customdata[0]}<br>Year=%{customdata[1]}<br>Month=%{customdata[2]}<br>Date=%{customdata[3]}<br>Time=%{customdata[4]}<br>Origin=%{customdata[5]}<br>Transaction=%{customdata[6]}<br>Type=%{customdata[9]}<extra></extra>\", \"legendgroup\": \"Internet\", \"marker\": {\"color\": \"#EF553B\"}, \"name\": \"Internet\", \"offsetgroup\": \"Internet\", \"scalegroup\": \"x\", \"showlegend\": false, \"type\": \"violin\", \"x\": [130000, 1356, 50000, 15000, 800, 1200, 987, 12000, 543, 150000, 5000, 5000, 45000, 4543, 1356, 11000, 50000, 994, 1200, 1200, 12000, 4000, 12567, 907, 345, 24000, 10000, 45000, 300, 11000, 132, 1340, 1356], \"xaxis\": \"x2\", \"yaxis\": \"y2\"}],\n",
       "                        {\"barmode\": \"relative\", \"legend\": {\"title\": {\"text\": \"Transaction_Type\"}, \"tracegroupgap\": 0}, \"margin\": {\"t\": 60}, \"template\": {\"data\": {\"bar\": [{\"error_x\": {\"color\": \"#2a3f5f\"}, \"error_y\": {\"color\": \"#2a3f5f\"}, \"marker\": {\"line\": {\"color\": \"#E5ECF6\", \"width\": 0.5}}, \"type\": \"bar\"}], \"barpolar\": [{\"marker\": {\"line\": {\"color\": \"#E5ECF6\", \"width\": 0.5}}, \"type\": \"barpolar\"}], \"carpet\": [{\"aaxis\": {\"endlinecolor\": \"#2a3f5f\", \"gridcolor\": \"white\", \"linecolor\": \"white\", \"minorgridcolor\": \"white\", \"startlinecolor\": \"#2a3f5f\"}, \"baxis\": {\"endlinecolor\": \"#2a3f5f\", \"gridcolor\": \"white\", \"linecolor\": \"white\", \"minorgridcolor\": \"white\", \"startlinecolor\": \"#2a3f5f\"}, \"type\": \"carpet\"}], \"choropleth\": [{\"colorbar\": {\"outlinewidth\": 0, \"ticks\": \"\"}, \"type\": \"choropleth\"}], \"contour\": [{\"colorbar\": {\"outlinewidth\": 0, \"ticks\": \"\"}, \"colorscale\": [[0.0, \"#0d0887\"], [0.1111111111111111, \"#46039f\"], [0.2222222222222222, \"#7201a8\"], [0.3333333333333333, \"#9c179e\"], [0.4444444444444444, \"#bd3786\"], [0.5555555555555556, \"#d8576b\"], [0.6666666666666666, \"#ed7953\"], [0.7777777777777778, \"#fb9f3a\"], [0.8888888888888888, \"#fdca26\"], [1.0, \"#f0f921\"]], \"type\": \"contour\"}], \"contourcarpet\": [{\"colorbar\": {\"outlinewidth\": 0, \"ticks\": \"\"}, \"type\": \"contourcarpet\"}], \"heatmap\": [{\"colorbar\": {\"outlinewidth\": 0, \"ticks\": \"\"}, \"colorscale\": [[0.0, \"#0d0887\"], [0.1111111111111111, \"#46039f\"], [0.2222222222222222, \"#7201a8\"], [0.3333333333333333, \"#9c179e\"], [0.4444444444444444, \"#bd3786\"], [0.5555555555555556, \"#d8576b\"], [0.6666666666666666, \"#ed7953\"], [0.7777777777777778, \"#fb9f3a\"], [0.8888888888888888, \"#fdca26\"], [1.0, \"#f0f921\"]], \"type\": \"heatmap\"}], \"heatmapgl\": [{\"colorbar\": {\"outlinewidth\": 0, \"ticks\": \"\"}, \"colorscale\": [[0.0, \"#0d0887\"], [0.1111111111111111, \"#46039f\"], [0.2222222222222222, \"#7201a8\"], [0.3333333333333333, \"#9c179e\"], [0.4444444444444444, \"#bd3786\"], [0.5555555555555556, \"#d8576b\"], [0.6666666666666666, \"#ed7953\"], [0.7777777777777778, \"#fb9f3a\"], [0.8888888888888888, \"#fdca26\"], [1.0, \"#f0f921\"]], \"type\": \"heatmapgl\"}], \"histogram\": [{\"marker\": {\"colorbar\": {\"outlinewidth\": 0, \"ticks\": \"\"}}, \"type\": \"histogram\"}], \"histogram2d\": [{\"colorbar\": {\"outlinewidth\": 0, \"ticks\": \"\"}, \"colorscale\": [[0.0, \"#0d0887\"], [0.1111111111111111, \"#46039f\"], [0.2222222222222222, \"#7201a8\"], [0.3333333333333333, \"#9c179e\"], [0.4444444444444444, \"#bd3786\"], [0.5555555555555556, \"#d8576b\"], [0.6666666666666666, \"#ed7953\"], [0.7777777777777778, \"#fb9f3a\"], [0.8888888888888888, \"#fdca26\"], [1.0, \"#f0f921\"]], \"type\": \"histogram2d\"}], \"histogram2dcontour\": [{\"colorbar\": {\"outlinewidth\": 0, \"ticks\": \"\"}, \"colorscale\": [[0.0, \"#0d0887\"], [0.1111111111111111, \"#46039f\"], [0.2222222222222222, \"#7201a8\"], [0.3333333333333333, \"#9c179e\"], [0.4444444444444444, \"#bd3786\"], [0.5555555555555556, \"#d8576b\"], [0.6666666666666666, \"#ed7953\"], [0.7777777777777778, \"#fb9f3a\"], [0.8888888888888888, \"#fdca26\"], [1.0, \"#f0f921\"]], \"type\": \"histogram2dcontour\"}], \"mesh3d\": [{\"colorbar\": {\"outlinewidth\": 0, \"ticks\": \"\"}, \"type\": \"mesh3d\"}], \"parcoords\": [{\"line\": {\"colorbar\": {\"outlinewidth\": 0, \"ticks\": \"\"}}, \"type\": \"parcoords\"}], \"pie\": [{\"automargin\": true, \"type\": \"pie\"}], \"scatter\": [{\"marker\": {\"colorbar\": {\"outlinewidth\": 0, \"ticks\": \"\"}}, \"type\": \"scatter\"}], \"scatter3d\": [{\"line\": {\"colorbar\": {\"outlinewidth\": 0, \"ticks\": \"\"}}, \"marker\": {\"colorbar\": {\"outlinewidth\": 0, \"ticks\": \"\"}}, \"type\": \"scatter3d\"}], \"scattercarpet\": [{\"marker\": {\"colorbar\": {\"outlinewidth\": 0, \"ticks\": \"\"}}, \"type\": \"scattercarpet\"}], \"scattergeo\": [{\"marker\": {\"colorbar\": {\"outlinewidth\": 0, \"ticks\": \"\"}}, \"type\": \"scattergeo\"}], \"scattergl\": [{\"marker\": {\"colorbar\": {\"outlinewidth\": 0, \"ticks\": \"\"}}, \"type\": \"scattergl\"}], \"scattermapbox\": [{\"marker\": {\"colorbar\": {\"outlinewidth\": 0, \"ticks\": \"\"}}, \"type\": \"scattermapbox\"}], \"scatterpolar\": [{\"marker\": {\"colorbar\": {\"outlinewidth\": 0, \"ticks\": \"\"}}, \"type\": \"scatterpolar\"}], \"scatterpolargl\": [{\"marker\": {\"colorbar\": {\"outlinewidth\": 0, \"ticks\": \"\"}}, \"type\": \"scatterpolargl\"}], \"scatterternary\": [{\"marker\": {\"colorbar\": {\"outlinewidth\": 0, \"ticks\": \"\"}}, \"type\": \"scatterternary\"}], \"surface\": [{\"colorbar\": {\"outlinewidth\": 0, \"ticks\": \"\"}, \"colorscale\": [[0.0, \"#0d0887\"], [0.1111111111111111, \"#46039f\"], [0.2222222222222222, \"#7201a8\"], [0.3333333333333333, \"#9c179e\"], [0.4444444444444444, \"#bd3786\"], [0.5555555555555556, \"#d8576b\"], [0.6666666666666666, \"#ed7953\"], [0.7777777777777778, \"#fb9f3a\"], [0.8888888888888888, \"#fdca26\"], [1.0, \"#f0f921\"]], \"type\": \"surface\"}], \"table\": [{\"cells\": {\"fill\": {\"color\": \"#EBF0F8\"}, \"line\": {\"color\": \"white\"}}, \"header\": {\"fill\": {\"color\": \"#C8D4E3\"}, \"line\": {\"color\": \"white\"}}, \"type\": \"table\"}]}, \"layout\": {\"annotationdefaults\": {\"arrowcolor\": \"#2a3f5f\", \"arrowhead\": 0, \"arrowwidth\": 1}, \"coloraxis\": {\"colorbar\": {\"outlinewidth\": 0, \"ticks\": \"\"}}, \"colorscale\": {\"diverging\": [[0, \"#8e0152\"], [0.1, \"#c51b7d\"], [0.2, \"#de77ae\"], [0.3, \"#f1b6da\"], [0.4, \"#fde0ef\"], [0.5, \"#f7f7f7\"], [0.6, \"#e6f5d0\"], [0.7, \"#b8e186\"], [0.8, \"#7fbc41\"], [0.9, \"#4d9221\"], [1, \"#276419\"]], \"sequential\": [[0.0, \"#0d0887\"], [0.1111111111111111, \"#46039f\"], [0.2222222222222222, \"#7201a8\"], [0.3333333333333333, \"#9c179e\"], [0.4444444444444444, \"#bd3786\"], [0.5555555555555556, \"#d8576b\"], [0.6666666666666666, \"#ed7953\"], [0.7777777777777778, \"#fb9f3a\"], [0.8888888888888888, \"#fdca26\"], [1.0, \"#f0f921\"]], \"sequentialminus\": [[0.0, \"#0d0887\"], [0.1111111111111111, \"#46039f\"], [0.2222222222222222, \"#7201a8\"], [0.3333333333333333, \"#9c179e\"], [0.4444444444444444, \"#bd3786\"], [0.5555555555555556, \"#d8576b\"], [0.6666666666666666, \"#ed7953\"], [0.7777777777777778, \"#fb9f3a\"], [0.8888888888888888, \"#fdca26\"], [1.0, \"#f0f921\"]]}, \"colorway\": [\"#636efa\", \"#EF553B\", \"#00cc96\", \"#ab63fa\", \"#FFA15A\", \"#19d3f3\", \"#FF6692\", \"#B6E880\", \"#FF97FF\", \"#FECB52\"], \"font\": {\"color\": \"#2a3f5f\"}, \"geo\": {\"bgcolor\": \"white\", \"lakecolor\": \"white\", \"landcolor\": \"#E5ECF6\", \"showlakes\": true, \"showland\": true, \"subunitcolor\": \"white\"}, \"hoverlabel\": {\"align\": \"left\"}, \"hovermode\": \"closest\", \"mapbox\": {\"style\": \"light\"}, \"paper_bgcolor\": \"white\", \"plot_bgcolor\": \"#E5ECF6\", \"polar\": {\"angularaxis\": {\"gridcolor\": \"white\", \"linecolor\": \"white\", \"ticks\": \"\"}, \"bgcolor\": \"#E5ECF6\", \"radialaxis\": {\"gridcolor\": \"white\", \"linecolor\": \"white\", \"ticks\": \"\"}}, \"scene\": {\"xaxis\": {\"backgroundcolor\": \"#E5ECF6\", \"gridcolor\": \"white\", \"gridwidth\": 2, \"linecolor\": \"white\", \"showbackground\": true, \"ticks\": \"\", \"zerolinecolor\": \"white\"}, \"yaxis\": {\"backgroundcolor\": \"#E5ECF6\", \"gridcolor\": \"white\", \"gridwidth\": 2, \"linecolor\": \"white\", \"showbackground\": true, \"ticks\": \"\", \"zerolinecolor\": \"white\"}, \"zaxis\": {\"backgroundcolor\": \"#E5ECF6\", \"gridcolor\": \"white\", \"gridwidth\": 2, \"linecolor\": \"white\", \"showbackground\": true, \"ticks\": \"\", \"zerolinecolor\": \"white\"}}, \"shapedefaults\": {\"line\": {\"color\": \"#2a3f5f\"}}, \"ternary\": {\"aaxis\": {\"gridcolor\": \"white\", \"linecolor\": \"white\", \"ticks\": \"\"}, \"baxis\": {\"gridcolor\": \"white\", \"linecolor\": \"white\", \"ticks\": \"\"}, \"bgcolor\": \"#E5ECF6\", \"caxis\": {\"gridcolor\": \"white\", \"linecolor\": \"white\", \"ticks\": \"\"}}, \"title\": {\"x\": 0.05}, \"xaxis\": {\"automargin\": true, \"gridcolor\": \"white\", \"linecolor\": \"white\", \"ticks\": \"\", \"title\": {\"standoff\": 15}, \"zerolinecolor\": \"white\", \"zerolinewidth\": 2}, \"yaxis\": {\"automargin\": true, \"gridcolor\": \"white\", \"linecolor\": \"white\", \"ticks\": \"\", \"title\": {\"standoff\": 15}, \"zerolinecolor\": \"white\", \"zerolinewidth\": 2}}}, \"xaxis\": {\"anchor\": \"y\", \"domain\": [0.0, 1.0], \"title\": {\"text\": \"Amount\"}}, \"xaxis2\": {\"anchor\": \"y2\", \"domain\": [0.0, 1.0], \"matches\": \"x\", \"showgrid\": true, \"showticklabels\": false}, \"yaxis\": {\"anchor\": \"x\", \"domain\": [0.0, 0.7326], \"title\": {\"text\": \"count of Date\"}}, \"yaxis2\": {\"anchor\": \"x2\", \"domain\": [0.7426, 1.0], \"matches\": \"y2\", \"showgrid\": false, \"showline\": false, \"showticklabels\": false, \"ticks\": \"\"}},\n",
       "                        {\"responsive\": true}\n",
       "                    ).then(function(){\n",
       "                            \n",
       "var gd = document.getElementById('f13592aa-228f-4eca-ad8c-5d471554db73');\n",
       "var x = new MutationObserver(function (mutations, observer) {{\n",
       "        var display = window.getComputedStyle(gd).display;\n",
       "        if (!display || display === 'none') {{\n",
       "            console.log([gd, 'removed!']);\n",
       "            Plotly.purge(gd);\n",
       "            observer.disconnect();\n",
       "        }}\n",
       "}});\n",
       "\n",
       "// Listen for the removal of the full notebook cells\n",
       "var notebookContainer = gd.closest('#notebook-container');\n",
       "if (notebookContainer) {{\n",
       "    x.observe(notebookContainer, {childList: true});\n",
       "}}\n",
       "\n",
       "// Listen for the clearing of the current output cell\n",
       "var outputEl = gd.closest('.output');\n",
       "if (outputEl) {{\n",
       "    x.observe(outputEl, {childList: true});\n",
       "}}\n",
       "\n",
       "                        })\n",
       "                };\n",
       "                });\n",
       "            </script>\n",
       "        </div>"
      ]
     },
     "metadata": {},
     "output_type": "display_data"
    }
   ],
   "source": [
    "import plotly.express as px\n",
    "\n",
    "x = DB['Amount']   # Run through all variables on by one\n",
    "y = DB['Date']   # Run through all variables on by one\n",
    "hue=DB['Transaction_Type'] # Run through all variables on by one\n",
    "\n",
    "fig = px.histogram(DB,x,y,color=hue,marginal=\"violin\",  # marginal= box or violin, rug\n",
    "                hover_data=DB.columns)\n",
    "fig.show()"
   ]
  },
  {
   "cell_type": "code",
   "execution_count": 49,
   "metadata": {},
   "outputs": [
    {
     "data": {
      "application/vnd.plotly.v1+json": {
       "config": {
        "plotlyServerURL": "https://plot.ly"
       },
       "data": [
        {
         "alignmentgroup": "True",
         "hovertemplate": "Limit=%{x}<br>Date=%{y}<extra></extra>",
         "legendgroup": "",
         "marker": {
          "color": "#636efa"
         },
         "name": "",
         "notched": false,
         "offsetgroup": "",
         "orientation": "v",
         "showlegend": false,
         "type": "box",
         "x": [
          500000,
          500000,
          500000,
          500000,
          500000,
          500000,
          500000,
          500000,
          500000,
          500000,
          100000,
          100000,
          100000,
          100000,
          100000,
          100000,
          100000,
          100000,
          100000,
          100000,
          25000,
          25000,
          25000,
          25000,
          25000,
          25000,
          25000,
          25000,
          25000,
          25000,
          350000,
          350000,
          350000,
          350000,
          350000,
          350000,
          350000,
          350000,
          350000,
          350000,
          350000,
          225000,
          225000,
          225000,
          225000,
          225000,
          225000,
          225000,
          225000,
          225000,
          225000,
          500000,
          500000,
          500000,
          500000,
          500000,
          500000,
          500000,
          500000,
          500000,
          500000,
          100000,
          100000,
          100000,
          100000,
          100000,
          100000,
          25000,
          25000,
          25000,
          25000,
          25000,
          25000,
          25000,
          25000,
          25000,
          25000,
          350000,
          350000,
          350000,
          350000,
          350000,
          350000,
          350000,
          350000,
          350000,
          350000,
          350000,
          350000,
          350000,
          350000,
          350000,
          350000,
          350000,
          350000,
          225000,
          225000,
          225000,
          225000,
          225000,
          225000,
          225000,
          225000,
          225000,
          225000,
          225000
         ],
         "x0": " ",
         "xaxis": "x",
         "y": [
          26,
          20,
          15,
          17,
          7,
          21,
          24,
          4,
          31,
          27,
          7,
          31,
          15,
          13,
          15,
          27,
          20,
          1,
          19,
          25,
          11,
          2,
          23,
          4,
          7,
          17,
          8,
          13,
          11,
          30,
          21,
          26,
          29,
          16,
          16,
          12,
          5,
          26,
          21,
          4,
          9,
          19,
          14,
          6,
          2,
          20,
          25,
          19,
          3,
          14,
          16,
          21,
          21,
          16,
          14,
          19,
          19,
          6,
          7,
          19,
          1,
          14,
          4,
          3,
          8,
          30,
          31,
          16,
          10,
          13,
          1,
          15,
          10,
          22,
          6,
          30,
          29,
          19,
          17,
          5,
          14,
          10,
          12,
          9,
          9,
          8,
          11,
          20,
          16,
          25,
          2,
          20,
          27,
          1,
          10,
          4,
          5,
          17,
          20,
          17,
          1,
          20,
          26,
          25,
          7,
          15
         ],
         "y0": " ",
         "yaxis": "y"
        }
       ],
       "layout": {
        "boxmode": "group",
        "legend": {
         "tracegroupgap": 0
        },
        "margin": {
         "t": 60
        },
        "template": {
         "data": {
          "bar": [
           {
            "error_x": {
             "color": "#2a3f5f"
            },
            "error_y": {
             "color": "#2a3f5f"
            },
            "marker": {
             "line": {
              "color": "#E5ECF6",
              "width": 0.5
             }
            },
            "type": "bar"
           }
          ],
          "barpolar": [
           {
            "marker": {
             "line": {
              "color": "#E5ECF6",
              "width": 0.5
             }
            },
            "type": "barpolar"
           }
          ],
          "carpet": [
           {
            "aaxis": {
             "endlinecolor": "#2a3f5f",
             "gridcolor": "white",
             "linecolor": "white",
             "minorgridcolor": "white",
             "startlinecolor": "#2a3f5f"
            },
            "baxis": {
             "endlinecolor": "#2a3f5f",
             "gridcolor": "white",
             "linecolor": "white",
             "minorgridcolor": "white",
             "startlinecolor": "#2a3f5f"
            },
            "type": "carpet"
           }
          ],
          "choropleth": [
           {
            "colorbar": {
             "outlinewidth": 0,
             "ticks": ""
            },
            "type": "choropleth"
           }
          ],
          "contour": [
           {
            "colorbar": {
             "outlinewidth": 0,
             "ticks": ""
            },
            "colorscale": [
             [
              0,
              "#0d0887"
             ],
             [
              0.1111111111111111,
              "#46039f"
             ],
             [
              0.2222222222222222,
              "#7201a8"
             ],
             [
              0.3333333333333333,
              "#9c179e"
             ],
             [
              0.4444444444444444,
              "#bd3786"
             ],
             [
              0.5555555555555556,
              "#d8576b"
             ],
             [
              0.6666666666666666,
              "#ed7953"
             ],
             [
              0.7777777777777778,
              "#fb9f3a"
             ],
             [
              0.8888888888888888,
              "#fdca26"
             ],
             [
              1,
              "#f0f921"
             ]
            ],
            "type": "contour"
           }
          ],
          "contourcarpet": [
           {
            "colorbar": {
             "outlinewidth": 0,
             "ticks": ""
            },
            "type": "contourcarpet"
           }
          ],
          "heatmap": [
           {
            "colorbar": {
             "outlinewidth": 0,
             "ticks": ""
            },
            "colorscale": [
             [
              0,
              "#0d0887"
             ],
             [
              0.1111111111111111,
              "#46039f"
             ],
             [
              0.2222222222222222,
              "#7201a8"
             ],
             [
              0.3333333333333333,
              "#9c179e"
             ],
             [
              0.4444444444444444,
              "#bd3786"
             ],
             [
              0.5555555555555556,
              "#d8576b"
             ],
             [
              0.6666666666666666,
              "#ed7953"
             ],
             [
              0.7777777777777778,
              "#fb9f3a"
             ],
             [
              0.8888888888888888,
              "#fdca26"
             ],
             [
              1,
              "#f0f921"
             ]
            ],
            "type": "heatmap"
           }
          ],
          "heatmapgl": [
           {
            "colorbar": {
             "outlinewidth": 0,
             "ticks": ""
            },
            "colorscale": [
             [
              0,
              "#0d0887"
             ],
             [
              0.1111111111111111,
              "#46039f"
             ],
             [
              0.2222222222222222,
              "#7201a8"
             ],
             [
              0.3333333333333333,
              "#9c179e"
             ],
             [
              0.4444444444444444,
              "#bd3786"
             ],
             [
              0.5555555555555556,
              "#d8576b"
             ],
             [
              0.6666666666666666,
              "#ed7953"
             ],
             [
              0.7777777777777778,
              "#fb9f3a"
             ],
             [
              0.8888888888888888,
              "#fdca26"
             ],
             [
              1,
              "#f0f921"
             ]
            ],
            "type": "heatmapgl"
           }
          ],
          "histogram": [
           {
            "marker": {
             "colorbar": {
              "outlinewidth": 0,
              "ticks": ""
             }
            },
            "type": "histogram"
           }
          ],
          "histogram2d": [
           {
            "colorbar": {
             "outlinewidth": 0,
             "ticks": ""
            },
            "colorscale": [
             [
              0,
              "#0d0887"
             ],
             [
              0.1111111111111111,
              "#46039f"
             ],
             [
              0.2222222222222222,
              "#7201a8"
             ],
             [
              0.3333333333333333,
              "#9c179e"
             ],
             [
              0.4444444444444444,
              "#bd3786"
             ],
             [
              0.5555555555555556,
              "#d8576b"
             ],
             [
              0.6666666666666666,
              "#ed7953"
             ],
             [
              0.7777777777777778,
              "#fb9f3a"
             ],
             [
              0.8888888888888888,
              "#fdca26"
             ],
             [
              1,
              "#f0f921"
             ]
            ],
            "type": "histogram2d"
           }
          ],
          "histogram2dcontour": [
           {
            "colorbar": {
             "outlinewidth": 0,
             "ticks": ""
            },
            "colorscale": [
             [
              0,
              "#0d0887"
             ],
             [
              0.1111111111111111,
              "#46039f"
             ],
             [
              0.2222222222222222,
              "#7201a8"
             ],
             [
              0.3333333333333333,
              "#9c179e"
             ],
             [
              0.4444444444444444,
              "#bd3786"
             ],
             [
              0.5555555555555556,
              "#d8576b"
             ],
             [
              0.6666666666666666,
              "#ed7953"
             ],
             [
              0.7777777777777778,
              "#fb9f3a"
             ],
             [
              0.8888888888888888,
              "#fdca26"
             ],
             [
              1,
              "#f0f921"
             ]
            ],
            "type": "histogram2dcontour"
           }
          ],
          "mesh3d": [
           {
            "colorbar": {
             "outlinewidth": 0,
             "ticks": ""
            },
            "type": "mesh3d"
           }
          ],
          "parcoords": [
           {
            "line": {
             "colorbar": {
              "outlinewidth": 0,
              "ticks": ""
             }
            },
            "type": "parcoords"
           }
          ],
          "pie": [
           {
            "automargin": true,
            "type": "pie"
           }
          ],
          "scatter": [
           {
            "marker": {
             "colorbar": {
              "outlinewidth": 0,
              "ticks": ""
             }
            },
            "type": "scatter"
           }
          ],
          "scatter3d": [
           {
            "line": {
             "colorbar": {
              "outlinewidth": 0,
              "ticks": ""
             }
            },
            "marker": {
             "colorbar": {
              "outlinewidth": 0,
              "ticks": ""
             }
            },
            "type": "scatter3d"
           }
          ],
          "scattercarpet": [
           {
            "marker": {
             "colorbar": {
              "outlinewidth": 0,
              "ticks": ""
             }
            },
            "type": "scattercarpet"
           }
          ],
          "scattergeo": [
           {
            "marker": {
             "colorbar": {
              "outlinewidth": 0,
              "ticks": ""
             }
            },
            "type": "scattergeo"
           }
          ],
          "scattergl": [
           {
            "marker": {
             "colorbar": {
              "outlinewidth": 0,
              "ticks": ""
             }
            },
            "type": "scattergl"
           }
          ],
          "scattermapbox": [
           {
            "marker": {
             "colorbar": {
              "outlinewidth": 0,
              "ticks": ""
             }
            },
            "type": "scattermapbox"
           }
          ],
          "scatterpolar": [
           {
            "marker": {
             "colorbar": {
              "outlinewidth": 0,
              "ticks": ""
             }
            },
            "type": "scatterpolar"
           }
          ],
          "scatterpolargl": [
           {
            "marker": {
             "colorbar": {
              "outlinewidth": 0,
              "ticks": ""
             }
            },
            "type": "scatterpolargl"
           }
          ],
          "scatterternary": [
           {
            "marker": {
             "colorbar": {
              "outlinewidth": 0,
              "ticks": ""
             }
            },
            "type": "scatterternary"
           }
          ],
          "surface": [
           {
            "colorbar": {
             "outlinewidth": 0,
             "ticks": ""
            },
            "colorscale": [
             [
              0,
              "#0d0887"
             ],
             [
              0.1111111111111111,
              "#46039f"
             ],
             [
              0.2222222222222222,
              "#7201a8"
             ],
             [
              0.3333333333333333,
              "#9c179e"
             ],
             [
              0.4444444444444444,
              "#bd3786"
             ],
             [
              0.5555555555555556,
              "#d8576b"
             ],
             [
              0.6666666666666666,
              "#ed7953"
             ],
             [
              0.7777777777777778,
              "#fb9f3a"
             ],
             [
              0.8888888888888888,
              "#fdca26"
             ],
             [
              1,
              "#f0f921"
             ]
            ],
            "type": "surface"
           }
          ],
          "table": [
           {
            "cells": {
             "fill": {
              "color": "#EBF0F8"
             },
             "line": {
              "color": "white"
             }
            },
            "header": {
             "fill": {
              "color": "#C8D4E3"
             },
             "line": {
              "color": "white"
             }
            },
            "type": "table"
           }
          ]
         },
         "layout": {
          "annotationdefaults": {
           "arrowcolor": "#2a3f5f",
           "arrowhead": 0,
           "arrowwidth": 1
          },
          "coloraxis": {
           "colorbar": {
            "outlinewidth": 0,
            "ticks": ""
           }
          },
          "colorscale": {
           "diverging": [
            [
             0,
             "#8e0152"
            ],
            [
             0.1,
             "#c51b7d"
            ],
            [
             0.2,
             "#de77ae"
            ],
            [
             0.3,
             "#f1b6da"
            ],
            [
             0.4,
             "#fde0ef"
            ],
            [
             0.5,
             "#f7f7f7"
            ],
            [
             0.6,
             "#e6f5d0"
            ],
            [
             0.7,
             "#b8e186"
            ],
            [
             0.8,
             "#7fbc41"
            ],
            [
             0.9,
             "#4d9221"
            ],
            [
             1,
             "#276419"
            ]
           ],
           "sequential": [
            [
             0,
             "#0d0887"
            ],
            [
             0.1111111111111111,
             "#46039f"
            ],
            [
             0.2222222222222222,
             "#7201a8"
            ],
            [
             0.3333333333333333,
             "#9c179e"
            ],
            [
             0.4444444444444444,
             "#bd3786"
            ],
            [
             0.5555555555555556,
             "#d8576b"
            ],
            [
             0.6666666666666666,
             "#ed7953"
            ],
            [
             0.7777777777777778,
             "#fb9f3a"
            ],
            [
             0.8888888888888888,
             "#fdca26"
            ],
            [
             1,
             "#f0f921"
            ]
           ],
           "sequentialminus": [
            [
             0,
             "#0d0887"
            ],
            [
             0.1111111111111111,
             "#46039f"
            ],
            [
             0.2222222222222222,
             "#7201a8"
            ],
            [
             0.3333333333333333,
             "#9c179e"
            ],
            [
             0.4444444444444444,
             "#bd3786"
            ],
            [
             0.5555555555555556,
             "#d8576b"
            ],
            [
             0.6666666666666666,
             "#ed7953"
            ],
            [
             0.7777777777777778,
             "#fb9f3a"
            ],
            [
             0.8888888888888888,
             "#fdca26"
            ],
            [
             1,
             "#f0f921"
            ]
           ]
          },
          "colorway": [
           "#636efa",
           "#EF553B",
           "#00cc96",
           "#ab63fa",
           "#FFA15A",
           "#19d3f3",
           "#FF6692",
           "#B6E880",
           "#FF97FF",
           "#FECB52"
          ],
          "font": {
           "color": "#2a3f5f"
          },
          "geo": {
           "bgcolor": "white",
           "lakecolor": "white",
           "landcolor": "#E5ECF6",
           "showlakes": true,
           "showland": true,
           "subunitcolor": "white"
          },
          "hoverlabel": {
           "align": "left"
          },
          "hovermode": "closest",
          "mapbox": {
           "style": "light"
          },
          "paper_bgcolor": "white",
          "plot_bgcolor": "#E5ECF6",
          "polar": {
           "angularaxis": {
            "gridcolor": "white",
            "linecolor": "white",
            "ticks": ""
           },
           "bgcolor": "#E5ECF6",
           "radialaxis": {
            "gridcolor": "white",
            "linecolor": "white",
            "ticks": ""
           }
          },
          "scene": {
           "xaxis": {
            "backgroundcolor": "#E5ECF6",
            "gridcolor": "white",
            "gridwidth": 2,
            "linecolor": "white",
            "showbackground": true,
            "ticks": "",
            "zerolinecolor": "white"
           },
           "yaxis": {
            "backgroundcolor": "#E5ECF6",
            "gridcolor": "white",
            "gridwidth": 2,
            "linecolor": "white",
            "showbackground": true,
            "ticks": "",
            "zerolinecolor": "white"
           },
           "zaxis": {
            "backgroundcolor": "#E5ECF6",
            "gridcolor": "white",
            "gridwidth": 2,
            "linecolor": "white",
            "showbackground": true,
            "ticks": "",
            "zerolinecolor": "white"
           }
          },
          "shapedefaults": {
           "line": {
            "color": "#2a3f5f"
           }
          },
          "ternary": {
           "aaxis": {
            "gridcolor": "white",
            "linecolor": "white",
            "ticks": ""
           },
           "baxis": {
            "gridcolor": "white",
            "linecolor": "white",
            "ticks": ""
           },
           "bgcolor": "#E5ECF6",
           "caxis": {
            "gridcolor": "white",
            "linecolor": "white",
            "ticks": ""
           }
          },
          "title": {
           "x": 0.05
          },
          "xaxis": {
           "automargin": true,
           "gridcolor": "white",
           "linecolor": "white",
           "ticks": "",
           "title": {
            "standoff": 15
           },
           "zerolinecolor": "white",
           "zerolinewidth": 2
          },
          "yaxis": {
           "automargin": true,
           "gridcolor": "white",
           "linecolor": "white",
           "ticks": "",
           "title": {
            "standoff": 15
           },
           "zerolinecolor": "white",
           "zerolinewidth": 2
          }
         }
        },
        "xaxis": {
         "anchor": "y",
         "domain": [
          0,
          1
         ],
         "title": {
          "text": "Limit"
         }
        },
        "yaxis": {
         "anchor": "x",
         "domain": [
          0,
          1
         ],
         "title": {
          "text": "Date"
         }
        }
       }
      },
      "text/html": [
       "<div>\n",
       "        \n",
       "        \n",
       "            <div id=\"6b3f1cbf-8b76-494d-bc22-beafbc02c29d\" class=\"plotly-graph-div\" style=\"height:525px; width:100%;\"></div>\n",
       "            <script type=\"text/javascript\">\n",
       "                require([\"plotly\"], function(Plotly) {\n",
       "                    window.PLOTLYENV=window.PLOTLYENV || {};\n",
       "                    \n",
       "                if (document.getElementById(\"6b3f1cbf-8b76-494d-bc22-beafbc02c29d\")) {\n",
       "                    Plotly.newPlot(\n",
       "                        '6b3f1cbf-8b76-494d-bc22-beafbc02c29d',\n",
       "                        [{\"alignmentgroup\": \"True\", \"hovertemplate\": \"Limit=%{x}<br>Date=%{y}<extra></extra>\", \"legendgroup\": \"\", \"marker\": {\"color\": \"#636efa\"}, \"name\": \"\", \"notched\": false, \"offsetgroup\": \"\", \"orientation\": \"v\", \"showlegend\": false, \"type\": \"box\", \"x\": [500000, 500000, 500000, 500000, 500000, 500000, 500000, 500000, 500000, 500000, 100000, 100000, 100000, 100000, 100000, 100000, 100000, 100000, 100000, 100000, 25000, 25000, 25000, 25000, 25000, 25000, 25000, 25000, 25000, 25000, 350000, 350000, 350000, 350000, 350000, 350000, 350000, 350000, 350000, 350000, 350000, 225000, 225000, 225000, 225000, 225000, 225000, 225000, 225000, 225000, 225000, 500000, 500000, 500000, 500000, 500000, 500000, 500000, 500000, 500000, 500000, 100000, 100000, 100000, 100000, 100000, 100000, 25000, 25000, 25000, 25000, 25000, 25000, 25000, 25000, 25000, 25000, 350000, 350000, 350000, 350000, 350000, 350000, 350000, 350000, 350000, 350000, 350000, 350000, 350000, 350000, 350000, 350000, 350000, 350000, 225000, 225000, 225000, 225000, 225000, 225000, 225000, 225000, 225000, 225000, 225000], \"x0\": \" \", \"xaxis\": \"x\", \"y\": [26, 20, 15, 17, 7, 21, 24, 4, 31, 27, 7, 31, 15, 13, 15, 27, 20, 1, 19, 25, 11, 2, 23, 4, 7, 17, 8, 13, 11, 30, 21, 26, 29, 16, 16, 12, 5, 26, 21, 4, 9, 19, 14, 6, 2, 20, 25, 19, 3, 14, 16, 21, 21, 16, 14, 19, 19, 6, 7, 19, 1, 14, 4, 3, 8, 30, 31, 16, 10, 13, 1, 15, 10, 22, 6, 30, 29, 19, 17, 5, 14, 10, 12, 9, 9, 8, 11, 20, 16, 25, 2, 20, 27, 1, 10, 4, 5, 17, 20, 17, 1, 20, 26, 25, 7, 15], \"y0\": \" \", \"yaxis\": \"y\"}],\n",
       "                        {\"boxmode\": \"group\", \"legend\": {\"tracegroupgap\": 0}, \"margin\": {\"t\": 60}, \"template\": {\"data\": {\"bar\": [{\"error_x\": {\"color\": \"#2a3f5f\"}, \"error_y\": {\"color\": \"#2a3f5f\"}, \"marker\": {\"line\": {\"color\": \"#E5ECF6\", \"width\": 0.5}}, \"type\": \"bar\"}], \"barpolar\": [{\"marker\": {\"line\": {\"color\": \"#E5ECF6\", \"width\": 0.5}}, \"type\": \"barpolar\"}], \"carpet\": [{\"aaxis\": {\"endlinecolor\": \"#2a3f5f\", \"gridcolor\": \"white\", \"linecolor\": \"white\", \"minorgridcolor\": \"white\", \"startlinecolor\": \"#2a3f5f\"}, \"baxis\": {\"endlinecolor\": \"#2a3f5f\", \"gridcolor\": \"white\", \"linecolor\": \"white\", \"minorgridcolor\": \"white\", \"startlinecolor\": \"#2a3f5f\"}, \"type\": \"carpet\"}], \"choropleth\": [{\"colorbar\": {\"outlinewidth\": 0, \"ticks\": \"\"}, \"type\": \"choropleth\"}], \"contour\": [{\"colorbar\": {\"outlinewidth\": 0, \"ticks\": \"\"}, \"colorscale\": [[0.0, \"#0d0887\"], [0.1111111111111111, \"#46039f\"], [0.2222222222222222, \"#7201a8\"], [0.3333333333333333, \"#9c179e\"], [0.4444444444444444, \"#bd3786\"], [0.5555555555555556, \"#d8576b\"], [0.6666666666666666, \"#ed7953\"], [0.7777777777777778, \"#fb9f3a\"], [0.8888888888888888, \"#fdca26\"], [1.0, \"#f0f921\"]], \"type\": \"contour\"}], \"contourcarpet\": [{\"colorbar\": {\"outlinewidth\": 0, \"ticks\": \"\"}, \"type\": \"contourcarpet\"}], \"heatmap\": [{\"colorbar\": {\"outlinewidth\": 0, \"ticks\": \"\"}, \"colorscale\": [[0.0, \"#0d0887\"], [0.1111111111111111, \"#46039f\"], [0.2222222222222222, \"#7201a8\"], [0.3333333333333333, \"#9c179e\"], [0.4444444444444444, \"#bd3786\"], [0.5555555555555556, \"#d8576b\"], [0.6666666666666666, \"#ed7953\"], [0.7777777777777778, \"#fb9f3a\"], [0.8888888888888888, \"#fdca26\"], [1.0, \"#f0f921\"]], \"type\": \"heatmap\"}], \"heatmapgl\": [{\"colorbar\": {\"outlinewidth\": 0, \"ticks\": \"\"}, \"colorscale\": [[0.0, \"#0d0887\"], [0.1111111111111111, \"#46039f\"], [0.2222222222222222, \"#7201a8\"], [0.3333333333333333, \"#9c179e\"], [0.4444444444444444, \"#bd3786\"], [0.5555555555555556, \"#d8576b\"], [0.6666666666666666, \"#ed7953\"], [0.7777777777777778, \"#fb9f3a\"], [0.8888888888888888, \"#fdca26\"], [1.0, \"#f0f921\"]], \"type\": \"heatmapgl\"}], \"histogram\": [{\"marker\": {\"colorbar\": {\"outlinewidth\": 0, \"ticks\": \"\"}}, \"type\": \"histogram\"}], \"histogram2d\": [{\"colorbar\": {\"outlinewidth\": 0, \"ticks\": \"\"}, \"colorscale\": [[0.0, \"#0d0887\"], [0.1111111111111111, \"#46039f\"], [0.2222222222222222, \"#7201a8\"], [0.3333333333333333, \"#9c179e\"], [0.4444444444444444, \"#bd3786\"], [0.5555555555555556, \"#d8576b\"], [0.6666666666666666, \"#ed7953\"], [0.7777777777777778, \"#fb9f3a\"], [0.8888888888888888, \"#fdca26\"], [1.0, \"#f0f921\"]], \"type\": \"histogram2d\"}], \"histogram2dcontour\": [{\"colorbar\": {\"outlinewidth\": 0, \"ticks\": \"\"}, \"colorscale\": [[0.0, \"#0d0887\"], [0.1111111111111111, \"#46039f\"], [0.2222222222222222, \"#7201a8\"], [0.3333333333333333, \"#9c179e\"], [0.4444444444444444, \"#bd3786\"], [0.5555555555555556, \"#d8576b\"], [0.6666666666666666, \"#ed7953\"], [0.7777777777777778, \"#fb9f3a\"], [0.8888888888888888, \"#fdca26\"], [1.0, \"#f0f921\"]], \"type\": \"histogram2dcontour\"}], \"mesh3d\": [{\"colorbar\": {\"outlinewidth\": 0, \"ticks\": \"\"}, \"type\": \"mesh3d\"}], \"parcoords\": [{\"line\": {\"colorbar\": {\"outlinewidth\": 0, \"ticks\": \"\"}}, \"type\": \"parcoords\"}], \"pie\": [{\"automargin\": true, \"type\": \"pie\"}], \"scatter\": [{\"marker\": {\"colorbar\": {\"outlinewidth\": 0, \"ticks\": \"\"}}, \"type\": \"scatter\"}], \"scatter3d\": [{\"line\": {\"colorbar\": {\"outlinewidth\": 0, \"ticks\": \"\"}}, \"marker\": {\"colorbar\": {\"outlinewidth\": 0, \"ticks\": \"\"}}, \"type\": \"scatter3d\"}], \"scattercarpet\": [{\"marker\": {\"colorbar\": {\"outlinewidth\": 0, \"ticks\": \"\"}}, \"type\": \"scattercarpet\"}], \"scattergeo\": [{\"marker\": {\"colorbar\": {\"outlinewidth\": 0, \"ticks\": \"\"}}, \"type\": \"scattergeo\"}], \"scattergl\": [{\"marker\": {\"colorbar\": {\"outlinewidth\": 0, \"ticks\": \"\"}}, \"type\": \"scattergl\"}], \"scattermapbox\": [{\"marker\": {\"colorbar\": {\"outlinewidth\": 0, \"ticks\": \"\"}}, \"type\": \"scattermapbox\"}], \"scatterpolar\": [{\"marker\": {\"colorbar\": {\"outlinewidth\": 0, \"ticks\": \"\"}}, \"type\": \"scatterpolar\"}], \"scatterpolargl\": [{\"marker\": {\"colorbar\": {\"outlinewidth\": 0, \"ticks\": \"\"}}, \"type\": \"scatterpolargl\"}], \"scatterternary\": [{\"marker\": {\"colorbar\": {\"outlinewidth\": 0, \"ticks\": \"\"}}, \"type\": \"scatterternary\"}], \"surface\": [{\"colorbar\": {\"outlinewidth\": 0, \"ticks\": \"\"}, \"colorscale\": [[0.0, \"#0d0887\"], [0.1111111111111111, \"#46039f\"], [0.2222222222222222, \"#7201a8\"], [0.3333333333333333, \"#9c179e\"], [0.4444444444444444, \"#bd3786\"], [0.5555555555555556, \"#d8576b\"], [0.6666666666666666, \"#ed7953\"], [0.7777777777777778, \"#fb9f3a\"], [0.8888888888888888, \"#fdca26\"], [1.0, \"#f0f921\"]], \"type\": \"surface\"}], \"table\": [{\"cells\": {\"fill\": {\"color\": \"#EBF0F8\"}, \"line\": {\"color\": \"white\"}}, \"header\": {\"fill\": {\"color\": \"#C8D4E3\"}, \"line\": {\"color\": \"white\"}}, \"type\": \"table\"}]}, \"layout\": {\"annotationdefaults\": {\"arrowcolor\": \"#2a3f5f\", \"arrowhead\": 0, \"arrowwidth\": 1}, \"coloraxis\": {\"colorbar\": {\"outlinewidth\": 0, \"ticks\": \"\"}}, \"colorscale\": {\"diverging\": [[0, \"#8e0152\"], [0.1, \"#c51b7d\"], [0.2, \"#de77ae\"], [0.3, \"#f1b6da\"], [0.4, \"#fde0ef\"], [0.5, \"#f7f7f7\"], [0.6, \"#e6f5d0\"], [0.7, \"#b8e186\"], [0.8, \"#7fbc41\"], [0.9, \"#4d9221\"], [1, \"#276419\"]], \"sequential\": [[0.0, \"#0d0887\"], [0.1111111111111111, \"#46039f\"], [0.2222222222222222, \"#7201a8\"], [0.3333333333333333, \"#9c179e\"], [0.4444444444444444, \"#bd3786\"], [0.5555555555555556, \"#d8576b\"], [0.6666666666666666, \"#ed7953\"], [0.7777777777777778, \"#fb9f3a\"], [0.8888888888888888, \"#fdca26\"], [1.0, \"#f0f921\"]], \"sequentialminus\": [[0.0, \"#0d0887\"], [0.1111111111111111, \"#46039f\"], [0.2222222222222222, \"#7201a8\"], [0.3333333333333333, \"#9c179e\"], [0.4444444444444444, \"#bd3786\"], [0.5555555555555556, \"#d8576b\"], [0.6666666666666666, \"#ed7953\"], [0.7777777777777778, \"#fb9f3a\"], [0.8888888888888888, \"#fdca26\"], [1.0, \"#f0f921\"]]}, \"colorway\": [\"#636efa\", \"#EF553B\", \"#00cc96\", \"#ab63fa\", \"#FFA15A\", \"#19d3f3\", \"#FF6692\", \"#B6E880\", \"#FF97FF\", \"#FECB52\"], \"font\": {\"color\": \"#2a3f5f\"}, \"geo\": {\"bgcolor\": \"white\", \"lakecolor\": \"white\", \"landcolor\": \"#E5ECF6\", \"showlakes\": true, \"showland\": true, \"subunitcolor\": \"white\"}, \"hoverlabel\": {\"align\": \"left\"}, \"hovermode\": \"closest\", \"mapbox\": {\"style\": \"light\"}, \"paper_bgcolor\": \"white\", \"plot_bgcolor\": \"#E5ECF6\", \"polar\": {\"angularaxis\": {\"gridcolor\": \"white\", \"linecolor\": \"white\", \"ticks\": \"\"}, \"bgcolor\": \"#E5ECF6\", \"radialaxis\": {\"gridcolor\": \"white\", \"linecolor\": \"white\", \"ticks\": \"\"}}, \"scene\": {\"xaxis\": {\"backgroundcolor\": \"#E5ECF6\", \"gridcolor\": \"white\", \"gridwidth\": 2, \"linecolor\": \"white\", \"showbackground\": true, \"ticks\": \"\", \"zerolinecolor\": \"white\"}, \"yaxis\": {\"backgroundcolor\": \"#E5ECF6\", \"gridcolor\": \"white\", \"gridwidth\": 2, \"linecolor\": \"white\", \"showbackground\": true, \"ticks\": \"\", \"zerolinecolor\": \"white\"}, \"zaxis\": {\"backgroundcolor\": \"#E5ECF6\", \"gridcolor\": \"white\", \"gridwidth\": 2, \"linecolor\": \"white\", \"showbackground\": true, \"ticks\": \"\", \"zerolinecolor\": \"white\"}}, \"shapedefaults\": {\"line\": {\"color\": \"#2a3f5f\"}}, \"ternary\": {\"aaxis\": {\"gridcolor\": \"white\", \"linecolor\": \"white\", \"ticks\": \"\"}, \"baxis\": {\"gridcolor\": \"white\", \"linecolor\": \"white\", \"ticks\": \"\"}, \"bgcolor\": \"#E5ECF6\", \"caxis\": {\"gridcolor\": \"white\", \"linecolor\": \"white\", \"ticks\": \"\"}}, \"title\": {\"x\": 0.05}, \"xaxis\": {\"automargin\": true, \"gridcolor\": \"white\", \"linecolor\": \"white\", \"ticks\": \"\", \"title\": {\"standoff\": 15}, \"zerolinecolor\": \"white\", \"zerolinewidth\": 2}, \"yaxis\": {\"automargin\": true, \"gridcolor\": \"white\", \"linecolor\": \"white\", \"ticks\": \"\", \"title\": {\"standoff\": 15}, \"zerolinecolor\": \"white\", \"zerolinewidth\": 2}}}, \"xaxis\": {\"anchor\": \"y\", \"domain\": [0.0, 1.0], \"title\": {\"text\": \"Limit\"}}, \"yaxis\": {\"anchor\": \"x\", \"domain\": [0.0, 1.0], \"title\": {\"text\": \"Date\"}}},\n",
       "                        {\"responsive\": true}\n",
       "                    ).then(function(){\n",
       "                            \n",
       "var gd = document.getElementById('6b3f1cbf-8b76-494d-bc22-beafbc02c29d');\n",
       "var x = new MutationObserver(function (mutations, observer) {{\n",
       "        var display = window.getComputedStyle(gd).display;\n",
       "        if (!display || display === 'none') {{\n",
       "            console.log([gd, 'removed!']);\n",
       "            Plotly.purge(gd);\n",
       "            observer.disconnect();\n",
       "        }}\n",
       "}});\n",
       "\n",
       "// Listen for the removal of the full notebook cells\n",
       "var notebookContainer = gd.closest('#notebook-container');\n",
       "if (notebookContainer) {{\n",
       "    x.observe(notebookContainer, {childList: true});\n",
       "}}\n",
       "\n",
       "// Listen for the clearing of the current output cell\n",
       "var outputEl = gd.closest('.output');\n",
       "if (outputEl) {{\n",
       "    x.observe(outputEl, {childList: true});\n",
       "}}\n",
       "\n",
       "                        })\n",
       "                };\n",
       "                });\n",
       "            </script>\n",
       "        </div>"
      ]
     },
     "metadata": {},
     "output_type": "display_data"
    }
   ],
   "source": [
    "import plotly.express as px\n",
    "df = px.data.tips()\n",
    "fig = px.box(DB, x=\"Limit\", y=\"Date\")\n",
    "fig.show()"
   ]
  },
  {
   "cell_type": "code",
   "execution_count": 50,
   "metadata": {},
   "outputs": [
    {
     "data": {
      "application/vnd.plotly.v1+json": {
       "config": {
        "plotlyServerURL": "https://plot.ly"
       },
       "data": [
        {
         "alignmentgroup": "True",
         "boxpoints": "all",
         "hovertemplate": "Transaction_Type=POS<br>Limit=%{x}<br>Date=%{y}<extra></extra>",
         "legendgroup": "POS",
         "marker": {
          "color": "#636efa"
         },
         "name": "POS",
         "notched": false,
         "offsetgroup": "POS",
         "orientation": "v",
         "showlegend": true,
         "type": "box",
         "x": [
          500000,
          500000,
          500000,
          500000,
          500000,
          500000,
          500000,
          500000,
          500000,
          100000,
          100000,
          100000,
          100000,
          100000,
          100000,
          25000,
          25000,
          25000,
          25000,
          25000,
          25000,
          25000,
          350000,
          350000,
          350000,
          350000,
          350000,
          350000,
          350000,
          350000,
          225000,
          225000,
          225000,
          225000,
          225000,
          225000,
          225000,
          225000,
          500000,
          500000,
          500000,
          500000,
          500000,
          500000,
          500000,
          500000,
          500000,
          100000,
          100000,
          100000,
          25000,
          25000,
          25000,
          25000,
          25000,
          25000,
          25000,
          25000,
          350000,
          350000,
          350000,
          350000,
          350000,
          350000,
          350000,
          350000,
          350000,
          225000,
          225000,
          225000,
          225000,
          225000,
          225000
         ],
         "x0": " ",
         "xaxis": "x",
         "y": [
          26,
          20,
          15,
          17,
          7,
          21,
          4,
          31,
          27,
          31,
          15,
          15,
          27,
          1,
          25,
          11,
          2,
          4,
          17,
          8,
          13,
          30,
          21,
          29,
          16,
          12,
          5,
          21,
          4,
          9,
          19,
          14,
          6,
          2,
          20,
          19,
          3,
          14,
          21,
          21,
          16,
          14,
          19,
          6,
          7,
          19,
          1,
          4,
          30,
          31,
          16,
          13,
          1,
          15,
          10,
          6,
          30,
          29,
          17,
          14,
          12,
          9,
          8,
          16,
          25,
          20,
          27,
          4,
          17,
          20,
          17,
          20,
          25
         ],
         "y0": " ",
         "yaxis": "y"
        },
        {
         "alignmentgroup": "True",
         "boxpoints": "all",
         "hovertemplate": "Transaction_Type=Internet<br>Limit=%{x}<br>Date=%{y}<extra></extra>",
         "legendgroup": "Internet",
         "marker": {
          "color": "#EF553B"
         },
         "name": "Internet",
         "notched": false,
         "offsetgroup": "Internet",
         "orientation": "v",
         "showlegend": true,
         "type": "box",
         "x": [
          500000,
          100000,
          100000,
          100000,
          100000,
          25000,
          25000,
          25000,
          350000,
          350000,
          350000,
          225000,
          225000,
          500000,
          100000,
          100000,
          100000,
          25000,
          25000,
          350000,
          350000,
          350000,
          350000,
          350000,
          350000,
          350000,
          350000,
          350000,
          225000,
          225000,
          225000,
          225000,
          225000
         ],
         "x0": " ",
         "xaxis": "x",
         "y": [
          24,
          7,
          13,
          20,
          19,
          23,
          7,
          11,
          26,
          16,
          26,
          25,
          16,
          19,
          14,
          3,
          8,
          10,
          22,
          19,
          5,
          10,
          9,
          11,
          20,
          2,
          1,
          10,
          5,
          1,
          26,
          7,
          15
         ],
         "y0": " ",
         "yaxis": "y"
        }
       ],
       "layout": {
        "boxmode": "group",
        "legend": {
         "title": {
          "text": "Transaction_Type"
         },
         "tracegroupgap": 0
        },
        "margin": {
         "t": 60
        },
        "template": {
         "data": {
          "bar": [
           {
            "error_x": {
             "color": "#2a3f5f"
            },
            "error_y": {
             "color": "#2a3f5f"
            },
            "marker": {
             "line": {
              "color": "#E5ECF6",
              "width": 0.5
             }
            },
            "type": "bar"
           }
          ],
          "barpolar": [
           {
            "marker": {
             "line": {
              "color": "#E5ECF6",
              "width": 0.5
             }
            },
            "type": "barpolar"
           }
          ],
          "carpet": [
           {
            "aaxis": {
             "endlinecolor": "#2a3f5f",
             "gridcolor": "white",
             "linecolor": "white",
             "minorgridcolor": "white",
             "startlinecolor": "#2a3f5f"
            },
            "baxis": {
             "endlinecolor": "#2a3f5f",
             "gridcolor": "white",
             "linecolor": "white",
             "minorgridcolor": "white",
             "startlinecolor": "#2a3f5f"
            },
            "type": "carpet"
           }
          ],
          "choropleth": [
           {
            "colorbar": {
             "outlinewidth": 0,
             "ticks": ""
            },
            "type": "choropleth"
           }
          ],
          "contour": [
           {
            "colorbar": {
             "outlinewidth": 0,
             "ticks": ""
            },
            "colorscale": [
             [
              0,
              "#0d0887"
             ],
             [
              0.1111111111111111,
              "#46039f"
             ],
             [
              0.2222222222222222,
              "#7201a8"
             ],
             [
              0.3333333333333333,
              "#9c179e"
             ],
             [
              0.4444444444444444,
              "#bd3786"
             ],
             [
              0.5555555555555556,
              "#d8576b"
             ],
             [
              0.6666666666666666,
              "#ed7953"
             ],
             [
              0.7777777777777778,
              "#fb9f3a"
             ],
             [
              0.8888888888888888,
              "#fdca26"
             ],
             [
              1,
              "#f0f921"
             ]
            ],
            "type": "contour"
           }
          ],
          "contourcarpet": [
           {
            "colorbar": {
             "outlinewidth": 0,
             "ticks": ""
            },
            "type": "contourcarpet"
           }
          ],
          "heatmap": [
           {
            "colorbar": {
             "outlinewidth": 0,
             "ticks": ""
            },
            "colorscale": [
             [
              0,
              "#0d0887"
             ],
             [
              0.1111111111111111,
              "#46039f"
             ],
             [
              0.2222222222222222,
              "#7201a8"
             ],
             [
              0.3333333333333333,
              "#9c179e"
             ],
             [
              0.4444444444444444,
              "#bd3786"
             ],
             [
              0.5555555555555556,
              "#d8576b"
             ],
             [
              0.6666666666666666,
              "#ed7953"
             ],
             [
              0.7777777777777778,
              "#fb9f3a"
             ],
             [
              0.8888888888888888,
              "#fdca26"
             ],
             [
              1,
              "#f0f921"
             ]
            ],
            "type": "heatmap"
           }
          ],
          "heatmapgl": [
           {
            "colorbar": {
             "outlinewidth": 0,
             "ticks": ""
            },
            "colorscale": [
             [
              0,
              "#0d0887"
             ],
             [
              0.1111111111111111,
              "#46039f"
             ],
             [
              0.2222222222222222,
              "#7201a8"
             ],
             [
              0.3333333333333333,
              "#9c179e"
             ],
             [
              0.4444444444444444,
              "#bd3786"
             ],
             [
              0.5555555555555556,
              "#d8576b"
             ],
             [
              0.6666666666666666,
              "#ed7953"
             ],
             [
              0.7777777777777778,
              "#fb9f3a"
             ],
             [
              0.8888888888888888,
              "#fdca26"
             ],
             [
              1,
              "#f0f921"
             ]
            ],
            "type": "heatmapgl"
           }
          ],
          "histogram": [
           {
            "marker": {
             "colorbar": {
              "outlinewidth": 0,
              "ticks": ""
             }
            },
            "type": "histogram"
           }
          ],
          "histogram2d": [
           {
            "colorbar": {
             "outlinewidth": 0,
             "ticks": ""
            },
            "colorscale": [
             [
              0,
              "#0d0887"
             ],
             [
              0.1111111111111111,
              "#46039f"
             ],
             [
              0.2222222222222222,
              "#7201a8"
             ],
             [
              0.3333333333333333,
              "#9c179e"
             ],
             [
              0.4444444444444444,
              "#bd3786"
             ],
             [
              0.5555555555555556,
              "#d8576b"
             ],
             [
              0.6666666666666666,
              "#ed7953"
             ],
             [
              0.7777777777777778,
              "#fb9f3a"
             ],
             [
              0.8888888888888888,
              "#fdca26"
             ],
             [
              1,
              "#f0f921"
             ]
            ],
            "type": "histogram2d"
           }
          ],
          "histogram2dcontour": [
           {
            "colorbar": {
             "outlinewidth": 0,
             "ticks": ""
            },
            "colorscale": [
             [
              0,
              "#0d0887"
             ],
             [
              0.1111111111111111,
              "#46039f"
             ],
             [
              0.2222222222222222,
              "#7201a8"
             ],
             [
              0.3333333333333333,
              "#9c179e"
             ],
             [
              0.4444444444444444,
              "#bd3786"
             ],
             [
              0.5555555555555556,
              "#d8576b"
             ],
             [
              0.6666666666666666,
              "#ed7953"
             ],
             [
              0.7777777777777778,
              "#fb9f3a"
             ],
             [
              0.8888888888888888,
              "#fdca26"
             ],
             [
              1,
              "#f0f921"
             ]
            ],
            "type": "histogram2dcontour"
           }
          ],
          "mesh3d": [
           {
            "colorbar": {
             "outlinewidth": 0,
             "ticks": ""
            },
            "type": "mesh3d"
           }
          ],
          "parcoords": [
           {
            "line": {
             "colorbar": {
              "outlinewidth": 0,
              "ticks": ""
             }
            },
            "type": "parcoords"
           }
          ],
          "pie": [
           {
            "automargin": true,
            "type": "pie"
           }
          ],
          "scatter": [
           {
            "marker": {
             "colorbar": {
              "outlinewidth": 0,
              "ticks": ""
             }
            },
            "type": "scatter"
           }
          ],
          "scatter3d": [
           {
            "line": {
             "colorbar": {
              "outlinewidth": 0,
              "ticks": ""
             }
            },
            "marker": {
             "colorbar": {
              "outlinewidth": 0,
              "ticks": ""
             }
            },
            "type": "scatter3d"
           }
          ],
          "scattercarpet": [
           {
            "marker": {
             "colorbar": {
              "outlinewidth": 0,
              "ticks": ""
             }
            },
            "type": "scattercarpet"
           }
          ],
          "scattergeo": [
           {
            "marker": {
             "colorbar": {
              "outlinewidth": 0,
              "ticks": ""
             }
            },
            "type": "scattergeo"
           }
          ],
          "scattergl": [
           {
            "marker": {
             "colorbar": {
              "outlinewidth": 0,
              "ticks": ""
             }
            },
            "type": "scattergl"
           }
          ],
          "scattermapbox": [
           {
            "marker": {
             "colorbar": {
              "outlinewidth": 0,
              "ticks": ""
             }
            },
            "type": "scattermapbox"
           }
          ],
          "scatterpolar": [
           {
            "marker": {
             "colorbar": {
              "outlinewidth": 0,
              "ticks": ""
             }
            },
            "type": "scatterpolar"
           }
          ],
          "scatterpolargl": [
           {
            "marker": {
             "colorbar": {
              "outlinewidth": 0,
              "ticks": ""
             }
            },
            "type": "scatterpolargl"
           }
          ],
          "scatterternary": [
           {
            "marker": {
             "colorbar": {
              "outlinewidth": 0,
              "ticks": ""
             }
            },
            "type": "scatterternary"
           }
          ],
          "surface": [
           {
            "colorbar": {
             "outlinewidth": 0,
             "ticks": ""
            },
            "colorscale": [
             [
              0,
              "#0d0887"
             ],
             [
              0.1111111111111111,
              "#46039f"
             ],
             [
              0.2222222222222222,
              "#7201a8"
             ],
             [
              0.3333333333333333,
              "#9c179e"
             ],
             [
              0.4444444444444444,
              "#bd3786"
             ],
             [
              0.5555555555555556,
              "#d8576b"
             ],
             [
              0.6666666666666666,
              "#ed7953"
             ],
             [
              0.7777777777777778,
              "#fb9f3a"
             ],
             [
              0.8888888888888888,
              "#fdca26"
             ],
             [
              1,
              "#f0f921"
             ]
            ],
            "type": "surface"
           }
          ],
          "table": [
           {
            "cells": {
             "fill": {
              "color": "#EBF0F8"
             },
             "line": {
              "color": "white"
             }
            },
            "header": {
             "fill": {
              "color": "#C8D4E3"
             },
             "line": {
              "color": "white"
             }
            },
            "type": "table"
           }
          ]
         },
         "layout": {
          "annotationdefaults": {
           "arrowcolor": "#2a3f5f",
           "arrowhead": 0,
           "arrowwidth": 1
          },
          "coloraxis": {
           "colorbar": {
            "outlinewidth": 0,
            "ticks": ""
           }
          },
          "colorscale": {
           "diverging": [
            [
             0,
             "#8e0152"
            ],
            [
             0.1,
             "#c51b7d"
            ],
            [
             0.2,
             "#de77ae"
            ],
            [
             0.3,
             "#f1b6da"
            ],
            [
             0.4,
             "#fde0ef"
            ],
            [
             0.5,
             "#f7f7f7"
            ],
            [
             0.6,
             "#e6f5d0"
            ],
            [
             0.7,
             "#b8e186"
            ],
            [
             0.8,
             "#7fbc41"
            ],
            [
             0.9,
             "#4d9221"
            ],
            [
             1,
             "#276419"
            ]
           ],
           "sequential": [
            [
             0,
             "#0d0887"
            ],
            [
             0.1111111111111111,
             "#46039f"
            ],
            [
             0.2222222222222222,
             "#7201a8"
            ],
            [
             0.3333333333333333,
             "#9c179e"
            ],
            [
             0.4444444444444444,
             "#bd3786"
            ],
            [
             0.5555555555555556,
             "#d8576b"
            ],
            [
             0.6666666666666666,
             "#ed7953"
            ],
            [
             0.7777777777777778,
             "#fb9f3a"
            ],
            [
             0.8888888888888888,
             "#fdca26"
            ],
            [
             1,
             "#f0f921"
            ]
           ],
           "sequentialminus": [
            [
             0,
             "#0d0887"
            ],
            [
             0.1111111111111111,
             "#46039f"
            ],
            [
             0.2222222222222222,
             "#7201a8"
            ],
            [
             0.3333333333333333,
             "#9c179e"
            ],
            [
             0.4444444444444444,
             "#bd3786"
            ],
            [
             0.5555555555555556,
             "#d8576b"
            ],
            [
             0.6666666666666666,
             "#ed7953"
            ],
            [
             0.7777777777777778,
             "#fb9f3a"
            ],
            [
             0.8888888888888888,
             "#fdca26"
            ],
            [
             1,
             "#f0f921"
            ]
           ]
          },
          "colorway": [
           "#636efa",
           "#EF553B",
           "#00cc96",
           "#ab63fa",
           "#FFA15A",
           "#19d3f3",
           "#FF6692",
           "#B6E880",
           "#FF97FF",
           "#FECB52"
          ],
          "font": {
           "color": "#2a3f5f"
          },
          "geo": {
           "bgcolor": "white",
           "lakecolor": "white",
           "landcolor": "#E5ECF6",
           "showlakes": true,
           "showland": true,
           "subunitcolor": "white"
          },
          "hoverlabel": {
           "align": "left"
          },
          "hovermode": "closest",
          "mapbox": {
           "style": "light"
          },
          "paper_bgcolor": "white",
          "plot_bgcolor": "#E5ECF6",
          "polar": {
           "angularaxis": {
            "gridcolor": "white",
            "linecolor": "white",
            "ticks": ""
           },
           "bgcolor": "#E5ECF6",
           "radialaxis": {
            "gridcolor": "white",
            "linecolor": "white",
            "ticks": ""
           }
          },
          "scene": {
           "xaxis": {
            "backgroundcolor": "#E5ECF6",
            "gridcolor": "white",
            "gridwidth": 2,
            "linecolor": "white",
            "showbackground": true,
            "ticks": "",
            "zerolinecolor": "white"
           },
           "yaxis": {
            "backgroundcolor": "#E5ECF6",
            "gridcolor": "white",
            "gridwidth": 2,
            "linecolor": "white",
            "showbackground": true,
            "ticks": "",
            "zerolinecolor": "white"
           },
           "zaxis": {
            "backgroundcolor": "#E5ECF6",
            "gridcolor": "white",
            "gridwidth": 2,
            "linecolor": "white",
            "showbackground": true,
            "ticks": "",
            "zerolinecolor": "white"
           }
          },
          "shapedefaults": {
           "line": {
            "color": "#2a3f5f"
           }
          },
          "ternary": {
           "aaxis": {
            "gridcolor": "white",
            "linecolor": "white",
            "ticks": ""
           },
           "baxis": {
            "gridcolor": "white",
            "linecolor": "white",
            "ticks": ""
           },
           "bgcolor": "#E5ECF6",
           "caxis": {
            "gridcolor": "white",
            "linecolor": "white",
            "ticks": ""
           }
          },
          "title": {
           "x": 0.05
          },
          "xaxis": {
           "automargin": true,
           "gridcolor": "white",
           "linecolor": "white",
           "ticks": "",
           "title": {
            "standoff": 15
           },
           "zerolinecolor": "white",
           "zerolinewidth": 2
          },
          "yaxis": {
           "automargin": true,
           "gridcolor": "white",
           "linecolor": "white",
           "ticks": "",
           "title": {
            "standoff": 15
           },
           "zerolinecolor": "white",
           "zerolinewidth": 2
          }
         }
        },
        "xaxis": {
         "anchor": "y",
         "domain": [
          0,
          1
         ],
         "title": {
          "text": "Limit"
         }
        },
        "yaxis": {
         "anchor": "x",
         "domain": [
          0,
          1
         ],
         "title": {
          "text": "Date"
         }
        }
       }
      },
      "text/html": [
       "<div>\n",
       "        \n",
       "        \n",
       "            <div id=\"dfac6f4c-08cb-4f1c-959b-8a1245f5bc62\" class=\"plotly-graph-div\" style=\"height:525px; width:100%;\"></div>\n",
       "            <script type=\"text/javascript\">\n",
       "                require([\"plotly\"], function(Plotly) {\n",
       "                    window.PLOTLYENV=window.PLOTLYENV || {};\n",
       "                    \n",
       "                if (document.getElementById(\"dfac6f4c-08cb-4f1c-959b-8a1245f5bc62\")) {\n",
       "                    Plotly.newPlot(\n",
       "                        'dfac6f4c-08cb-4f1c-959b-8a1245f5bc62',\n",
       "                        [{\"alignmentgroup\": \"True\", \"boxpoints\": \"all\", \"hovertemplate\": \"Transaction_Type=POS<br>Limit=%{x}<br>Date=%{y}<extra></extra>\", \"legendgroup\": \"POS\", \"marker\": {\"color\": \"#636efa\"}, \"name\": \"POS\", \"notched\": false, \"offsetgroup\": \"POS\", \"orientation\": \"v\", \"showlegend\": true, \"type\": \"box\", \"x\": [500000, 500000, 500000, 500000, 500000, 500000, 500000, 500000, 500000, 100000, 100000, 100000, 100000, 100000, 100000, 25000, 25000, 25000, 25000, 25000, 25000, 25000, 350000, 350000, 350000, 350000, 350000, 350000, 350000, 350000, 225000, 225000, 225000, 225000, 225000, 225000, 225000, 225000, 500000, 500000, 500000, 500000, 500000, 500000, 500000, 500000, 500000, 100000, 100000, 100000, 25000, 25000, 25000, 25000, 25000, 25000, 25000, 25000, 350000, 350000, 350000, 350000, 350000, 350000, 350000, 350000, 350000, 225000, 225000, 225000, 225000, 225000, 225000], \"x0\": \" \", \"xaxis\": \"x\", \"y\": [26, 20, 15, 17, 7, 21, 4, 31, 27, 31, 15, 15, 27, 1, 25, 11, 2, 4, 17, 8, 13, 30, 21, 29, 16, 12, 5, 21, 4, 9, 19, 14, 6, 2, 20, 19, 3, 14, 21, 21, 16, 14, 19, 6, 7, 19, 1, 4, 30, 31, 16, 13, 1, 15, 10, 6, 30, 29, 17, 14, 12, 9, 8, 16, 25, 20, 27, 4, 17, 20, 17, 20, 25], \"y0\": \" \", \"yaxis\": \"y\"}, {\"alignmentgroup\": \"True\", \"boxpoints\": \"all\", \"hovertemplate\": \"Transaction_Type=Internet<br>Limit=%{x}<br>Date=%{y}<extra></extra>\", \"legendgroup\": \"Internet\", \"marker\": {\"color\": \"#EF553B\"}, \"name\": \"Internet\", \"notched\": false, \"offsetgroup\": \"Internet\", \"orientation\": \"v\", \"showlegend\": true, \"type\": \"box\", \"x\": [500000, 100000, 100000, 100000, 100000, 25000, 25000, 25000, 350000, 350000, 350000, 225000, 225000, 500000, 100000, 100000, 100000, 25000, 25000, 350000, 350000, 350000, 350000, 350000, 350000, 350000, 350000, 350000, 225000, 225000, 225000, 225000, 225000], \"x0\": \" \", \"xaxis\": \"x\", \"y\": [24, 7, 13, 20, 19, 23, 7, 11, 26, 16, 26, 25, 16, 19, 14, 3, 8, 10, 22, 19, 5, 10, 9, 11, 20, 2, 1, 10, 5, 1, 26, 7, 15], \"y0\": \" \", \"yaxis\": \"y\"}],\n",
       "                        {\"boxmode\": \"group\", \"legend\": {\"title\": {\"text\": \"Transaction_Type\"}, \"tracegroupgap\": 0}, \"margin\": {\"t\": 60}, \"template\": {\"data\": {\"bar\": [{\"error_x\": {\"color\": \"#2a3f5f\"}, \"error_y\": {\"color\": \"#2a3f5f\"}, \"marker\": {\"line\": {\"color\": \"#E5ECF6\", \"width\": 0.5}}, \"type\": \"bar\"}], \"barpolar\": [{\"marker\": {\"line\": {\"color\": \"#E5ECF6\", \"width\": 0.5}}, \"type\": \"barpolar\"}], \"carpet\": [{\"aaxis\": {\"endlinecolor\": \"#2a3f5f\", \"gridcolor\": \"white\", \"linecolor\": \"white\", \"minorgridcolor\": \"white\", \"startlinecolor\": \"#2a3f5f\"}, \"baxis\": {\"endlinecolor\": \"#2a3f5f\", \"gridcolor\": \"white\", \"linecolor\": \"white\", \"minorgridcolor\": \"white\", \"startlinecolor\": \"#2a3f5f\"}, \"type\": \"carpet\"}], \"choropleth\": [{\"colorbar\": {\"outlinewidth\": 0, \"ticks\": \"\"}, \"type\": \"choropleth\"}], \"contour\": [{\"colorbar\": {\"outlinewidth\": 0, \"ticks\": \"\"}, \"colorscale\": [[0.0, \"#0d0887\"], [0.1111111111111111, \"#46039f\"], [0.2222222222222222, \"#7201a8\"], [0.3333333333333333, \"#9c179e\"], [0.4444444444444444, \"#bd3786\"], [0.5555555555555556, \"#d8576b\"], [0.6666666666666666, \"#ed7953\"], [0.7777777777777778, \"#fb9f3a\"], [0.8888888888888888, \"#fdca26\"], [1.0, \"#f0f921\"]], \"type\": \"contour\"}], \"contourcarpet\": [{\"colorbar\": {\"outlinewidth\": 0, \"ticks\": \"\"}, \"type\": \"contourcarpet\"}], \"heatmap\": [{\"colorbar\": {\"outlinewidth\": 0, \"ticks\": \"\"}, \"colorscale\": [[0.0, \"#0d0887\"], [0.1111111111111111, \"#46039f\"], [0.2222222222222222, \"#7201a8\"], [0.3333333333333333, \"#9c179e\"], [0.4444444444444444, \"#bd3786\"], [0.5555555555555556, \"#d8576b\"], [0.6666666666666666, \"#ed7953\"], [0.7777777777777778, \"#fb9f3a\"], [0.8888888888888888, \"#fdca26\"], [1.0, \"#f0f921\"]], \"type\": \"heatmap\"}], \"heatmapgl\": [{\"colorbar\": {\"outlinewidth\": 0, \"ticks\": \"\"}, \"colorscale\": [[0.0, \"#0d0887\"], [0.1111111111111111, \"#46039f\"], [0.2222222222222222, \"#7201a8\"], [0.3333333333333333, \"#9c179e\"], [0.4444444444444444, \"#bd3786\"], [0.5555555555555556, \"#d8576b\"], [0.6666666666666666, \"#ed7953\"], [0.7777777777777778, \"#fb9f3a\"], [0.8888888888888888, \"#fdca26\"], [1.0, \"#f0f921\"]], \"type\": \"heatmapgl\"}], \"histogram\": [{\"marker\": {\"colorbar\": {\"outlinewidth\": 0, \"ticks\": \"\"}}, \"type\": \"histogram\"}], \"histogram2d\": [{\"colorbar\": {\"outlinewidth\": 0, \"ticks\": \"\"}, \"colorscale\": [[0.0, \"#0d0887\"], [0.1111111111111111, \"#46039f\"], [0.2222222222222222, \"#7201a8\"], [0.3333333333333333, \"#9c179e\"], [0.4444444444444444, \"#bd3786\"], [0.5555555555555556, \"#d8576b\"], [0.6666666666666666, \"#ed7953\"], [0.7777777777777778, \"#fb9f3a\"], [0.8888888888888888, \"#fdca26\"], [1.0, \"#f0f921\"]], \"type\": \"histogram2d\"}], \"histogram2dcontour\": [{\"colorbar\": {\"outlinewidth\": 0, \"ticks\": \"\"}, \"colorscale\": [[0.0, \"#0d0887\"], [0.1111111111111111, \"#46039f\"], [0.2222222222222222, \"#7201a8\"], [0.3333333333333333, \"#9c179e\"], [0.4444444444444444, \"#bd3786\"], [0.5555555555555556, \"#d8576b\"], [0.6666666666666666, \"#ed7953\"], [0.7777777777777778, \"#fb9f3a\"], [0.8888888888888888, \"#fdca26\"], [1.0, \"#f0f921\"]], \"type\": \"histogram2dcontour\"}], \"mesh3d\": [{\"colorbar\": {\"outlinewidth\": 0, \"ticks\": \"\"}, \"type\": \"mesh3d\"}], \"parcoords\": [{\"line\": {\"colorbar\": {\"outlinewidth\": 0, \"ticks\": \"\"}}, \"type\": \"parcoords\"}], \"pie\": [{\"automargin\": true, \"type\": \"pie\"}], \"scatter\": [{\"marker\": {\"colorbar\": {\"outlinewidth\": 0, \"ticks\": \"\"}}, \"type\": \"scatter\"}], \"scatter3d\": [{\"line\": {\"colorbar\": {\"outlinewidth\": 0, \"ticks\": \"\"}}, \"marker\": {\"colorbar\": {\"outlinewidth\": 0, \"ticks\": \"\"}}, \"type\": \"scatter3d\"}], \"scattercarpet\": [{\"marker\": {\"colorbar\": {\"outlinewidth\": 0, \"ticks\": \"\"}}, \"type\": \"scattercarpet\"}], \"scattergeo\": [{\"marker\": {\"colorbar\": {\"outlinewidth\": 0, \"ticks\": \"\"}}, \"type\": \"scattergeo\"}], \"scattergl\": [{\"marker\": {\"colorbar\": {\"outlinewidth\": 0, \"ticks\": \"\"}}, \"type\": \"scattergl\"}], \"scattermapbox\": [{\"marker\": {\"colorbar\": {\"outlinewidth\": 0, \"ticks\": \"\"}}, \"type\": \"scattermapbox\"}], \"scatterpolar\": [{\"marker\": {\"colorbar\": {\"outlinewidth\": 0, \"ticks\": \"\"}}, \"type\": \"scatterpolar\"}], \"scatterpolargl\": [{\"marker\": {\"colorbar\": {\"outlinewidth\": 0, \"ticks\": \"\"}}, \"type\": \"scatterpolargl\"}], \"scatterternary\": [{\"marker\": {\"colorbar\": {\"outlinewidth\": 0, \"ticks\": \"\"}}, \"type\": \"scatterternary\"}], \"surface\": [{\"colorbar\": {\"outlinewidth\": 0, \"ticks\": \"\"}, \"colorscale\": [[0.0, \"#0d0887\"], [0.1111111111111111, \"#46039f\"], [0.2222222222222222, \"#7201a8\"], [0.3333333333333333, \"#9c179e\"], [0.4444444444444444, \"#bd3786\"], [0.5555555555555556, \"#d8576b\"], [0.6666666666666666, \"#ed7953\"], [0.7777777777777778, \"#fb9f3a\"], [0.8888888888888888, \"#fdca26\"], [1.0, \"#f0f921\"]], \"type\": \"surface\"}], \"table\": [{\"cells\": {\"fill\": {\"color\": \"#EBF0F8\"}, \"line\": {\"color\": \"white\"}}, \"header\": {\"fill\": {\"color\": \"#C8D4E3\"}, \"line\": {\"color\": \"white\"}}, \"type\": \"table\"}]}, \"layout\": {\"annotationdefaults\": {\"arrowcolor\": \"#2a3f5f\", \"arrowhead\": 0, \"arrowwidth\": 1}, \"coloraxis\": {\"colorbar\": {\"outlinewidth\": 0, \"ticks\": \"\"}}, \"colorscale\": {\"diverging\": [[0, \"#8e0152\"], [0.1, \"#c51b7d\"], [0.2, \"#de77ae\"], [0.3, \"#f1b6da\"], [0.4, \"#fde0ef\"], [0.5, \"#f7f7f7\"], [0.6, \"#e6f5d0\"], [0.7, \"#b8e186\"], [0.8, \"#7fbc41\"], [0.9, \"#4d9221\"], [1, \"#276419\"]], \"sequential\": [[0.0, \"#0d0887\"], [0.1111111111111111, \"#46039f\"], [0.2222222222222222, \"#7201a8\"], [0.3333333333333333, \"#9c179e\"], [0.4444444444444444, \"#bd3786\"], [0.5555555555555556, \"#d8576b\"], [0.6666666666666666, \"#ed7953\"], [0.7777777777777778, \"#fb9f3a\"], [0.8888888888888888, \"#fdca26\"], [1.0, \"#f0f921\"]], \"sequentialminus\": [[0.0, \"#0d0887\"], [0.1111111111111111, \"#46039f\"], [0.2222222222222222, \"#7201a8\"], [0.3333333333333333, \"#9c179e\"], [0.4444444444444444, \"#bd3786\"], [0.5555555555555556, \"#d8576b\"], [0.6666666666666666, \"#ed7953\"], [0.7777777777777778, \"#fb9f3a\"], [0.8888888888888888, \"#fdca26\"], [1.0, \"#f0f921\"]]}, \"colorway\": [\"#636efa\", \"#EF553B\", \"#00cc96\", \"#ab63fa\", \"#FFA15A\", \"#19d3f3\", \"#FF6692\", \"#B6E880\", \"#FF97FF\", \"#FECB52\"], \"font\": {\"color\": \"#2a3f5f\"}, \"geo\": {\"bgcolor\": \"white\", \"lakecolor\": \"white\", \"landcolor\": \"#E5ECF6\", \"showlakes\": true, \"showland\": true, \"subunitcolor\": \"white\"}, \"hoverlabel\": {\"align\": \"left\"}, \"hovermode\": \"closest\", \"mapbox\": {\"style\": \"light\"}, \"paper_bgcolor\": \"white\", \"plot_bgcolor\": \"#E5ECF6\", \"polar\": {\"angularaxis\": {\"gridcolor\": \"white\", \"linecolor\": \"white\", \"ticks\": \"\"}, \"bgcolor\": \"#E5ECF6\", \"radialaxis\": {\"gridcolor\": \"white\", \"linecolor\": \"white\", \"ticks\": \"\"}}, \"scene\": {\"xaxis\": {\"backgroundcolor\": \"#E5ECF6\", \"gridcolor\": \"white\", \"gridwidth\": 2, \"linecolor\": \"white\", \"showbackground\": true, \"ticks\": \"\", \"zerolinecolor\": \"white\"}, \"yaxis\": {\"backgroundcolor\": \"#E5ECF6\", \"gridcolor\": \"white\", \"gridwidth\": 2, \"linecolor\": \"white\", \"showbackground\": true, \"ticks\": \"\", \"zerolinecolor\": \"white\"}, \"zaxis\": {\"backgroundcolor\": \"#E5ECF6\", \"gridcolor\": \"white\", \"gridwidth\": 2, \"linecolor\": \"white\", \"showbackground\": true, \"ticks\": \"\", \"zerolinecolor\": \"white\"}}, \"shapedefaults\": {\"line\": {\"color\": \"#2a3f5f\"}}, \"ternary\": {\"aaxis\": {\"gridcolor\": \"white\", \"linecolor\": \"white\", \"ticks\": \"\"}, \"baxis\": {\"gridcolor\": \"white\", \"linecolor\": \"white\", \"ticks\": \"\"}, \"bgcolor\": \"#E5ECF6\", \"caxis\": {\"gridcolor\": \"white\", \"linecolor\": \"white\", \"ticks\": \"\"}}, \"title\": {\"x\": 0.05}, \"xaxis\": {\"automargin\": true, \"gridcolor\": \"white\", \"linecolor\": \"white\", \"ticks\": \"\", \"title\": {\"standoff\": 15}, \"zerolinecolor\": \"white\", \"zerolinewidth\": 2}, \"yaxis\": {\"automargin\": true, \"gridcolor\": \"white\", \"linecolor\": \"white\", \"ticks\": \"\", \"title\": {\"standoff\": 15}, \"zerolinecolor\": \"white\", \"zerolinewidth\": 2}}}, \"xaxis\": {\"anchor\": \"y\", \"domain\": [0.0, 1.0], \"title\": {\"text\": \"Limit\"}}, \"yaxis\": {\"anchor\": \"x\", \"domain\": [0.0, 1.0], \"title\": {\"text\": \"Date\"}}},\n",
       "                        {\"responsive\": true}\n",
       "                    ).then(function(){\n",
       "                            \n",
       "var gd = document.getElementById('dfac6f4c-08cb-4f1c-959b-8a1245f5bc62');\n",
       "var x = new MutationObserver(function (mutations, observer) {{\n",
       "        var display = window.getComputedStyle(gd).display;\n",
       "        if (!display || display === 'none') {{\n",
       "            console.log([gd, 'removed!']);\n",
       "            Plotly.purge(gd);\n",
       "            observer.disconnect();\n",
       "        }}\n",
       "}});\n",
       "\n",
       "// Listen for the removal of the full notebook cells\n",
       "var notebookContainer = gd.closest('#notebook-container');\n",
       "if (notebookContainer) {{\n",
       "    x.observe(notebookContainer, {childList: true});\n",
       "}}\n",
       "\n",
       "// Listen for the clearing of the current output cell\n",
       "var outputEl = gd.closest('.output');\n",
       "if (outputEl) {{\n",
       "    x.observe(outputEl, {childList: true});\n",
       "}}\n",
       "\n",
       "                        })\n",
       "                };\n",
       "                });\n",
       "            </script>\n",
       "        </div>"
      ]
     },
     "metadata": {},
     "output_type": "display_data"
    }
   ],
   "source": [
    "import plotly.express as px\n",
    "\n",
    "fig = px.box(DB, x=\"Limit\", y=\"Date\", points=\"all\",color='Transaction_Type')\n",
    "fig.show()"
   ]
  },
  {
   "cell_type": "code",
   "execution_count": 51,
   "metadata": {},
   "outputs": [
    {
     "data": {
      "application/vnd.plotly.v1+json": {
       "config": {
        "plotlyServerURL": "https://plot.ly"
       },
       "data": [
        {
         "dimensions": [
          {
           "axis": {
            "matches": true
           },
           "label": "Month",
           "values": [
            "Jun",
            "Oct",
            "Jul",
            "Dec",
            "Sep",
            "Nov",
            "May",
            "May",
            "Sep",
            "Dec",
            "Jun",
            "Jan",
            "Apr",
            "Dec",
            "Sep",
            "Jun",
            "Jun",
            "Feb",
            "Jan",
            "Sep",
            "Sep",
            "Mar",
            "Oct",
            "Oct",
            "May",
            "Apr",
            "May",
            "Dec",
            "Nov",
            "Mar",
            "May",
            "Mar",
            "Jul",
            "Nov",
            "Oct",
            "Feb",
            "Jun",
            "Feb",
            "Oct",
            "May",
            "Jul",
            "Feb",
            "Apr",
            "May",
            "Sep",
            "Oct",
            "Oct",
            "Apr",
            "Jul",
            "Mar",
            "Dec",
            "Apr",
            "Dec",
            "Jun",
            "Feb",
            "Oct",
            "Apr",
            "Jul",
            "Oct",
            "Oct",
            "Sep",
            "Nov",
            "Apr",
            "Aug",
            "Mar",
            "Jun",
            "Apr",
            "Oct",
            "Aug",
            "Mar",
            "Dec",
            "Feb",
            "Feb",
            "Mar",
            "Sep",
            "Jun",
            "Jan",
            "Oct",
            "Mar",
            "Feb",
            "Sep",
            "May",
            "Nov",
            "May",
            "Aug",
            "Nov",
            "Dec",
            "Oct",
            "Feb",
            "Jul",
            "Jun",
            "May",
            "Jul",
            "Jul",
            "Mar",
            "Jul",
            "Oct",
            "Dec",
            "Jan",
            "Jan",
            "Jun",
            "May",
            "Feb",
            "Aug",
            "May",
            "Oct"
           ]
          },
          {
           "axis": {
            "matches": true
           },
           "label": "Transaction",
           "values": [
            "Bangalore, India",
            "Bangalore, India",
            "London, UK",
            "London, UK",
            "Bangalore, India",
            "Bangalore, India",
            "Moscow, Russia",
            "Rabat, Morocco",
            "Bangalore, India",
            "Paris,France",
            "Hyderabad, India",
            "Hyderabad, India",
            "Mumbai, India",
            "Hyderabad,India",
            "Hyderabad,India",
            "Hyderabad,India",
            "Budapest, Hungary",
            "Mumbai, India",
            "Hyderabad,India",
            "Hyderabad,India",
            "Mumbai, India",
            "Mumbai, India",
            "Mumbai, India",
            "Mumbai, India",
            "Pune, India",
            "Mumbai, India",
            "Mumbai, India",
            "Mumbai, India",
            "Budapest, Hungary",
            "Mumbai, India",
            "Paris,France",
            "mumbai, India",
            "London, UK",
            "Budapest, Hungary",
            "Budapest, Hungary",
            "Budapest, Hungary",
            "Mumbai, India",
            "Nicosia, Cyprus",
            "Bangalore, India",
            "Mumbai, India",
            "Mumbai, India",
            "Delhi, India",
            "Delhi, India",
            "Paris,France",
            "Delhi, India",
            "NewYork, USA",
            "Nicosia, Cyprus",
            "Delhi, India",
            "NewYork, USA",
            "Delhi, India",
            "Nicosia, Cyprus",
            "Paris, France",
            "Ahmedabad, India",
            "Ahmedabad, India",
            "Bangalore, India",
            "Ahmedabad, India",
            "Paris, France",
            "Paris, France",
            "Ahmedabad, India",
            "Paris,France",
            "Paris,France",
            "Hyderabad, India",
            "Hyderabad, India",
            "Hyderabad, India",
            "Hyderabad, India",
            "Moscow, Russia",
            "Hyderabad, ndia",
            "Pune, India",
            "Mumbai, India",
            "Mumbai, India",
            "Delhi, India",
            "Bangalore, India",
            "Mumbai, India",
            "Pune, India",
            "Delhi, India",
            "Pune, India",
            "Mumbai, India",
            "Bangalore, India",
            "mumbai, India",
            "Mumbai, India",
            "Mumbai, India",
            "Delhi, India",
            "Mumbai, India",
            "Budapest, Hungary",
            "mumbai, India",
            "Delhi, India",
            "Budapest, Hungary",
            "Mumbai, India",
            "Mumbai, India",
            "Mumbai, India",
            "Mumbai, India",
            "Mumbai, India",
            "Mumbai, India",
            "Mumbai, India",
            "mumbai, India",
            "Delhi, India",
            "Delhi, India",
            "Bangalore, India",
            "Bangalore, India",
            "Delhi, India",
            "Delhi, India",
            "Delhi, India",
            "Delhi, India",
            "Delhi, India",
            "Bangalore, India",
            "Delhi, India"
           ]
          },
          {
           "axis": {
            "matches": true
           },
           "label": "Transaction_Type",
           "values": [
            "POS",
            "POS",
            "POS",
            "POS",
            "POS",
            "POS",
            "Internet",
            "POS",
            "POS",
            "POS",
            "Internet",
            "POS",
            "POS",
            "Internet",
            "POS",
            "POS",
            "Internet",
            "POS",
            "Internet",
            "POS",
            "POS",
            "POS",
            "Internet",
            "POS",
            "Internet",
            "POS",
            "POS",
            "POS",
            "Internet",
            "POS",
            "POS",
            "Internet",
            "POS",
            "POS",
            "Internet",
            "POS",
            "POS",
            "Internet",
            "POS",
            "POS",
            "POS",
            "POS",
            "POS",
            "POS",
            "POS",
            "POS",
            "Internet",
            "POS",
            "POS",
            "POS",
            "Internet",
            "POS",
            "POS",
            "POS",
            "POS",
            "Internet",
            "POS",
            "POS",
            "POS",
            "POS",
            "POS",
            "Internet",
            "POS",
            "Internet",
            "Internet",
            "POS",
            "POS",
            "POS",
            "Internet",
            "POS",
            "POS",
            "POS",
            "POS",
            "Internet",
            "POS",
            "POS",
            "POS",
            "Internet",
            "POS",
            "Internet",
            "POS",
            "Internet",
            "POS",
            "POS",
            "Internet",
            "POS",
            "Internet",
            "Internet",
            "POS",
            "POS",
            "Internet",
            "POS",
            "POS",
            "Internet",
            "Internet",
            "POS",
            "Internet",
            "POS",
            "POS",
            "POS",
            "Internet",
            "POS",
            "Internet",
            "POS",
            "Internet",
            "Internet"
           ]
          },
          {
           "axis": {
            "matches": true
           },
           "label": "Amount",
           "values": [
            25000,
            300,
            45000,
            670,
            4543,
            11000,
            130000,
            132,
            1200,
            1340,
            1356,
            1200,
            11000,
            50000,
            10543,
            140,
            15000,
            994,
            800,
            50,
            120,
            140,
            1200,
            1987,
            987,
            4000,
            1200,
            112,
            12000,
            4509,
            4000,
            543,
            9875,
            12567,
            150000,
            907,
            345,
            5000,
            75000,
            24000,
            12000,
            175600,
            890,
            567,
            8954,
            9056,
            5000,
            23467,
            1000,
            10000,
            45000,
            25000,
            300,
            45000,
            670,
            4543,
            11000,
            130000,
            132,
            1200,
            1340,
            1356,
            1200,
            11000,
            50000,
            10543,
            140,
            15000,
            994,
            800,
            50,
            120,
            140,
            1200,
            1987,
            987,
            4000,
            1200,
            112,
            12000,
            4509,
            4000,
            543,
            9875,
            12567,
            150000,
            907,
            345,
            5000,
            75000,
            24000,
            23467,
            1000,
            10000,
            45000,
            25000,
            300,
            45000,
            670,
            4543,
            11000,
            130000,
            132,
            1200,
            1340,
            1356
           ]
          }
         ],
         "hovertemplate": "%{xaxis.title.text}=%{x}<br>%{yaxis.title.text}=%{y}<extra></extra>",
         "legendgroup": "",
         "marker": {
          "color": "#636efa",
          "symbol": "circle"
         },
         "name": "",
         "showlegend": false,
         "type": "splom"
        }
       ],
       "layout": {
        "dragmode": "select",
        "legend": {
         "tracegroupgap": 0
        },
        "margin": {
         "t": 60
        },
        "template": {
         "data": {
          "bar": [
           {
            "error_x": {
             "color": "#2a3f5f"
            },
            "error_y": {
             "color": "#2a3f5f"
            },
            "marker": {
             "line": {
              "color": "#E5ECF6",
              "width": 0.5
             }
            },
            "type": "bar"
           }
          ],
          "barpolar": [
           {
            "marker": {
             "line": {
              "color": "#E5ECF6",
              "width": 0.5
             }
            },
            "type": "barpolar"
           }
          ],
          "carpet": [
           {
            "aaxis": {
             "endlinecolor": "#2a3f5f",
             "gridcolor": "white",
             "linecolor": "white",
             "minorgridcolor": "white",
             "startlinecolor": "#2a3f5f"
            },
            "baxis": {
             "endlinecolor": "#2a3f5f",
             "gridcolor": "white",
             "linecolor": "white",
             "minorgridcolor": "white",
             "startlinecolor": "#2a3f5f"
            },
            "type": "carpet"
           }
          ],
          "choropleth": [
           {
            "colorbar": {
             "outlinewidth": 0,
             "ticks": ""
            },
            "type": "choropleth"
           }
          ],
          "contour": [
           {
            "colorbar": {
             "outlinewidth": 0,
             "ticks": ""
            },
            "colorscale": [
             [
              0,
              "#0d0887"
             ],
             [
              0.1111111111111111,
              "#46039f"
             ],
             [
              0.2222222222222222,
              "#7201a8"
             ],
             [
              0.3333333333333333,
              "#9c179e"
             ],
             [
              0.4444444444444444,
              "#bd3786"
             ],
             [
              0.5555555555555556,
              "#d8576b"
             ],
             [
              0.6666666666666666,
              "#ed7953"
             ],
             [
              0.7777777777777778,
              "#fb9f3a"
             ],
             [
              0.8888888888888888,
              "#fdca26"
             ],
             [
              1,
              "#f0f921"
             ]
            ],
            "type": "contour"
           }
          ],
          "contourcarpet": [
           {
            "colorbar": {
             "outlinewidth": 0,
             "ticks": ""
            },
            "type": "contourcarpet"
           }
          ],
          "heatmap": [
           {
            "colorbar": {
             "outlinewidth": 0,
             "ticks": ""
            },
            "colorscale": [
             [
              0,
              "#0d0887"
             ],
             [
              0.1111111111111111,
              "#46039f"
             ],
             [
              0.2222222222222222,
              "#7201a8"
             ],
             [
              0.3333333333333333,
              "#9c179e"
             ],
             [
              0.4444444444444444,
              "#bd3786"
             ],
             [
              0.5555555555555556,
              "#d8576b"
             ],
             [
              0.6666666666666666,
              "#ed7953"
             ],
             [
              0.7777777777777778,
              "#fb9f3a"
             ],
             [
              0.8888888888888888,
              "#fdca26"
             ],
             [
              1,
              "#f0f921"
             ]
            ],
            "type": "heatmap"
           }
          ],
          "heatmapgl": [
           {
            "colorbar": {
             "outlinewidth": 0,
             "ticks": ""
            },
            "colorscale": [
             [
              0,
              "#0d0887"
             ],
             [
              0.1111111111111111,
              "#46039f"
             ],
             [
              0.2222222222222222,
              "#7201a8"
             ],
             [
              0.3333333333333333,
              "#9c179e"
             ],
             [
              0.4444444444444444,
              "#bd3786"
             ],
             [
              0.5555555555555556,
              "#d8576b"
             ],
             [
              0.6666666666666666,
              "#ed7953"
             ],
             [
              0.7777777777777778,
              "#fb9f3a"
             ],
             [
              0.8888888888888888,
              "#fdca26"
             ],
             [
              1,
              "#f0f921"
             ]
            ],
            "type": "heatmapgl"
           }
          ],
          "histogram": [
           {
            "marker": {
             "colorbar": {
              "outlinewidth": 0,
              "ticks": ""
             }
            },
            "type": "histogram"
           }
          ],
          "histogram2d": [
           {
            "colorbar": {
             "outlinewidth": 0,
             "ticks": ""
            },
            "colorscale": [
             [
              0,
              "#0d0887"
             ],
             [
              0.1111111111111111,
              "#46039f"
             ],
             [
              0.2222222222222222,
              "#7201a8"
             ],
             [
              0.3333333333333333,
              "#9c179e"
             ],
             [
              0.4444444444444444,
              "#bd3786"
             ],
             [
              0.5555555555555556,
              "#d8576b"
             ],
             [
              0.6666666666666666,
              "#ed7953"
             ],
             [
              0.7777777777777778,
              "#fb9f3a"
             ],
             [
              0.8888888888888888,
              "#fdca26"
             ],
             [
              1,
              "#f0f921"
             ]
            ],
            "type": "histogram2d"
           }
          ],
          "histogram2dcontour": [
           {
            "colorbar": {
             "outlinewidth": 0,
             "ticks": ""
            },
            "colorscale": [
             [
              0,
              "#0d0887"
             ],
             [
              0.1111111111111111,
              "#46039f"
             ],
             [
              0.2222222222222222,
              "#7201a8"
             ],
             [
              0.3333333333333333,
              "#9c179e"
             ],
             [
              0.4444444444444444,
              "#bd3786"
             ],
             [
              0.5555555555555556,
              "#d8576b"
             ],
             [
              0.6666666666666666,
              "#ed7953"
             ],
             [
              0.7777777777777778,
              "#fb9f3a"
             ],
             [
              0.8888888888888888,
              "#fdca26"
             ],
             [
              1,
              "#f0f921"
             ]
            ],
            "type": "histogram2dcontour"
           }
          ],
          "mesh3d": [
           {
            "colorbar": {
             "outlinewidth": 0,
             "ticks": ""
            },
            "type": "mesh3d"
           }
          ],
          "parcoords": [
           {
            "line": {
             "colorbar": {
              "outlinewidth": 0,
              "ticks": ""
             }
            },
            "type": "parcoords"
           }
          ],
          "pie": [
           {
            "automargin": true,
            "type": "pie"
           }
          ],
          "scatter": [
           {
            "marker": {
             "colorbar": {
              "outlinewidth": 0,
              "ticks": ""
             }
            },
            "type": "scatter"
           }
          ],
          "scatter3d": [
           {
            "line": {
             "colorbar": {
              "outlinewidth": 0,
              "ticks": ""
             }
            },
            "marker": {
             "colorbar": {
              "outlinewidth": 0,
              "ticks": ""
             }
            },
            "type": "scatter3d"
           }
          ],
          "scattercarpet": [
           {
            "marker": {
             "colorbar": {
              "outlinewidth": 0,
              "ticks": ""
             }
            },
            "type": "scattercarpet"
           }
          ],
          "scattergeo": [
           {
            "marker": {
             "colorbar": {
              "outlinewidth": 0,
              "ticks": ""
             }
            },
            "type": "scattergeo"
           }
          ],
          "scattergl": [
           {
            "marker": {
             "colorbar": {
              "outlinewidth": 0,
              "ticks": ""
             }
            },
            "type": "scattergl"
           }
          ],
          "scattermapbox": [
           {
            "marker": {
             "colorbar": {
              "outlinewidth": 0,
              "ticks": ""
             }
            },
            "type": "scattermapbox"
           }
          ],
          "scatterpolar": [
           {
            "marker": {
             "colorbar": {
              "outlinewidth": 0,
              "ticks": ""
             }
            },
            "type": "scatterpolar"
           }
          ],
          "scatterpolargl": [
           {
            "marker": {
             "colorbar": {
              "outlinewidth": 0,
              "ticks": ""
             }
            },
            "type": "scatterpolargl"
           }
          ],
          "scatterternary": [
           {
            "marker": {
             "colorbar": {
              "outlinewidth": 0,
              "ticks": ""
             }
            },
            "type": "scatterternary"
           }
          ],
          "surface": [
           {
            "colorbar": {
             "outlinewidth": 0,
             "ticks": ""
            },
            "colorscale": [
             [
              0,
              "#0d0887"
             ],
             [
              0.1111111111111111,
              "#46039f"
             ],
             [
              0.2222222222222222,
              "#7201a8"
             ],
             [
              0.3333333333333333,
              "#9c179e"
             ],
             [
              0.4444444444444444,
              "#bd3786"
             ],
             [
              0.5555555555555556,
              "#d8576b"
             ],
             [
              0.6666666666666666,
              "#ed7953"
             ],
             [
              0.7777777777777778,
              "#fb9f3a"
             ],
             [
              0.8888888888888888,
              "#fdca26"
             ],
             [
              1,
              "#f0f921"
             ]
            ],
            "type": "surface"
           }
          ],
          "table": [
           {
            "cells": {
             "fill": {
              "color": "#EBF0F8"
             },
             "line": {
              "color": "white"
             }
            },
            "header": {
             "fill": {
              "color": "#C8D4E3"
             },
             "line": {
              "color": "white"
             }
            },
            "type": "table"
           }
          ]
         },
         "layout": {
          "annotationdefaults": {
           "arrowcolor": "#2a3f5f",
           "arrowhead": 0,
           "arrowwidth": 1
          },
          "coloraxis": {
           "colorbar": {
            "outlinewidth": 0,
            "ticks": ""
           }
          },
          "colorscale": {
           "diverging": [
            [
             0,
             "#8e0152"
            ],
            [
             0.1,
             "#c51b7d"
            ],
            [
             0.2,
             "#de77ae"
            ],
            [
             0.3,
             "#f1b6da"
            ],
            [
             0.4,
             "#fde0ef"
            ],
            [
             0.5,
             "#f7f7f7"
            ],
            [
             0.6,
             "#e6f5d0"
            ],
            [
             0.7,
             "#b8e186"
            ],
            [
             0.8,
             "#7fbc41"
            ],
            [
             0.9,
             "#4d9221"
            ],
            [
             1,
             "#276419"
            ]
           ],
           "sequential": [
            [
             0,
             "#0d0887"
            ],
            [
             0.1111111111111111,
             "#46039f"
            ],
            [
             0.2222222222222222,
             "#7201a8"
            ],
            [
             0.3333333333333333,
             "#9c179e"
            ],
            [
             0.4444444444444444,
             "#bd3786"
            ],
            [
             0.5555555555555556,
             "#d8576b"
            ],
            [
             0.6666666666666666,
             "#ed7953"
            ],
            [
             0.7777777777777778,
             "#fb9f3a"
            ],
            [
             0.8888888888888888,
             "#fdca26"
            ],
            [
             1,
             "#f0f921"
            ]
           ],
           "sequentialminus": [
            [
             0,
             "#0d0887"
            ],
            [
             0.1111111111111111,
             "#46039f"
            ],
            [
             0.2222222222222222,
             "#7201a8"
            ],
            [
             0.3333333333333333,
             "#9c179e"
            ],
            [
             0.4444444444444444,
             "#bd3786"
            ],
            [
             0.5555555555555556,
             "#d8576b"
            ],
            [
             0.6666666666666666,
             "#ed7953"
            ],
            [
             0.7777777777777778,
             "#fb9f3a"
            ],
            [
             0.8888888888888888,
             "#fdca26"
            ],
            [
             1,
             "#f0f921"
            ]
           ]
          },
          "colorway": [
           "#636efa",
           "#EF553B",
           "#00cc96",
           "#ab63fa",
           "#FFA15A",
           "#19d3f3",
           "#FF6692",
           "#B6E880",
           "#FF97FF",
           "#FECB52"
          ],
          "font": {
           "color": "#2a3f5f"
          },
          "geo": {
           "bgcolor": "white",
           "lakecolor": "white",
           "landcolor": "#E5ECF6",
           "showlakes": true,
           "showland": true,
           "subunitcolor": "white"
          },
          "hoverlabel": {
           "align": "left"
          },
          "hovermode": "closest",
          "mapbox": {
           "style": "light"
          },
          "paper_bgcolor": "white",
          "plot_bgcolor": "#E5ECF6",
          "polar": {
           "angularaxis": {
            "gridcolor": "white",
            "linecolor": "white",
            "ticks": ""
           },
           "bgcolor": "#E5ECF6",
           "radialaxis": {
            "gridcolor": "white",
            "linecolor": "white",
            "ticks": ""
           }
          },
          "scene": {
           "xaxis": {
            "backgroundcolor": "#E5ECF6",
            "gridcolor": "white",
            "gridwidth": 2,
            "linecolor": "white",
            "showbackground": true,
            "ticks": "",
            "zerolinecolor": "white"
           },
           "yaxis": {
            "backgroundcolor": "#E5ECF6",
            "gridcolor": "white",
            "gridwidth": 2,
            "linecolor": "white",
            "showbackground": true,
            "ticks": "",
            "zerolinecolor": "white"
           },
           "zaxis": {
            "backgroundcolor": "#E5ECF6",
            "gridcolor": "white",
            "gridwidth": 2,
            "linecolor": "white",
            "showbackground": true,
            "ticks": "",
            "zerolinecolor": "white"
           }
          },
          "shapedefaults": {
           "line": {
            "color": "#2a3f5f"
           }
          },
          "ternary": {
           "aaxis": {
            "gridcolor": "white",
            "linecolor": "white",
            "ticks": ""
           },
           "baxis": {
            "gridcolor": "white",
            "linecolor": "white",
            "ticks": ""
           },
           "bgcolor": "#E5ECF6",
           "caxis": {
            "gridcolor": "white",
            "linecolor": "white",
            "ticks": ""
           }
          },
          "title": {
           "x": 0.05
          },
          "xaxis": {
           "automargin": true,
           "gridcolor": "white",
           "linecolor": "white",
           "ticks": "",
           "title": {
            "standoff": 15
           },
           "zerolinecolor": "white",
           "zerolinewidth": 2
          },
          "yaxis": {
           "automargin": true,
           "gridcolor": "white",
           "linecolor": "white",
           "ticks": "",
           "title": {
            "standoff": 15
           },
           "zerolinecolor": "white",
           "zerolinewidth": 2
          }
         }
        }
       }
      },
      "text/html": [
       "<div>\n",
       "        \n",
       "        \n",
       "            <div id=\"6aaa5150-1e40-467c-a724-05f925b7136a\" class=\"plotly-graph-div\" style=\"height:525px; width:100%;\"></div>\n",
       "            <script type=\"text/javascript\">\n",
       "                require([\"plotly\"], function(Plotly) {\n",
       "                    window.PLOTLYENV=window.PLOTLYENV || {};\n",
       "                    \n",
       "                if (document.getElementById(\"6aaa5150-1e40-467c-a724-05f925b7136a\")) {\n",
       "                    Plotly.newPlot(\n",
       "                        '6aaa5150-1e40-467c-a724-05f925b7136a',\n",
       "                        [{\"dimensions\": [{\"axis\": {\"matches\": true}, \"label\": \"Month\", \"values\": [\"Jun\", \"Oct\", \"Jul\", \"Dec\", \"Sep\", \"Nov\", \"May\", \"May\", \"Sep\", \"Dec\", \"Jun\", \"Jan\", \"Apr\", \"Dec\", \"Sep\", \"Jun\", \"Jun\", \"Feb\", \"Jan\", \"Sep\", \"Sep\", \"Mar\", \"Oct\", \"Oct\", \"May\", \"Apr\", \"May\", \"Dec\", \"Nov\", \"Mar\", \"May\", \"Mar\", \"Jul\", \"Nov\", \"Oct\", \"Feb\", \"Jun\", \"Feb\", \"Oct\", \"May\", \"Jul\", \"Feb\", \"Apr\", \"May\", \"Sep\", \"Oct\", \"Oct\", \"Apr\", \"Jul\", \"Mar\", \"Dec\", \"Apr\", \"Dec\", \"Jun\", \"Feb\", \"Oct\", \"Apr\", \"Jul\", \"Oct\", \"Oct\", \"Sep\", \"Nov\", \"Apr\", \"Aug\", \"Mar\", \"Jun\", \"Apr\", \"Oct\", \"Aug\", \"Mar\", \"Dec\", \"Feb\", \"Feb\", \"Mar\", \"Sep\", \"Jun\", \"Jan\", \"Oct\", \"Mar\", \"Feb\", \"Sep\", \"May\", \"Nov\", \"May\", \"Aug\", \"Nov\", \"Dec\", \"Oct\", \"Feb\", \"Jul\", \"Jun\", \"May\", \"Jul\", \"Jul\", \"Mar\", \"Jul\", \"Oct\", \"Dec\", \"Jan\", \"Jan\", \"Jun\", \"May\", \"Feb\", \"Aug\", \"May\", \"Oct\"]}, {\"axis\": {\"matches\": true}, \"label\": \"Transaction\", \"values\": [\"Bangalore, India\", \"Bangalore, India\", \"London, UK\", \"London, UK\", \"Bangalore, India\", \"Bangalore, India\", \"Moscow, Russia\", \"Rabat, Morocco\", \"Bangalore, India\", \"Paris,France\", \"Hyderabad, India\", \"Hyderabad, India\", \"Mumbai, India\", \"Hyderabad,India\", \"Hyderabad,India\", \"Hyderabad,India\", \"Budapest, Hungary\", \"Mumbai, India\", \"Hyderabad,India\", \"Hyderabad,India\", \"Mumbai, India\", \"Mumbai, India\", \"Mumbai, India\", \"Mumbai, India\", \"Pune, India\", \"Mumbai, India\", \"Mumbai, India\", \"Mumbai, India\", \"Budapest, Hungary\", \"Mumbai, India\", \"Paris,France\", \"mumbai, India\", \"London, UK\", \"Budapest, Hungary\", \"Budapest, Hungary\", \"Budapest, Hungary\", \"Mumbai, India\", \"Nicosia, Cyprus\", \"Bangalore, India\", \"Mumbai, India\", \"Mumbai, India\", \"Delhi, India\", \"Delhi, India\", \"Paris,France\", \"Delhi, India\", \"NewYork, USA\", \"Nicosia, Cyprus\", \"Delhi, India\", \"NewYork, USA\", \"Delhi, India\", \"Nicosia, Cyprus\", \"Paris, France\", \"Ahmedabad, India\", \"Ahmedabad, India\", \"Bangalore, India\", \"Ahmedabad, India\", \"Paris, France\", \"Paris, France\", \"Ahmedabad, India\", \"Paris,France\", \"Paris,France\", \"Hyderabad, India\", \"Hyderabad, India\", \"Hyderabad, India\", \"Hyderabad, India\", \"Moscow, Russia\", \"Hyderabad, ndia\", \"Pune, India\", \"Mumbai, India\", \"Mumbai, India\", \"Delhi, India\", \"Bangalore, India\", \"Mumbai, India\", \"Pune, India\", \"Delhi, India\", \"Pune, India\", \"Mumbai, India\", \"Bangalore, India\", \"mumbai, India\", \"Mumbai, India\", \"Mumbai, India\", \"Delhi, India\", \"Mumbai, India\", \"Budapest, Hungary\", \"mumbai, India\", \"Delhi, India\", \"Budapest, Hungary\", \"Mumbai, India\", \"Mumbai, India\", \"Mumbai, India\", \"Mumbai, India\", \"Mumbai, India\", \"Mumbai, India\", \"Mumbai, India\", \"mumbai, India\", \"Delhi, India\", \"Delhi, India\", \"Bangalore, India\", \"Bangalore, India\", \"Delhi, India\", \"Delhi, India\", \"Delhi, India\", \"Delhi, India\", \"Delhi, India\", \"Bangalore, India\", \"Delhi, India\"]}, {\"axis\": {\"matches\": true}, \"label\": \"Transaction_Type\", \"values\": [\"POS\", \"POS\", \"POS\", \"POS\", \"POS\", \"POS\", \"Internet\", \"POS\", \"POS\", \"POS\", \"Internet\", \"POS\", \"POS\", \"Internet\", \"POS\", \"POS\", \"Internet\", \"POS\", \"Internet\", \"POS\", \"POS\", \"POS\", \"Internet\", \"POS\", \"Internet\", \"POS\", \"POS\", \"POS\", \"Internet\", \"POS\", \"POS\", \"Internet\", \"POS\", \"POS\", \"Internet\", \"POS\", \"POS\", \"Internet\", \"POS\", \"POS\", \"POS\", \"POS\", \"POS\", \"POS\", \"POS\", \"POS\", \"Internet\", \"POS\", \"POS\", \"POS\", \"Internet\", \"POS\", \"POS\", \"POS\", \"POS\", \"Internet\", \"POS\", \"POS\", \"POS\", \"POS\", \"POS\", \"Internet\", \"POS\", \"Internet\", \"Internet\", \"POS\", \"POS\", \"POS\", \"Internet\", \"POS\", \"POS\", \"POS\", \"POS\", \"Internet\", \"POS\", \"POS\", \"POS\", \"Internet\", \"POS\", \"Internet\", \"POS\", \"Internet\", \"POS\", \"POS\", \"Internet\", \"POS\", \"Internet\", \"Internet\", \"POS\", \"POS\", \"Internet\", \"POS\", \"POS\", \"Internet\", \"Internet\", \"POS\", \"Internet\", \"POS\", \"POS\", \"POS\", \"Internet\", \"POS\", \"Internet\", \"POS\", \"Internet\", \"Internet\"]}, {\"axis\": {\"matches\": true}, \"label\": \"Amount\", \"values\": [25000, 300, 45000, 670, 4543, 11000, 130000, 132, 1200, 1340, 1356, 1200, 11000, 50000, 10543, 140, 15000, 994, 800, 50, 120, 140, 1200, 1987, 987, 4000, 1200, 112, 12000, 4509, 4000, 543, 9875, 12567, 150000, 907, 345, 5000, 75000, 24000, 12000, 175600, 890, 567, 8954, 9056, 5000, 23467, 1000, 10000, 45000, 25000, 300, 45000, 670, 4543, 11000, 130000, 132, 1200, 1340, 1356, 1200, 11000, 50000, 10543, 140, 15000, 994, 800, 50, 120, 140, 1200, 1987, 987, 4000, 1200, 112, 12000, 4509, 4000, 543, 9875, 12567, 150000, 907, 345, 5000, 75000, 24000, 23467, 1000, 10000, 45000, 25000, 300, 45000, 670, 4543, 11000, 130000, 132, 1200, 1340, 1356]}], \"hovertemplate\": \"%{xaxis.title.text}=%{x}<br>%{yaxis.title.text}=%{y}<extra></extra>\", \"legendgroup\": \"\", \"marker\": {\"color\": \"#636efa\", \"symbol\": \"circle\"}, \"name\": \"\", \"showlegend\": false, \"type\": \"splom\"}],\n",
       "                        {\"dragmode\": \"select\", \"legend\": {\"tracegroupgap\": 0}, \"margin\": {\"t\": 60}, \"template\": {\"data\": {\"bar\": [{\"error_x\": {\"color\": \"#2a3f5f\"}, \"error_y\": {\"color\": \"#2a3f5f\"}, \"marker\": {\"line\": {\"color\": \"#E5ECF6\", \"width\": 0.5}}, \"type\": \"bar\"}], \"barpolar\": [{\"marker\": {\"line\": {\"color\": \"#E5ECF6\", \"width\": 0.5}}, \"type\": \"barpolar\"}], \"carpet\": [{\"aaxis\": {\"endlinecolor\": \"#2a3f5f\", \"gridcolor\": \"white\", \"linecolor\": \"white\", \"minorgridcolor\": \"white\", \"startlinecolor\": \"#2a3f5f\"}, \"baxis\": {\"endlinecolor\": \"#2a3f5f\", \"gridcolor\": \"white\", \"linecolor\": \"white\", \"minorgridcolor\": \"white\", \"startlinecolor\": \"#2a3f5f\"}, \"type\": \"carpet\"}], \"choropleth\": [{\"colorbar\": {\"outlinewidth\": 0, \"ticks\": \"\"}, \"type\": \"choropleth\"}], \"contour\": [{\"colorbar\": {\"outlinewidth\": 0, \"ticks\": \"\"}, \"colorscale\": [[0.0, \"#0d0887\"], [0.1111111111111111, \"#46039f\"], [0.2222222222222222, \"#7201a8\"], [0.3333333333333333, \"#9c179e\"], [0.4444444444444444, \"#bd3786\"], [0.5555555555555556, \"#d8576b\"], [0.6666666666666666, \"#ed7953\"], [0.7777777777777778, \"#fb9f3a\"], [0.8888888888888888, \"#fdca26\"], [1.0, \"#f0f921\"]], \"type\": \"contour\"}], \"contourcarpet\": [{\"colorbar\": {\"outlinewidth\": 0, \"ticks\": \"\"}, \"type\": \"contourcarpet\"}], \"heatmap\": [{\"colorbar\": {\"outlinewidth\": 0, \"ticks\": \"\"}, \"colorscale\": [[0.0, \"#0d0887\"], [0.1111111111111111, \"#46039f\"], [0.2222222222222222, \"#7201a8\"], [0.3333333333333333, \"#9c179e\"], [0.4444444444444444, \"#bd3786\"], [0.5555555555555556, \"#d8576b\"], [0.6666666666666666, \"#ed7953\"], [0.7777777777777778, \"#fb9f3a\"], [0.8888888888888888, \"#fdca26\"], [1.0, \"#f0f921\"]], \"type\": \"heatmap\"}], \"heatmapgl\": [{\"colorbar\": {\"outlinewidth\": 0, \"ticks\": \"\"}, \"colorscale\": [[0.0, \"#0d0887\"], [0.1111111111111111, \"#46039f\"], [0.2222222222222222, \"#7201a8\"], [0.3333333333333333, \"#9c179e\"], [0.4444444444444444, \"#bd3786\"], [0.5555555555555556, \"#d8576b\"], [0.6666666666666666, \"#ed7953\"], [0.7777777777777778, \"#fb9f3a\"], [0.8888888888888888, \"#fdca26\"], [1.0, \"#f0f921\"]], \"type\": \"heatmapgl\"}], \"histogram\": [{\"marker\": {\"colorbar\": {\"outlinewidth\": 0, \"ticks\": \"\"}}, \"type\": \"histogram\"}], \"histogram2d\": [{\"colorbar\": {\"outlinewidth\": 0, \"ticks\": \"\"}, \"colorscale\": [[0.0, \"#0d0887\"], [0.1111111111111111, \"#46039f\"], [0.2222222222222222, \"#7201a8\"], [0.3333333333333333, \"#9c179e\"], [0.4444444444444444, \"#bd3786\"], [0.5555555555555556, \"#d8576b\"], [0.6666666666666666, \"#ed7953\"], [0.7777777777777778, \"#fb9f3a\"], [0.8888888888888888, \"#fdca26\"], [1.0, \"#f0f921\"]], \"type\": \"histogram2d\"}], \"histogram2dcontour\": [{\"colorbar\": {\"outlinewidth\": 0, \"ticks\": \"\"}, \"colorscale\": [[0.0, \"#0d0887\"], [0.1111111111111111, \"#46039f\"], [0.2222222222222222, \"#7201a8\"], [0.3333333333333333, \"#9c179e\"], [0.4444444444444444, \"#bd3786\"], [0.5555555555555556, \"#d8576b\"], [0.6666666666666666, \"#ed7953\"], [0.7777777777777778, \"#fb9f3a\"], [0.8888888888888888, \"#fdca26\"], [1.0, \"#f0f921\"]], \"type\": \"histogram2dcontour\"}], \"mesh3d\": [{\"colorbar\": {\"outlinewidth\": 0, \"ticks\": \"\"}, \"type\": \"mesh3d\"}], \"parcoords\": [{\"line\": {\"colorbar\": {\"outlinewidth\": 0, \"ticks\": \"\"}}, \"type\": \"parcoords\"}], \"pie\": [{\"automargin\": true, \"type\": \"pie\"}], \"scatter\": [{\"marker\": {\"colorbar\": {\"outlinewidth\": 0, \"ticks\": \"\"}}, \"type\": \"scatter\"}], \"scatter3d\": [{\"line\": {\"colorbar\": {\"outlinewidth\": 0, \"ticks\": \"\"}}, \"marker\": {\"colorbar\": {\"outlinewidth\": 0, \"ticks\": \"\"}}, \"type\": \"scatter3d\"}], \"scattercarpet\": [{\"marker\": {\"colorbar\": {\"outlinewidth\": 0, \"ticks\": \"\"}}, \"type\": \"scattercarpet\"}], \"scattergeo\": [{\"marker\": {\"colorbar\": {\"outlinewidth\": 0, \"ticks\": \"\"}}, \"type\": \"scattergeo\"}], \"scattergl\": [{\"marker\": {\"colorbar\": {\"outlinewidth\": 0, \"ticks\": \"\"}}, \"type\": \"scattergl\"}], \"scattermapbox\": [{\"marker\": {\"colorbar\": {\"outlinewidth\": 0, \"ticks\": \"\"}}, \"type\": \"scattermapbox\"}], \"scatterpolar\": [{\"marker\": {\"colorbar\": {\"outlinewidth\": 0, \"ticks\": \"\"}}, \"type\": \"scatterpolar\"}], \"scatterpolargl\": [{\"marker\": {\"colorbar\": {\"outlinewidth\": 0, \"ticks\": \"\"}}, \"type\": \"scatterpolargl\"}], \"scatterternary\": [{\"marker\": {\"colorbar\": {\"outlinewidth\": 0, \"ticks\": \"\"}}, \"type\": \"scatterternary\"}], \"surface\": [{\"colorbar\": {\"outlinewidth\": 0, \"ticks\": \"\"}, \"colorscale\": [[0.0, \"#0d0887\"], [0.1111111111111111, \"#46039f\"], [0.2222222222222222, \"#7201a8\"], [0.3333333333333333, \"#9c179e\"], [0.4444444444444444, \"#bd3786\"], [0.5555555555555556, \"#d8576b\"], [0.6666666666666666, \"#ed7953\"], [0.7777777777777778, \"#fb9f3a\"], [0.8888888888888888, \"#fdca26\"], [1.0, \"#f0f921\"]], \"type\": \"surface\"}], \"table\": [{\"cells\": {\"fill\": {\"color\": \"#EBF0F8\"}, \"line\": {\"color\": \"white\"}}, \"header\": {\"fill\": {\"color\": \"#C8D4E3\"}, \"line\": {\"color\": \"white\"}}, \"type\": \"table\"}]}, \"layout\": {\"annotationdefaults\": {\"arrowcolor\": \"#2a3f5f\", \"arrowhead\": 0, \"arrowwidth\": 1}, \"coloraxis\": {\"colorbar\": {\"outlinewidth\": 0, \"ticks\": \"\"}}, \"colorscale\": {\"diverging\": [[0, \"#8e0152\"], [0.1, \"#c51b7d\"], [0.2, \"#de77ae\"], [0.3, \"#f1b6da\"], [0.4, \"#fde0ef\"], [0.5, \"#f7f7f7\"], [0.6, \"#e6f5d0\"], [0.7, \"#b8e186\"], [0.8, \"#7fbc41\"], [0.9, \"#4d9221\"], [1, \"#276419\"]], \"sequential\": [[0.0, \"#0d0887\"], [0.1111111111111111, \"#46039f\"], [0.2222222222222222, \"#7201a8\"], [0.3333333333333333, \"#9c179e\"], [0.4444444444444444, \"#bd3786\"], [0.5555555555555556, \"#d8576b\"], [0.6666666666666666, \"#ed7953\"], [0.7777777777777778, \"#fb9f3a\"], [0.8888888888888888, \"#fdca26\"], [1.0, \"#f0f921\"]], \"sequentialminus\": [[0.0, \"#0d0887\"], [0.1111111111111111, \"#46039f\"], [0.2222222222222222, \"#7201a8\"], [0.3333333333333333, \"#9c179e\"], [0.4444444444444444, \"#bd3786\"], [0.5555555555555556, \"#d8576b\"], [0.6666666666666666, \"#ed7953\"], [0.7777777777777778, \"#fb9f3a\"], [0.8888888888888888, \"#fdca26\"], [1.0, \"#f0f921\"]]}, \"colorway\": [\"#636efa\", \"#EF553B\", \"#00cc96\", \"#ab63fa\", \"#FFA15A\", \"#19d3f3\", \"#FF6692\", \"#B6E880\", \"#FF97FF\", \"#FECB52\"], \"font\": {\"color\": \"#2a3f5f\"}, \"geo\": {\"bgcolor\": \"white\", \"lakecolor\": \"white\", \"landcolor\": \"#E5ECF6\", \"showlakes\": true, \"showland\": true, \"subunitcolor\": \"white\"}, \"hoverlabel\": {\"align\": \"left\"}, \"hovermode\": \"closest\", \"mapbox\": {\"style\": \"light\"}, \"paper_bgcolor\": \"white\", \"plot_bgcolor\": \"#E5ECF6\", \"polar\": {\"angularaxis\": {\"gridcolor\": \"white\", \"linecolor\": \"white\", \"ticks\": \"\"}, \"bgcolor\": \"#E5ECF6\", \"radialaxis\": {\"gridcolor\": \"white\", \"linecolor\": \"white\", \"ticks\": \"\"}}, \"scene\": {\"xaxis\": {\"backgroundcolor\": \"#E5ECF6\", \"gridcolor\": \"white\", \"gridwidth\": 2, \"linecolor\": \"white\", \"showbackground\": true, \"ticks\": \"\", \"zerolinecolor\": \"white\"}, \"yaxis\": {\"backgroundcolor\": \"#E5ECF6\", \"gridcolor\": \"white\", \"gridwidth\": 2, \"linecolor\": \"white\", \"showbackground\": true, \"ticks\": \"\", \"zerolinecolor\": \"white\"}, \"zaxis\": {\"backgroundcolor\": \"#E5ECF6\", \"gridcolor\": \"white\", \"gridwidth\": 2, \"linecolor\": \"white\", \"showbackground\": true, \"ticks\": \"\", \"zerolinecolor\": \"white\"}}, \"shapedefaults\": {\"line\": {\"color\": \"#2a3f5f\"}}, \"ternary\": {\"aaxis\": {\"gridcolor\": \"white\", \"linecolor\": \"white\", \"ticks\": \"\"}, \"baxis\": {\"gridcolor\": \"white\", \"linecolor\": \"white\", \"ticks\": \"\"}, \"bgcolor\": \"#E5ECF6\", \"caxis\": {\"gridcolor\": \"white\", \"linecolor\": \"white\", \"ticks\": \"\"}}, \"title\": {\"x\": 0.05}, \"xaxis\": {\"automargin\": true, \"gridcolor\": \"white\", \"linecolor\": \"white\", \"ticks\": \"\", \"title\": {\"standoff\": 15}, \"zerolinecolor\": \"white\", \"zerolinewidth\": 2}, \"yaxis\": {\"automargin\": true, \"gridcolor\": \"white\", \"linecolor\": \"white\", \"ticks\": \"\", \"title\": {\"standoff\": 15}, \"zerolinecolor\": \"white\", \"zerolinewidth\": 2}}}},\n",
       "                        {\"responsive\": true}\n",
       "                    ).then(function(){\n",
       "                            \n",
       "var gd = document.getElementById('6aaa5150-1e40-467c-a724-05f925b7136a');\n",
       "var x = new MutationObserver(function (mutations, observer) {{\n",
       "        var display = window.getComputedStyle(gd).display;\n",
       "        if (!display || display === 'none') {{\n",
       "            console.log([gd, 'removed!']);\n",
       "            Plotly.purge(gd);\n",
       "            observer.disconnect();\n",
       "        }}\n",
       "}});\n",
       "\n",
       "// Listen for the removal of the full notebook cells\n",
       "var notebookContainer = gd.closest('#notebook-container');\n",
       "if (notebookContainer) {{\n",
       "    x.observe(notebookContainer, {childList: true});\n",
       "}}\n",
       "\n",
       "// Listen for the clearing of the current output cell\n",
       "var outputEl = gd.closest('.output');\n",
       "if (outputEl) {{\n",
       "    x.observe(outputEl, {childList: true});\n",
       "}}\n",
       "\n",
       "                        })\n",
       "                };\n",
       "                });\n",
       "            </script>\n",
       "        </div>"
      ]
     },
     "metadata": {},
     "output_type": "display_data"
    }
   ],
   "source": [
    "#P - SCATTER MULTIPLE\n",
    "\n",
    "import plotly.express as px\n",
    "\n",
    "DB_NEW=DB.drop(['Limit','Year','Type','Origin','Time','Date'],axis=1)\n",
    "\n",
    "fig = px.scatter_matrix(DB_NEW)\n",
    "fig.show()"
   ]
  },
  {
   "cell_type": "code",
   "execution_count": 52,
   "metadata": {},
   "outputs": [
    {
     "data": {
      "application/vnd.plotly.v1+json": {
       "config": {
        "plotlyServerURL": "https://plot.ly"
       },
       "data": [
        {
         "hovertemplate": "Transaction_Type=POS<br>Amount=%{x}<br>Date=%{y}<extra></extra>",
         "legendgroup": "POS",
         "marker": {
          "color": "#636efa",
          "symbol": "circle"
         },
         "mode": "markers",
         "name": "POS",
         "showlegend": true,
         "type": "scatter",
         "x": [
          25000,
          300,
          45000,
          670,
          4543,
          11000,
          132,
          1200,
          1340,
          1200,
          11000,
          10543,
          140,
          994,
          50,
          120,
          140,
          1987,
          4000,
          1200,
          112,
          4509,
          4000,
          9875,
          12567,
          907,
          345,
          75000,
          24000,
          12000,
          175600,
          890,
          567,
          8954,
          9056,
          23467,
          1000,
          10000,
          25000,
          300,
          45000,
          670,
          11000,
          130000,
          132,
          1200,
          1340,
          1200,
          10543,
          140,
          15000,
          800,
          50,
          120,
          140,
          1987,
          987,
          4000,
          112,
          4509,
          543,
          9875,
          150000,
          5000,
          75000,
          23467,
          1000,
          25000,
          45000,
          670,
          4543,
          130000,
          1200
         ],
         "xaxis": "x",
         "y": [
          26,
          20,
          15,
          17,
          7,
          21,
          4,
          31,
          27,
          31,
          15,
          15,
          27,
          1,
          25,
          11,
          2,
          4,
          17,
          8,
          13,
          30,
          21,
          29,
          16,
          12,
          5,
          21,
          4,
          9,
          19,
          14,
          6,
          2,
          20,
          19,
          3,
          14,
          21,
          21,
          16,
          14,
          19,
          6,
          7,
          19,
          1,
          4,
          30,
          31,
          16,
          13,
          1,
          15,
          10,
          6,
          30,
          29,
          17,
          14,
          12,
          9,
          8,
          16,
          25,
          20,
          27,
          4,
          17,
          20,
          17,
          20,
          25
         ],
         "yaxis": "y"
        },
        {
         "hovertemplate": "Transaction_Type=Internet<br>Amount=%{x}<br>Date=%{y}<extra></extra>",
         "legendgroup": "Internet",
         "marker": {
          "color": "#EF553B",
          "symbol": "circle"
         },
         "mode": "markers",
         "name": "Internet",
         "showlegend": true,
         "type": "scatter",
         "x": [
          130000,
          1356,
          50000,
          15000,
          800,
          1200,
          987,
          12000,
          543,
          150000,
          5000,
          5000,
          45000,
          4543,
          1356,
          11000,
          50000,
          994,
          1200,
          1200,
          12000,
          4000,
          12567,
          907,
          345,
          24000,
          10000,
          45000,
          300,
          11000,
          132,
          1340,
          1356
         ],
         "xaxis": "x2",
         "y": [
          24,
          7,
          13,
          20,
          19,
          23,
          7,
          11,
          26,
          16,
          26,
          25,
          16,
          19,
          14,
          3,
          8,
          10,
          22,
          19,
          5,
          10,
          9,
          11,
          20,
          2,
          1,
          10,
          5,
          1,
          26,
          7,
          15
         ],
         "yaxis": "y2"
        },
        {
         "line": {
          "color": "black"
         },
         "mode": "lines",
         "showlegend": false,
         "type": "scatter",
         "x": [
          2,
          30
         ],
         "xaxis": "x",
         "y": [
          4,
          45
         ],
         "yaxis": "y"
        },
        {
         "line": {
          "color": "black"
         },
         "mode": "lines",
         "showlegend": false,
         "type": "scatter",
         "x": [
          2,
          30
         ],
         "xaxis": "x2",
         "y": [
          4,
          45
         ],
         "yaxis": "y2"
        }
       ],
       "layout": {
        "annotations": [
         {
          "font": {},
          "showarrow": false,
          "text": "Transaction_Type=POS",
          "x": 0.245,
          "xanchor": "center",
          "xref": "paper",
          "y": 1,
          "yanchor": "bottom",
          "yref": "paper"
         },
         {
          "font": {},
          "showarrow": false,
          "text": "Transaction_Type=Internet",
          "x": 0.755,
          "xanchor": "center",
          "xref": "paper",
          "y": 1,
          "yanchor": "bottom",
          "yref": "paper"
         }
        ],
        "legend": {
         "title": {
          "text": "Transaction_Type"
         },
         "tracegroupgap": 0
        },
        "margin": {
         "t": 60
        },
        "template": {
         "data": {
          "bar": [
           {
            "error_x": {
             "color": "#2a3f5f"
            },
            "error_y": {
             "color": "#2a3f5f"
            },
            "marker": {
             "line": {
              "color": "#E5ECF6",
              "width": 0.5
             }
            },
            "type": "bar"
           }
          ],
          "barpolar": [
           {
            "marker": {
             "line": {
              "color": "#E5ECF6",
              "width": 0.5
             }
            },
            "type": "barpolar"
           }
          ],
          "carpet": [
           {
            "aaxis": {
             "endlinecolor": "#2a3f5f",
             "gridcolor": "white",
             "linecolor": "white",
             "minorgridcolor": "white",
             "startlinecolor": "#2a3f5f"
            },
            "baxis": {
             "endlinecolor": "#2a3f5f",
             "gridcolor": "white",
             "linecolor": "white",
             "minorgridcolor": "white",
             "startlinecolor": "#2a3f5f"
            },
            "type": "carpet"
           }
          ],
          "choropleth": [
           {
            "colorbar": {
             "outlinewidth": 0,
             "ticks": ""
            },
            "type": "choropleth"
           }
          ],
          "contour": [
           {
            "colorbar": {
             "outlinewidth": 0,
             "ticks": ""
            },
            "colorscale": [
             [
              0,
              "#0d0887"
             ],
             [
              0.1111111111111111,
              "#46039f"
             ],
             [
              0.2222222222222222,
              "#7201a8"
             ],
             [
              0.3333333333333333,
              "#9c179e"
             ],
             [
              0.4444444444444444,
              "#bd3786"
             ],
             [
              0.5555555555555556,
              "#d8576b"
             ],
             [
              0.6666666666666666,
              "#ed7953"
             ],
             [
              0.7777777777777778,
              "#fb9f3a"
             ],
             [
              0.8888888888888888,
              "#fdca26"
             ],
             [
              1,
              "#f0f921"
             ]
            ],
            "type": "contour"
           }
          ],
          "contourcarpet": [
           {
            "colorbar": {
             "outlinewidth": 0,
             "ticks": ""
            },
            "type": "contourcarpet"
           }
          ],
          "heatmap": [
           {
            "colorbar": {
             "outlinewidth": 0,
             "ticks": ""
            },
            "colorscale": [
             [
              0,
              "#0d0887"
             ],
             [
              0.1111111111111111,
              "#46039f"
             ],
             [
              0.2222222222222222,
              "#7201a8"
             ],
             [
              0.3333333333333333,
              "#9c179e"
             ],
             [
              0.4444444444444444,
              "#bd3786"
             ],
             [
              0.5555555555555556,
              "#d8576b"
             ],
             [
              0.6666666666666666,
              "#ed7953"
             ],
             [
              0.7777777777777778,
              "#fb9f3a"
             ],
             [
              0.8888888888888888,
              "#fdca26"
             ],
             [
              1,
              "#f0f921"
             ]
            ],
            "type": "heatmap"
           }
          ],
          "heatmapgl": [
           {
            "colorbar": {
             "outlinewidth": 0,
             "ticks": ""
            },
            "colorscale": [
             [
              0,
              "#0d0887"
             ],
             [
              0.1111111111111111,
              "#46039f"
             ],
             [
              0.2222222222222222,
              "#7201a8"
             ],
             [
              0.3333333333333333,
              "#9c179e"
             ],
             [
              0.4444444444444444,
              "#bd3786"
             ],
             [
              0.5555555555555556,
              "#d8576b"
             ],
             [
              0.6666666666666666,
              "#ed7953"
             ],
             [
              0.7777777777777778,
              "#fb9f3a"
             ],
             [
              0.8888888888888888,
              "#fdca26"
             ],
             [
              1,
              "#f0f921"
             ]
            ],
            "type": "heatmapgl"
           }
          ],
          "histogram": [
           {
            "marker": {
             "colorbar": {
              "outlinewidth": 0,
              "ticks": ""
             }
            },
            "type": "histogram"
           }
          ],
          "histogram2d": [
           {
            "colorbar": {
             "outlinewidth": 0,
             "ticks": ""
            },
            "colorscale": [
             [
              0,
              "#0d0887"
             ],
             [
              0.1111111111111111,
              "#46039f"
             ],
             [
              0.2222222222222222,
              "#7201a8"
             ],
             [
              0.3333333333333333,
              "#9c179e"
             ],
             [
              0.4444444444444444,
              "#bd3786"
             ],
             [
              0.5555555555555556,
              "#d8576b"
             ],
             [
              0.6666666666666666,
              "#ed7953"
             ],
             [
              0.7777777777777778,
              "#fb9f3a"
             ],
             [
              0.8888888888888888,
              "#fdca26"
             ],
             [
              1,
              "#f0f921"
             ]
            ],
            "type": "histogram2d"
           }
          ],
          "histogram2dcontour": [
           {
            "colorbar": {
             "outlinewidth": 0,
             "ticks": ""
            },
            "colorscale": [
             [
              0,
              "#0d0887"
             ],
             [
              0.1111111111111111,
              "#46039f"
             ],
             [
              0.2222222222222222,
              "#7201a8"
             ],
             [
              0.3333333333333333,
              "#9c179e"
             ],
             [
              0.4444444444444444,
              "#bd3786"
             ],
             [
              0.5555555555555556,
              "#d8576b"
             ],
             [
              0.6666666666666666,
              "#ed7953"
             ],
             [
              0.7777777777777778,
              "#fb9f3a"
             ],
             [
              0.8888888888888888,
              "#fdca26"
             ],
             [
              1,
              "#f0f921"
             ]
            ],
            "type": "histogram2dcontour"
           }
          ],
          "mesh3d": [
           {
            "colorbar": {
             "outlinewidth": 0,
             "ticks": ""
            },
            "type": "mesh3d"
           }
          ],
          "parcoords": [
           {
            "line": {
             "colorbar": {
              "outlinewidth": 0,
              "ticks": ""
             }
            },
            "type": "parcoords"
           }
          ],
          "pie": [
           {
            "automargin": true,
            "type": "pie"
           }
          ],
          "scatter": [
           {
            "marker": {
             "colorbar": {
              "outlinewidth": 0,
              "ticks": ""
             }
            },
            "type": "scatter"
           }
          ],
          "scatter3d": [
           {
            "line": {
             "colorbar": {
              "outlinewidth": 0,
              "ticks": ""
             }
            },
            "marker": {
             "colorbar": {
              "outlinewidth": 0,
              "ticks": ""
             }
            },
            "type": "scatter3d"
           }
          ],
          "scattercarpet": [
           {
            "marker": {
             "colorbar": {
              "outlinewidth": 0,
              "ticks": ""
             }
            },
            "type": "scattercarpet"
           }
          ],
          "scattergeo": [
           {
            "marker": {
             "colorbar": {
              "outlinewidth": 0,
              "ticks": ""
             }
            },
            "type": "scattergeo"
           }
          ],
          "scattergl": [
           {
            "marker": {
             "colorbar": {
              "outlinewidth": 0,
              "ticks": ""
             }
            },
            "type": "scattergl"
           }
          ],
          "scattermapbox": [
           {
            "marker": {
             "colorbar": {
              "outlinewidth": 0,
              "ticks": ""
             }
            },
            "type": "scattermapbox"
           }
          ],
          "scatterpolar": [
           {
            "marker": {
             "colorbar": {
              "outlinewidth": 0,
              "ticks": ""
             }
            },
            "type": "scatterpolar"
           }
          ],
          "scatterpolargl": [
           {
            "marker": {
             "colorbar": {
              "outlinewidth": 0,
              "ticks": ""
             }
            },
            "type": "scatterpolargl"
           }
          ],
          "scatterternary": [
           {
            "marker": {
             "colorbar": {
              "outlinewidth": 0,
              "ticks": ""
             }
            },
            "type": "scatterternary"
           }
          ],
          "surface": [
           {
            "colorbar": {
             "outlinewidth": 0,
             "ticks": ""
            },
            "colorscale": [
             [
              0,
              "#0d0887"
             ],
             [
              0.1111111111111111,
              "#46039f"
             ],
             [
              0.2222222222222222,
              "#7201a8"
             ],
             [
              0.3333333333333333,
              "#9c179e"
             ],
             [
              0.4444444444444444,
              "#bd3786"
             ],
             [
              0.5555555555555556,
              "#d8576b"
             ],
             [
              0.6666666666666666,
              "#ed7953"
             ],
             [
              0.7777777777777778,
              "#fb9f3a"
             ],
             [
              0.8888888888888888,
              "#fdca26"
             ],
             [
              1,
              "#f0f921"
             ]
            ],
            "type": "surface"
           }
          ],
          "table": [
           {
            "cells": {
             "fill": {
              "color": "#EBF0F8"
             },
             "line": {
              "color": "white"
             }
            },
            "header": {
             "fill": {
              "color": "#C8D4E3"
             },
             "line": {
              "color": "white"
             }
            },
            "type": "table"
           }
          ]
         },
         "layout": {
          "annotationdefaults": {
           "arrowcolor": "#2a3f5f",
           "arrowhead": 0,
           "arrowwidth": 1
          },
          "coloraxis": {
           "colorbar": {
            "outlinewidth": 0,
            "ticks": ""
           }
          },
          "colorscale": {
           "diverging": [
            [
             0,
             "#8e0152"
            ],
            [
             0.1,
             "#c51b7d"
            ],
            [
             0.2,
             "#de77ae"
            ],
            [
             0.3,
             "#f1b6da"
            ],
            [
             0.4,
             "#fde0ef"
            ],
            [
             0.5,
             "#f7f7f7"
            ],
            [
             0.6,
             "#e6f5d0"
            ],
            [
             0.7,
             "#b8e186"
            ],
            [
             0.8,
             "#7fbc41"
            ],
            [
             0.9,
             "#4d9221"
            ],
            [
             1,
             "#276419"
            ]
           ],
           "sequential": [
            [
             0,
             "#0d0887"
            ],
            [
             0.1111111111111111,
             "#46039f"
            ],
            [
             0.2222222222222222,
             "#7201a8"
            ],
            [
             0.3333333333333333,
             "#9c179e"
            ],
            [
             0.4444444444444444,
             "#bd3786"
            ],
            [
             0.5555555555555556,
             "#d8576b"
            ],
            [
             0.6666666666666666,
             "#ed7953"
            ],
            [
             0.7777777777777778,
             "#fb9f3a"
            ],
            [
             0.8888888888888888,
             "#fdca26"
            ],
            [
             1,
             "#f0f921"
            ]
           ],
           "sequentialminus": [
            [
             0,
             "#0d0887"
            ],
            [
             0.1111111111111111,
             "#46039f"
            ],
            [
             0.2222222222222222,
             "#7201a8"
            ],
            [
             0.3333333333333333,
             "#9c179e"
            ],
            [
             0.4444444444444444,
             "#bd3786"
            ],
            [
             0.5555555555555556,
             "#d8576b"
            ],
            [
             0.6666666666666666,
             "#ed7953"
            ],
            [
             0.7777777777777778,
             "#fb9f3a"
            ],
            [
             0.8888888888888888,
             "#fdca26"
            ],
            [
             1,
             "#f0f921"
            ]
           ]
          },
          "colorway": [
           "#636efa",
           "#EF553B",
           "#00cc96",
           "#ab63fa",
           "#FFA15A",
           "#19d3f3",
           "#FF6692",
           "#B6E880",
           "#FF97FF",
           "#FECB52"
          ],
          "font": {
           "color": "#2a3f5f"
          },
          "geo": {
           "bgcolor": "white",
           "lakecolor": "white",
           "landcolor": "#E5ECF6",
           "showlakes": true,
           "showland": true,
           "subunitcolor": "white"
          },
          "hoverlabel": {
           "align": "left"
          },
          "hovermode": "closest",
          "mapbox": {
           "style": "light"
          },
          "paper_bgcolor": "white",
          "plot_bgcolor": "#E5ECF6",
          "polar": {
           "angularaxis": {
            "gridcolor": "white",
            "linecolor": "white",
            "ticks": ""
           },
           "bgcolor": "#E5ECF6",
           "radialaxis": {
            "gridcolor": "white",
            "linecolor": "white",
            "ticks": ""
           }
          },
          "scene": {
           "xaxis": {
            "backgroundcolor": "#E5ECF6",
            "gridcolor": "white",
            "gridwidth": 2,
            "linecolor": "white",
            "showbackground": true,
            "ticks": "",
            "zerolinecolor": "white"
           },
           "yaxis": {
            "backgroundcolor": "#E5ECF6",
            "gridcolor": "white",
            "gridwidth": 2,
            "linecolor": "white",
            "showbackground": true,
            "ticks": "",
            "zerolinecolor": "white"
           },
           "zaxis": {
            "backgroundcolor": "#E5ECF6",
            "gridcolor": "white",
            "gridwidth": 2,
            "linecolor": "white",
            "showbackground": true,
            "ticks": "",
            "zerolinecolor": "white"
           }
          },
          "shapedefaults": {
           "line": {
            "color": "#2a3f5f"
           }
          },
          "ternary": {
           "aaxis": {
            "gridcolor": "white",
            "linecolor": "white",
            "ticks": ""
           },
           "baxis": {
            "gridcolor": "white",
            "linecolor": "white",
            "ticks": ""
           },
           "bgcolor": "#E5ECF6",
           "caxis": {
            "gridcolor": "white",
            "linecolor": "white",
            "ticks": ""
           }
          },
          "title": {
           "x": 0.05
          },
          "xaxis": {
           "automargin": true,
           "gridcolor": "white",
           "linecolor": "white",
           "ticks": "",
           "title": {
            "standoff": 15
           },
           "zerolinecolor": "white",
           "zerolinewidth": 2
          },
          "yaxis": {
           "automargin": true,
           "gridcolor": "white",
           "linecolor": "white",
           "ticks": "",
           "title": {
            "standoff": 15
           },
           "zerolinecolor": "white",
           "zerolinewidth": 2
          }
         }
        },
        "xaxis": {
         "anchor": "y",
         "domain": [
          0,
          0.49
         ],
         "title": {
          "text": "Amount"
         }
        },
        "xaxis2": {
         "anchor": "y2",
         "domain": [
          0.51,
          1
         ],
         "matches": "x",
         "title": {
          "text": "Amount"
         }
        },
        "yaxis": {
         "anchor": "x",
         "domain": [
          0,
          1
         ],
         "title": {
          "text": "Date"
         }
        },
        "yaxis2": {
         "anchor": "x2",
         "domain": [
          0,
          1
         ],
         "matches": "y",
         "showticklabels": false
        }
       }
      },
      "text/html": [
       "<div>\n",
       "        \n",
       "        \n",
       "            <div id=\"ba2aacc7-cbd3-4ccc-a0ec-97231c00f27e\" class=\"plotly-graph-div\" style=\"height:525px; width:100%;\"></div>\n",
       "            <script type=\"text/javascript\">\n",
       "                require([\"plotly\"], function(Plotly) {\n",
       "                    window.PLOTLYENV=window.PLOTLYENV || {};\n",
       "                    \n",
       "                if (document.getElementById(\"ba2aacc7-cbd3-4ccc-a0ec-97231c00f27e\")) {\n",
       "                    Plotly.newPlot(\n",
       "                        'ba2aacc7-cbd3-4ccc-a0ec-97231c00f27e',\n",
       "                        [{\"hovertemplate\": \"Transaction_Type=POS<br>Amount=%{x}<br>Date=%{y}<extra></extra>\", \"legendgroup\": \"POS\", \"marker\": {\"color\": \"#636efa\", \"symbol\": \"circle\"}, \"mode\": \"markers\", \"name\": \"POS\", \"showlegend\": true, \"type\": \"scatter\", \"x\": [25000, 300, 45000, 670, 4543, 11000, 132, 1200, 1340, 1200, 11000, 10543, 140, 994, 50, 120, 140, 1987, 4000, 1200, 112, 4509, 4000, 9875, 12567, 907, 345, 75000, 24000, 12000, 175600, 890, 567, 8954, 9056, 23467, 1000, 10000, 25000, 300, 45000, 670, 11000, 130000, 132, 1200, 1340, 1200, 10543, 140, 15000, 800, 50, 120, 140, 1987, 987, 4000, 112, 4509, 543, 9875, 150000, 5000, 75000, 23467, 1000, 25000, 45000, 670, 4543, 130000, 1200], \"xaxis\": \"x\", \"y\": [26, 20, 15, 17, 7, 21, 4, 31, 27, 31, 15, 15, 27, 1, 25, 11, 2, 4, 17, 8, 13, 30, 21, 29, 16, 12, 5, 21, 4, 9, 19, 14, 6, 2, 20, 19, 3, 14, 21, 21, 16, 14, 19, 6, 7, 19, 1, 4, 30, 31, 16, 13, 1, 15, 10, 6, 30, 29, 17, 14, 12, 9, 8, 16, 25, 20, 27, 4, 17, 20, 17, 20, 25], \"yaxis\": \"y\"}, {\"hovertemplate\": \"Transaction_Type=Internet<br>Amount=%{x}<br>Date=%{y}<extra></extra>\", \"legendgroup\": \"Internet\", \"marker\": {\"color\": \"#EF553B\", \"symbol\": \"circle\"}, \"mode\": \"markers\", \"name\": \"Internet\", \"showlegend\": true, \"type\": \"scatter\", \"x\": [130000, 1356, 50000, 15000, 800, 1200, 987, 12000, 543, 150000, 5000, 5000, 45000, 4543, 1356, 11000, 50000, 994, 1200, 1200, 12000, 4000, 12567, 907, 345, 24000, 10000, 45000, 300, 11000, 132, 1340, 1356], \"xaxis\": \"x2\", \"y\": [24, 7, 13, 20, 19, 23, 7, 11, 26, 16, 26, 25, 16, 19, 14, 3, 8, 10, 22, 19, 5, 10, 9, 11, 20, 2, 1, 10, 5, 1, 26, 7, 15], \"yaxis\": \"y2\"}, {\"line\": {\"color\": \"black\"}, \"mode\": \"lines\", \"showlegend\": false, \"type\": \"scatter\", \"x\": [2, 30], \"xaxis\": \"x\", \"y\": [4, 45], \"yaxis\": \"y\"}, {\"line\": {\"color\": \"black\"}, \"mode\": \"lines\", \"showlegend\": false, \"type\": \"scatter\", \"x\": [2, 30], \"xaxis\": \"x2\", \"y\": [4, 45], \"yaxis\": \"y2\"}],\n",
       "                        {\"annotations\": [{\"font\": {}, \"showarrow\": false, \"text\": \"Transaction_Type=POS\", \"x\": 0.245, \"xanchor\": \"center\", \"xref\": \"paper\", \"y\": 1.0, \"yanchor\": \"bottom\", \"yref\": \"paper\"}, {\"font\": {}, \"showarrow\": false, \"text\": \"Transaction_Type=Internet\", \"x\": 0.755, \"xanchor\": \"center\", \"xref\": \"paper\", \"y\": 1.0, \"yanchor\": \"bottom\", \"yref\": \"paper\"}], \"legend\": {\"title\": {\"text\": \"Transaction_Type\"}, \"tracegroupgap\": 0}, \"margin\": {\"t\": 60}, \"template\": {\"data\": {\"bar\": [{\"error_x\": {\"color\": \"#2a3f5f\"}, \"error_y\": {\"color\": \"#2a3f5f\"}, \"marker\": {\"line\": {\"color\": \"#E5ECF6\", \"width\": 0.5}}, \"type\": \"bar\"}], \"barpolar\": [{\"marker\": {\"line\": {\"color\": \"#E5ECF6\", \"width\": 0.5}}, \"type\": \"barpolar\"}], \"carpet\": [{\"aaxis\": {\"endlinecolor\": \"#2a3f5f\", \"gridcolor\": \"white\", \"linecolor\": \"white\", \"minorgridcolor\": \"white\", \"startlinecolor\": \"#2a3f5f\"}, \"baxis\": {\"endlinecolor\": \"#2a3f5f\", \"gridcolor\": \"white\", \"linecolor\": \"white\", \"minorgridcolor\": \"white\", \"startlinecolor\": \"#2a3f5f\"}, \"type\": \"carpet\"}], \"choropleth\": [{\"colorbar\": {\"outlinewidth\": 0, \"ticks\": \"\"}, \"type\": \"choropleth\"}], \"contour\": [{\"colorbar\": {\"outlinewidth\": 0, \"ticks\": \"\"}, \"colorscale\": [[0.0, \"#0d0887\"], [0.1111111111111111, \"#46039f\"], [0.2222222222222222, \"#7201a8\"], [0.3333333333333333, \"#9c179e\"], [0.4444444444444444, \"#bd3786\"], [0.5555555555555556, \"#d8576b\"], [0.6666666666666666, \"#ed7953\"], [0.7777777777777778, \"#fb9f3a\"], [0.8888888888888888, \"#fdca26\"], [1.0, \"#f0f921\"]], \"type\": \"contour\"}], \"contourcarpet\": [{\"colorbar\": {\"outlinewidth\": 0, \"ticks\": \"\"}, \"type\": \"contourcarpet\"}], \"heatmap\": [{\"colorbar\": {\"outlinewidth\": 0, \"ticks\": \"\"}, \"colorscale\": [[0.0, \"#0d0887\"], [0.1111111111111111, \"#46039f\"], [0.2222222222222222, \"#7201a8\"], [0.3333333333333333, \"#9c179e\"], [0.4444444444444444, \"#bd3786\"], [0.5555555555555556, \"#d8576b\"], [0.6666666666666666, \"#ed7953\"], [0.7777777777777778, \"#fb9f3a\"], [0.8888888888888888, \"#fdca26\"], [1.0, \"#f0f921\"]], \"type\": \"heatmap\"}], \"heatmapgl\": [{\"colorbar\": {\"outlinewidth\": 0, \"ticks\": \"\"}, \"colorscale\": [[0.0, \"#0d0887\"], [0.1111111111111111, \"#46039f\"], [0.2222222222222222, \"#7201a8\"], [0.3333333333333333, \"#9c179e\"], [0.4444444444444444, \"#bd3786\"], [0.5555555555555556, \"#d8576b\"], [0.6666666666666666, \"#ed7953\"], [0.7777777777777778, \"#fb9f3a\"], [0.8888888888888888, \"#fdca26\"], [1.0, \"#f0f921\"]], \"type\": \"heatmapgl\"}], \"histogram\": [{\"marker\": {\"colorbar\": {\"outlinewidth\": 0, \"ticks\": \"\"}}, \"type\": \"histogram\"}], \"histogram2d\": [{\"colorbar\": {\"outlinewidth\": 0, \"ticks\": \"\"}, \"colorscale\": [[0.0, \"#0d0887\"], [0.1111111111111111, \"#46039f\"], [0.2222222222222222, \"#7201a8\"], [0.3333333333333333, \"#9c179e\"], [0.4444444444444444, \"#bd3786\"], [0.5555555555555556, \"#d8576b\"], [0.6666666666666666, \"#ed7953\"], [0.7777777777777778, \"#fb9f3a\"], [0.8888888888888888, \"#fdca26\"], [1.0, \"#f0f921\"]], \"type\": \"histogram2d\"}], \"histogram2dcontour\": [{\"colorbar\": {\"outlinewidth\": 0, \"ticks\": \"\"}, \"colorscale\": [[0.0, \"#0d0887\"], [0.1111111111111111, \"#46039f\"], [0.2222222222222222, \"#7201a8\"], [0.3333333333333333, \"#9c179e\"], [0.4444444444444444, \"#bd3786\"], [0.5555555555555556, \"#d8576b\"], [0.6666666666666666, \"#ed7953\"], [0.7777777777777778, \"#fb9f3a\"], [0.8888888888888888, \"#fdca26\"], [1.0, \"#f0f921\"]], \"type\": \"histogram2dcontour\"}], \"mesh3d\": [{\"colorbar\": {\"outlinewidth\": 0, \"ticks\": \"\"}, \"type\": \"mesh3d\"}], \"parcoords\": [{\"line\": {\"colorbar\": {\"outlinewidth\": 0, \"ticks\": \"\"}}, \"type\": \"parcoords\"}], \"pie\": [{\"automargin\": true, \"type\": \"pie\"}], \"scatter\": [{\"marker\": {\"colorbar\": {\"outlinewidth\": 0, \"ticks\": \"\"}}, \"type\": \"scatter\"}], \"scatter3d\": [{\"line\": {\"colorbar\": {\"outlinewidth\": 0, \"ticks\": \"\"}}, \"marker\": {\"colorbar\": {\"outlinewidth\": 0, \"ticks\": \"\"}}, \"type\": \"scatter3d\"}], \"scattercarpet\": [{\"marker\": {\"colorbar\": {\"outlinewidth\": 0, \"ticks\": \"\"}}, \"type\": \"scattercarpet\"}], \"scattergeo\": [{\"marker\": {\"colorbar\": {\"outlinewidth\": 0, \"ticks\": \"\"}}, \"type\": \"scattergeo\"}], \"scattergl\": [{\"marker\": {\"colorbar\": {\"outlinewidth\": 0, \"ticks\": \"\"}}, \"type\": \"scattergl\"}], \"scattermapbox\": [{\"marker\": {\"colorbar\": {\"outlinewidth\": 0, \"ticks\": \"\"}}, \"type\": \"scattermapbox\"}], \"scatterpolar\": [{\"marker\": {\"colorbar\": {\"outlinewidth\": 0, \"ticks\": \"\"}}, \"type\": \"scatterpolar\"}], \"scatterpolargl\": [{\"marker\": {\"colorbar\": {\"outlinewidth\": 0, \"ticks\": \"\"}}, \"type\": \"scatterpolargl\"}], \"scatterternary\": [{\"marker\": {\"colorbar\": {\"outlinewidth\": 0, \"ticks\": \"\"}}, \"type\": \"scatterternary\"}], \"surface\": [{\"colorbar\": {\"outlinewidth\": 0, \"ticks\": \"\"}, \"colorscale\": [[0.0, \"#0d0887\"], [0.1111111111111111, \"#46039f\"], [0.2222222222222222, \"#7201a8\"], [0.3333333333333333, \"#9c179e\"], [0.4444444444444444, \"#bd3786\"], [0.5555555555555556, \"#d8576b\"], [0.6666666666666666, \"#ed7953\"], [0.7777777777777778, \"#fb9f3a\"], [0.8888888888888888, \"#fdca26\"], [1.0, \"#f0f921\"]], \"type\": \"surface\"}], \"table\": [{\"cells\": {\"fill\": {\"color\": \"#EBF0F8\"}, \"line\": {\"color\": \"white\"}}, \"header\": {\"fill\": {\"color\": \"#C8D4E3\"}, \"line\": {\"color\": \"white\"}}, \"type\": \"table\"}]}, \"layout\": {\"annotationdefaults\": {\"arrowcolor\": \"#2a3f5f\", \"arrowhead\": 0, \"arrowwidth\": 1}, \"coloraxis\": {\"colorbar\": {\"outlinewidth\": 0, \"ticks\": \"\"}}, \"colorscale\": {\"diverging\": [[0, \"#8e0152\"], [0.1, \"#c51b7d\"], [0.2, \"#de77ae\"], [0.3, \"#f1b6da\"], [0.4, \"#fde0ef\"], [0.5, \"#f7f7f7\"], [0.6, \"#e6f5d0\"], [0.7, \"#b8e186\"], [0.8, \"#7fbc41\"], [0.9, \"#4d9221\"], [1, \"#276419\"]], \"sequential\": [[0.0, \"#0d0887\"], [0.1111111111111111, \"#46039f\"], [0.2222222222222222, \"#7201a8\"], [0.3333333333333333, \"#9c179e\"], [0.4444444444444444, \"#bd3786\"], [0.5555555555555556, \"#d8576b\"], [0.6666666666666666, \"#ed7953\"], [0.7777777777777778, \"#fb9f3a\"], [0.8888888888888888, \"#fdca26\"], [1.0, \"#f0f921\"]], \"sequentialminus\": [[0.0, \"#0d0887\"], [0.1111111111111111, \"#46039f\"], [0.2222222222222222, \"#7201a8\"], [0.3333333333333333, \"#9c179e\"], [0.4444444444444444, \"#bd3786\"], [0.5555555555555556, \"#d8576b\"], [0.6666666666666666, \"#ed7953\"], [0.7777777777777778, \"#fb9f3a\"], [0.8888888888888888, \"#fdca26\"], [1.0, \"#f0f921\"]]}, \"colorway\": [\"#636efa\", \"#EF553B\", \"#00cc96\", \"#ab63fa\", \"#FFA15A\", \"#19d3f3\", \"#FF6692\", \"#B6E880\", \"#FF97FF\", \"#FECB52\"], \"font\": {\"color\": \"#2a3f5f\"}, \"geo\": {\"bgcolor\": \"white\", \"lakecolor\": \"white\", \"landcolor\": \"#E5ECF6\", \"showlakes\": true, \"showland\": true, \"subunitcolor\": \"white\"}, \"hoverlabel\": {\"align\": \"left\"}, \"hovermode\": \"closest\", \"mapbox\": {\"style\": \"light\"}, \"paper_bgcolor\": \"white\", \"plot_bgcolor\": \"#E5ECF6\", \"polar\": {\"angularaxis\": {\"gridcolor\": \"white\", \"linecolor\": \"white\", \"ticks\": \"\"}, \"bgcolor\": \"#E5ECF6\", \"radialaxis\": {\"gridcolor\": \"white\", \"linecolor\": \"white\", \"ticks\": \"\"}}, \"scene\": {\"xaxis\": {\"backgroundcolor\": \"#E5ECF6\", \"gridcolor\": \"white\", \"gridwidth\": 2, \"linecolor\": \"white\", \"showbackground\": true, \"ticks\": \"\", \"zerolinecolor\": \"white\"}, \"yaxis\": {\"backgroundcolor\": \"#E5ECF6\", \"gridcolor\": \"white\", \"gridwidth\": 2, \"linecolor\": \"white\", \"showbackground\": true, \"ticks\": \"\", \"zerolinecolor\": \"white\"}, \"zaxis\": {\"backgroundcolor\": \"#E5ECF6\", \"gridcolor\": \"white\", \"gridwidth\": 2, \"linecolor\": \"white\", \"showbackground\": true, \"ticks\": \"\", \"zerolinecolor\": \"white\"}}, \"shapedefaults\": {\"line\": {\"color\": \"#2a3f5f\"}}, \"ternary\": {\"aaxis\": {\"gridcolor\": \"white\", \"linecolor\": \"white\", \"ticks\": \"\"}, \"baxis\": {\"gridcolor\": \"white\", \"linecolor\": \"white\", \"ticks\": \"\"}, \"bgcolor\": \"#E5ECF6\", \"caxis\": {\"gridcolor\": \"white\", \"linecolor\": \"white\", \"ticks\": \"\"}}, \"title\": {\"x\": 0.05}, \"xaxis\": {\"automargin\": true, \"gridcolor\": \"white\", \"linecolor\": \"white\", \"ticks\": \"\", \"title\": {\"standoff\": 15}, \"zerolinecolor\": \"white\", \"zerolinewidth\": 2}, \"yaxis\": {\"automargin\": true, \"gridcolor\": \"white\", \"linecolor\": \"white\", \"ticks\": \"\", \"title\": {\"standoff\": 15}, \"zerolinecolor\": \"white\", \"zerolinewidth\": 2}}}, \"xaxis\": {\"anchor\": \"y\", \"domain\": [0.0, 0.49], \"title\": {\"text\": \"Amount\"}}, \"xaxis2\": {\"anchor\": \"y2\", \"domain\": [0.51, 1.0], \"matches\": \"x\", \"title\": {\"text\": \"Amount\"}}, \"yaxis\": {\"anchor\": \"x\", \"domain\": [0.0, 1.0], \"title\": {\"text\": \"Date\"}}, \"yaxis2\": {\"anchor\": \"x2\", \"domain\": [0.0, 1.0], \"matches\": \"y\", \"showticklabels\": false}},\n",
       "                        {\"responsive\": true}\n",
       "                    ).then(function(){\n",
       "                            \n",
       "var gd = document.getElementById('ba2aacc7-cbd3-4ccc-a0ec-97231c00f27e');\n",
       "var x = new MutationObserver(function (mutations, observer) {{\n",
       "        var display = window.getComputedStyle(gd).display;\n",
       "        if (!display || display === 'none') {{\n",
       "            console.log([gd, 'removed!']);\n",
       "            Plotly.purge(gd);\n",
       "            observer.disconnect();\n",
       "        }}\n",
       "}});\n",
       "\n",
       "// Listen for the removal of the full notebook cells\n",
       "var notebookContainer = gd.closest('#notebook-container');\n",
       "if (notebookContainer) {{\n",
       "    x.observe(notebookContainer, {childList: true});\n",
       "}}\n",
       "\n",
       "// Listen for the clearing of the current output cell\n",
       "var outputEl = gd.closest('.output');\n",
       "if (outputEl) {{\n",
       "    x.observe(outputEl, {childList: true});\n",
       "}}\n",
       "\n",
       "                        })\n",
       "                };\n",
       "                });\n",
       "            </script>\n",
       "        </div>"
      ]
     },
     "metadata": {},
     "output_type": "display_data"
    }
   ],
   "source": [
    "# P - Regresed line\n",
    "\n",
    "import plotly.express as px\n",
    "\n",
    "fig = px.scatter(DB, x=\"Amount\", y=\"Date\", color=\"Transaction_Type\",facet_col=\"Transaction_Type\")\n",
    "\n",
    "reference_line = go.Scatter(x=[2, 30],\n",
    "                            y=[4, 45],\n",
    "                            mode=\"lines\",\n",
    "                            line=go.scatter.Line(color=\"black\"),\n",
    "                            showlegend=False)\n",
    "\n",
    "fig.add_trace(reference_line, row=1, col=1)\n",
    "fig.add_trace(reference_line, row=1, col=2)\n",
    "\n",
    "fig.show()"
   ]
  },
  {
   "cell_type": "code",
   "execution_count": 53,
   "metadata": {},
   "outputs": [
    {
     "data": {
      "application/vnd.plotly.v1+json": {
       "config": {
        "plotlyServerURL": "https://plot.ly"
       },
       "data": [
        {
         "type": "surface",
         "x": [
          25000,
          300,
          45000,
          670,
          4543,
          11000,
          130000,
          132,
          1200,
          1340,
          1356,
          1200,
          11000,
          50000,
          10543,
          140,
          15000,
          994,
          800,
          50,
          120,
          140,
          1200,
          1987,
          987,
          4000,
          1200,
          112,
          12000,
          4509,
          4000,
          543,
          9875,
          12567,
          150000,
          907,
          345,
          5000,
          75000,
          24000,
          12000,
          175600,
          890,
          567,
          8954,
          9056,
          5000,
          23467,
          1000,
          10000,
          45000,
          25000,
          300,
          45000,
          670,
          4543,
          11000,
          130000,
          132,
          1200,
          1340,
          1356,
          1200,
          11000,
          50000,
          10543,
          140,
          15000,
          994,
          800,
          50,
          120,
          140,
          1200,
          1987,
          987,
          4000,
          1200,
          112,
          12000,
          4509,
          4000,
          543,
          9875,
          12567,
          150000,
          907,
          345,
          5000,
          75000,
          24000,
          23467,
          1000,
          10000,
          45000,
          25000,
          300,
          45000,
          670,
          4543,
          11000,
          130000,
          132,
          1200,
          1340,
          1356
         ],
         "y": [
          500000,
          500000,
          500000,
          500000,
          500000,
          500000,
          500000,
          500000,
          500000,
          500000,
          100000,
          100000,
          100000,
          100000,
          100000,
          100000,
          100000,
          100000,
          100000,
          100000,
          25000,
          25000,
          25000,
          25000,
          25000,
          25000,
          25000,
          25000,
          25000,
          25000,
          350000,
          350000,
          350000,
          350000,
          350000,
          350000,
          350000,
          350000,
          350000,
          350000,
          350000,
          225000,
          225000,
          225000,
          225000,
          225000,
          225000,
          225000,
          225000,
          225000,
          225000,
          500000,
          500000,
          500000,
          500000,
          500000,
          500000,
          500000,
          500000,
          500000,
          500000,
          100000,
          100000,
          100000,
          100000,
          100000,
          100000,
          25000,
          25000,
          25000,
          25000,
          25000,
          25000,
          25000,
          25000,
          25000,
          25000,
          350000,
          350000,
          350000,
          350000,
          350000,
          350000,
          350000,
          350000,
          350000,
          350000,
          350000,
          350000,
          350000,
          350000,
          350000,
          350000,
          350000,
          350000,
          225000,
          225000,
          225000,
          225000,
          225000,
          225000,
          225000,
          225000,
          225000,
          225000,
          225000
         ],
         "z": [
          26,
          20,
          15,
          17,
          7,
          21,
          24,
          4,
          31,
          27,
          7,
          31,
          15,
          13,
          15,
          27,
          20,
          1,
          19,
          25,
          11,
          2,
          23,
          4,
          7,
          17,
          8,
          13,
          11,
          30,
          21,
          26,
          29,
          16,
          16,
          12,
          5,
          26,
          21,
          4,
          9,
          19,
          14,
          6,
          2,
          20,
          25,
          19,
          3,
          14,
          16,
          21,
          21,
          16,
          14,
          19,
          19,
          6,
          7,
          19,
          1,
          14,
          4,
          3,
          8,
          30,
          31,
          16,
          10,
          13,
          1,
          15,
          10,
          22,
          6,
          30,
          29,
          19,
          17,
          5,
          14,
          10,
          12,
          9,
          9,
          8,
          11,
          20,
          16,
          25,
          2,
          20,
          27,
          1,
          10,
          4,
          5,
          17,
          20,
          17,
          1,
          20,
          26,
          25,
          7,
          15
         ]
        }
       ],
       "layout": {
        "autosize": false,
        "height": 500,
        "template": {
         "data": {
          "bar": [
           {
            "error_x": {
             "color": "#2a3f5f"
            },
            "error_y": {
             "color": "#2a3f5f"
            },
            "marker": {
             "line": {
              "color": "#E5ECF6",
              "width": 0.5
             }
            },
            "type": "bar"
           }
          ],
          "barpolar": [
           {
            "marker": {
             "line": {
              "color": "#E5ECF6",
              "width": 0.5
             }
            },
            "type": "barpolar"
           }
          ],
          "carpet": [
           {
            "aaxis": {
             "endlinecolor": "#2a3f5f",
             "gridcolor": "white",
             "linecolor": "white",
             "minorgridcolor": "white",
             "startlinecolor": "#2a3f5f"
            },
            "baxis": {
             "endlinecolor": "#2a3f5f",
             "gridcolor": "white",
             "linecolor": "white",
             "minorgridcolor": "white",
             "startlinecolor": "#2a3f5f"
            },
            "type": "carpet"
           }
          ],
          "choropleth": [
           {
            "colorbar": {
             "outlinewidth": 0,
             "ticks": ""
            },
            "type": "choropleth"
           }
          ],
          "contour": [
           {
            "colorbar": {
             "outlinewidth": 0,
             "ticks": ""
            },
            "colorscale": [
             [
              0,
              "#0d0887"
             ],
             [
              0.1111111111111111,
              "#46039f"
             ],
             [
              0.2222222222222222,
              "#7201a8"
             ],
             [
              0.3333333333333333,
              "#9c179e"
             ],
             [
              0.4444444444444444,
              "#bd3786"
             ],
             [
              0.5555555555555556,
              "#d8576b"
             ],
             [
              0.6666666666666666,
              "#ed7953"
             ],
             [
              0.7777777777777778,
              "#fb9f3a"
             ],
             [
              0.8888888888888888,
              "#fdca26"
             ],
             [
              1,
              "#f0f921"
             ]
            ],
            "type": "contour"
           }
          ],
          "contourcarpet": [
           {
            "colorbar": {
             "outlinewidth": 0,
             "ticks": ""
            },
            "type": "contourcarpet"
           }
          ],
          "heatmap": [
           {
            "colorbar": {
             "outlinewidth": 0,
             "ticks": ""
            },
            "colorscale": [
             [
              0,
              "#0d0887"
             ],
             [
              0.1111111111111111,
              "#46039f"
             ],
             [
              0.2222222222222222,
              "#7201a8"
             ],
             [
              0.3333333333333333,
              "#9c179e"
             ],
             [
              0.4444444444444444,
              "#bd3786"
             ],
             [
              0.5555555555555556,
              "#d8576b"
             ],
             [
              0.6666666666666666,
              "#ed7953"
             ],
             [
              0.7777777777777778,
              "#fb9f3a"
             ],
             [
              0.8888888888888888,
              "#fdca26"
             ],
             [
              1,
              "#f0f921"
             ]
            ],
            "type": "heatmap"
           }
          ],
          "heatmapgl": [
           {
            "colorbar": {
             "outlinewidth": 0,
             "ticks": ""
            },
            "colorscale": [
             [
              0,
              "#0d0887"
             ],
             [
              0.1111111111111111,
              "#46039f"
             ],
             [
              0.2222222222222222,
              "#7201a8"
             ],
             [
              0.3333333333333333,
              "#9c179e"
             ],
             [
              0.4444444444444444,
              "#bd3786"
             ],
             [
              0.5555555555555556,
              "#d8576b"
             ],
             [
              0.6666666666666666,
              "#ed7953"
             ],
             [
              0.7777777777777778,
              "#fb9f3a"
             ],
             [
              0.8888888888888888,
              "#fdca26"
             ],
             [
              1,
              "#f0f921"
             ]
            ],
            "type": "heatmapgl"
           }
          ],
          "histogram": [
           {
            "marker": {
             "colorbar": {
              "outlinewidth": 0,
              "ticks": ""
             }
            },
            "type": "histogram"
           }
          ],
          "histogram2d": [
           {
            "colorbar": {
             "outlinewidth": 0,
             "ticks": ""
            },
            "colorscale": [
             [
              0,
              "#0d0887"
             ],
             [
              0.1111111111111111,
              "#46039f"
             ],
             [
              0.2222222222222222,
              "#7201a8"
             ],
             [
              0.3333333333333333,
              "#9c179e"
             ],
             [
              0.4444444444444444,
              "#bd3786"
             ],
             [
              0.5555555555555556,
              "#d8576b"
             ],
             [
              0.6666666666666666,
              "#ed7953"
             ],
             [
              0.7777777777777778,
              "#fb9f3a"
             ],
             [
              0.8888888888888888,
              "#fdca26"
             ],
             [
              1,
              "#f0f921"
             ]
            ],
            "type": "histogram2d"
           }
          ],
          "histogram2dcontour": [
           {
            "colorbar": {
             "outlinewidth": 0,
             "ticks": ""
            },
            "colorscale": [
             [
              0,
              "#0d0887"
             ],
             [
              0.1111111111111111,
              "#46039f"
             ],
             [
              0.2222222222222222,
              "#7201a8"
             ],
             [
              0.3333333333333333,
              "#9c179e"
             ],
             [
              0.4444444444444444,
              "#bd3786"
             ],
             [
              0.5555555555555556,
              "#d8576b"
             ],
             [
              0.6666666666666666,
              "#ed7953"
             ],
             [
              0.7777777777777778,
              "#fb9f3a"
             ],
             [
              0.8888888888888888,
              "#fdca26"
             ],
             [
              1,
              "#f0f921"
             ]
            ],
            "type": "histogram2dcontour"
           }
          ],
          "mesh3d": [
           {
            "colorbar": {
             "outlinewidth": 0,
             "ticks": ""
            },
            "type": "mesh3d"
           }
          ],
          "parcoords": [
           {
            "line": {
             "colorbar": {
              "outlinewidth": 0,
              "ticks": ""
             }
            },
            "type": "parcoords"
           }
          ],
          "pie": [
           {
            "automargin": true,
            "type": "pie"
           }
          ],
          "scatter": [
           {
            "marker": {
             "colorbar": {
              "outlinewidth": 0,
              "ticks": ""
             }
            },
            "type": "scatter"
           }
          ],
          "scatter3d": [
           {
            "line": {
             "colorbar": {
              "outlinewidth": 0,
              "ticks": ""
             }
            },
            "marker": {
             "colorbar": {
              "outlinewidth": 0,
              "ticks": ""
             }
            },
            "type": "scatter3d"
           }
          ],
          "scattercarpet": [
           {
            "marker": {
             "colorbar": {
              "outlinewidth": 0,
              "ticks": ""
             }
            },
            "type": "scattercarpet"
           }
          ],
          "scattergeo": [
           {
            "marker": {
             "colorbar": {
              "outlinewidth": 0,
              "ticks": ""
             }
            },
            "type": "scattergeo"
           }
          ],
          "scattergl": [
           {
            "marker": {
             "colorbar": {
              "outlinewidth": 0,
              "ticks": ""
             }
            },
            "type": "scattergl"
           }
          ],
          "scattermapbox": [
           {
            "marker": {
             "colorbar": {
              "outlinewidth": 0,
              "ticks": ""
             }
            },
            "type": "scattermapbox"
           }
          ],
          "scatterpolar": [
           {
            "marker": {
             "colorbar": {
              "outlinewidth": 0,
              "ticks": ""
             }
            },
            "type": "scatterpolar"
           }
          ],
          "scatterpolargl": [
           {
            "marker": {
             "colorbar": {
              "outlinewidth": 0,
              "ticks": ""
             }
            },
            "type": "scatterpolargl"
           }
          ],
          "scatterternary": [
           {
            "marker": {
             "colorbar": {
              "outlinewidth": 0,
              "ticks": ""
             }
            },
            "type": "scatterternary"
           }
          ],
          "surface": [
           {
            "colorbar": {
             "outlinewidth": 0,
             "ticks": ""
            },
            "colorscale": [
             [
              0,
              "#0d0887"
             ],
             [
              0.1111111111111111,
              "#46039f"
             ],
             [
              0.2222222222222222,
              "#7201a8"
             ],
             [
              0.3333333333333333,
              "#9c179e"
             ],
             [
              0.4444444444444444,
              "#bd3786"
             ],
             [
              0.5555555555555556,
              "#d8576b"
             ],
             [
              0.6666666666666666,
              "#ed7953"
             ],
             [
              0.7777777777777778,
              "#fb9f3a"
             ],
             [
              0.8888888888888888,
              "#fdca26"
             ],
             [
              1,
              "#f0f921"
             ]
            ],
            "type": "surface"
           }
          ],
          "table": [
           {
            "cells": {
             "fill": {
              "color": "#EBF0F8"
             },
             "line": {
              "color": "white"
             }
            },
            "header": {
             "fill": {
              "color": "#C8D4E3"
             },
             "line": {
              "color": "white"
             }
            },
            "type": "table"
           }
          ]
         },
         "layout": {
          "annotationdefaults": {
           "arrowcolor": "#2a3f5f",
           "arrowhead": 0,
           "arrowwidth": 1
          },
          "coloraxis": {
           "colorbar": {
            "outlinewidth": 0,
            "ticks": ""
           }
          },
          "colorscale": {
           "diverging": [
            [
             0,
             "#8e0152"
            ],
            [
             0.1,
             "#c51b7d"
            ],
            [
             0.2,
             "#de77ae"
            ],
            [
             0.3,
             "#f1b6da"
            ],
            [
             0.4,
             "#fde0ef"
            ],
            [
             0.5,
             "#f7f7f7"
            ],
            [
             0.6,
             "#e6f5d0"
            ],
            [
             0.7,
             "#b8e186"
            ],
            [
             0.8,
             "#7fbc41"
            ],
            [
             0.9,
             "#4d9221"
            ],
            [
             1,
             "#276419"
            ]
           ],
           "sequential": [
            [
             0,
             "#0d0887"
            ],
            [
             0.1111111111111111,
             "#46039f"
            ],
            [
             0.2222222222222222,
             "#7201a8"
            ],
            [
             0.3333333333333333,
             "#9c179e"
            ],
            [
             0.4444444444444444,
             "#bd3786"
            ],
            [
             0.5555555555555556,
             "#d8576b"
            ],
            [
             0.6666666666666666,
             "#ed7953"
            ],
            [
             0.7777777777777778,
             "#fb9f3a"
            ],
            [
             0.8888888888888888,
             "#fdca26"
            ],
            [
             1,
             "#f0f921"
            ]
           ],
           "sequentialminus": [
            [
             0,
             "#0d0887"
            ],
            [
             0.1111111111111111,
             "#46039f"
            ],
            [
             0.2222222222222222,
             "#7201a8"
            ],
            [
             0.3333333333333333,
             "#9c179e"
            ],
            [
             0.4444444444444444,
             "#bd3786"
            ],
            [
             0.5555555555555556,
             "#d8576b"
            ],
            [
             0.6666666666666666,
             "#ed7953"
            ],
            [
             0.7777777777777778,
             "#fb9f3a"
            ],
            [
             0.8888888888888888,
             "#fdca26"
            ],
            [
             1,
             "#f0f921"
            ]
           ]
          },
          "colorway": [
           "#636efa",
           "#EF553B",
           "#00cc96",
           "#ab63fa",
           "#FFA15A",
           "#19d3f3",
           "#FF6692",
           "#B6E880",
           "#FF97FF",
           "#FECB52"
          ],
          "font": {
           "color": "#2a3f5f"
          },
          "geo": {
           "bgcolor": "white",
           "lakecolor": "white",
           "landcolor": "#E5ECF6",
           "showlakes": true,
           "showland": true,
           "subunitcolor": "white"
          },
          "hoverlabel": {
           "align": "left"
          },
          "hovermode": "closest",
          "mapbox": {
           "style": "light"
          },
          "paper_bgcolor": "white",
          "plot_bgcolor": "#E5ECF6",
          "polar": {
           "angularaxis": {
            "gridcolor": "white",
            "linecolor": "white",
            "ticks": ""
           },
           "bgcolor": "#E5ECF6",
           "radialaxis": {
            "gridcolor": "white",
            "linecolor": "white",
            "ticks": ""
           }
          },
          "scene": {
           "xaxis": {
            "backgroundcolor": "#E5ECF6",
            "gridcolor": "white",
            "gridwidth": 2,
            "linecolor": "white",
            "showbackground": true,
            "ticks": "",
            "zerolinecolor": "white"
           },
           "yaxis": {
            "backgroundcolor": "#E5ECF6",
            "gridcolor": "white",
            "gridwidth": 2,
            "linecolor": "white",
            "showbackground": true,
            "ticks": "",
            "zerolinecolor": "white"
           },
           "zaxis": {
            "backgroundcolor": "#E5ECF6",
            "gridcolor": "white",
            "gridwidth": 2,
            "linecolor": "white",
            "showbackground": true,
            "ticks": "",
            "zerolinecolor": "white"
           }
          },
          "shapedefaults": {
           "line": {
            "color": "#2a3f5f"
           }
          },
          "ternary": {
           "aaxis": {
            "gridcolor": "white",
            "linecolor": "white",
            "ticks": ""
           },
           "baxis": {
            "gridcolor": "white",
            "linecolor": "white",
            "ticks": ""
           },
           "bgcolor": "#E5ECF6",
           "caxis": {
            "gridcolor": "white",
            "linecolor": "white",
            "ticks": ""
           }
          },
          "title": {
           "x": 0.05
          },
          "xaxis": {
           "automargin": true,
           "gridcolor": "white",
           "linecolor": "white",
           "ticks": "",
           "title": {
            "standoff": 15
           },
           "zerolinecolor": "white",
           "zerolinewidth": 2
          },
          "yaxis": {
           "automargin": true,
           "gridcolor": "white",
           "linecolor": "white",
           "ticks": "",
           "title": {
            "standoff": 15
           },
           "zerolinecolor": "white",
           "zerolinewidth": 2
          }
         }
        },
        "width": 500
       }
      },
      "text/html": [
       "<div>\n",
       "        \n",
       "        \n",
       "            <div id=\"8df65eb5-831b-46aa-a530-4a1cbddfca71\" class=\"plotly-graph-div\" style=\"height:500px; width:500px;\"></div>\n",
       "            <script type=\"text/javascript\">\n",
       "                require([\"plotly\"], function(Plotly) {\n",
       "                    window.PLOTLYENV=window.PLOTLYENV || {};\n",
       "                    \n",
       "                if (document.getElementById(\"8df65eb5-831b-46aa-a530-4a1cbddfca71\")) {\n",
       "                    Plotly.newPlot(\n",
       "                        '8df65eb5-831b-46aa-a530-4a1cbddfca71',\n",
       "                        [{\"type\": \"surface\", \"x\": [25000, 300, 45000, 670, 4543, 11000, 130000, 132, 1200, 1340, 1356, 1200, 11000, 50000, 10543, 140, 15000, 994, 800, 50, 120, 140, 1200, 1987, 987, 4000, 1200, 112, 12000, 4509, 4000, 543, 9875, 12567, 150000, 907, 345, 5000, 75000, 24000, 12000, 175600, 890, 567, 8954, 9056, 5000, 23467, 1000, 10000, 45000, 25000, 300, 45000, 670, 4543, 11000, 130000, 132, 1200, 1340, 1356, 1200, 11000, 50000, 10543, 140, 15000, 994, 800, 50, 120, 140, 1200, 1987, 987, 4000, 1200, 112, 12000, 4509, 4000, 543, 9875, 12567, 150000, 907, 345, 5000, 75000, 24000, 23467, 1000, 10000, 45000, 25000, 300, 45000, 670, 4543, 11000, 130000, 132, 1200, 1340, 1356], \"y\": [500000, 500000, 500000, 500000, 500000, 500000, 500000, 500000, 500000, 500000, 100000, 100000, 100000, 100000, 100000, 100000, 100000, 100000, 100000, 100000, 25000, 25000, 25000, 25000, 25000, 25000, 25000, 25000, 25000, 25000, 350000, 350000, 350000, 350000, 350000, 350000, 350000, 350000, 350000, 350000, 350000, 225000, 225000, 225000, 225000, 225000, 225000, 225000, 225000, 225000, 225000, 500000, 500000, 500000, 500000, 500000, 500000, 500000, 500000, 500000, 500000, 100000, 100000, 100000, 100000, 100000, 100000, 25000, 25000, 25000, 25000, 25000, 25000, 25000, 25000, 25000, 25000, 350000, 350000, 350000, 350000, 350000, 350000, 350000, 350000, 350000, 350000, 350000, 350000, 350000, 350000, 350000, 350000, 350000, 350000, 225000, 225000, 225000, 225000, 225000, 225000, 225000, 225000, 225000, 225000, 225000], \"z\": [26, 20, 15, 17, 7, 21, 24, 4, 31, 27, 7, 31, 15, 13, 15, 27, 20, 1, 19, 25, 11, 2, 23, 4, 7, 17, 8, 13, 11, 30, 21, 26, 29, 16, 16, 12, 5, 26, 21, 4, 9, 19, 14, 6, 2, 20, 25, 19, 3, 14, 16, 21, 21, 16, 14, 19, 19, 6, 7, 19, 1, 14, 4, 3, 8, 30, 31, 16, 10, 13, 1, 15, 10, 22, 6, 30, 29, 19, 17, 5, 14, 10, 12, 9, 9, 8, 11, 20, 16, 25, 2, 20, 27, 1, 10, 4, 5, 17, 20, 17, 1, 20, 26, 25, 7, 15]}],\n",
       "                        {\"autosize\": false, \"height\": 500, \"template\": {\"data\": {\"bar\": [{\"error_x\": {\"color\": \"#2a3f5f\"}, \"error_y\": {\"color\": \"#2a3f5f\"}, \"marker\": {\"line\": {\"color\": \"#E5ECF6\", \"width\": 0.5}}, \"type\": \"bar\"}], \"barpolar\": [{\"marker\": {\"line\": {\"color\": \"#E5ECF6\", \"width\": 0.5}}, \"type\": \"barpolar\"}], \"carpet\": [{\"aaxis\": {\"endlinecolor\": \"#2a3f5f\", \"gridcolor\": \"white\", \"linecolor\": \"white\", \"minorgridcolor\": \"white\", \"startlinecolor\": \"#2a3f5f\"}, \"baxis\": {\"endlinecolor\": \"#2a3f5f\", \"gridcolor\": \"white\", \"linecolor\": \"white\", \"minorgridcolor\": \"white\", \"startlinecolor\": \"#2a3f5f\"}, \"type\": \"carpet\"}], \"choropleth\": [{\"colorbar\": {\"outlinewidth\": 0, \"ticks\": \"\"}, \"type\": \"choropleth\"}], \"contour\": [{\"colorbar\": {\"outlinewidth\": 0, \"ticks\": \"\"}, \"colorscale\": [[0.0, \"#0d0887\"], [0.1111111111111111, \"#46039f\"], [0.2222222222222222, \"#7201a8\"], [0.3333333333333333, \"#9c179e\"], [0.4444444444444444, \"#bd3786\"], [0.5555555555555556, \"#d8576b\"], [0.6666666666666666, \"#ed7953\"], [0.7777777777777778, \"#fb9f3a\"], [0.8888888888888888, \"#fdca26\"], [1.0, \"#f0f921\"]], \"type\": \"contour\"}], \"contourcarpet\": [{\"colorbar\": {\"outlinewidth\": 0, \"ticks\": \"\"}, \"type\": \"contourcarpet\"}], \"heatmap\": [{\"colorbar\": {\"outlinewidth\": 0, \"ticks\": \"\"}, \"colorscale\": [[0.0, \"#0d0887\"], [0.1111111111111111, \"#46039f\"], [0.2222222222222222, \"#7201a8\"], [0.3333333333333333, \"#9c179e\"], [0.4444444444444444, \"#bd3786\"], [0.5555555555555556, \"#d8576b\"], [0.6666666666666666, \"#ed7953\"], [0.7777777777777778, \"#fb9f3a\"], [0.8888888888888888, \"#fdca26\"], [1.0, \"#f0f921\"]], \"type\": \"heatmap\"}], \"heatmapgl\": [{\"colorbar\": {\"outlinewidth\": 0, \"ticks\": \"\"}, \"colorscale\": [[0.0, \"#0d0887\"], [0.1111111111111111, \"#46039f\"], [0.2222222222222222, \"#7201a8\"], [0.3333333333333333, \"#9c179e\"], [0.4444444444444444, \"#bd3786\"], [0.5555555555555556, \"#d8576b\"], [0.6666666666666666, \"#ed7953\"], [0.7777777777777778, \"#fb9f3a\"], [0.8888888888888888, \"#fdca26\"], [1.0, \"#f0f921\"]], \"type\": \"heatmapgl\"}], \"histogram\": [{\"marker\": {\"colorbar\": {\"outlinewidth\": 0, \"ticks\": \"\"}}, \"type\": \"histogram\"}], \"histogram2d\": [{\"colorbar\": {\"outlinewidth\": 0, \"ticks\": \"\"}, \"colorscale\": [[0.0, \"#0d0887\"], [0.1111111111111111, \"#46039f\"], [0.2222222222222222, \"#7201a8\"], [0.3333333333333333, \"#9c179e\"], [0.4444444444444444, \"#bd3786\"], [0.5555555555555556, \"#d8576b\"], [0.6666666666666666, \"#ed7953\"], [0.7777777777777778, \"#fb9f3a\"], [0.8888888888888888, \"#fdca26\"], [1.0, \"#f0f921\"]], \"type\": \"histogram2d\"}], \"histogram2dcontour\": [{\"colorbar\": {\"outlinewidth\": 0, \"ticks\": \"\"}, \"colorscale\": [[0.0, \"#0d0887\"], [0.1111111111111111, \"#46039f\"], [0.2222222222222222, \"#7201a8\"], [0.3333333333333333, \"#9c179e\"], [0.4444444444444444, \"#bd3786\"], [0.5555555555555556, \"#d8576b\"], [0.6666666666666666, \"#ed7953\"], [0.7777777777777778, \"#fb9f3a\"], [0.8888888888888888, \"#fdca26\"], [1.0, \"#f0f921\"]], \"type\": \"histogram2dcontour\"}], \"mesh3d\": [{\"colorbar\": {\"outlinewidth\": 0, \"ticks\": \"\"}, \"type\": \"mesh3d\"}], \"parcoords\": [{\"line\": {\"colorbar\": {\"outlinewidth\": 0, \"ticks\": \"\"}}, \"type\": \"parcoords\"}], \"pie\": [{\"automargin\": true, \"type\": \"pie\"}], \"scatter\": [{\"marker\": {\"colorbar\": {\"outlinewidth\": 0, \"ticks\": \"\"}}, \"type\": \"scatter\"}], \"scatter3d\": [{\"line\": {\"colorbar\": {\"outlinewidth\": 0, \"ticks\": \"\"}}, \"marker\": {\"colorbar\": {\"outlinewidth\": 0, \"ticks\": \"\"}}, \"type\": \"scatter3d\"}], \"scattercarpet\": [{\"marker\": {\"colorbar\": {\"outlinewidth\": 0, \"ticks\": \"\"}}, \"type\": \"scattercarpet\"}], \"scattergeo\": [{\"marker\": {\"colorbar\": {\"outlinewidth\": 0, \"ticks\": \"\"}}, \"type\": \"scattergeo\"}], \"scattergl\": [{\"marker\": {\"colorbar\": {\"outlinewidth\": 0, \"ticks\": \"\"}}, \"type\": \"scattergl\"}], \"scattermapbox\": [{\"marker\": {\"colorbar\": {\"outlinewidth\": 0, \"ticks\": \"\"}}, \"type\": \"scattermapbox\"}], \"scatterpolar\": [{\"marker\": {\"colorbar\": {\"outlinewidth\": 0, \"ticks\": \"\"}}, \"type\": \"scatterpolar\"}], \"scatterpolargl\": [{\"marker\": {\"colorbar\": {\"outlinewidth\": 0, \"ticks\": \"\"}}, \"type\": \"scatterpolargl\"}], \"scatterternary\": [{\"marker\": {\"colorbar\": {\"outlinewidth\": 0, \"ticks\": \"\"}}, \"type\": \"scatterternary\"}], \"surface\": [{\"colorbar\": {\"outlinewidth\": 0, \"ticks\": \"\"}, \"colorscale\": [[0.0, \"#0d0887\"], [0.1111111111111111, \"#46039f\"], [0.2222222222222222, \"#7201a8\"], [0.3333333333333333, \"#9c179e\"], [0.4444444444444444, \"#bd3786\"], [0.5555555555555556, \"#d8576b\"], [0.6666666666666666, \"#ed7953\"], [0.7777777777777778, \"#fb9f3a\"], [0.8888888888888888, \"#fdca26\"], [1.0, \"#f0f921\"]], \"type\": \"surface\"}], \"table\": [{\"cells\": {\"fill\": {\"color\": \"#EBF0F8\"}, \"line\": {\"color\": \"white\"}}, \"header\": {\"fill\": {\"color\": \"#C8D4E3\"}, \"line\": {\"color\": \"white\"}}, \"type\": \"table\"}]}, \"layout\": {\"annotationdefaults\": {\"arrowcolor\": \"#2a3f5f\", \"arrowhead\": 0, \"arrowwidth\": 1}, \"coloraxis\": {\"colorbar\": {\"outlinewidth\": 0, \"ticks\": \"\"}}, \"colorscale\": {\"diverging\": [[0, \"#8e0152\"], [0.1, \"#c51b7d\"], [0.2, \"#de77ae\"], [0.3, \"#f1b6da\"], [0.4, \"#fde0ef\"], [0.5, \"#f7f7f7\"], [0.6, \"#e6f5d0\"], [0.7, \"#b8e186\"], [0.8, \"#7fbc41\"], [0.9, \"#4d9221\"], [1, \"#276419\"]], \"sequential\": [[0.0, \"#0d0887\"], [0.1111111111111111, \"#46039f\"], [0.2222222222222222, \"#7201a8\"], [0.3333333333333333, \"#9c179e\"], [0.4444444444444444, \"#bd3786\"], [0.5555555555555556, \"#d8576b\"], [0.6666666666666666, \"#ed7953\"], [0.7777777777777778, \"#fb9f3a\"], [0.8888888888888888, \"#fdca26\"], [1.0, \"#f0f921\"]], \"sequentialminus\": [[0.0, \"#0d0887\"], [0.1111111111111111, \"#46039f\"], [0.2222222222222222, \"#7201a8\"], [0.3333333333333333, \"#9c179e\"], [0.4444444444444444, \"#bd3786\"], [0.5555555555555556, \"#d8576b\"], [0.6666666666666666, \"#ed7953\"], [0.7777777777777778, \"#fb9f3a\"], [0.8888888888888888, \"#fdca26\"], [1.0, \"#f0f921\"]]}, \"colorway\": [\"#636efa\", \"#EF553B\", \"#00cc96\", \"#ab63fa\", \"#FFA15A\", \"#19d3f3\", \"#FF6692\", \"#B6E880\", \"#FF97FF\", \"#FECB52\"], \"font\": {\"color\": \"#2a3f5f\"}, \"geo\": {\"bgcolor\": \"white\", \"lakecolor\": \"white\", \"landcolor\": \"#E5ECF6\", \"showlakes\": true, \"showland\": true, \"subunitcolor\": \"white\"}, \"hoverlabel\": {\"align\": \"left\"}, \"hovermode\": \"closest\", \"mapbox\": {\"style\": \"light\"}, \"paper_bgcolor\": \"white\", \"plot_bgcolor\": \"#E5ECF6\", \"polar\": {\"angularaxis\": {\"gridcolor\": \"white\", \"linecolor\": \"white\", \"ticks\": \"\"}, \"bgcolor\": \"#E5ECF6\", \"radialaxis\": {\"gridcolor\": \"white\", \"linecolor\": \"white\", \"ticks\": \"\"}}, \"scene\": {\"xaxis\": {\"backgroundcolor\": \"#E5ECF6\", \"gridcolor\": \"white\", \"gridwidth\": 2, \"linecolor\": \"white\", \"showbackground\": true, \"ticks\": \"\", \"zerolinecolor\": \"white\"}, \"yaxis\": {\"backgroundcolor\": \"#E5ECF6\", \"gridcolor\": \"white\", \"gridwidth\": 2, \"linecolor\": \"white\", \"showbackground\": true, \"ticks\": \"\", \"zerolinecolor\": \"white\"}, \"zaxis\": {\"backgroundcolor\": \"#E5ECF6\", \"gridcolor\": \"white\", \"gridwidth\": 2, \"linecolor\": \"white\", \"showbackground\": true, \"ticks\": \"\", \"zerolinecolor\": \"white\"}}, \"shapedefaults\": {\"line\": {\"color\": \"#2a3f5f\"}}, \"ternary\": {\"aaxis\": {\"gridcolor\": \"white\", \"linecolor\": \"white\", \"ticks\": \"\"}, \"baxis\": {\"gridcolor\": \"white\", \"linecolor\": \"white\", \"ticks\": \"\"}, \"bgcolor\": \"#E5ECF6\", \"caxis\": {\"gridcolor\": \"white\", \"linecolor\": \"white\", \"ticks\": \"\"}}, \"title\": {\"x\": 0.05}, \"xaxis\": {\"automargin\": true, \"gridcolor\": \"white\", \"linecolor\": \"white\", \"ticks\": \"\", \"title\": {\"standoff\": 15}, \"zerolinecolor\": \"white\", \"zerolinewidth\": 2}, \"yaxis\": {\"automargin\": true, \"gridcolor\": \"white\", \"linecolor\": \"white\", \"ticks\": \"\", \"title\": {\"standoff\": 15}, \"zerolinecolor\": \"white\", \"zerolinewidth\": 2}}}, \"width\": 500},\n",
       "                        {\"responsive\": true}\n",
       "                    ).then(function(){\n",
       "                            \n",
       "var gd = document.getElementById('8df65eb5-831b-46aa-a530-4a1cbddfca71');\n",
       "var x = new MutationObserver(function (mutations, observer) {{\n",
       "        var display = window.getComputedStyle(gd).display;\n",
       "        if (!display || display === 'none') {{\n",
       "            console.log([gd, 'removed!']);\n",
       "            Plotly.purge(gd);\n",
       "            observer.disconnect();\n",
       "        }}\n",
       "}});\n",
       "\n",
       "// Listen for the removal of the full notebook cells\n",
       "var notebookContainer = gd.closest('#notebook-container');\n",
       "if (notebookContainer) {{\n",
       "    x.observe(notebookContainer, {childList: true});\n",
       "}}\n",
       "\n",
       "// Listen for the clearing of the current output cell\n",
       "var outputEl = gd.closest('.output');\n",
       "if (outputEl) {{\n",
       "    x.observe(outputEl, {childList: true});\n",
       "}}\n",
       "\n",
       "                        })\n",
       "                };\n",
       "                });\n",
       "            </script>\n",
       "        </div>"
      ]
     },
     "metadata": {},
     "output_type": "display_data"
    }
   ],
   "source": [
    "# P - 3D\n",
    "\n",
    "import plotly.graph_objects as go\n",
    "\n",
    "import pandas as pd\n",
    "\n",
    "x=DB['Amount']\n",
    "y=DB['Limit']\n",
    "z=DB['Date']\n",
    "\n",
    "fig = go.Figure(data=[go.Surface(z=z, x=x, y=y)])\n",
    "\n",
    "fig.update_layout( autosize=False,width=500, height=500,)\n",
    "\n",
    "fig.show()"
   ]
  },
  {
   "cell_type": "markdown",
   "metadata": {},
   "source": [
    "- - - - - - - - - - - - - - - - - - - - - - - - - - - - - - - - - - - - - - - - - - - - - -\n",
    "\n",
    "##### 4. Data Preparation\n",
    "\n",
    "- - - - - - - - - - - - - - - - - - - - - - - - - - - - - - - - - - - - - - - - - - - - - -"
   ]
  },
  {
   "cell_type": "code",
   "execution_count": 54,
   "metadata": {},
   "outputs": [],
   "source": [
    "# Categorial to numeric\n",
    "\n",
    "#from sklearn.preprocessing import Imputer\n",
    "from sklearn import preprocessing\n",
    "\n",
    "le = preprocessing.LabelEncoder()\n",
    "\n",
    "DB['Amount'] = le.fit_transform(DB['Amount'])  # dictionary \n",
    "DB['Transaction_Type'] = le.fit_transform(DB['Transaction_Type'])\n",
    "DB['Type'] = le.fit_transform(DB['Transaction_Type'])\n",
    "DB['Month'] = le.fit_transform(DB['Month'])\n",
    "#DB['Day'] = le.fit_transform(DB['Day'])"
   ]
  },
  {
   "cell_type": "code",
   "execution_count": 55,
   "metadata": {},
   "outputs": [
    {
     "data": {
      "text/html": [
       "<div>\n",
       "<style scoped>\n",
       "    .dataframe tbody tr th:only-of-type {\n",
       "        vertical-align: middle;\n",
       "    }\n",
       "\n",
       "    .dataframe tbody tr th {\n",
       "        vertical-align: top;\n",
       "    }\n",
       "\n",
       "    .dataframe thead th {\n",
       "        text-align: right;\n",
       "    }\n",
       "</style>\n",
       "<table border=\"1\" class=\"dataframe\">\n",
       "  <thead>\n",
       "    <tr style=\"text-align: right;\">\n",
       "      <th></th>\n",
       "      <th>Limit</th>\n",
       "      <th>Year</th>\n",
       "      <th>Month</th>\n",
       "      <th>Date</th>\n",
       "      <th>Time</th>\n",
       "      <th>Origin</th>\n",
       "      <th>Transaction</th>\n",
       "      <th>Transaction_Type</th>\n",
       "      <th>Amount</th>\n",
       "      <th>Type</th>\n",
       "    </tr>\n",
       "  </thead>\n",
       "  <tbody>\n",
       "    <tr>\n",
       "      <td>0</td>\n",
       "      <td>500000</td>\n",
       "      <td>2016</td>\n",
       "      <td>6</td>\n",
       "      <td>26</td>\n",
       "      <td>19</td>\n",
       "      <td>Bangalore, India</td>\n",
       "      <td>Bangalore, India</td>\n",
       "      <td>1</td>\n",
       "      <td>35</td>\n",
       "      <td>1</td>\n",
       "    </tr>\n",
       "    <tr>\n",
       "      <td>1</td>\n",
       "      <td>500000</td>\n",
       "      <td>2016</td>\n",
       "      <td>10</td>\n",
       "      <td>20</td>\n",
       "      <td>18</td>\n",
       "      <td>Bangalore, India</td>\n",
       "      <td>Bangalore, India</td>\n",
       "      <td>1</td>\n",
       "      <td>5</td>\n",
       "      <td>1</td>\n",
       "    </tr>\n",
       "    <tr>\n",
       "      <td>2</td>\n",
       "      <td>500000</td>\n",
       "      <td>2016</td>\n",
       "      <td>5</td>\n",
       "      <td>15</td>\n",
       "      <td>7</td>\n",
       "      <td>Bangalore, India</td>\n",
       "      <td>London, UK</td>\n",
       "      <td>1</td>\n",
       "      <td>36</td>\n",
       "      <td>1</td>\n",
       "    </tr>\n",
       "    <tr>\n",
       "      <td>3</td>\n",
       "      <td>500000</td>\n",
       "      <td>2016</td>\n",
       "      <td>2</td>\n",
       "      <td>17</td>\n",
       "      <td>15</td>\n",
       "      <td>Bangalore, India</td>\n",
       "      <td>London, UK</td>\n",
       "      <td>1</td>\n",
       "      <td>9</td>\n",
       "      <td>1</td>\n",
       "    </tr>\n",
       "    <tr>\n",
       "      <td>4</td>\n",
       "      <td>500000</td>\n",
       "      <td>2016</td>\n",
       "      <td>11</td>\n",
       "      <td>7</td>\n",
       "      <td>17</td>\n",
       "      <td>Bangalore, India</td>\n",
       "      <td>Bangalore, India</td>\n",
       "      <td>1</td>\n",
       "      <td>22</td>\n",
       "      <td>1</td>\n",
       "    </tr>\n",
       "  </tbody>\n",
       "</table>\n",
       "</div>"
      ],
      "text/plain": [
       "    Limit  Year  Month  Date  Time            Origin       Transaction  \\\n",
       "0  500000  2016      6    26    19  Bangalore, India  Bangalore, India   \n",
       "1  500000  2016     10    20    18  Bangalore, India  Bangalore, India   \n",
       "2  500000  2016      5    15     7  Bangalore, India        London, UK   \n",
       "3  500000  2016      2    17    15  Bangalore, India        London, UK   \n",
       "4  500000  2016     11     7    17  Bangalore, India  Bangalore, India   \n",
       "\n",
       "   Transaction_Type  Amount  Type  \n",
       "0                 1      35     1  \n",
       "1                 1       5     1  \n",
       "2                 1      36     1  \n",
       "3                 1       9     1  \n",
       "4                 1      22     1  "
      ]
     },
     "execution_count": 55,
     "metadata": {},
     "output_type": "execute_result"
    }
   ],
   "source": [
    "DB.head()"
   ]
  },
  {
   "cell_type": "code",
   "execution_count": 56,
   "metadata": {},
   "outputs": [
    {
     "name": "stderr",
     "output_type": "stream",
     "text": [
      "/Users/krishnavdave/opt/anaconda3/lib/python3.7/site-packages/ipykernel_launcher.py:5: FutureWarning:\n",
      "\n",
      "\n",
      ".ix is deprecated. Please use\n",
      ".loc for label based indexing or\n",
      ".iloc for positional indexing\n",
      "\n",
      "See the documentation here:\n",
      "http://pandas.pydata.org/pandas-docs/stable/user_guide/indexing.html#ix-indexer-is-deprecated\n",
      "\n",
      "/Users/krishnavdave/opt/anaconda3/lib/python3.7/site-packages/ipykernel_launcher.py:6: FutureWarning:\n",
      "\n",
      "\n",
      ".ix is deprecated. Please use\n",
      ".loc for label based indexing or\n",
      ".iloc for positional indexing\n",
      "\n",
      "See the documentation here:\n",
      "http://pandas.pydata.org/pandas-docs/stable/user_guide/indexing.html#ix-indexer-is-deprecated\n",
      "\n",
      "/Users/krishnavdave/opt/anaconda3/lib/python3.7/site-packages/ipykernel_launcher.py:8: FutureWarning:\n",
      "\n",
      "\n",
      ".ix is deprecated. Please use\n",
      ".loc for label based indexing or\n",
      ".iloc for positional indexing\n",
      "\n",
      "See the documentation here:\n",
      "http://pandas.pydata.org/pandas-docs/stable/user_guide/indexing.html#ix-indexer-is-deprecated\n",
      "\n",
      "/Users/krishnavdave/opt/anaconda3/lib/python3.7/site-packages/ipykernel_launcher.py:10: FutureWarning:\n",
      "\n",
      "\n",
      ".ix is deprecated. Please use\n",
      ".loc for label based indexing or\n",
      ".iloc for positional indexing\n",
      "\n",
      "See the documentation here:\n",
      "http://pandas.pydata.org/pandas-docs/stable/user_guide/indexing.html#ix-indexer-is-deprecated\n",
      "\n"
     ]
    }
   ],
   "source": [
    "# Categorical to numeric : CITY [If origin city and destination city not equal then flag it 1]\n",
    "\n",
    "DB['City']=0\n",
    "for i in range(len(DB['Month'])):\n",
    "    a=DB.ix[i,'Origin']\n",
    "    b=DB.ix[i,'Transaction']\n",
    "    if a==b:\n",
    "        DB.ix[i,'City']=0\n",
    "    else:\n",
    "        DB.ix[i,'City']=1"
   ]
  },
  {
   "cell_type": "code",
   "execution_count": 57,
   "metadata": {},
   "outputs": [
    {
     "name": "stderr",
     "output_type": "stream",
     "text": [
      "/Users/krishnavdave/opt/anaconda3/lib/python3.7/site-packages/ipykernel_launcher.py:6: FutureWarning:\n",
      "\n",
      "\n",
      ".ix is deprecated. Please use\n",
      ".loc for label based indexing or\n",
      ".iloc for positional indexing\n",
      "\n",
      "See the documentation here:\n",
      "http://pandas.pydata.org/pandas-docs/stable/user_guide/indexing.html#ix-indexer-is-deprecated\n",
      "\n",
      "/Users/krishnavdave/opt/anaconda3/lib/python3.7/site-packages/ipykernel_launcher.py:8: FutureWarning:\n",
      "\n",
      "\n",
      ".ix is deprecated. Please use\n",
      ".loc for label based indexing or\n",
      ".iloc for positional indexing\n",
      "\n",
      "See the documentation here:\n",
      "http://pandas.pydata.org/pandas-docs/stable/user_guide/indexing.html#ix-indexer-is-deprecated\n",
      "\n",
      "/Users/krishnavdave/opt/anaconda3/lib/python3.7/site-packages/ipykernel_launcher.py:10: FutureWarning:\n",
      "\n",
      "\n",
      ".ix is deprecated. Please use\n",
      ".loc for label based indexing or\n",
      ".iloc for positional indexing\n",
      "\n",
      "See the documentation here:\n",
      "http://pandas.pydata.org/pandas-docs/stable/user_guide/indexing.html#ix-indexer-is-deprecated\n",
      "\n"
     ]
    }
   ],
   "source": [
    "# Categorical to numeric : Amount  [if amount greater than its mean then assign it 1]\n",
    "\n",
    "DB['Amount_Class']=0\n",
    "mean=DB['Amount'].mean()\n",
    "for i in range(len(DB['Amount'])):\n",
    "    a=DB.ix[i,'Amount']\n",
    "    if a>=mean:\n",
    "        DB.ix[i,'Amount_Class']=1\n",
    "    else:\n",
    "        DB.ix[i,'Amount_Class']=0"
   ]
  },
  {
   "cell_type": "code",
   "execution_count": 58,
   "metadata": {},
   "outputs": [
    {
     "name": "stderr",
     "output_type": "stream",
     "text": [
      "/Users/krishnavdave/opt/anaconda3/lib/python3.7/site-packages/ipykernel_launcher.py:4: FutureWarning:\n",
      "\n",
      "\n",
      ".ix is deprecated. Please use\n",
      ".loc for label based indexing or\n",
      ".iloc for positional indexing\n",
      "\n",
      "See the documentation here:\n",
      "http://pandas.pydata.org/pandas-docs/stable/user_guide/indexing.html#ix-indexer-is-deprecated\n",
      "\n",
      "/Users/krishnavdave/opt/anaconda3/lib/python3.7/site-packages/ipykernel_launcher.py:8: FutureWarning:\n",
      "\n",
      "\n",
      ".ix is deprecated. Please use\n",
      ".loc for label based indexing or\n",
      ".iloc for positional indexing\n",
      "\n",
      "See the documentation here:\n",
      "http://pandas.pydata.org/pandas-docs/stable/user_guide/indexing.html#ix-indexer-is-deprecated\n",
      "\n",
      "/Users/krishnavdave/opt/anaconda3/lib/python3.7/site-packages/ipykernel_launcher.py:6: FutureWarning:\n",
      "\n",
      "\n",
      ".ix is deprecated. Please use\n",
      ".loc for label based indexing or\n",
      ".iloc for positional indexing\n",
      "\n",
      "See the documentation here:\n",
      "http://pandas.pydata.org/pandas-docs/stable/user_guide/indexing.html#ix-indexer-is-deprecated\n",
      "\n"
     ]
    }
   ],
   "source": [
    "# Categorical to mnumeric : Type\n",
    "\n",
    "for i in range(len(DB['Type'])):\n",
    "    a=DB.ix[i,'Type']\n",
    "    if a==0:\n",
    "        DB.ix[i,'Type']=1\n",
    "    else:\n",
    "        DB.ix[i,'Type']=0"
   ]
  },
  {
   "cell_type": "code",
   "execution_count": 59,
   "metadata": {},
   "outputs": [
    {
     "data": {
      "text/html": [
       "<div>\n",
       "<style scoped>\n",
       "    .dataframe tbody tr th:only-of-type {\n",
       "        vertical-align: middle;\n",
       "    }\n",
       "\n",
       "    .dataframe tbody tr th {\n",
       "        vertical-align: top;\n",
       "    }\n",
       "\n",
       "    .dataframe thead th {\n",
       "        text-align: right;\n",
       "    }\n",
       "</style>\n",
       "<table border=\"1\" class=\"dataframe\">\n",
       "  <thead>\n",
       "    <tr style=\"text-align: right;\">\n",
       "      <th></th>\n",
       "      <th>Limit</th>\n",
       "      <th>Year</th>\n",
       "      <th>Month</th>\n",
       "      <th>Date</th>\n",
       "      <th>Time</th>\n",
       "      <th>Origin</th>\n",
       "      <th>Transaction</th>\n",
       "      <th>Transaction_Type</th>\n",
       "      <th>Amount</th>\n",
       "      <th>Type</th>\n",
       "      <th>City</th>\n",
       "      <th>Amount_Class</th>\n",
       "    </tr>\n",
       "  </thead>\n",
       "  <tbody>\n",
       "    <tr>\n",
       "      <td>0</td>\n",
       "      <td>500000</td>\n",
       "      <td>2016</td>\n",
       "      <td>6</td>\n",
       "      <td>26</td>\n",
       "      <td>19</td>\n",
       "      <td>Bangalore, India</td>\n",
       "      <td>Bangalore, India</td>\n",
       "      <td>1</td>\n",
       "      <td>35</td>\n",
       "      <td>0</td>\n",
       "      <td>0</td>\n",
       "      <td>1</td>\n",
       "    </tr>\n",
       "    <tr>\n",
       "      <td>1</td>\n",
       "      <td>500000</td>\n",
       "      <td>2016</td>\n",
       "      <td>10</td>\n",
       "      <td>20</td>\n",
       "      <td>18</td>\n",
       "      <td>Bangalore, India</td>\n",
       "      <td>Bangalore, India</td>\n",
       "      <td>1</td>\n",
       "      <td>5</td>\n",
       "      <td>0</td>\n",
       "      <td>0</td>\n",
       "      <td>0</td>\n",
       "    </tr>\n",
       "    <tr>\n",
       "      <td>2</td>\n",
       "      <td>500000</td>\n",
       "      <td>2016</td>\n",
       "      <td>5</td>\n",
       "      <td>15</td>\n",
       "      <td>7</td>\n",
       "      <td>Bangalore, India</td>\n",
       "      <td>London, UK</td>\n",
       "      <td>1</td>\n",
       "      <td>36</td>\n",
       "      <td>0</td>\n",
       "      <td>1</td>\n",
       "      <td>1</td>\n",
       "    </tr>\n",
       "    <tr>\n",
       "      <td>3</td>\n",
       "      <td>500000</td>\n",
       "      <td>2016</td>\n",
       "      <td>2</td>\n",
       "      <td>17</td>\n",
       "      <td>15</td>\n",
       "      <td>Bangalore, India</td>\n",
       "      <td>London, UK</td>\n",
       "      <td>1</td>\n",
       "      <td>9</td>\n",
       "      <td>0</td>\n",
       "      <td>1</td>\n",
       "      <td>0</td>\n",
       "    </tr>\n",
       "    <tr>\n",
       "      <td>4</td>\n",
       "      <td>500000</td>\n",
       "      <td>2016</td>\n",
       "      <td>11</td>\n",
       "      <td>7</td>\n",
       "      <td>17</td>\n",
       "      <td>Bangalore, India</td>\n",
       "      <td>Bangalore, India</td>\n",
       "      <td>1</td>\n",
       "      <td>22</td>\n",
       "      <td>0</td>\n",
       "      <td>0</td>\n",
       "      <td>1</td>\n",
       "    </tr>\n",
       "  </tbody>\n",
       "</table>\n",
       "</div>"
      ],
      "text/plain": [
       "    Limit  Year  Month  Date  Time            Origin       Transaction  \\\n",
       "0  500000  2016      6    26    19  Bangalore, India  Bangalore, India   \n",
       "1  500000  2016     10    20    18  Bangalore, India  Bangalore, India   \n",
       "2  500000  2016      5    15     7  Bangalore, India        London, UK   \n",
       "3  500000  2016      2    17    15  Bangalore, India        London, UK   \n",
       "4  500000  2016     11     7    17  Bangalore, India  Bangalore, India   \n",
       "\n",
       "   Transaction_Type  Amount  Type  City  Amount_Class  \n",
       "0                 1      35     0     0             1  \n",
       "1                 1       5     0     0             0  \n",
       "2                 1      36     0     1             1  \n",
       "3                 1       9     0     1             0  \n",
       "4                 1      22     0     0             1  "
      ]
     },
     "execution_count": 59,
     "metadata": {},
     "output_type": "execute_result"
    }
   ],
   "source": [
    "DB.head()"
   ]
  },
  {
   "cell_type": "code",
   "execution_count": 60,
   "metadata": {},
   "outputs": [
    {
     "name": "stdout",
     "output_type": "stream",
     "text": [
      "<class 'pandas.core.frame.DataFrame'>\n",
      "RangeIndex: 106 entries, 0 to 105\n",
      "Data columns (total 12 columns):\n",
      "Limit               106 non-null int64\n",
      "Year                106 non-null int64\n",
      "Month               106 non-null int64\n",
      "Date                106 non-null int64\n",
      "Time                106 non-null int64\n",
      "Origin              106 non-null object\n",
      "Transaction         106 non-null object\n",
      "Transaction_Type    106 non-null int64\n",
      "Amount              106 non-null int64\n",
      "Type                106 non-null int64\n",
      "City                106 non-null int64\n",
      "Amount_Class        106 non-null int64\n",
      "dtypes: int64(10), object(2)\n",
      "memory usage: 10.1+ KB\n"
     ]
    }
   ],
   "source": [
    "DB.info()"
   ]
  },
  {
   "cell_type": "code",
   "execution_count": 61,
   "metadata": {},
   "outputs": [
    {
     "data": {
      "text/html": [
       "<div>\n",
       "<style scoped>\n",
       "    .dataframe tbody tr th:only-of-type {\n",
       "        vertical-align: middle;\n",
       "    }\n",
       "\n",
       "    .dataframe tbody tr th {\n",
       "        vertical-align: top;\n",
       "    }\n",
       "\n",
       "    .dataframe thead th {\n",
       "        text-align: right;\n",
       "    }\n",
       "</style>\n",
       "<table border=\"1\" class=\"dataframe\">\n",
       "  <thead>\n",
       "    <tr style=\"text-align: right;\">\n",
       "      <th></th>\n",
       "      <th>count</th>\n",
       "      <th>mean</th>\n",
       "      <th>std</th>\n",
       "      <th>min</th>\n",
       "      <th>25%</th>\n",
       "      <th>50%</th>\n",
       "      <th>75%</th>\n",
       "      <th>max</th>\n",
       "    </tr>\n",
       "  </thead>\n",
       "  <tbody>\n",
       "    <tr>\n",
       "      <td>Limit</td>\n",
       "      <td>106.0</td>\n",
       "      <td>254481.132075</td>\n",
       "      <td>166861.689582</td>\n",
       "      <td>25000.0</td>\n",
       "      <td>100000.00</td>\n",
       "      <td>225000.0</td>\n",
       "      <td>350000.00</td>\n",
       "      <td>500000.0</td>\n",
       "    </tr>\n",
       "    <tr>\n",
       "      <td>Year</td>\n",
       "      <td>106.0</td>\n",
       "      <td>2016.000000</td>\n",
       "      <td>0.000000</td>\n",
       "      <td>2016.0</td>\n",
       "      <td>2016.00</td>\n",
       "      <td>2016.0</td>\n",
       "      <td>2016.00</td>\n",
       "      <td>2016.0</td>\n",
       "    </tr>\n",
       "    <tr>\n",
       "      <td>Month</td>\n",
       "      <td>106.0</td>\n",
       "      <td>6.028302</td>\n",
       "      <td>3.418319</td>\n",
       "      <td>0.0</td>\n",
       "      <td>3.00</td>\n",
       "      <td>6.0</td>\n",
       "      <td>9.00</td>\n",
       "      <td>11.0</td>\n",
       "    </tr>\n",
       "    <tr>\n",
       "      <td>Date</td>\n",
       "      <td>106.0</td>\n",
       "      <td>15.009434</td>\n",
       "      <td>8.462236</td>\n",
       "      <td>1.0</td>\n",
       "      <td>8.00</td>\n",
       "      <td>15.0</td>\n",
       "      <td>20.75</td>\n",
       "      <td>31.0</td>\n",
       "    </tr>\n",
       "    <tr>\n",
       "      <td>Time</td>\n",
       "      <td>106.0</td>\n",
       "      <td>12.669811</td>\n",
       "      <td>7.077424</td>\n",
       "      <td>1.0</td>\n",
       "      <td>7.00</td>\n",
       "      <td>12.5</td>\n",
       "      <td>19.00</td>\n",
       "      <td>24.0</td>\n",
       "    </tr>\n",
       "    <tr>\n",
       "      <td>Transaction_Type</td>\n",
       "      <td>106.0</td>\n",
       "      <td>0.688679</td>\n",
       "      <td>0.465233</td>\n",
       "      <td>0.0</td>\n",
       "      <td>0.00</td>\n",
       "      <td>1.0</td>\n",
       "      <td>1.00</td>\n",
       "      <td>1.0</td>\n",
       "    </tr>\n",
       "    <tr>\n",
       "      <td>Amount</td>\n",
       "      <td>106.0</td>\n",
       "      <td>20.462264</td>\n",
       "      <td>11.797639</td>\n",
       "      <td>0.0</td>\n",
       "      <td>11.25</td>\n",
       "      <td>20.0</td>\n",
       "      <td>30.00</td>\n",
       "      <td>41.0</td>\n",
       "    </tr>\n",
       "    <tr>\n",
       "      <td>Type</td>\n",
       "      <td>106.0</td>\n",
       "      <td>0.311321</td>\n",
       "      <td>0.465233</td>\n",
       "      <td>0.0</td>\n",
       "      <td>0.00</td>\n",
       "      <td>0.0</td>\n",
       "      <td>1.00</td>\n",
       "      <td>1.0</td>\n",
       "    </tr>\n",
       "    <tr>\n",
       "      <td>City</td>\n",
       "      <td>106.0</td>\n",
       "      <td>0.547170</td>\n",
       "      <td>0.500135</td>\n",
       "      <td>0.0</td>\n",
       "      <td>0.00</td>\n",
       "      <td>1.0</td>\n",
       "      <td>1.00</td>\n",
       "      <td>1.0</td>\n",
       "    </tr>\n",
       "    <tr>\n",
       "      <td>Amount_Class</td>\n",
       "      <td>106.0</td>\n",
       "      <td>0.471698</td>\n",
       "      <td>0.501570</td>\n",
       "      <td>0.0</td>\n",
       "      <td>0.00</td>\n",
       "      <td>0.0</td>\n",
       "      <td>1.00</td>\n",
       "      <td>1.0</td>\n",
       "    </tr>\n",
       "  </tbody>\n",
       "</table>\n",
       "</div>"
      ],
      "text/plain": [
       "                  count           mean            std      min        25%  \\\n",
       "Limit             106.0  254481.132075  166861.689582  25000.0  100000.00   \n",
       "Year              106.0    2016.000000       0.000000   2016.0    2016.00   \n",
       "Month             106.0       6.028302       3.418319      0.0       3.00   \n",
       "Date              106.0      15.009434       8.462236      1.0       8.00   \n",
       "Time              106.0      12.669811       7.077424      1.0       7.00   \n",
       "Transaction_Type  106.0       0.688679       0.465233      0.0       0.00   \n",
       "Amount            106.0      20.462264      11.797639      0.0      11.25   \n",
       "Type              106.0       0.311321       0.465233      0.0       0.00   \n",
       "City              106.0       0.547170       0.500135      0.0       0.00   \n",
       "Amount_Class      106.0       0.471698       0.501570      0.0       0.00   \n",
       "\n",
       "                       50%        75%       max  \n",
       "Limit             225000.0  350000.00  500000.0  \n",
       "Year                2016.0    2016.00    2016.0  \n",
       "Month                  6.0       9.00      11.0  \n",
       "Date                  15.0      20.75      31.0  \n",
       "Time                  12.5      19.00      24.0  \n",
       "Transaction_Type       1.0       1.00       1.0  \n",
       "Amount                20.0      30.00      41.0  \n",
       "Type                   0.0       1.00       1.0  \n",
       "City                   1.0       1.00       1.0  \n",
       "Amount_Class           0.0       1.00       1.0  "
      ]
     },
     "execution_count": 61,
     "metadata": {},
     "output_type": "execute_result"
    }
   ],
   "source": [
    "DB.describe().T"
   ]
  },
  {
   "cell_type": "markdown",
   "metadata": {},
   "source": [
    "- - - - - - - - - - - - - - - - - - - - - - - - - - - - - - - - - - - - - - - - - - - - - -\n",
    "\n",
    "##### 5. EDA - Univariate, Bi Variate and Multi variate (Tables)\n",
    "\n",
    "- - - - - - - - - - - - - - - - - - - - - - - - - - - - - - - - - - - - - - - - - - - - - -"
   ]
  },
  {
   "cell_type": "code",
   "execution_count": 62,
   "metadata": {},
   "outputs": [
    {
     "data": {
      "text/plain": [
       "0    73\n",
       "1    33\n",
       "Name: Type, dtype: int64"
      ]
     },
     "execution_count": 62,
     "metadata": {},
     "output_type": "execute_result"
    }
   ],
   "source": [
    "# Target balance check: Not balanced in this case\n",
    "\n",
    "DB['Type'].value_counts()"
   ]
  },
  {
   "cell_type": "code",
   "execution_count": 63,
   "metadata": {},
   "outputs": [
    {
     "name": "stdout",
     "output_type": "stream",
     "text": [
      "Unique Origin cities 7\n",
      "Unique Destination cities 7\n"
     ]
    },
    {
     "data": {
      "text/plain": [
       "Origin            Transaction      \n",
       "Hyderabad, India  Hyderabad, India     4\n",
       "Delhi, India      Delhi, India         4\n",
       "Mumbai, India     mumbai, India        3\n",
       "                  Mumbai, India        3\n",
       "                  Budapest, Hungary    3\n",
       "Chennai, India    Mumbai, India        2\n",
       "Delhi, India      Nicosia, Cyprus      2\n",
       "Hyderabad, India  Hyderabad,India      2\n",
       "Pune, India       Pune, India          1\n",
       "Bangalore, India  Moscow, Russia       1\n",
       "Name: Type, dtype: int64"
      ]
     },
     "execution_count": 63,
     "metadata": {},
     "output_type": "execute_result"
    }
   ],
   "source": [
    "# Location vs fraud\n",
    "\n",
    "# Origin\n",
    "Origin = DB['Origin'].dropna()\n",
    "Unique_Origin = set(Origin)\n",
    "print (\"Unique Origin cities\", len(Unique_Origin))\n",
    "\n",
    "# Destination City\n",
    "Destination = DB['Transaction'].dropna()\n",
    "Unique_Destination = set(Origin)\n",
    "print (\"Unique Destination cities\", len(Unique_Destination))\n",
    "\n",
    "# Group \n",
    "Group=DB.groupby(['Origin','Transaction'])['Type'].sum().sort_values(ascending=False)\n",
    "Group.head(10)"
   ]
  },
  {
   "cell_type": "code",
   "execution_count": 64,
   "metadata": {},
   "outputs": [
    {
     "name": "stdout",
     "output_type": "stream",
     "text": [
      "Unique Dates 29\n",
      "Unique Time 24\n",
      "Unique Month 12\n"
     ]
    }
   ],
   "source": [
    "# Time and date vs fraud\n",
    "\n",
    "# Date\n",
    "Date = DB['Date'].dropna()\n",
    "Unique_Date = set(Date)\n",
    "print (\"Unique Dates\", len(Unique_Date))\n",
    "\n",
    "# Time\n",
    "Time = DB['Time'].dropna()\n",
    "Unique_Time = set(Time)\n",
    "print (\"Unique Time\", len(Unique_Time))\n",
    "\n",
    "# Time\n",
    "Month = DB['Month'].dropna()\n",
    "Unique_Month = set(Month)\n",
    "print (\"Unique Month\", len(Unique_Month))"
   ]
  },
  {
   "cell_type": "code",
   "execution_count": 66,
   "metadata": {},
   "outputs": [
    {
     "data": {
      "text/plain": [
       "Date\n",
       "26    3\n",
       "7     3\n",
       "10    3\n",
       "19    3\n",
       "1     2\n",
       "5     2\n",
       "20    2\n",
       "11    2\n",
       "16    2\n",
       "14    1\n",
       "2     1\n",
       "3     1\n",
       "8     1\n",
       "9     1\n",
       "13    1\n",
       "Name: Type, dtype: int64"
      ]
     },
     "execution_count": 66,
     "metadata": {},
     "output_type": "execute_result"
    }
   ],
   "source": [
    "# Group: Date vs Type Fraud\n",
    "Group=DB.groupby(['Date'])['Type'].sum().sort_values(ascending=False)\n",
    "Group.head(15)"
   ]
  },
  {
   "cell_type": "code",
   "execution_count": 67,
   "metadata": {},
   "outputs": [
    {
     "data": {
      "text/plain": [
       "Time\n",
       "21    5\n",
       "11    3\n",
       "4     3\n",
       "19    3\n",
       "16    3\n",
       "3     2\n",
       "18    2\n",
       "6     2\n",
       "7     2\n",
       "24    1\n",
       "Name: Type, dtype: int64"
      ]
     },
     "execution_count": 67,
     "metadata": {},
     "output_type": "execute_result"
    }
   ],
   "source": [
    "# Group: Time vs Type Fraud \n",
    "Group=DB.groupby(['Time'])['Type'].sum().sort_values(ascending=False)\n",
    "Group.head(10)"
   ]
  },
  {
   "cell_type": "code",
   "execution_count": 68,
   "metadata": {},
   "outputs": [
    {
     "data": {
      "text/plain": [
       "Month\n",
       "10    8\n",
       "8     4\n",
       "7     4\n",
       "6     4\n",
       "3     3\n",
       "2     3\n",
       "1     3\n",
       "9     2\n",
       "5     1\n",
       "4     1\n",
       "Name: Type, dtype: int64"
      ]
     },
     "execution_count": 68,
     "metadata": {},
     "output_type": "execute_result"
    }
   ],
   "source": [
    "# Group: Month vs Type Fraud \n",
    "Group=DB.groupby(['Month'])['Type'].sum().sort_values(ascending=False)\n",
    "Group.head(10)"
   ]
  },
  {
   "cell_type": "code",
   "execution_count": 69,
   "metadata": {},
   "outputs": [
    {
     "data": {
      "text/plain": [
       "Month  Date  Time\n",
       "2      11    21      1\n",
       "8      24    21      1\n",
       "7      26    7       1\n",
       "10     5     11      1\n",
       "2      13    4       1\n",
       "       16    24      1\n",
       "9      14    4       1\n",
       "       11    6       1\n",
       "4      19    11      1\n",
       "7      8     8       1\n",
       "Name: Type, dtype: int64"
      ]
     },
     "execution_count": 69,
     "metadata": {},
     "output_type": "execute_result"
    }
   ],
   "source": [
    "# Group : All parameters vs fraud\n",
    "Group=DB.groupby(['Month','Date','Time'])['Type'].sum().sort_values(ascending=False)\n",
    "Group.head(10)"
   ]
  },
  {
   "cell_type": "code",
   "execution_count": 70,
   "metadata": {},
   "outputs": [
    {
     "data": {
      "text/plain": [
       "Date  Time\n",
       "10    18      2\n",
       "15    16      1\n",
       "19    1       1\n",
       "5     11      1\n",
       "20    21      1\n",
       "      20      1\n",
       "7     3       1\n",
       "19    22      1\n",
       "7     19      1\n",
       "      21      1\n",
       "Name: Type, dtype: int64"
      ]
     },
     "execution_count": 70,
     "metadata": {},
     "output_type": "execute_result"
    }
   ],
   "source": [
    "# Group \n",
    "Group=DB.groupby(['Date','Time'])['Type'].sum().sort_values(ascending=False)\n",
    "Group.head(10)"
   ]
  },
  {
   "cell_type": "code",
   "execution_count": 71,
   "metadata": {},
   "outputs": [
    {
     "name": "stdout",
     "output_type": "stream",
     "text": [
      "Total Fradulent Amount: 744\n",
      "Total  Amount: 2169\n",
      "Fraud Amount % 34.3 %\n"
     ]
    },
    {
     "name": "stderr",
     "output_type": "stream",
     "text": [
      "/Users/krishnavdave/opt/anaconda3/lib/python3.7/site-packages/ipykernel_launcher.py:8: FutureWarning:\n",
      "\n",
      "\n",
      ".ix is deprecated. Please use\n",
      ".loc for label based indexing or\n",
      ".iloc for positional indexing\n",
      "\n",
      "See the documentation here:\n",
      "http://pandas.pydata.org/pandas-docs/stable/user_guide/indexing.html#ix-indexer-is-deprecated\n",
      "\n"
     ]
    }
   ],
   "source": [
    "# Total FRAUD LOSSES\n",
    "\n",
    "Amount_Fraud=0\n",
    "Amount_Total=0\n",
    "\n",
    "for i in range(len(DB['Type'])):\n",
    "    Amount_Total=Amount_Total+DB.loc[i,\"Amount\"]\n",
    "    if DB.ix[i,'Type']==1:\n",
    "        Amount_Fraud=Amount_Fraud+DB.loc[i,\"Amount\"]\n",
    "\n",
    "print(\"Total Fradulent Amount:\",Amount_Fraud)\n",
    "print(\"Total  Amount:\",Amount_Total)\n",
    "print(\"Fraud Amount %\",round(100*Amount_Fraud/Amount_Total,2),'%')"
   ]
  },
  {
   "cell_type": "markdown",
   "metadata": {},
   "source": [
    "- - - - - - - - - - - - - - - - - - - - - - - - - - - - - - - - - - - - - - - - - - - - - -\n",
    "\n",
    "##### 6. Conclusion\n",
    "\n",
    "- - - - - - - - - - - - - - - - - - - - - - - - - - - - - - - - - - - - - - - - - - - - - -"
   ]
  },
  {
   "cell_type": "code",
   "execution_count": null,
   "metadata": {},
   "outputs": [],
   "source": []
  },
  {
   "cell_type": "markdown",
   "metadata": {},
   "source": [
    "- - - - - - - - - - - - - - - - - - - - - - - - - - - - - - - - - - - - - - - - - - - - - - \n",
    "\n",
    "![alt text](GL_Logo_End.png \"Title\")\n",
    "\n",
    "- - - - - - - - - - - - - - - - - - - - - - - - - - - - - - - - - - - - - - - - - - - - - - "
   ]
  },
  {
   "cell_type": "markdown",
   "metadata": {},
   "source": [
    "     © Great Learning. Proprietary content. All Rights Reserved. Unauthorised use or distribution prohibited "
   ]
  }
 ],
 "metadata": {
  "kernelspec": {
   "display_name": "Python 3",
   "language": "python",
   "name": "python3"
  },
  "language_info": {
   "codemirror_mode": {
    "name": "ipython",
    "version": 3
   },
   "file_extension": ".py",
   "mimetype": "text/x-python",
   "name": "python",
   "nbconvert_exporter": "python",
   "pygments_lexer": "ipython3",
   "version": "3.7.4"
  }
 },
 "nbformat": 4,
 "nbformat_minor": 2
}
